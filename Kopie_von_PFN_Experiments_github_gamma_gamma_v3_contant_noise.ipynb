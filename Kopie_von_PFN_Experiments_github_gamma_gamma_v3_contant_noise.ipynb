{
  "cells": [
    {
      "cell_type": "code",
      "execution_count": 1,
      "metadata": {
        "id": "UJkDueX_7TYp"
      },
      "outputs": [],
      "source": [
        "%load_ext autoreload\n",
        "%autoreload 2"
      ]
    },
    {
      "cell_type": "code",
      "execution_count": 2,
      "metadata": {
        "colab": {
          "base_uri": "https://localhost:8080/"
        },
        "id": "SIMjbZyZfTos",
        "outputId": "43642da5-e681-4665-c2a8-82c30d611bf9"
      },
      "outputs": [
        {
          "output_type": "stream",
          "name": "stdout",
          "text": [
            "Collecting pyro-ppl\n",
            "  Downloading pyro_ppl-1.9.0-py3-none-any.whl (745 kB)\n",
            "\u001b[2K     \u001b[90m━━━━━━━━━━━━━━━━━━━━━━━━━━━━━━━━━━━━━━━━\u001b[0m \u001b[32m745.2/745.2 kB\u001b[0m \u001b[31m7.5 MB/s\u001b[0m eta \u001b[36m0:00:00\u001b[0m\n",
            "\u001b[?25hRequirement already satisfied: numpy>=1.7 in /usr/local/lib/python3.10/dist-packages (from pyro-ppl) (1.25.2)\n",
            "Requirement already satisfied: opt-einsum>=2.3.2 in /usr/local/lib/python3.10/dist-packages (from pyro-ppl) (3.3.0)\n",
            "Collecting pyro-api>=0.1.1 (from pyro-ppl)\n",
            "  Downloading pyro_api-0.1.2-py3-none-any.whl (11 kB)\n",
            "Requirement already satisfied: torch>=2.0 in /usr/local/lib/python3.10/dist-packages (from pyro-ppl) (2.2.1+cu121)\n",
            "Requirement already satisfied: tqdm>=4.36 in /usr/local/lib/python3.10/dist-packages (from pyro-ppl) (4.66.4)\n",
            "Requirement already satisfied: filelock in /usr/local/lib/python3.10/dist-packages (from torch>=2.0->pyro-ppl) (3.14.0)\n",
            "Requirement already satisfied: typing-extensions>=4.8.0 in /usr/local/lib/python3.10/dist-packages (from torch>=2.0->pyro-ppl) (4.11.0)\n",
            "Requirement already satisfied: sympy in /usr/local/lib/python3.10/dist-packages (from torch>=2.0->pyro-ppl) (1.12)\n",
            "Requirement already satisfied: networkx in /usr/local/lib/python3.10/dist-packages (from torch>=2.0->pyro-ppl) (3.3)\n",
            "Requirement already satisfied: jinja2 in /usr/local/lib/python3.10/dist-packages (from torch>=2.0->pyro-ppl) (3.1.4)\n",
            "Requirement already satisfied: fsspec in /usr/local/lib/python3.10/dist-packages (from torch>=2.0->pyro-ppl) (2023.6.0)\n",
            "Collecting nvidia-cuda-nvrtc-cu12==12.1.105 (from torch>=2.0->pyro-ppl)\n",
            "  Using cached nvidia_cuda_nvrtc_cu12-12.1.105-py3-none-manylinux1_x86_64.whl (23.7 MB)\n",
            "Collecting nvidia-cuda-runtime-cu12==12.1.105 (from torch>=2.0->pyro-ppl)\n",
            "  Using cached nvidia_cuda_runtime_cu12-12.1.105-py3-none-manylinux1_x86_64.whl (823 kB)\n",
            "Collecting nvidia-cuda-cupti-cu12==12.1.105 (from torch>=2.0->pyro-ppl)\n",
            "  Using cached nvidia_cuda_cupti_cu12-12.1.105-py3-none-manylinux1_x86_64.whl (14.1 MB)\n",
            "Collecting nvidia-cudnn-cu12==8.9.2.26 (from torch>=2.0->pyro-ppl)\n",
            "  Using cached nvidia_cudnn_cu12-8.9.2.26-py3-none-manylinux1_x86_64.whl (731.7 MB)\n",
            "Collecting nvidia-cublas-cu12==12.1.3.1 (from torch>=2.0->pyro-ppl)\n",
            "  Using cached nvidia_cublas_cu12-12.1.3.1-py3-none-manylinux1_x86_64.whl (410.6 MB)\n",
            "Collecting nvidia-cufft-cu12==11.0.2.54 (from torch>=2.0->pyro-ppl)\n",
            "  Using cached nvidia_cufft_cu12-11.0.2.54-py3-none-manylinux1_x86_64.whl (121.6 MB)\n",
            "Collecting nvidia-curand-cu12==10.3.2.106 (from torch>=2.0->pyro-ppl)\n",
            "  Using cached nvidia_curand_cu12-10.3.2.106-py3-none-manylinux1_x86_64.whl (56.5 MB)\n",
            "Collecting nvidia-cusolver-cu12==11.4.5.107 (from torch>=2.0->pyro-ppl)\n",
            "  Using cached nvidia_cusolver_cu12-11.4.5.107-py3-none-manylinux1_x86_64.whl (124.2 MB)\n",
            "Collecting nvidia-cusparse-cu12==12.1.0.106 (from torch>=2.0->pyro-ppl)\n",
            "  Using cached nvidia_cusparse_cu12-12.1.0.106-py3-none-manylinux1_x86_64.whl (196.0 MB)\n",
            "Collecting nvidia-nccl-cu12==2.19.3 (from torch>=2.0->pyro-ppl)\n",
            "  Using cached nvidia_nccl_cu12-2.19.3-py3-none-manylinux1_x86_64.whl (166.0 MB)\n",
            "Collecting nvidia-nvtx-cu12==12.1.105 (from torch>=2.0->pyro-ppl)\n",
            "  Using cached nvidia_nvtx_cu12-12.1.105-py3-none-manylinux1_x86_64.whl (99 kB)\n",
            "Requirement already satisfied: triton==2.2.0 in /usr/local/lib/python3.10/dist-packages (from torch>=2.0->pyro-ppl) (2.2.0)\n",
            "Collecting nvidia-nvjitlink-cu12 (from nvidia-cusolver-cu12==11.4.5.107->torch>=2.0->pyro-ppl)\n",
            "  Using cached nvidia_nvjitlink_cu12-12.4.127-py3-none-manylinux2014_x86_64.whl (21.1 MB)\n",
            "Requirement already satisfied: MarkupSafe>=2.0 in /usr/local/lib/python3.10/dist-packages (from jinja2->torch>=2.0->pyro-ppl) (2.1.5)\n",
            "Requirement already satisfied: mpmath>=0.19 in /usr/local/lib/python3.10/dist-packages (from sympy->torch>=2.0->pyro-ppl) (1.3.0)\n",
            "Installing collected packages: pyro-api, nvidia-nvtx-cu12, nvidia-nvjitlink-cu12, nvidia-nccl-cu12, nvidia-curand-cu12, nvidia-cufft-cu12, nvidia-cuda-runtime-cu12, nvidia-cuda-nvrtc-cu12, nvidia-cuda-cupti-cu12, nvidia-cublas-cu12, nvidia-cusparse-cu12, nvidia-cudnn-cu12, nvidia-cusolver-cu12, pyro-ppl\n",
            "Successfully installed nvidia-cublas-cu12-12.1.3.1 nvidia-cuda-cupti-cu12-12.1.105 nvidia-cuda-nvrtc-cu12-12.1.105 nvidia-cuda-runtime-cu12-12.1.105 nvidia-cudnn-cu12-8.9.2.26 nvidia-cufft-cu12-11.0.2.54 nvidia-curand-cu12-10.3.2.106 nvidia-cusolver-cu12-11.4.5.107 nvidia-cusparse-cu12-12.1.0.106 nvidia-nccl-cu12-2.19.3 nvidia-nvjitlink-cu12-12.4.127 nvidia-nvtx-cu12-12.1.105 pyro-api-0.1.2 pyro-ppl-1.9.0\n",
            "Collecting pot\n",
            "  Downloading POT-0.9.3-cp310-cp310-manylinux_2_17_x86_64.manylinux2014_x86_64.whl (823 kB)\n",
            "\u001b[2K     \u001b[90m━━━━━━━━━━━━━━━━━━━━━━━━━━━━━━━━━━━━━━━━\u001b[0m \u001b[32m823.0/823.0 kB\u001b[0m \u001b[31m8.7 MB/s\u001b[0m eta \u001b[36m0:00:00\u001b[0m\n",
            "\u001b[?25hRequirement already satisfied: numpy>=1.16 in /usr/local/lib/python3.10/dist-packages (from pot) (1.25.2)\n",
            "Requirement already satisfied: scipy>=1.6 in /usr/local/lib/python3.10/dist-packages (from pot) (1.11.4)\n",
            "Installing collected packages: pot\n",
            "Successfully installed pot-0.9.3\n"
          ]
        }
      ],
      "source": [
        "!pip install pyro-ppl\n",
        "!pip install pot"
      ]
    },
    {
      "cell_type": "code",
      "execution_count": 3,
      "metadata": {
        "colab": {
          "base_uri": "https://localhost:8080/"
        },
        "id": "JQcJR2_SezJ1",
        "outputId": "6731a004-8bde-49dc-b0d0-f428bfd7eee8"
      },
      "outputs": [
        {
          "output_type": "stream",
          "name": "stdout",
          "text": [
            "Cloning into 'PFNExperiments'...\n",
            "remote: Enumerating objects: 266, done.\u001b[K\n",
            "remote: Counting objects: 100% (266/266), done.\u001b[K\n",
            "remote: Compressing objects: 100% (181/181), done.\u001b[K\n",
            "remote: Total 266 (delta 152), reused 185 (delta 75), pack-reused 0\u001b[K\n",
            "Receiving objects: 100% (266/266), 2.17 MiB | 5.40 MiB/s, done.\n",
            "Resolving deltas: 100% (152/152), done.\n"
          ]
        }
      ],
      "source": [
        "!git clone https://github.com/ArikReuter/PFNExperiments\n"
      ]
    },
    {
      "cell_type": "code",
      "execution_count": 4,
      "metadata": {
        "id": "g5HW0lUrkzrt"
      },
      "outputs": [],
      "source": [
        "import torch"
      ]
    },
    {
      "cell_type": "code",
      "execution_count": 5,
      "metadata": {
        "id": "AX0Vm6Jhe9Z2"
      },
      "outputs": [],
      "source": [
        "from PFNExperiments.LinearRegression.GenerativeModels.GenerateData import GenerateData, check_data, check_and_plot_data\n",
        "from PFNExperiments.LinearRegression.GenerativeModels.GenerateDataLM_Examples import make_lm_program_plain, make_lm_program_gamma_gamma, make_lm_program_gamma_gamma_augmented\n",
        "from PFNExperiments.LinearRegression.GenerativeModels.LM_abstract import return_only_y, print_code\n",
        "from PFNExperiments.LinearRegression.Models.Transformer import Transformer\n",
        "from PFNExperiments.Training.Trainer import Trainer, batch_to_model_lm, visualize_training_results\n",
        "from PFNExperiments.Training.Losses import MSELoss_unsqueezed, nll_loss_full_gaussian\n",
        "from PFNExperiments.Training.EvalMetrics import mean_squared_error_torch_avg, mae_torch_avg, r2_score_torch_avg\n",
        "from PFNExperiments.LinearRegression.Models.ModelPosterior import ModelPosteriorFullGaussian\n",
        "\n",
        "from PFNExperiments.Evaluation.ComparePosteriorSamples import compare_all_metrics, marginal_plots_hist_parallel, marginal_plots_kde_together\n",
        "from PFNExperiments.LinearRegression.Evaluation.CompareModels import ModelComparison\n",
        "from PFNExperiments.LinearRegression.Models.ModelToPosterior import ModelToPosterior\n",
        "from PFNExperiments.LinearRegression.ComparisonModels.Hamiltionion_MC import Hamiltionian_MC\n",
        "\n",
        "from PFNExperiments.LinearRegression.ComparisonModels.Variational_Inference import Variational_Inference, make_guide_program_gamma_gamma\n",
        "\n",
        "from PFNExperiments.LinearRegression.Evaluation.CompareComparisonModels import CompareComparisonModels"
      ]
    },
    {
      "cell_type": "code",
      "execution_count": 9,
      "metadata": {
        "colab": {
          "base_uri": "https://localhost:8080/",
          "height": 231
        },
        "id": "MkrGuxjQfJon",
        "outputId": "85f2b60b-7537-425e-a0dd-5b76ca9fda3a"
      },
      "outputs": [
        {
          "output_type": "error",
          "ename": "TypeError",
          "evalue": "make_lm_program_plain() got an unexpected keyword argument 'sigma_squres'",
          "traceback": [
            "\u001b[0;31m---------------------------------------------------------------------------\u001b[0m",
            "\u001b[0;31mTypeError\u001b[0m                                 Traceback (most recent call last)",
            "\u001b[0;32m<ipython-input-9-c2fdbf80d2f6>\u001b[0m in \u001b[0;36m<cell line: 1>\u001b[0;34m()\u001b[0m\n\u001b[0;32m----> 1\u001b[0;31m pprogram1 = make_lm_program_plain(\n\u001b[0m\u001b[1;32m      2\u001b[0m     \u001b[0msigma_squres\u001b[0m \u001b[0;34m=\u001b[0m \u001b[0;36m0.01\u001b[0m\u001b[0;34m\u001b[0m\u001b[0;34m\u001b[0m\u001b[0m\n\u001b[1;32m      3\u001b[0m )\n\u001b[1;32m      4\u001b[0m \u001b[0mpprogram1_y\u001b[0m \u001b[0;34m=\u001b[0m \u001b[0mreturn_only_y\u001b[0m\u001b[0;34m(\u001b[0m\u001b[0mpprogram1\u001b[0m\u001b[0;34m)\u001b[0m\u001b[0;34m\u001b[0m\u001b[0;34m\u001b[0m\u001b[0m\n\u001b[1;32m      5\u001b[0m \u001b[0mprint_code\u001b[0m\u001b[0;34m(\u001b[0m\u001b[0mpprogram1\u001b[0m\u001b[0;34m)\u001b[0m\u001b[0;34m\u001b[0m\u001b[0;34m\u001b[0m\u001b[0m\n",
            "\u001b[0;31mTypeError\u001b[0m: make_lm_program_plain() got an unexpected keyword argument 'sigma_squres'"
          ]
        }
      ],
      "source": [
        "pprogram1 = make_lm_program_plain(\n",
        "    sigma_squres = 0.01\n",
        ")\n",
        "pprogram1_y = return_only_y(pprogram1)\n",
        "print_code(pprogram1)\n"
      ]
    },
    {
      "cell_type": "code",
      "execution_count": 10,
      "metadata": {
        "id": "bvjblAzyh2x_"
      },
      "outputs": [],
      "source": [
        "N = 50\n",
        "P = 10\n",
        "BATCH_SIZE = 1024\n",
        "#BATCH_SIZE = 128"
      ]
    },
    {
      "cell_type": "code",
      "execution_count": 11,
      "metadata": {
        "colab": {
          "base_uri": "https://localhost:8080/",
          "height": 991
        },
        "id": "SntP8va6hdPc",
        "outputId": "453d538f-fafe-4959-9fd9-b0d8ec085f5f"
      },
      "outputs": [
        {
          "output_type": "stream",
          "name": "stderr",
          "text": [
            "100%|██████████| 1000/1000 [00:00<00:00, 1477.35it/s]\n"
          ]
        },
        {
          "output_type": "stream",
          "name": "stdout",
          "text": [
            "Discarded 0 samples\n",
            "{'X': {'mean': tensor(0.4998), 'variance': tensor(0.0834), 'min': tensor(2.2054e-06), 'max': tensor(1.0000)}, 'y': {'mean': tensor(0.0140), 'variance': tensor(1.0140), 'min': tensor(-4.3795), 'max': tensor(5.5849)}, 'beta': {'mean': tensor([-0.0067,  0.0365, -0.0041]), 'variance': tensor([1.0325, 1.0034, 1.0452]), 'min': tensor([-3.0238, -3.3463, -4.2357]), 'max': tensor([3.4167, 3.1137, 3.1621])}}\n"
          ]
        },
        {
          "output_type": "display_data",
          "data": {
            "text/plain": [
              "<Figure size 1000x500 with 2 Axes>"
            ],
            "image/png": "[encoded data removed]"
          },
          "metadata": {}
        },
        {
          "output_type": "display_data",
          "data": {
            "text/plain": [
              "<Figure size 1500x500 with 3 Axes>"
            ],
            "image/png": "[encoded data removed]"
          },
          "metadata": {}
        }
      ],
      "source": [
        "generator = GenerateData(pprogram1)\n",
        "generator.render_model()\n",
        "_ = generator.check_model()"
      ]
    },
    {
      "cell_type": "code",
      "execution_count": 12,
      "metadata": {
        "colab": {
          "base_uri": "https://localhost:8080/",
          "height": 250
        },
        "id": "Ygg-bs3rMtTl",
        "outputId": "ba3ef74d-5657-4199-f6b8-efe8c84f7252"
      },
      "outputs": [
        {
          "output_type": "execute_result",
          "data": {
            "image/svg+xml": "<?xml version=\"1.0\" encoding=\"UTF-8\" standalone=\"no\"?>\n<!DOCTYPE svg PUBLIC \"-//W3C//DTD SVG 1.1//EN\"\n \"http://www.w3.org/Graphics/SVG/1.1/DTD/svg11.dtd\">\n<!-- Generated by graphviz version 2.43.0 (0)\n -->\n<!-- Title: %3 Pages: 1 -->\n<svg width=\"260pt\" height=\"157pt\"\n viewBox=\"0.00 0.00 260.00 157.00\" xmlns=\"http://www.w3.org/2000/svg\" xmlns:xlink=\"http://www.w3.org/1999/xlink\">\n<g id=\"graph0\" class=\"graph\" transform=\"scale(1 1) rotate(0) translate(4 153)\">\n<title>%3</title>\n<polygon fill=\"white\" stroke=\"transparent\" points=\"-4,4 -4,-153 256,-153 256,4 -4,4\"/>\n<g id=\"clust1\" class=\"cluster\">\n<title>cluster_data</title>\n<polygon fill=\"none\" stroke=\"black\" points=\"8,-8 8,-83 78,-83 78,-8 8,-8\"/>\n<text text-anchor=\"middle\" x=\"58.5\" y=\"-15.8\" font-family=\"Times,serif\" font-size=\"14.00\">data</text>\n</g>\n<!-- beta -->\n<g id=\"node1\" class=\"node\">\n<title>beta</title>\n<ellipse fill=\"white\" stroke=\"black\" cx=\"43\" cy=\"-130\" rx=\"27\" ry=\"18\"/>\n<text text-anchor=\"middle\" x=\"43\" y=\"-126.3\" font-family=\"Times,serif\" font-size=\"14.00\">beta</text>\n</g>\n<!-- y -->\n<g id=\"node2\" class=\"node\">\n<title>y</title>\n<ellipse fill=\"white\" stroke=\"black\" cx=\"43\" cy=\"-57\" rx=\"27\" ry=\"18\"/>\n<text text-anchor=\"middle\" x=\"43\" y=\"-53.3\" font-family=\"Times,serif\" font-size=\"14.00\">y</text>\n</g>\n<!-- beta&#45;&gt;y -->\n<g id=\"edge1\" class=\"edge\">\n<title>beta&#45;&gt;y</title>\n<path fill=\"none\" stroke=\"black\" d=\"M43,-111.81C43,-103.79 43,-94.05 43,-85.07\"/>\n<polygon fill=\"black\" stroke=\"black\" points=\"46.5,-85.03 43,-75.03 39.5,-85.03 46.5,-85.03\"/>\n</g>\n<!-- distribution_description_node -->\n<g id=\"node3\" class=\"node\">\n<title>distribution_description_node</title>\n<text text-anchor=\"start\" x=\"96\" y=\"-133.8\" font-family=\"Times,serif\" font-size=\"14.00\">beta ~ MultivariateNormal</text>\n<text text-anchor=\"start\" x=\"96\" y=\"-118.8\" font-family=\"Times,serif\" font-size=\"14.00\">y ~ Normal</text>\n</g>\n</g>\n</svg>\n",
            "text/plain": [
              "<graphviz.graphs.Digraph at 0x7efd3dd15a50>"
            ]
          },
          "metadata": {},
          "execution_count": 12
        }
      ],
      "source": [
        "generator.render_model(p = P)"
      ]
    },
    {
      "cell_type": "code",
      "execution_count": 13,
      "metadata": {
        "id": "GF1BGQG2hlTW"
      },
      "outputs": [],
      "source": [
        "train_loader, test_loader, val_loader = generator.make_dataloaders_dynamic(\n",
        "    n = N,\n",
        "    p = P,\n",
        "    n_batch =500_000,\n",
        "    #n_batch =10_000,\n",
        "    batch_size = BATCH_SIZE,\n",
        "    val_frac = 0.1,\n",
        "    train_frac = 0.5\n",
        ")"
      ]
    },
    {
      "cell_type": "code",
      "execution_count": 14,
      "metadata": {
        "id": "QufHnyKPiDAl"
      },
      "outputs": [],
      "source": [
        "\"\"\"\n",
        "model = Transformer(\n",
        "    n_features= P+1,\n",
        "    seq_len= N,\n",
        "    d_model= 1024,\n",
        "    n_heads=4,\n",
        "    dim_feedforward=512,\n",
        "    n_layers=4,\n",
        "    n_skip_layers_final_heads = 3,\n",
        "    n_output_units_per_head=[5]\n",
        ").cuda()\n",
        "\"\"\"\n",
        "\n",
        "model = Transformer(\n",
        "    n_features= P+1,\n",
        "    seq_len= N,\n",
        "    d_model= 512,\n",
        "    n_heads= 8,\n",
        "    dim_feedforward=1024,\n",
        "    dropout_rate = 0.1,\n",
        "    n_layers=4,\n",
        "    n_skip_layers_final_heads = 4,\n",
        "    n_output_units_per_head=[P, P*P, P]\n",
        ").cuda()"
      ]
    },
    {
      "cell_type": "code",
      "execution_count": 15,
      "metadata": {
        "id": "R0x2hi8X9bDi"
      },
      "outputs": [],
      "source": [
        "def count_parameters(model):\n",
        "    return sum(p.numel() for p in model.parameters() if p.requires_grad)"
      ]
    },
    {
      "cell_type": "code",
      "execution_count": 16,
      "metadata": {
        "colab": {
          "base_uri": "https://localhost:8080/",
          "height": 55
        },
        "id": "HEVjGBaGhYUA",
        "outputId": "3ac49498-4394-476b-e462-b70114d37337"
      },
      "outputs": [
        {
          "output_type": "execute_result",
          "data": {
            "text/plain": [
              "'3.33e+07'"
            ],
            "application/vnd.google.colaboratory.intrinsic+json": {
              "type": "string"
            }
          },
          "metadata": {},
          "execution_count": 16
        }
      ],
      "source": [
        "'{:.2e}'.format(count_parameters(model))"
      ]
    },
    {
      "cell_type": "code",
      "execution_count": 17,
      "metadata": {
        "id": "3pV8DPcPAKpZ"
      },
      "outputs": [],
      "source": [
        "import torch\n",
        "from torch.optim.lr_scheduler import ReduceLROnPlateau"
      ]
    },
    {
      "cell_type": "code",
      "execution_count": 18,
      "metadata": {
        "id": "utVunDXrh8mv"
      },
      "outputs": [],
      "source": [
        "mod_posterior = ModelPosteriorFullGaussian(cov_reg_factor = 1e-4)\n",
        "nll_loss = mod_posterior.negative_log_likelihood\n",
        "nll_loss_avg = ModelPosteriorFullGaussian(cov_reg_factor = 1e-4).negative_log_likelihood_avg\n",
        "nll_loss_std = ModelPosteriorFullGaussian(cov_reg_factor = 1e-4).negative_log_likelihood_std\n",
        "nll_loss_median = ModelPosteriorFullGaussian(cov_reg_factor = 1e-4).negative_log_likelihood_median"
      ]
    },
    {
      "cell_type": "code",
      "execution_count": 19,
      "metadata": {
        "id": "7guRCL6amy7O"
      },
      "outputs": [],
      "source": [
        "lr = 1e-4\n",
        "opt = torch.optim.Adam(model.parameters(), lr=lr, weight_decay=1e-5)"
      ]
    },
    {
      "cell_type": "code",
      "execution_count": 20,
      "metadata": {
        "id": "stcftIkuiVCp"
      },
      "outputs": [],
      "source": [
        "scheduler = ReduceLROnPlateau(opt, patience = 10)\n",
        "\n",
        "additional_evals = {\n",
        "    \"loss\": nll_loss_avg,\n",
        "    \"loss median\": nll_loss_median,\n",
        "    \"loss_std\": nll_loss_std\n",
        "}\n"
      ]
    },
    {
      "cell_type": "code",
      "execution_count": 21,
      "metadata": {
        "id": "HIOcL7dfrwQo"
      },
      "outputs": [],
      "source": [
        "model = model.cuda()"
      ]
    },
    {
      "cell_type": "code",
      "execution_count": 22,
      "metadata": {
        "id": "2ku3gbHuSq4O"
      },
      "outputs": [],
      "source": [
        "trainer = Trainer(\n",
        "    model = model,\n",
        "    optimizer=opt,\n",
        "    scheduler = scheduler,\n",
        "    loss_function=nll_loss,\n",
        "    trainset = train_loader,\n",
        "    testset = test_loader,\n",
        "    valset=val_loader,\n",
        "    evaluation_functions= additional_evals,\n",
        "    n_epochs = 200,\n",
        "    early_stopping_patience = 20\n",
        ")"
      ]
    },
    {
      "cell_type": "code",
      "execution_count": 23,
      "metadata": {
        "colab": {
          "base_uri": "https://localhost:8080/",
          "height": 55
        },
        "id": "HQOSsWQeTDfc",
        "outputId": "27e20d51-6851-47e7-fb61-29e00f46b76f"
      },
      "outputs": [
        {
          "output_type": "execute_result",
          "data": {
            "text/plain": [
              "'../models/model.pth'"
            ],
            "application/vnd.google.colaboratory.intrinsic+json": {
              "type": "string"
            }
          },
          "metadata": {},
          "execution_count": 23
        }
      ],
      "source": [
        "trainer.save_path"
      ]
    },
    {
      "cell_type": "code",
      "execution_count": 24,
      "metadata": {
        "colab": {
          "base_uri": "https://localhost:8080/"
        },
        "id": "bEKZ_3nAk3zo",
        "outputId": "60d13636-8b4d-4ba9-f2ce-b4ee358a723a"
      },
      "outputs": [
        {
          "output_type": "stream",
          "name": "stderr",
          "text": [
            "100%|██████████| 49/49 [00:39<00:00,  1.25it/s]\n"
          ]
        },
        {
          "output_type": "execute_result",
          "data": {
            "text/plain": [
              "{'loss': tensor(636.7051),\n",
              " 'loss median': 637.48224,\n",
              " 'loss_std': tensor(16.6029)}"
            ]
          },
          "metadata": {},
          "execution_count": 24
        }
      ],
      "source": [
        "trainer.validate()"
      ]
    },
    {
      "cell_type": "code",
      "execution_count": null,
      "metadata": {
        "colab": {
          "base_uri": "https://localhost:8080/"
        },
        "id": "NN-MnANnk4lU",
        "outputId": "d511e14a-eb9b-4400-8c12-12895328f9b6"
      },
      "outputs": [
        {
          "output_type": "stream",
          "name": "stderr",
          "text": [
            "100%|██████████| 245/245 [04:51<00:00,  1.19s/it]\n",
            "100%|██████████| 49/49 [00:39<00:00,  1.24it/s]\n"
          ]
        },
        {
          "output_type": "stream",
          "name": "stdout",
          "text": [
            "Epoch 0:\n",
            "Training: {'loss': tensor(15.5529), 'loss median': 15.481712, 'loss_std': tensor(1.6656)}\n",
            "Validation: {'loss': tensor(12.4958), 'loss median': 12.489268, 'loss_std': tensor(0.0813)}\n",
            "Time: 332.8667335510254\n",
            "Learning rate: [0.0001]\n",
            "\n",
            "\n",
            "----------------------------------------------------------------------------------------------------\n",
            "Saving model\n"
          ]
        },
        {
          "output_type": "stream",
          "name": "stderr",
          "text": [
            "100%|██████████| 245/245 [04:53<00:00,  1.20s/it]\n",
            "100%|██████████| 49/49 [00:39<00:00,  1.24it/s]\n"
          ]
        },
        {
          "output_type": "stream",
          "name": "stdout",
          "text": [
            "Epoch 1:\n",
            "Training: {'loss': tensor(7.8248), 'loss median': 7.1765, 'loss_std': tensor(2.4775)}\n",
            "Validation: {'loss': tensor(3.3290), 'loss median': 3.3364272, 'loss_std': tensor(0.1133)}\n",
            "Time: 335.5408442020416\n",
            "Learning rate: [0.0001]\n",
            "\n",
            "\n",
            "----------------------------------------------------------------------------------------------------\n",
            "Saving model\n"
          ]
        },
        {
          "output_type": "stream",
          "name": "stderr",
          "text": [
            "100%|██████████| 245/245 [04:53<00:00,  1.20s/it]\n",
            "100%|██████████| 49/49 [00:39<00:00,  1.25it/s]\n"
          ]
        },
        {
          "output_type": "stream",
          "name": "stdout",
          "text": [
            "Epoch 2:\n",
            "Training: {'loss': tensor(0.7468), 'loss median': 0.17967564, 'loss_std': tensor(1.6328)}\n",
            "Validation: {'loss': tensor(-1.3126), 'loss median': -1.3240108, 'loss_std': tensor(0.1272)}\n",
            "Time: 335.21972608566284\n",
            "Learning rate: [0.0001]\n",
            "\n",
            "\n",
            "----------------------------------------------------------------------------------------------------\n",
            "Saving model\n"
          ]
        },
        {
          "output_type": "stream",
          "name": "stderr",
          "text": [
            "100%|██████████| 245/245 [04:53<00:00,  1.20s/it]\n",
            "100%|██████████| 49/49 [00:39<00:00,  1.25it/s]\n"
          ]
        },
        {
          "output_type": "stream",
          "name": "stdout",
          "text": [
            "Epoch 3:\n",
            "Training: {'loss': tensor(-1.5314), 'loss median': -1.6271156, 'loss_std': tensor(0.7907)}\n",
            "Validation: {'loss': tensor(-4.0061), 'loss median': -3.9931855, 'loss_std': tensor(0.1027)}\n",
            "Time: 334.7168004512787\n",
            "Learning rate: [0.0001]\n",
            "\n",
            "\n",
            "----------------------------------------------------------------------------------------------------\n",
            "Saving model\n"
          ]
        },
        {
          "output_type": "stream",
          "name": "stderr",
          "text": [
            "100%|██████████| 245/245 [04:55<00:00,  1.21s/it]\n",
            "100%|██████████| 49/49 [00:38<00:00,  1.26it/s]\n"
          ]
        },
        {
          "output_type": "stream",
          "name": "stdout",
          "text": [
            "Epoch 4:\n",
            "Training: {'loss': tensor(-1.9715), 'loss median': -2.2931993, 'loss_std': tensor(1.1192)}\n",
            "Validation: {'loss': tensor(-2.3407), 'loss median': -2.319487, 'loss_std': tensor(0.1233)}\n",
            "Time: 336.32907915115356\n",
            "Learning rate: [0.0001]\n",
            "\n",
            "\n",
            "----------------------------------------------------------------------------------------------------\n"
          ]
        },
        {
          "output_type": "stream",
          "name": "stderr",
          "text": [
            "100%|██████████| 245/245 [04:53<00:00,  1.20s/it]\n",
            "100%|██████████| 49/49 [00:39<00:00,  1.25it/s]\n"
          ]
        },
        {
          "output_type": "stream",
          "name": "stdout",
          "text": [
            "Epoch 5:\n",
            "Training: {'loss': tensor(-2.8435), 'loss median': -3.1079593, 'loss_std': tensor(0.8922)}\n",
            "Validation: {'loss': tensor(-5.4648), 'loss median': -5.466775, 'loss_std': tensor(0.1162)}\n",
            "Time: 334.7102780342102\n",
            "Learning rate: [0.0001]\n",
            "\n",
            "\n",
            "----------------------------------------------------------------------------------------------------\n",
            "Saving model\n"
          ]
        },
        {
          "output_type": "stream",
          "name": "stderr",
          "text": [
            "100%|██████████| 245/245 [04:54<00:00,  1.20s/it]\n",
            "100%|██████████| 49/49 [00:39<00:00,  1.25it/s]\n"
          ]
        },
        {
          "output_type": "stream",
          "name": "stdout",
          "text": [
            "Epoch 6:\n",
            "Training: {'loss': tensor(-2.9590), 'loss median': -3.2177417, 'loss_std': tensor(0.9458)}\n",
            "Validation: {'loss': tensor(-2.6901), 'loss median': -2.6825588, 'loss_std': tensor(0.0911)}\n",
            "Time: 335.4937014579773\n",
            "Learning rate: [0.0001]\n",
            "\n",
            "\n",
            "----------------------------------------------------------------------------------------------------\n"
          ]
        },
        {
          "output_type": "stream",
          "name": "stderr",
          "text": [
            " 99%|█████████▉| 242/245 [04:50<00:03,  1.21s/it]"
          ]
        }
      ],
      "source": [
        "r = trainer.train()"
      ]
    },
    {
      "cell_type": "code",
      "execution_count": null,
      "metadata": {
        "id": "FY2hRa52ljFF"
      },
      "outputs": [],
      "source": [
        "visualize_training_results(r, loglog = False)"
      ]
    },
    {
      "cell_type": "code",
      "execution_count": null,
      "metadata": {
        "id": "QIw3F45TzfnE"
      },
      "outputs": [],
      "source": [
        "trainer.load_best_model()"
      ]
    },
    {
      "cell_type": "code",
      "execution_count": null,
      "metadata": {
        "id": "eBGlRq_rtVxX"
      },
      "outputs": [],
      "source": [
        "model = trainer.model"
      ]
    },
    {
      "cell_type": "code",
      "execution_count": null,
      "metadata": {
        "id": "M6SQXfEgcZm-"
      },
      "outputs": [],
      "source": [
        "model.eval()"
      ]
    },
    {
      "cell_type": "code",
      "execution_count": null,
      "metadata": {
        "id": "hXVpfiTwcPek"
      },
      "outputs": [],
      "source": [
        "trainer.load_best_model()"
      ]
    },
    {
      "cell_type": "code",
      "execution_count": null,
      "metadata": {
        "id": "S0DYimWmg_Yd"
      },
      "outputs": [],
      "source": [
        "trainer.model.cuda()"
      ]
    },
    {
      "cell_type": "code",
      "execution_count": null,
      "metadata": {
        "id": "aJNaEAfbtjiM"
      },
      "outputs": [],
      "source": [
        "trainer.test()"
      ]
    },
    {
      "cell_type": "code",
      "execution_count": null,
      "metadata": {
        "id": "53nyffeYz5M_"
      },
      "outputs": [],
      "source": [
        "full_model = ModelToPosterior(model.cpu(), mod_posterior)"
      ]
    },
    {
      "cell_type": "code",
      "execution_count": null,
      "metadata": {
        "id": "U823_Waxz0PD"
      },
      "outputs": [],
      "source": [
        "hmc_sampler = Hamiltionian_MC(pprogram = pprogram1_y, n_warmup=400, n_samples=400)\n",
        "\n",
        "comparison_model = ModelComparison(\n",
        "    modelposterior=full_model,\n",
        "    comparison_model=hmc_sampler,\n",
        ")\n"
      ]
    },
    {
      "cell_type": "code",
      "execution_count": null,
      "metadata": {
        "id": "KS2BPv480SkY"
      },
      "outputs": [],
      "source": [
        "test_batch = next(iter(test_loader))"
      ]
    },
    {
      "cell_type": "code",
      "execution_count": null,
      "metadata": {
        "id": "MPdnddCUjsv2"
      },
      "outputs": [],
      "source": [
        "test_batch[\"beta\"][:3]"
      ]
    },
    {
      "cell_type": "code",
      "execution_count": null,
      "metadata": {
        "colab": {
          "background_save": true
        },
        "id": "C789H0ba0Ref"
      },
      "outputs": [],
      "source": [
        "r_hmc = comparison_model.compare_sample_metrics_batch(test_batch[\"x\"][:5].cpu(), test_batch[\"y\"][:5].cpu())"
      ]
    },
    {
      "cell_type": "code",
      "execution_count": null,
      "metadata": {
        "colab": {
          "background_save": true
        },
        "id": "ECacjzmiqwjW"
      },
      "outputs": [],
      "source": [
        "r_hmc"
      ]
    },
    {
      "cell_type": "code",
      "execution_count": null,
      "metadata": {
        "colab": {
          "background_save": true
        },
        "id": "y7sVZIiF6571"
      },
      "outputs": [],
      "source": [
        "print(r_hmc[0])"
      ]
    },
    {
      "cell_type": "code",
      "execution_count": null,
      "metadata": {
        "colab": {
          "background_save": true
        },
        "id": "m4Xe2_TMLukt"
      },
      "outputs": [],
      "source": [
        "guide_gamma_gamma = make_guide_program_gamma_gamma()"
      ]
    },
    {
      "cell_type": "code",
      "execution_count": null,
      "metadata": {
        "colab": {
          "background_save": true
        },
        "id": "LfKhWj2gLrn0"
      },
      "outputs": [],
      "source": [
        "vi = Variational_Inference(\n",
        "    pprogram=pprogram1,\n",
        "    guide = guide_gamma_gamma,\n",
        "    n_steps = 2000,\n",
        "    n_samples=10_000,\n",
        "    lr = 1e-1\n",
        ")"
      ]
    },
    {
      "cell_type": "code",
      "execution_count": null,
      "metadata": {
        "colab": {
          "background_save": true
        },
        "id": "X6PatpPmLoIw"
      },
      "outputs": [],
      "source": [
        "comparison_model2 = ModelComparison(\n",
        "    modelposterior=full_model,\n",
        "    comparison_model=vi\n",
        ")\n",
        "r_vi = comparison_model2.compare_sample_metrics_batch(test_batch[\"x\"][:5].cpu(), test_batch[\"y\"][:5].cpu())"
      ]
    },
    {
      "cell_type": "code",
      "execution_count": null,
      "metadata": {
        "colab": {
          "background_save": true
        },
        "id": "PDqD95JIqnhE"
      },
      "outputs": [],
      "source": [
        "print(r_vi)"
      ]
    },
    {
      "cell_type": "code",
      "execution_count": null,
      "metadata": {
        "colab": {
          "background_save": true
        },
        "id": "G_fz-ndwVR2n"
      },
      "outputs": [],
      "source": [
        "from PFNExperiments.LinearRegression.Evaluation.CompareComparisonModels import CompareComparisonModels"
      ]
    },
    {
      "cell_type": "code",
      "execution_count": null,
      "metadata": {
        "colab": {
          "background_save": true
        },
        "id": "bHh99e8hrFGB"
      },
      "outputs": [],
      "source": [
        "comparison_model_comparer = CompareComparisonModels(\n",
        "    comparison_model_1=vi,\n",
        "    comparison_model_2=hmc_sampler,\n",
        "    n_samples_comparison_model_1=1000\n",
        ")"
      ]
    },
    {
      "cell_type": "code",
      "execution_count": null,
      "metadata": {
        "colab": {
          "background_save": true
        },
        "id": "stpxBbvaVTXN"
      },
      "outputs": [],
      "source": [
        "comparison_model_comparer.compare_sample_metrics_batch(test_batch[\"x\"][:5], test_batch[\"y\"][:5])"
      ]
    },
    {
      "cell_type": "markdown",
      "metadata": {
        "id": "r9Ma2_FQVXAV"
      },
      "source": []
    }
  ],
  "metadata": {
    "accelerator": "GPU",
    "colab": {
      "gpuType": "L4",
      "machine_shape": "hm",
      "provenance": []
    },
    "kernelspec": {
      "display_name": "Python 3",
      "name": "python3"
    },
    "language_info": {
      "name": "python"
    }
  },
  "nbformat": 4,
  "nbformat_minor": 0
}
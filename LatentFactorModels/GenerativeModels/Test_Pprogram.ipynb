{
 "cells": [
  {
   "cell_type": "code",
   "execution_count": 1,
   "metadata": {},
   "outputs": [],
   "source": [
    "%load_ext autoreload\n",
    "%autoreload 2"
   ]
  },
  {
   "cell_type": "code",
   "execution_count": 2,
   "metadata": {},
   "outputs": [],
   "source": [
    "import matplotlib.pyplot as plt\n",
    "from PFNExperiments.LatentFactorModels.GenerativeModels.FactorAnalysis.BasicFA import make_fa_program_normal_weight_prior, make_fa_program_normal_weight_prior_batched"
   ]
  },
  {
   "cell_type": "code",
   "execution_count": 3,
   "metadata": {},
   "outputs": [],
   "source": [
    "from PFNExperiments.LatentFactorModels.GenerativeModels.LatenFactorModel_abstract import return_only_x\n",
    "from PFNExperiments.LatentFactorModels.ComparisonModels.Hamiltionian_MC import Hamiltionian_MC\n",
    "\n",
    "from PFNExperiments.LatentFactorModels.ComparisonModels.MakeDefaultListComparison import make_default_list_comparison"
   ]
  },
  {
   "cell_type": "code",
   "execution_count": 46,
   "metadata": {},
   "outputs": [],
   "source": [
    "pprogram = make_fa_program_normal_weight_prior(\n",
    "    n=50,\n",
    "    z_dim=3,\n",
    "    w_var=10,  # 10\n",
    "    mu_var=1, # 0.1\n",
    "    a1_psi_var=5.0,\n",
    "    b1_psi_var=2.0\n",
    ")"
   ]
  },
  {
   "cell_type": "code",
   "execution_count": 47,
   "metadata": {},
   "outputs": [],
   "source": [
    "r = pprogram(\n",
    ")\n",
    "\n",
    "x = r[\"x\"]"
   ]
  },
  {
   "cell_type": "code",
   "execution_count": 48,
   "metadata": {},
   "outputs": [
    {
     "name": "stdout",
     "output_type": "stream",
     "text": [
      "x torch.Size([50, 5])\n",
      "z torch.Size([3])\n",
      "mu torch.Size([5])\n",
      "w torch.Size([12])\n",
      "psi torch.Size([5])\n"
     ]
    }
   ],
   "source": [
    "for key, value in r.items():\n",
    "    print(key, value.shape)"
   ]
  },
  {
   "cell_type": "code",
   "execution_count": 49,
   "metadata": {},
   "outputs": [],
   "source": [
    "pprogram_return_only_x = return_only_x(pprogram)"
   ]
  },
  {
   "cell_type": "code",
   "execution_count": 50,
   "metadata": {},
   "outputs": [],
   "source": [
    "models = make_default_list_comparison(pprogram= pprogram_return_only_x, n_samples= 100, discrete_z = False)\n",
    "\n",
    "model_list = {\n",
    "        \"hmc_sampler\": models[0],\n",
    "        #\"vi_diag\": models[1],\n",
    "        \"vi_multivariate_normal\": models[2],\n",
    "        #\"vi_laplace\": models[3],\n",
    "        \"vi_autoIAF\": models[4],\n",
    "        #\"vi_autostrucured\": models[5],\n",
    "}"
   ]
  },
  {
   "cell_type": "code",
   "execution_count": 51,
   "metadata": {},
   "outputs": [
    {
     "data": {
      "text/plain": [
       "torch.Size([50, 5])"
      ]
     },
     "execution_count": 51,
     "metadata": {},
     "output_type": "execute_result"
    }
   ],
   "source": [
    "x.shape"
   ]
  },
  {
   "cell_type": "code",
   "execution_count": 52,
   "metadata": {},
   "outputs": [
    {
     "name": "stderr",
     "output_type": "stream",
     "text": [
      "Sample: 100%|██████████| 150/150 [06:57,  2.78s/it, step size=1.23e-02, acc. prob=0.677]\n"
     ]
    },
    {
     "name": "stdout",
     "output_type": "stream",
     "text": [
      "....................\n",
      "....................\n"
     ]
    }
   ],
   "source": [
    "samples_per_model = {}\n",
    "\n",
    "for name, model in model_list.items():\n",
    "    samples_per_model[name] = model.sample_posterior(x = x)"
   ]
  },
  {
   "cell_type": "code",
   "execution_count": 57,
   "metadata": {},
   "outputs": [
    {
     "data": {
      "text/plain": [
       "tensor([0.5939, 0.2593, 1.9178])"
      ]
     },
     "execution_count": 57,
     "metadata": {},
     "output_type": "execute_result"
    }
   ],
   "source": [
    "r[\"z\"]"
   ]
  },
  {
   "cell_type": "code",
   "execution_count": 59,
   "metadata": {},
   "outputs": [
    {
     "name": "stdout",
     "output_type": "stream",
     "text": [
      "torch.Size([100, 3])\n",
      "tensor([0.5289, 0.5743, 0.7039])\n"
     ]
    },
    {
     "data": {
      "image/png": "[encoded data removed]",
      "text/plain": [
       "<Figure size 640x480 with 1 Axes>"
      ]
     },
     "metadata": {},
     "output_type": "display_data"
    },
    {
     "data": {
      "image/png": "[encoded data removed]",
      "text/plain": [
       "<Figure size 640x480 with 1 Axes>"
      ]
     },
     "metadata": {},
     "output_type": "display_data"
    },
    {
     "data": {
      "image/png": "[encoded data removed]",
      "text/plain": [
       "<Figure size 640x480 with 1 Axes>"
      ]
     },
     "metadata": {},
     "output_type": "display_data"
    }
   ],
   "source": [
    "c_model = \"hmc_sampler\" \n",
    "\n",
    "samples_z = samples_per_model[c_model][\"z\"].squeeze()\n",
    "\n",
    "print(samples_z.shape)\n",
    "print(samples_z.mean(axis = 0))\n",
    "\n",
    "for dim in range(samples_z.shape[1]):\n",
    "    plt.hist(samples_z[:, dim], bins = 20)\n",
    "    plt.show()"
   ]
  },
  {
   "cell_type": "code",
   "execution_count": 55,
   "metadata": {},
   "outputs": [
    {
     "data": {
      "text/plain": [
       "'\\nc_model = \"vi_multivariate_normal\"\\nsamples_mu = samples_per_model[c_model][\"mu\"]\\nsamples_sigma = samples_per_model[c_model][\"sigma_squared\"]\\n\\nprint(samples_mu.mean(dim = 0), samples_mu.std())\\nprint(samples_sigma.mean(dim = 0), samples_sigma.std())\\n\\ncomponent = 0\\n\\nfor dim in range(5):\\n    plt.figure()\\n    plt.hist(samples_per_model[c_model][\"mu\"][:,component, dim], bins = 30)\\n    plt.title(f\"mu_{dim}\")\\n\\nfor dim in range(5):\\n    plt.figure()\\n    plt.hist(samples_per_model[c_model][\"sigma_squared\"][:,component, dim], bins = 30)\\n    plt.title(f\"sigma_{dim}\")\\n\\n'"
      ]
     },
     "execution_count": 55,
     "metadata": {},
     "output_type": "execute_result"
    }
   ],
   "source": [
    "\"\"\"\n",
    "c_model = \"vi_multivariate_normal\"\n",
    "samples_mu = samples_per_model[c_model][\"mu\"]\n",
    "samples_sigma = samples_per_model[c_model][\"sigma_squared\"]\n",
    "\n",
    "print(samples_mu.mean(dim = 0), samples_mu.std())\n",
    "print(samples_sigma.mean(dim = 0), samples_sigma.std())\n",
    "\n",
    "component = 0\n",
    "\n",
    "for dim in range(5):\n",
    "    plt.figure()\n",
    "    plt.hist(samples_per_model[c_model][\"mu\"][:,component, dim], bins = 30)\n",
    "    plt.title(f\"mu_{dim}\")\n",
    "\n",
    "for dim in range(5):\n",
    "    plt.figure()\n",
    "    plt.hist(samples_per_model[c_model][\"sigma_squared\"][:,component, dim], bins = 30)\n",
    "    plt.title(f\"sigma_{dim}\")\n",
    "\n",
    "\"\"\""
   ]
  },
  {
   "cell_type": "code",
   "execution_count": 56,
   "metadata": {},
   "outputs": [
    {
     "ename": "KeyError",
     "evalue": "'sigma_squared'",
     "output_type": "error",
     "traceback": [
      "\u001b[1;31m---------------------------------------------------------------------------\u001b[0m",
      "\u001b[1;31mKeyError\u001b[0m                                  Traceback (most recent call last)",
      "Cell \u001b[1;32mIn[56], line 1\u001b[0m\n\u001b[1;32m----> 1\u001b[0m \u001b[43msamples_per_model\u001b[49m\u001b[43m[\u001b[49m\u001b[38;5;124;43m\"\u001b[39;49m\u001b[38;5;124;43mvi_multivariate_normal\u001b[39;49m\u001b[38;5;124;43m\"\u001b[39;49m\u001b[43m]\u001b[49m\u001b[43m[\u001b[49m\u001b[38;5;124;43m\"\u001b[39;49m\u001b[38;5;124;43msigma_squared\u001b[39;49m\u001b[38;5;124;43m\"\u001b[39;49m\u001b[43m]\u001b[49m\u001b[38;5;241m.\u001b[39mmedian()\n",
      "\u001b[1;31mKeyError\u001b[0m: 'sigma_squared'"
     ]
    }
   ],
   "source": [
    "samples_per_model[\"vi_multivariate_normal\"][\"sigma_squared\"].median()"
   ]
  },
  {
   "cell_type": "code",
   "execution_count": null,
   "metadata": {},
   "outputs": [],
   "source": [
    "model = Hamiltionian_MC(\n",
    "    pprogram=pprogram_return_only_x,\n",
    "    n_samples=500,\n",
    "    n_warmup=500\n",
    ")"
   ]
  },
  {
   "cell_type": "code",
   "execution_count": null,
   "metadata": {},
   "outputs": [
    {
     "name": "stderr",
     "output_type": "stream",
     "text": [
      "Warmup:   4%|▎         | 35/1000 [00:10,  3.93it/s, step size=5.72e-02, acc. prob=0.766]"
     ]
    },
    {
     "ename": "KeyboardInterrupt",
     "evalue": "",
     "output_type": "error",
     "traceback": [
      "\u001b[1;31m---------------------------------------------------------------------------\u001b[0m",
      "\u001b[1;31mKeyboardInterrupt\u001b[0m                         Traceback (most recent call last)",
      "Cell \u001b[1;32mIn[230], line 1\u001b[0m\n\u001b[1;32m----> 1\u001b[0m samples \u001b[38;5;241m=\u001b[39m \u001b[43mmodel\u001b[49m\u001b[38;5;241;43m.\u001b[39;49m\u001b[43msample_posterior\u001b[49m\u001b[43m(\u001b[49m\u001b[43mx\u001b[49m\u001b[43m \u001b[49m\u001b[38;5;241;43m=\u001b[39;49m\u001b[43m \u001b[49m\u001b[43mx\u001b[49m\u001b[43m)\u001b[49m\n",
      "File \u001b[1;32m~\\Documents\\Dokumente\\Job_Clausthal\\PFNs\\Repository\\PFNExperiments\\LatentFactorModels\\ComparisonModels\\Hamiltionian_MC.py:59\u001b[0m, in \u001b[0;36mHamiltionian_MC.sample_posterior\u001b[1;34m(self, x, y)\u001b[0m\n\u001b[0;32m     49\u001b[0m \u001b[38;5;28;01mdef\u001b[39;00m \u001b[38;5;21msample_posterior\u001b[39m(\u001b[38;5;28mself\u001b[39m,  \n\u001b[0;32m     50\u001b[0m             x: torch\u001b[38;5;241m.\u001b[39mtensor,\n\u001b[0;32m     51\u001b[0m             y \u001b[38;5;241m=\u001b[39m \u001b[38;5;28;01mNone\u001b[39;00m) \u001b[38;5;241m-\u001b[39m\u001b[38;5;241m>\u001b[39m torch\u001b[38;5;241m.\u001b[39mTensor:\n\u001b[0;32m     52\u001b[0m \u001b[38;5;250m    \u001b[39m\u001b[38;5;124;03m\"\"\"\u001b[39;00m\n\u001b[0;32m     53\u001b[0m \u001b[38;5;124;03m    A method that samples from the posterior distribution\u001b[39;00m\n\u001b[0;32m     54\u001b[0m \u001b[38;5;124;03m    Args:\u001b[39;00m\n\u001b[1;32m   (...)\u001b[0m\n\u001b[0;32m     57\u001b[0m \u001b[38;5;124;03m        torch.Tensor: the samples from the posterior distribution\u001b[39;00m\n\u001b[0;32m     58\u001b[0m \u001b[38;5;124;03m    \"\"\"\u001b[39;00m\n\u001b[1;32m---> 59\u001b[0m     \u001b[38;5;28;43mself\u001b[39;49m\u001b[38;5;241;43m.\u001b[39;49m\u001b[43mmcmc\u001b[49m\u001b[38;5;241;43m.\u001b[39;49m\u001b[43mrun\u001b[49m\u001b[43m(\u001b[49m\u001b[43mx\u001b[49m\u001b[43m)\u001b[49m\n\u001b[0;32m     60\u001b[0m     posterior_samples \u001b[38;5;241m=\u001b[39m \u001b[38;5;28mself\u001b[39m\u001b[38;5;241m.\u001b[39mmcmc\u001b[38;5;241m.\u001b[39mget_samples()\n\u001b[0;32m     62\u001b[0m     \u001b[38;5;28;01mif\u001b[39;00m \u001b[38;5;28mself\u001b[39m\u001b[38;5;241m.\u001b[39mshuffle_samples:\n",
      "File \u001b[1;32mc:\\Users\\arik_\\Documents\\Dokumente\\Job_Clausthal\\PFNs\\Repository\\PFNExperiments\\.conda\\lib\\site-packages\\pyro\\poutine\\messenger.py:32\u001b[0m, in \u001b[0;36m_context_wrap\u001b[1;34m(context, fn, *args, **kwargs)\u001b[0m\n\u001b[0;32m     25\u001b[0m \u001b[38;5;28;01mdef\u001b[39;00m \u001b[38;5;21m_context_wrap\u001b[39m(\n\u001b[0;32m     26\u001b[0m     context: \u001b[38;5;124m\"\u001b[39m\u001b[38;5;124mMessenger\u001b[39m\u001b[38;5;124m\"\u001b[39m,\n\u001b[0;32m     27\u001b[0m     fn: Callable,\n\u001b[0;32m     28\u001b[0m     \u001b[38;5;241m*\u001b[39margs: Any,\n\u001b[0;32m     29\u001b[0m     \u001b[38;5;241m*\u001b[39m\u001b[38;5;241m*\u001b[39mkwargs: Any,\n\u001b[0;32m     30\u001b[0m ) \u001b[38;5;241m-\u001b[39m\u001b[38;5;241m>\u001b[39m Any:\n\u001b[0;32m     31\u001b[0m     \u001b[38;5;28;01mwith\u001b[39;00m context:\n\u001b[1;32m---> 32\u001b[0m         \u001b[38;5;28;01mreturn\u001b[39;00m fn(\u001b[38;5;241m*\u001b[39margs, \u001b[38;5;241m*\u001b[39m\u001b[38;5;241m*\u001b[39mkwargs)\n",
      "File \u001b[1;32mc:\\Users\\arik_\\Documents\\Dokumente\\Job_Clausthal\\PFNs\\Repository\\PFNExperiments\\.conda\\lib\\site-packages\\pyro\\infer\\mcmc\\api.py:565\u001b[0m, in \u001b[0;36mMCMC.run\u001b[1;34m(self, *args, **kwargs)\u001b[0m\n\u001b[0;32m    556\u001b[0m \u001b[38;5;28;01mwith\u001b[39;00m optional(\n\u001b[0;32m    557\u001b[0m     pyro\u001b[38;5;241m.\u001b[39mvalidation_enabled(\u001b[38;5;129;01mnot\u001b[39;00m \u001b[38;5;28mself\u001b[39m\u001b[38;5;241m.\u001b[39mdisable_validation),\n\u001b[0;32m    558\u001b[0m     \u001b[38;5;28mself\u001b[39m\u001b[38;5;241m.\u001b[39mdisable_validation \u001b[38;5;129;01mis\u001b[39;00m \u001b[38;5;129;01mnot\u001b[39;00m \u001b[38;5;28;01mNone\u001b[39;00m,\n\u001b[1;32m   (...)\u001b[0m\n\u001b[0;32m    562\u001b[0m     \u001b[38;5;66;03m# This also resolves \"RuntimeError: Cowardly refusing to serialize non-leaf tensor which\u001b[39;00m\n\u001b[0;32m    563\u001b[0m     \u001b[38;5;66;03m# requires_grad\", which happens with `jit_compile` under PyTorch 1.7\u001b[39;00m\n\u001b[0;32m    564\u001b[0m     args \u001b[38;5;241m=\u001b[39m [arg\u001b[38;5;241m.\u001b[39mdetach() \u001b[38;5;28;01mif\u001b[39;00m torch\u001b[38;5;241m.\u001b[39mis_tensor(arg) \u001b[38;5;28;01melse\u001b[39;00m arg \u001b[38;5;28;01mfor\u001b[39;00m arg \u001b[38;5;129;01min\u001b[39;00m args]\n\u001b[1;32m--> 565\u001b[0m     \u001b[38;5;28;01mfor\u001b[39;00m x, chain_id \u001b[38;5;129;01min\u001b[39;00m \u001b[38;5;28mself\u001b[39m\u001b[38;5;241m.\u001b[39msampler\u001b[38;5;241m.\u001b[39mrun(\u001b[38;5;241m*\u001b[39margs, \u001b[38;5;241m*\u001b[39m\u001b[38;5;241m*\u001b[39mkwargs):\n\u001b[0;32m    566\u001b[0m         \u001b[38;5;28;01mif\u001b[39;00m num_samples[chain_id] \u001b[38;5;241m==\u001b[39m \u001b[38;5;241m0\u001b[39m:\n\u001b[0;32m    567\u001b[0m             num_samples[chain_id] \u001b[38;5;241m+\u001b[39m\u001b[38;5;241m=\u001b[39m \u001b[38;5;241m1\u001b[39m\n",
      "File \u001b[1;32mc:\\Users\\arik_\\Documents\\Dokumente\\Job_Clausthal\\PFNs\\Repository\\PFNExperiments\\.conda\\lib\\site-packages\\pyro\\infer\\mcmc\\api.py:225\u001b[0m, in \u001b[0;36m_UnarySampler.run\u001b[1;34m(self, *args, **kwargs)\u001b[0m\n\u001b[0;32m    223\u001b[0m logger \u001b[38;5;241m=\u001b[39m initialize_logger(logger, \u001b[38;5;124m\"\u001b[39m\u001b[38;5;124m\"\u001b[39m, progress_bar)\n\u001b[0;32m    224\u001b[0m hook_w_logging \u001b[38;5;241m=\u001b[39m _add_logging_hook(logger, progress_bar, \u001b[38;5;28mself\u001b[39m\u001b[38;5;241m.\u001b[39mhook)\n\u001b[1;32m--> 225\u001b[0m \u001b[38;5;28;01mfor\u001b[39;00m sample \u001b[38;5;129;01min\u001b[39;00m _gen_samples(\n\u001b[0;32m    226\u001b[0m     \u001b[38;5;28mself\u001b[39m\u001b[38;5;241m.\u001b[39mkernel,\n\u001b[0;32m    227\u001b[0m     \u001b[38;5;28mself\u001b[39m\u001b[38;5;241m.\u001b[39mwarmup_steps,\n\u001b[0;32m    228\u001b[0m     \u001b[38;5;28mself\u001b[39m\u001b[38;5;241m.\u001b[39mnum_samples,\n\u001b[0;32m    229\u001b[0m     hook_w_logging,\n\u001b[0;32m    230\u001b[0m     i \u001b[38;5;28;01mif\u001b[39;00m \u001b[38;5;28mself\u001b[39m\u001b[38;5;241m.\u001b[39mnum_chains \u001b[38;5;241m>\u001b[39m \u001b[38;5;241m1\u001b[39m \u001b[38;5;28;01melse\u001b[39;00m \u001b[38;5;28;01mNone\u001b[39;00m,\n\u001b[0;32m    231\u001b[0m     \u001b[38;5;241m*\u001b[39margs,\n\u001b[0;32m    232\u001b[0m     \u001b[38;5;241m*\u001b[39m\u001b[38;5;241m*\u001b[39mkwargs\n\u001b[0;32m    233\u001b[0m ):\n\u001b[0;32m    234\u001b[0m     \u001b[38;5;28;01myield\u001b[39;00m sample, i  \u001b[38;5;66;03m# sample, chain_id\u001b[39;00m\n\u001b[0;32m    235\u001b[0m \u001b[38;5;28mself\u001b[39m\u001b[38;5;241m.\u001b[39mkernel\u001b[38;5;241m.\u001b[39mcleanup()\n",
      "File \u001b[1;32mc:\\Users\\arik_\\Documents\\Dokumente\\Job_Clausthal\\PFNs\\Repository\\PFNExperiments\\.conda\\lib\\site-packages\\pyro\\infer\\mcmc\\api.py:152\u001b[0m, in \u001b[0;36m_gen_samples\u001b[1;34m(kernel, warmup_steps, num_samples, hook, chain_id, *args, **kwargs)\u001b[0m\n\u001b[0;32m    150\u001b[0m \u001b[38;5;28;01myield\u001b[39;00m {name: params[name]\u001b[38;5;241m.\u001b[39mshape \u001b[38;5;28;01mfor\u001b[39;00m name \u001b[38;5;129;01min\u001b[39;00m save_params}\n\u001b[0;32m    151\u001b[0m \u001b[38;5;28;01mfor\u001b[39;00m i \u001b[38;5;129;01min\u001b[39;00m \u001b[38;5;28mrange\u001b[39m(warmup_steps):\n\u001b[1;32m--> 152\u001b[0m     params \u001b[38;5;241m=\u001b[39m \u001b[43mkernel\u001b[49m\u001b[38;5;241;43m.\u001b[39;49m\u001b[43msample\u001b[49m\u001b[43m(\u001b[49m\u001b[43mparams\u001b[49m\u001b[43m)\u001b[49m\n\u001b[0;32m    153\u001b[0m     hook(\n\u001b[0;32m    154\u001b[0m         kernel,\n\u001b[0;32m    155\u001b[0m         params,\n\u001b[0;32m    156\u001b[0m         \u001b[38;5;124m\"\u001b[39m\u001b[38;5;124mWarmup [\u001b[39m\u001b[38;5;132;01m{}\u001b[39;00m\u001b[38;5;124m]\u001b[39m\u001b[38;5;124m\"\u001b[39m\u001b[38;5;241m.\u001b[39mformat(chain_id) \u001b[38;5;28;01mif\u001b[39;00m chain_id \u001b[38;5;129;01mis\u001b[39;00m \u001b[38;5;129;01mnot\u001b[39;00m \u001b[38;5;28;01mNone\u001b[39;00m \u001b[38;5;28;01melse\u001b[39;00m \u001b[38;5;124m\"\u001b[39m\u001b[38;5;124mWarmup\u001b[39m\u001b[38;5;124m\"\u001b[39m,\n\u001b[0;32m    157\u001b[0m         i,\n\u001b[0;32m    158\u001b[0m     )\n\u001b[0;32m    159\u001b[0m \u001b[38;5;28;01mfor\u001b[39;00m i \u001b[38;5;129;01min\u001b[39;00m \u001b[38;5;28mrange\u001b[39m(num_samples):\n",
      "File \u001b[1;32mc:\\Users\\arik_\\Documents\\Dokumente\\Job_Clausthal\\PFNs\\Repository\\PFNExperiments\\.conda\\lib\\site-packages\\pyro\\infer\\mcmc\\nuts.py:437\u001b[0m, in \u001b[0;36mNUTS.sample\u001b[1;34m(self, params)\u001b[0m\n\u001b[0;32m    433\u001b[0m direction \u001b[38;5;241m=\u001b[39m \u001b[38;5;28mint\u001b[39m(direction\u001b[38;5;241m.\u001b[39mitem())\n\u001b[0;32m    434\u001b[0m \u001b[38;5;28;01mif\u001b[39;00m (\n\u001b[0;32m    435\u001b[0m     direction \u001b[38;5;241m==\u001b[39m \u001b[38;5;241m1\u001b[39m\n\u001b[0;32m    436\u001b[0m ):  \u001b[38;5;66;03m# go to the right, start from the right leaf of current tree\u001b[39;00m\n\u001b[1;32m--> 437\u001b[0m     new_tree \u001b[38;5;241m=\u001b[39m \u001b[38;5;28;43mself\u001b[39;49m\u001b[38;5;241;43m.\u001b[39;49m\u001b[43m_build_tree\u001b[49m\u001b[43m(\u001b[49m\n\u001b[0;32m    438\u001b[0m \u001b[43m        \u001b[49m\u001b[43mz_right\u001b[49m\u001b[43m,\u001b[49m\n\u001b[0;32m    439\u001b[0m \u001b[43m        \u001b[49m\u001b[43mr_right\u001b[49m\u001b[43m,\u001b[49m\n\u001b[0;32m    440\u001b[0m \u001b[43m        \u001b[49m\u001b[43mz_right_grads\u001b[49m\u001b[43m,\u001b[49m\n\u001b[0;32m    441\u001b[0m \u001b[43m        \u001b[49m\u001b[43mlog_slice\u001b[49m\u001b[43m,\u001b[49m\n\u001b[0;32m    442\u001b[0m \u001b[43m        \u001b[49m\u001b[43mdirection\u001b[49m\u001b[43m,\u001b[49m\n\u001b[0;32m    443\u001b[0m \u001b[43m        \u001b[49m\u001b[43mtree_depth\u001b[49m\u001b[43m,\u001b[49m\n\u001b[0;32m    444\u001b[0m \u001b[43m        \u001b[49m\u001b[43menergy_current\u001b[49m\u001b[43m,\u001b[49m\n\u001b[0;32m    445\u001b[0m \u001b[43m    \u001b[49m\u001b[43m)\u001b[49m\n\u001b[0;32m    446\u001b[0m     \u001b[38;5;66;03m# update leaf for the next doubling process\u001b[39;00m\n\u001b[0;32m    447\u001b[0m     z_right \u001b[38;5;241m=\u001b[39m new_tree\u001b[38;5;241m.\u001b[39mz_right\n",
      "File \u001b[1;32mc:\\Users\\arik_\\Documents\\Dokumente\\Job_Clausthal\\PFNs\\Repository\\PFNExperiments\\.conda\\lib\\site-packages\\pyro\\infer\\mcmc\\nuts.py:259\u001b[0m, in \u001b[0;36mNUTS._build_tree\u001b[1;34m(self, z, r, z_grads, log_slice, direction, tree_depth, energy_current)\u001b[0m\n\u001b[0;32m    254\u001b[0m     \u001b[38;5;28;01mreturn\u001b[39;00m \u001b[38;5;28mself\u001b[39m\u001b[38;5;241m.\u001b[39m_build_basetree(\n\u001b[0;32m    255\u001b[0m         z, r, z_grads, log_slice, direction, energy_current\n\u001b[0;32m    256\u001b[0m     )\n\u001b[0;32m    258\u001b[0m \u001b[38;5;66;03m# build the first half of tree\u001b[39;00m\n\u001b[1;32m--> 259\u001b[0m half_tree \u001b[38;5;241m=\u001b[39m \u001b[38;5;28;43mself\u001b[39;49m\u001b[38;5;241;43m.\u001b[39;49m\u001b[43m_build_tree\u001b[49m\u001b[43m(\u001b[49m\n\u001b[0;32m    260\u001b[0m \u001b[43m    \u001b[49m\u001b[43mz\u001b[49m\u001b[43m,\u001b[49m\u001b[43m \u001b[49m\u001b[43mr\u001b[49m\u001b[43m,\u001b[49m\u001b[43m \u001b[49m\u001b[43mz_grads\u001b[49m\u001b[43m,\u001b[49m\u001b[43m \u001b[49m\u001b[43mlog_slice\u001b[49m\u001b[43m,\u001b[49m\u001b[43m \u001b[49m\u001b[43mdirection\u001b[49m\u001b[43m,\u001b[49m\u001b[43m \u001b[49m\u001b[43mtree_depth\u001b[49m\u001b[43m \u001b[49m\u001b[38;5;241;43m-\u001b[39;49m\u001b[43m \u001b[49m\u001b[38;5;241;43m1\u001b[39;49m\u001b[43m,\u001b[49m\u001b[43m \u001b[49m\u001b[43menergy_current\u001b[49m\n\u001b[0;32m    261\u001b[0m \u001b[43m\u001b[49m\u001b[43m)\u001b[49m\n\u001b[0;32m    262\u001b[0m z_proposal \u001b[38;5;241m=\u001b[39m half_tree\u001b[38;5;241m.\u001b[39mz_proposal\n\u001b[0;32m    263\u001b[0m z_proposal_pe \u001b[38;5;241m=\u001b[39m half_tree\u001b[38;5;241m.\u001b[39mz_proposal_pe\n",
      "File \u001b[1;32mc:\\Users\\arik_\\Documents\\Dokumente\\Job_Clausthal\\PFNs\\Repository\\PFNExperiments\\.conda\\lib\\site-packages\\pyro\\infer\\mcmc\\nuts.py:259\u001b[0m, in \u001b[0;36mNUTS._build_tree\u001b[1;34m(self, z, r, z_grads, log_slice, direction, tree_depth, energy_current)\u001b[0m\n\u001b[0;32m    254\u001b[0m     \u001b[38;5;28;01mreturn\u001b[39;00m \u001b[38;5;28mself\u001b[39m\u001b[38;5;241m.\u001b[39m_build_basetree(\n\u001b[0;32m    255\u001b[0m         z, r, z_grads, log_slice, direction, energy_current\n\u001b[0;32m    256\u001b[0m     )\n\u001b[0;32m    258\u001b[0m \u001b[38;5;66;03m# build the first half of tree\u001b[39;00m\n\u001b[1;32m--> 259\u001b[0m half_tree \u001b[38;5;241m=\u001b[39m \u001b[38;5;28;43mself\u001b[39;49m\u001b[38;5;241;43m.\u001b[39;49m\u001b[43m_build_tree\u001b[49m\u001b[43m(\u001b[49m\n\u001b[0;32m    260\u001b[0m \u001b[43m    \u001b[49m\u001b[43mz\u001b[49m\u001b[43m,\u001b[49m\u001b[43m \u001b[49m\u001b[43mr\u001b[49m\u001b[43m,\u001b[49m\u001b[43m \u001b[49m\u001b[43mz_grads\u001b[49m\u001b[43m,\u001b[49m\u001b[43m \u001b[49m\u001b[43mlog_slice\u001b[49m\u001b[43m,\u001b[49m\u001b[43m \u001b[49m\u001b[43mdirection\u001b[49m\u001b[43m,\u001b[49m\u001b[43m \u001b[49m\u001b[43mtree_depth\u001b[49m\u001b[43m \u001b[49m\u001b[38;5;241;43m-\u001b[39;49m\u001b[43m \u001b[49m\u001b[38;5;241;43m1\u001b[39;49m\u001b[43m,\u001b[49m\u001b[43m \u001b[49m\u001b[43menergy_current\u001b[49m\n\u001b[0;32m    261\u001b[0m \u001b[43m\u001b[49m\u001b[43m)\u001b[49m\n\u001b[0;32m    262\u001b[0m z_proposal \u001b[38;5;241m=\u001b[39m half_tree\u001b[38;5;241m.\u001b[39mz_proposal\n\u001b[0;32m    263\u001b[0m z_proposal_pe \u001b[38;5;241m=\u001b[39m half_tree\u001b[38;5;241m.\u001b[39mz_proposal_pe\n",
      "File \u001b[1;32mc:\\Users\\arik_\\Documents\\Dokumente\\Job_Clausthal\\PFNs\\Repository\\PFNExperiments\\.conda\\lib\\site-packages\\pyro\\infer\\mcmc\\nuts.py:259\u001b[0m, in \u001b[0;36mNUTS._build_tree\u001b[1;34m(self, z, r, z_grads, log_slice, direction, tree_depth, energy_current)\u001b[0m\n\u001b[0;32m    254\u001b[0m     \u001b[38;5;28;01mreturn\u001b[39;00m \u001b[38;5;28mself\u001b[39m\u001b[38;5;241m.\u001b[39m_build_basetree(\n\u001b[0;32m    255\u001b[0m         z, r, z_grads, log_slice, direction, energy_current\n\u001b[0;32m    256\u001b[0m     )\n\u001b[0;32m    258\u001b[0m \u001b[38;5;66;03m# build the first half of tree\u001b[39;00m\n\u001b[1;32m--> 259\u001b[0m half_tree \u001b[38;5;241m=\u001b[39m \u001b[38;5;28;43mself\u001b[39;49m\u001b[38;5;241;43m.\u001b[39;49m\u001b[43m_build_tree\u001b[49m\u001b[43m(\u001b[49m\n\u001b[0;32m    260\u001b[0m \u001b[43m    \u001b[49m\u001b[43mz\u001b[49m\u001b[43m,\u001b[49m\u001b[43m \u001b[49m\u001b[43mr\u001b[49m\u001b[43m,\u001b[49m\u001b[43m \u001b[49m\u001b[43mz_grads\u001b[49m\u001b[43m,\u001b[49m\u001b[43m \u001b[49m\u001b[43mlog_slice\u001b[49m\u001b[43m,\u001b[49m\u001b[43m \u001b[49m\u001b[43mdirection\u001b[49m\u001b[43m,\u001b[49m\u001b[43m \u001b[49m\u001b[43mtree_depth\u001b[49m\u001b[43m \u001b[49m\u001b[38;5;241;43m-\u001b[39;49m\u001b[43m \u001b[49m\u001b[38;5;241;43m1\u001b[39;49m\u001b[43m,\u001b[49m\u001b[43m \u001b[49m\u001b[43menergy_current\u001b[49m\n\u001b[0;32m    261\u001b[0m \u001b[43m\u001b[49m\u001b[43m)\u001b[49m\n\u001b[0;32m    262\u001b[0m z_proposal \u001b[38;5;241m=\u001b[39m half_tree\u001b[38;5;241m.\u001b[39mz_proposal\n\u001b[0;32m    263\u001b[0m z_proposal_pe \u001b[38;5;241m=\u001b[39m half_tree\u001b[38;5;241m.\u001b[39mz_proposal_pe\n",
      "File \u001b[1;32mc:\\Users\\arik_\\Documents\\Dokumente\\Job_Clausthal\\PFNs\\Repository\\PFNExperiments\\.conda\\lib\\site-packages\\pyro\\infer\\mcmc\\nuts.py:254\u001b[0m, in \u001b[0;36mNUTS._build_tree\u001b[1;34m(self, z, r, z_grads, log_slice, direction, tree_depth, energy_current)\u001b[0m\n\u001b[0;32m    250\u001b[0m \u001b[38;5;28;01mdef\u001b[39;00m \u001b[38;5;21m_build_tree\u001b[39m(\n\u001b[0;32m    251\u001b[0m     \u001b[38;5;28mself\u001b[39m, z, r, z_grads, log_slice, direction, tree_depth, energy_current\n\u001b[0;32m    252\u001b[0m ):\n\u001b[0;32m    253\u001b[0m     \u001b[38;5;28;01mif\u001b[39;00m tree_depth \u001b[38;5;241m==\u001b[39m \u001b[38;5;241m0\u001b[39m:\n\u001b[1;32m--> 254\u001b[0m         \u001b[38;5;28;01mreturn\u001b[39;00m \u001b[38;5;28;43mself\u001b[39;49m\u001b[38;5;241;43m.\u001b[39;49m\u001b[43m_build_basetree\u001b[49m\u001b[43m(\u001b[49m\n\u001b[0;32m    255\u001b[0m \u001b[43m            \u001b[49m\u001b[43mz\u001b[49m\u001b[43m,\u001b[49m\u001b[43m \u001b[49m\u001b[43mr\u001b[49m\u001b[43m,\u001b[49m\u001b[43m \u001b[49m\u001b[43mz_grads\u001b[49m\u001b[43m,\u001b[49m\u001b[43m \u001b[49m\u001b[43mlog_slice\u001b[49m\u001b[43m,\u001b[49m\u001b[43m \u001b[49m\u001b[43mdirection\u001b[49m\u001b[43m,\u001b[49m\u001b[43m \u001b[49m\u001b[43menergy_current\u001b[49m\n\u001b[0;32m    256\u001b[0m \u001b[43m        \u001b[49m\u001b[43m)\u001b[49m\n\u001b[0;32m    258\u001b[0m     \u001b[38;5;66;03m# build the first half of tree\u001b[39;00m\n\u001b[0;32m    259\u001b[0m     half_tree \u001b[38;5;241m=\u001b[39m \u001b[38;5;28mself\u001b[39m\u001b[38;5;241m.\u001b[39m_build_tree(\n\u001b[0;32m    260\u001b[0m         z, r, z_grads, log_slice, direction, tree_depth \u001b[38;5;241m-\u001b[39m \u001b[38;5;241m1\u001b[39m, energy_current\n\u001b[0;32m    261\u001b[0m     )\n",
      "File \u001b[1;32mc:\\Users\\arik_\\Documents\\Dokumente\\Job_Clausthal\\PFNs\\Repository\\PFNExperiments\\.conda\\lib\\site-packages\\pyro\\infer\\mcmc\\nuts.py:199\u001b[0m, in \u001b[0;36mNUTS._build_basetree\u001b[1;34m(self, z, r, z_grads, log_slice, direction, energy_current)\u001b[0m\n\u001b[0;32m    197\u001b[0m \u001b[38;5;28;01mdef\u001b[39;00m \u001b[38;5;21m_build_basetree\u001b[39m(\u001b[38;5;28mself\u001b[39m, z, r, z_grads, log_slice, direction, energy_current):\n\u001b[0;32m    198\u001b[0m     step_size \u001b[38;5;241m=\u001b[39m \u001b[38;5;28mself\u001b[39m\u001b[38;5;241m.\u001b[39mstep_size \u001b[38;5;28;01mif\u001b[39;00m direction \u001b[38;5;241m==\u001b[39m \u001b[38;5;241m1\u001b[39m \u001b[38;5;28;01melse\u001b[39;00m \u001b[38;5;241m-\u001b[39m\u001b[38;5;28mself\u001b[39m\u001b[38;5;241m.\u001b[39mstep_size\n\u001b[1;32m--> 199\u001b[0m     z_new, r_new, z_grads, potential_energy \u001b[38;5;241m=\u001b[39m \u001b[43mvelocity_verlet\u001b[49m\u001b[43m(\u001b[49m\n\u001b[0;32m    200\u001b[0m \u001b[43m        \u001b[49m\u001b[43mz\u001b[49m\u001b[43m,\u001b[49m\n\u001b[0;32m    201\u001b[0m \u001b[43m        \u001b[49m\u001b[43mr\u001b[49m\u001b[43m,\u001b[49m\n\u001b[0;32m    202\u001b[0m \u001b[43m        \u001b[49m\u001b[38;5;28;43mself\u001b[39;49m\u001b[38;5;241;43m.\u001b[39;49m\u001b[43mpotential_fn\u001b[49m\u001b[43m,\u001b[49m\n\u001b[0;32m    203\u001b[0m \u001b[43m        \u001b[49m\u001b[38;5;28;43mself\u001b[39;49m\u001b[38;5;241;43m.\u001b[39;49m\u001b[43mmass_matrix_adapter\u001b[49m\u001b[38;5;241;43m.\u001b[39;49m\u001b[43mkinetic_grad\u001b[49m\u001b[43m,\u001b[49m\n\u001b[0;32m    204\u001b[0m \u001b[43m        \u001b[49m\u001b[43mstep_size\u001b[49m\u001b[43m,\u001b[49m\n\u001b[0;32m    205\u001b[0m \u001b[43m        \u001b[49m\u001b[43mz_grads\u001b[49m\u001b[38;5;241;43m=\u001b[39;49m\u001b[43mz_grads\u001b[49m\u001b[43m,\u001b[49m\n\u001b[0;32m    206\u001b[0m \u001b[43m    \u001b[49m\u001b[43m)\u001b[49m\n\u001b[0;32m    207\u001b[0m     r_new_unscaled \u001b[38;5;241m=\u001b[39m \u001b[38;5;28mself\u001b[39m\u001b[38;5;241m.\u001b[39mmass_matrix_adapter\u001b[38;5;241m.\u001b[39munscale(r_new)\n\u001b[0;32m    208\u001b[0m     energy_new \u001b[38;5;241m=\u001b[39m potential_energy \u001b[38;5;241m+\u001b[39m \u001b[38;5;28mself\u001b[39m\u001b[38;5;241m.\u001b[39m_kinetic_energy(r_new_unscaled)\n",
      "File \u001b[1;32mc:\\Users\\arik_\\Documents\\Dokumente\\Job_Clausthal\\PFNs\\Repository\\PFNExperiments\\.conda\\lib\\site-packages\\pyro\\ops\\integrator.py:39\u001b[0m, in \u001b[0;36mvelocity_verlet\u001b[1;34m(z, r, potential_fn, kinetic_grad, step_size, num_steps, z_grads)\u001b[0m\n\u001b[0;32m     37\u001b[0m r_next \u001b[38;5;241m=\u001b[39m r\u001b[38;5;241m.\u001b[39mcopy()\n\u001b[0;32m     38\u001b[0m \u001b[38;5;28;01mfor\u001b[39;00m _ \u001b[38;5;129;01min\u001b[39;00m \u001b[38;5;28mrange\u001b[39m(num_steps):\n\u001b[1;32m---> 39\u001b[0m     z_next, r_next, z_grads, potential_energy \u001b[38;5;241m=\u001b[39m \u001b[43m_single_step_verlet\u001b[49m\u001b[43m(\u001b[49m\n\u001b[0;32m     40\u001b[0m \u001b[43m        \u001b[49m\u001b[43mz_next\u001b[49m\u001b[43m,\u001b[49m\u001b[43m \u001b[49m\u001b[43mr_next\u001b[49m\u001b[43m,\u001b[49m\u001b[43m \u001b[49m\u001b[43mpotential_fn\u001b[49m\u001b[43m,\u001b[49m\u001b[43m \u001b[49m\u001b[43mkinetic_grad\u001b[49m\u001b[43m,\u001b[49m\u001b[43m \u001b[49m\u001b[43mstep_size\u001b[49m\u001b[43m,\u001b[49m\u001b[43m \u001b[49m\u001b[43mz_grads\u001b[49m\n\u001b[0;32m     41\u001b[0m \u001b[43m    \u001b[49m\u001b[43m)\u001b[49m\n\u001b[0;32m     42\u001b[0m \u001b[38;5;28;01mreturn\u001b[39;00m z_next, r_next, z_grads, potential_energy\n",
      "File \u001b[1;32mc:\\Users\\arik_\\Documents\\Dokumente\\Job_Clausthal\\PFNs\\Repository\\PFNExperiments\\.conda\\lib\\site-packages\\pyro\\ops\\integrator.py:61\u001b[0m, in \u001b[0;36m_single_step_verlet\u001b[1;34m(z, r, potential_fn, kinetic_grad, step_size, z_grads)\u001b[0m\n\u001b[0;32m     58\u001b[0m \u001b[38;5;28;01mfor\u001b[39;00m site_name \u001b[38;5;129;01min\u001b[39;00m z:\n\u001b[0;32m     59\u001b[0m     z[site_name] \u001b[38;5;241m=\u001b[39m z[site_name] \u001b[38;5;241m+\u001b[39m step_size \u001b[38;5;241m*\u001b[39m r_grads[site_name]  \u001b[38;5;66;03m# z(n+1)\u001b[39;00m\n\u001b[1;32m---> 61\u001b[0m z_grads, potential_energy \u001b[38;5;241m=\u001b[39m \u001b[43mpotential_grad\u001b[49m\u001b[43m(\u001b[49m\u001b[43mpotential_fn\u001b[49m\u001b[43m,\u001b[49m\u001b[43m \u001b[49m\u001b[43mz\u001b[49m\u001b[43m)\u001b[49m\n\u001b[0;32m     62\u001b[0m \u001b[38;5;28;01mfor\u001b[39;00m site_name \u001b[38;5;129;01min\u001b[39;00m r:\n\u001b[0;32m     63\u001b[0m     r[site_name] \u001b[38;5;241m=\u001b[39m r[site_name] \u001b[38;5;241m+\u001b[39m \u001b[38;5;241m0.5\u001b[39m \u001b[38;5;241m*\u001b[39m step_size \u001b[38;5;241m*\u001b[39m (\u001b[38;5;241m-\u001b[39mz_grads[site_name])  \u001b[38;5;66;03m# r(n+1)\u001b[39;00m\n",
      "File \u001b[1;32mc:\\Users\\arik_\\Documents\\Dokumente\\Job_Clausthal\\PFNs\\Repository\\PFNExperiments\\.conda\\lib\\site-packages\\pyro\\ops\\integrator.py:83\u001b[0m, in \u001b[0;36mpotential_grad\u001b[1;34m(potential_fn, z)\u001b[0m\n\u001b[0;32m     81\u001b[0m     node\u001b[38;5;241m.\u001b[39mrequires_grad_(\u001b[38;5;28;01mTrue\u001b[39;00m)\n\u001b[0;32m     82\u001b[0m \u001b[38;5;28;01mtry\u001b[39;00m:\n\u001b[1;32m---> 83\u001b[0m     potential_energy \u001b[38;5;241m=\u001b[39m \u001b[43mpotential_fn\u001b[49m\u001b[43m(\u001b[49m\u001b[43mz\u001b[49m\u001b[43m)\u001b[49m\n\u001b[0;32m     84\u001b[0m \u001b[38;5;66;03m# handle exceptions as defined in the exception registry\u001b[39;00m\n\u001b[0;32m     85\u001b[0m \u001b[38;5;28;01mexcept\u001b[39;00m \u001b[38;5;167;01mException\u001b[39;00m \u001b[38;5;28;01mas\u001b[39;00m e:\n",
      "File \u001b[1;32mc:\\Users\\arik_\\Documents\\Dokumente\\Job_Clausthal\\PFNs\\Repository\\PFNExperiments\\.conda\\lib\\site-packages\\pyro\\infer\\mcmc\\util.py:281\u001b[0m, in \u001b[0;36m_PEMaker._potential_fn\u001b[1;34m(self, params)\u001b[0m\n\u001b[0;32m    277\u001b[0m cond_model \u001b[38;5;241m=\u001b[39m poutine\u001b[38;5;241m.\u001b[39mcondition(\u001b[38;5;28mself\u001b[39m\u001b[38;5;241m.\u001b[39mmodel, params_constrained)\n\u001b[0;32m    278\u001b[0m model_trace \u001b[38;5;241m=\u001b[39m poutine\u001b[38;5;241m.\u001b[39mtrace(cond_model)\u001b[38;5;241m.\u001b[39mget_trace(\n\u001b[0;32m    279\u001b[0m     \u001b[38;5;241m*\u001b[39m\u001b[38;5;28mself\u001b[39m\u001b[38;5;241m.\u001b[39mmodel_args, \u001b[38;5;241m*\u001b[39m\u001b[38;5;241m*\u001b[39m\u001b[38;5;28mself\u001b[39m\u001b[38;5;241m.\u001b[39mmodel_kwargs\n\u001b[0;32m    280\u001b[0m )\n\u001b[1;32m--> 281\u001b[0m log_joint \u001b[38;5;241m=\u001b[39m \u001b[38;5;28;43mself\u001b[39;49m\u001b[38;5;241;43m.\u001b[39;49m\u001b[43mtrace_prob_evaluator\u001b[49m\u001b[38;5;241;43m.\u001b[39;49m\u001b[43mlog_prob\u001b[49m\u001b[43m(\u001b[49m\u001b[43mmodel_trace\u001b[49m\u001b[43m)\u001b[49m\n\u001b[0;32m    282\u001b[0m \u001b[38;5;28;01mfor\u001b[39;00m name, t \u001b[38;5;129;01min\u001b[39;00m \u001b[38;5;28mself\u001b[39m\u001b[38;5;241m.\u001b[39mtransforms\u001b[38;5;241m.\u001b[39mitems():\n\u001b[0;32m    283\u001b[0m     log_joint \u001b[38;5;241m=\u001b[39m log_joint \u001b[38;5;241m-\u001b[39m torch\u001b[38;5;241m.\u001b[39msum(\n\u001b[0;32m    284\u001b[0m         t\u001b[38;5;241m.\u001b[39mlog_abs_det_jacobian(params_constrained[name], params[name])\n\u001b[0;32m    285\u001b[0m     )\n",
      "File \u001b[1;32mc:\\Users\\arik_\\Documents\\Dokumente\\Job_Clausthal\\PFNs\\Repository\\PFNExperiments\\.conda\\lib\\site-packages\\pyro\\infer\\mcmc\\util.py:241\u001b[0m, in \u001b[0;36mTraceEinsumEvaluator.log_prob\u001b[1;34m(self, model_trace)\u001b[0m\n\u001b[0;32m    239\u001b[0m log_probs \u001b[38;5;241m=\u001b[39m \u001b[38;5;28mself\u001b[39m\u001b[38;5;241m.\u001b[39m_get_log_factors(model_trace)\n\u001b[0;32m    240\u001b[0m \u001b[38;5;28;01mwith\u001b[39;00m shared_intermediates() \u001b[38;5;28;01mas\u001b[39;00m cache:\n\u001b[1;32m--> 241\u001b[0m     \u001b[38;5;28;01mreturn\u001b[39;00m \u001b[43mcontract_to_tensor\u001b[49m\u001b[43m(\u001b[49m\u001b[43mlog_probs\u001b[49m\u001b[43m,\u001b[49m\u001b[43m \u001b[49m\u001b[38;5;28;43mself\u001b[39;49m\u001b[38;5;241;43m.\u001b[39;49m\u001b[43m_enum_dims\u001b[49m\u001b[43m,\u001b[49m\u001b[43m \u001b[49m\u001b[43mcache\u001b[49m\u001b[38;5;241;43m=\u001b[39;49m\u001b[43mcache\u001b[49m\u001b[43m)\u001b[49m\n",
      "File \u001b[1;32mc:\\Users\\arik_\\Documents\\Dokumente\\Job_Clausthal\\PFNs\\Repository\\PFNExperiments\\.conda\\lib\\site-packages\\pyro\\ops\\contract.py:271\u001b[0m, in \u001b[0;36mcontract_to_tensor\u001b[1;34m(tensor_tree, sum_dims, target_ordinal, target_dims, cache, ring)\u001b[0m\n\u001b[0;32m    268\u001b[0m     contracted_terms\u001b[38;5;241m.\u001b[39mappend(term)\n\u001b[0;32m    270\u001b[0m \u001b[38;5;66;03m# Combine contracted tensors via product, then broadcast.\u001b[39;00m\n\u001b[1;32m--> 271\u001b[0m term \u001b[38;5;241m=\u001b[39m \u001b[43mring\u001b[49m\u001b[38;5;241;43m.\u001b[39;49m\u001b[43msumproduct\u001b[49m\u001b[43m(\u001b[49m\u001b[43mcontracted_terms\u001b[49m\u001b[43m,\u001b[49m\u001b[43m \u001b[49m\u001b[38;5;28;43mset\u001b[39;49m\u001b[43m(\u001b[49m\u001b[43m)\u001b[49m\u001b[43m)\u001b[49m\n\u001b[0;32m    272\u001b[0m \u001b[38;5;28;01massert\u001b[39;00m sum_dims\u001b[38;5;241m.\u001b[39mintersection(term\u001b[38;5;241m.\u001b[39m_pyro_dims) \u001b[38;5;241m<\u001b[39m\u001b[38;5;241m=\u001b[39m target_dims\n\u001b[0;32m    273\u001b[0m \u001b[38;5;28;01mreturn\u001b[39;00m ring\u001b[38;5;241m.\u001b[39mbroadcast(term, target_ordinal)\n",
      "File \u001b[1;32mc:\\Users\\arik_\\Documents\\Dokumente\\Job_Clausthal\\PFNs\\Repository\\PFNExperiments\\.conda\\lib\\site-packages\\pyro\\ops\\rings.py:199\u001b[0m, in \u001b[0;36mLogRing.sumproduct\u001b[1;34m(self, terms, dims)\u001b[0m\n\u001b[0;32m    197\u001b[0m output \u001b[38;5;241m=\u001b[39m \u001b[38;5;124m\"\u001b[39m\u001b[38;5;124m\"\u001b[39m\u001b[38;5;241m.\u001b[39mjoin(\u001b[38;5;28msorted\u001b[39m(\u001b[38;5;28mset\u001b[39m(\u001b[38;5;124m\"\u001b[39m\u001b[38;5;124m\"\u001b[39m\u001b[38;5;241m.\u001b[39mjoin(inputs)) \u001b[38;5;241m-\u001b[39m \u001b[38;5;28mset\u001b[39m(dims)))\n\u001b[0;32m    198\u001b[0m equation \u001b[38;5;241m=\u001b[39m \u001b[38;5;124m\"\u001b[39m\u001b[38;5;124m,\u001b[39m\u001b[38;5;124m\"\u001b[39m\u001b[38;5;241m.\u001b[39mjoin(inputs) \u001b[38;5;241m+\u001b[39m \u001b[38;5;124m\"\u001b[39m\u001b[38;5;124m->\u001b[39m\u001b[38;5;124m\"\u001b[39m \u001b[38;5;241m+\u001b[39m output\n\u001b[1;32m--> 199\u001b[0m term \u001b[38;5;241m=\u001b[39m \u001b[43mcontract\u001b[49m\u001b[43m(\u001b[49m\u001b[43mequation\u001b[49m\u001b[43m,\u001b[49m\u001b[43m \u001b[49m\u001b[38;5;241;43m*\u001b[39;49m\u001b[43mterms\u001b[49m\u001b[43m,\u001b[49m\u001b[43m \u001b[49m\u001b[43mbackend\u001b[49m\u001b[38;5;241;43m=\u001b[39;49m\u001b[38;5;28;43mself\u001b[39;49m\u001b[38;5;241;43m.\u001b[39;49m\u001b[43m_backend\u001b[49m\u001b[43m)\u001b[49m\n\u001b[0;32m    200\u001b[0m term\u001b[38;5;241m.\u001b[39m_pyro_dims \u001b[38;5;241m=\u001b[39m output\n\u001b[0;32m    201\u001b[0m \u001b[38;5;28;01mreturn\u001b[39;00m term\n",
      "File \u001b[1;32mc:\\Users\\arik_\\Documents\\Dokumente\\Job_Clausthal\\PFNs\\Repository\\PFNExperiments\\.conda\\lib\\site-packages\\pyro\\ops\\einsum\\__init__.py:46\u001b[0m, in \u001b[0;36mcontract\u001b[1;34m(equation, *operands, **kwargs)\u001b[0m\n\u001b[0;32m     44\u001b[0m \u001b[38;5;28;01mwith\u001b[39;00m ignore_jit_warnings():\n\u001b[0;32m     45\u001b[0m     expr \u001b[38;5;241m=\u001b[39m contract_expression(equation, \u001b[38;5;241m*\u001b[39mshapes)\n\u001b[1;32m---> 46\u001b[0m     \u001b[38;5;28;01mreturn\u001b[39;00m \u001b[43mexpr\u001b[49m\u001b[43m(\u001b[49m\u001b[38;5;241;43m*\u001b[39;49m\u001b[43moperands\u001b[49m\u001b[43m,\u001b[49m\u001b[43m \u001b[49m\u001b[43mbackend\u001b[49m\u001b[38;5;241;43m=\u001b[39;49m\u001b[43mbackend\u001b[49m\u001b[43m,\u001b[49m\u001b[43m \u001b[49m\u001b[43mout\u001b[49m\u001b[38;5;241;43m=\u001b[39;49m\u001b[43mout\u001b[49m\u001b[43m)\u001b[49m\n",
      "File \u001b[1;32mc:\\Users\\arik_\\Documents\\Dokumente\\Job_Clausthal\\PFNs\\Repository\\PFNExperiments\\.conda\\lib\\site-packages\\opt_einsum\\contract.py:763\u001b[0m, in \u001b[0;36mContractExpression.__call__\u001b[1;34m(self, *arrays, **kwargs)\u001b[0m\n\u001b[0;32m    760\u001b[0m     \u001b[38;5;28;01mif\u001b[39;00m backends\u001b[38;5;241m.\u001b[39mhas_backend(backend) \u001b[38;5;129;01mand\u001b[39;00m \u001b[38;5;28mall\u001b[39m(\u001b[38;5;28misinstance\u001b[39m(x, np\u001b[38;5;241m.\u001b[39mndarray) \u001b[38;5;28;01mfor\u001b[39;00m x \u001b[38;5;129;01min\u001b[39;00m arrays):\n\u001b[0;32m    761\u001b[0m         \u001b[38;5;28;01mreturn\u001b[39;00m \u001b[38;5;28mself\u001b[39m\u001b[38;5;241m.\u001b[39m_contract_with_conversion(ops, out, backend, evaluate_constants\u001b[38;5;241m=\u001b[39mevaluate_constants)\n\u001b[1;32m--> 763\u001b[0m     \u001b[38;5;28;01mreturn\u001b[39;00m \u001b[38;5;28;43mself\u001b[39;49m\u001b[38;5;241;43m.\u001b[39;49m\u001b[43m_contract\u001b[49m\u001b[43m(\u001b[49m\u001b[43mops\u001b[49m\u001b[43m,\u001b[49m\u001b[43m \u001b[49m\u001b[43mout\u001b[49m\u001b[43m,\u001b[49m\u001b[43m \u001b[49m\u001b[43mbackend\u001b[49m\u001b[43m,\u001b[49m\u001b[43m \u001b[49m\u001b[43mevaluate_constants\u001b[49m\u001b[38;5;241;43m=\u001b[39;49m\u001b[43mevaluate_constants\u001b[49m\u001b[43m)\u001b[49m\n\u001b[0;32m    765\u001b[0m \u001b[38;5;28;01mexcept\u001b[39;00m \u001b[38;5;167;01mValueError\u001b[39;00m \u001b[38;5;28;01mas\u001b[39;00m err:\n\u001b[0;32m    766\u001b[0m     original_msg \u001b[38;5;241m=\u001b[39m \u001b[38;5;28mstr\u001b[39m(err\u001b[38;5;241m.\u001b[39margs) \u001b[38;5;28;01mif\u001b[39;00m err\u001b[38;5;241m.\u001b[39margs \u001b[38;5;28;01melse\u001b[39;00m \u001b[38;5;124m\"\u001b[39m\u001b[38;5;124m\"\u001b[39m\n",
      "File \u001b[1;32mc:\\Users\\arik_\\Documents\\Dokumente\\Job_Clausthal\\PFNs\\Repository\\PFNExperiments\\.conda\\lib\\site-packages\\opt_einsum\\contract.py:693\u001b[0m, in \u001b[0;36mContractExpression._contract\u001b[1;34m(self, arrays, out, backend, evaluate_constants)\u001b[0m\n\u001b[0;32m    689\u001b[0m \u001b[38;5;250m\u001b[39m\u001b[38;5;124;03m\"\"\"The normal, core contraction.\u001b[39;00m\n\u001b[0;32m    690\u001b[0m \u001b[38;5;124;03m\"\"\"\u001b[39;00m\n\u001b[0;32m    691\u001b[0m contraction_list \u001b[38;5;241m=\u001b[39m \u001b[38;5;28mself\u001b[39m\u001b[38;5;241m.\u001b[39m_full_contraction_list \u001b[38;5;28;01mif\u001b[39;00m evaluate_constants \u001b[38;5;28;01melse\u001b[39;00m \u001b[38;5;28mself\u001b[39m\u001b[38;5;241m.\u001b[39mcontraction_list\n\u001b[1;32m--> 693\u001b[0m \u001b[38;5;28;01mreturn\u001b[39;00m _core_contract(\u001b[38;5;28mlist\u001b[39m(arrays),\n\u001b[0;32m    694\u001b[0m                       contraction_list,\n\u001b[0;32m    695\u001b[0m                       out\u001b[38;5;241m=\u001b[39mout,\n\u001b[0;32m    696\u001b[0m                       backend\u001b[38;5;241m=\u001b[39mbackend,\n\u001b[0;32m    697\u001b[0m                       evaluate_constants\u001b[38;5;241m=\u001b[39mevaluate_constants,\n\u001b[0;32m    698\u001b[0m                       \u001b[38;5;241m*\u001b[39m\u001b[38;5;241m*\u001b[39m\u001b[38;5;28mself\u001b[39m\u001b[38;5;241m.\u001b[39meinsum_kwargs)\n",
      "File \u001b[1;32mc:\\Users\\arik_\\Documents\\Dokumente\\Job_Clausthal\\PFNs\\Repository\\PFNExperiments\\.conda\\lib\\site-packages\\opt_einsum\\contract.py:591\u001b[0m, in \u001b[0;36m_core_contract\u001b[1;34m(operands, contraction_list, backend, evaluate_constants, **einsum_kwargs)\u001b[0m\n\u001b[0;32m    588\u001b[0m         einsum_kwargs[\u001b[38;5;124m\"\u001b[39m\u001b[38;5;124mout\u001b[39m\u001b[38;5;124m\"\u001b[39m] \u001b[38;5;241m=\u001b[39m out_array\n\u001b[0;32m    590\u001b[0m     \u001b[38;5;66;03m# Do the contraction\u001b[39;00m\n\u001b[1;32m--> 591\u001b[0m     new_view \u001b[38;5;241m=\u001b[39m _einsum(einsum_str, \u001b[38;5;241m*\u001b[39mtmp_operands, backend\u001b[38;5;241m=\u001b[39mbackend, \u001b[38;5;241m*\u001b[39m\u001b[38;5;241m*\u001b[39meinsum_kwargs)\n\u001b[0;32m    593\u001b[0m \u001b[38;5;66;03m# Append new items and dereference what we can\u001b[39;00m\n\u001b[0;32m    594\u001b[0m operands\u001b[38;5;241m.\u001b[39mappend(new_view)\n",
      "File \u001b[1;32mc:\\Users\\arik_\\Documents\\Dokumente\\Job_Clausthal\\PFNs\\Repository\\PFNExperiments\\.conda\\lib\\site-packages\\opt_einsum\\sharing.py:168\u001b[0m, in \u001b[0;36meinsum_cache_wrap.<locals>.cached_einsum\u001b[1;34m(*args, **kwargs)\u001b[0m\n\u001b[0;32m    165\u001b[0m canonical_equation \u001b[38;5;241m=\u001b[39m alpha_canonicalize(canonical_inputs \u001b[38;5;241m+\u001b[39m \u001b[38;5;124m\"\u001b[39m\u001b[38;5;124m->\u001b[39m\u001b[38;5;124m\"\u001b[39m \u001b[38;5;241m+\u001b[39m output)\n\u001b[0;32m    167\u001b[0m key \u001b[38;5;241m=\u001b[39m \u001b[38;5;124m'\u001b[39m\u001b[38;5;124meinsum\u001b[39m\u001b[38;5;124m'\u001b[39m, backend, canonical_equation, canonical_ids\n\u001b[1;32m--> 168\u001b[0m \u001b[38;5;28;01mreturn\u001b[39;00m \u001b[43m_memoize\u001b[49m\u001b[43m(\u001b[49m\u001b[43mkey\u001b[49m\u001b[43m,\u001b[49m\u001b[43m \u001b[49m\u001b[43meinsum\u001b[49m\u001b[43m,\u001b[49m\u001b[43m \u001b[49m\u001b[43mequation\u001b[49m\u001b[43m,\u001b[49m\u001b[43m \u001b[49m\u001b[38;5;241;43m*\u001b[39;49m\u001b[43moperands\u001b[49m\u001b[43m,\u001b[49m\u001b[43m \u001b[49m\u001b[43mbackend\u001b[49m\u001b[38;5;241;43m=\u001b[39;49m\u001b[43mbackend\u001b[49m\u001b[43m)\u001b[49m\n",
      "File \u001b[1;32mc:\\Users\\arik_\\Documents\\Dokumente\\Job_Clausthal\\PFNs\\Repository\\PFNExperiments\\.conda\\lib\\site-packages\\opt_einsum\\sharing.py:101\u001b[0m, in \u001b[0;36m_memoize\u001b[1;34m(key, fn, *args, **kwargs)\u001b[0m\n\u001b[0;32m     99\u001b[0m \u001b[38;5;28;01mif\u001b[39;00m key \u001b[38;5;129;01min\u001b[39;00m cache:\n\u001b[0;32m    100\u001b[0m     \u001b[38;5;28;01mreturn\u001b[39;00m cache[key]\n\u001b[1;32m--> 101\u001b[0m result \u001b[38;5;241m=\u001b[39m fn(\u001b[38;5;241m*\u001b[39margs, \u001b[38;5;241m*\u001b[39m\u001b[38;5;241m*\u001b[39mkwargs)\n\u001b[0;32m    102\u001b[0m cache[key] \u001b[38;5;241m=\u001b[39m result\n\u001b[0;32m    103\u001b[0m \u001b[38;5;28;01mreturn\u001b[39;00m result\n",
      "File \u001b[1;32mc:\\Users\\arik_\\Documents\\Dokumente\\Job_Clausthal\\PFNs\\Repository\\PFNExperiments\\.conda\\lib\\site-packages\\opt_einsum\\contract.py:353\u001b[0m, in \u001b[0;36m_einsum\u001b[1;34m(*operands, **kwargs)\u001b[0m\n\u001b[0;32m    349\u001b[0m         einsum_str \u001b[38;5;241m+\u001b[39m\u001b[38;5;241m=\u001b[39m \u001b[38;5;124m'\u001b[39m\u001b[38;5;124m->\u001b[39m\u001b[38;5;124m'\u001b[39m \u001b[38;5;241m+\u001b[39m parser\u001b[38;5;241m.\u001b[39mfind_output_str(einsum_str)\n\u001b[0;32m    351\u001b[0m     einsum_str \u001b[38;5;241m=\u001b[39m parser\u001b[38;5;241m.\u001b[39mconvert_to_valid_einsum_chars(einsum_str)\n\u001b[1;32m--> 353\u001b[0m \u001b[38;5;28;01mreturn\u001b[39;00m fn(einsum_str, \u001b[38;5;241m*\u001b[39moperands, \u001b[38;5;241m*\u001b[39m\u001b[38;5;241m*\u001b[39mkwargs)\n",
      "File \u001b[1;32mc:\\Users\\arik_\\Documents\\Dokumente\\Job_Clausthal\\PFNs\\Repository\\PFNExperiments\\.conda\\lib\\site-packages\\pyro\\ops\\einsum\\torch_log.py:41\u001b[0m, in \u001b[0;36meinsum\u001b[1;34m(equation, *operands)\u001b[0m\n\u001b[0;32m     39\u001b[0m \u001b[38;5;66;03m# avoid nan due to -inf - -inf\u001b[39;00m\n\u001b[0;32m     40\u001b[0m shift \u001b[38;5;241m=\u001b[39m shift\u001b[38;5;241m.\u001b[39mclamp(\u001b[38;5;28mmin\u001b[39m\u001b[38;5;241m=\u001b[39mtorch\u001b[38;5;241m.\u001b[39mfinfo(shift\u001b[38;5;241m.\u001b[39mdtype)\u001b[38;5;241m.\u001b[39mmin)\n\u001b[1;32m---> 41\u001b[0m exp_operands\u001b[38;5;241m.\u001b[39mappend(\u001b[43m(\u001b[49m\u001b[43moperand\u001b[49m\u001b[43m \u001b[49m\u001b[38;5;241;43m-\u001b[39;49m\u001b[43m \u001b[49m\u001b[43mshift\u001b[49m\u001b[43m)\u001b[49m\u001b[38;5;241;43m.\u001b[39;49m\u001b[43mexp\u001b[49m\u001b[43m(\u001b[49m\u001b[43m)\u001b[49m)\n\u001b[0;32m     43\u001b[0m \u001b[38;5;66;03m# permute shift to match output\u001b[39;00m\n\u001b[0;32m     44\u001b[0m shift \u001b[38;5;241m=\u001b[39m shift\u001b[38;5;241m.\u001b[39mreshape(\n\u001b[0;32m     45\u001b[0m     torch\u001b[38;5;241m.\u001b[39mSize(size \u001b[38;5;28;01mfor\u001b[39;00m size, dim \u001b[38;5;129;01min\u001b[39;00m \u001b[38;5;28mzip\u001b[39m(operand\u001b[38;5;241m.\u001b[39mshape, dims) \u001b[38;5;28;01mif\u001b[39;00m dim \u001b[38;5;129;01min\u001b[39;00m output)\n\u001b[0;32m     46\u001b[0m )\n",
      "\u001b[1;31mKeyboardInterrupt\u001b[0m: "
     ]
    }
   ],
   "source": [
    "samples = model.sample_posterior(x = x)"
   ]
  },
  {
   "cell_type": "code",
   "execution_count": null,
   "metadata": {},
   "outputs": [
    {
     "data": {
      "text/plain": [
       "tensor([-3.9802,  5.3649,  0.9867])"
      ]
     },
     "execution_count": 22,
     "metadata": {},
     "output_type": "execute_result"
    }
   ],
   "source": [
    "r[\"mu\"]"
   ]
  },
  {
   "cell_type": "code",
   "execution_count": null,
   "metadata": {},
   "outputs": [
    {
     "data": {
      "text/plain": [
       "dict_keys(['mu', 'phi', 'sigma_squared'])"
      ]
     },
     "execution_count": 23,
     "metadata": {},
     "output_type": "execute_result"
    }
   ],
   "source": [
    "samples.keys()"
   ]
  },
  {
   "cell_type": "code",
   "execution_count": null,
   "metadata": {},
   "outputs": [],
   "source": []
  },
  {
   "cell_type": "code",
   "execution_count": null,
   "metadata": {},
   "outputs": [
    {
     "data": {
      "text/plain": [
       "torch.return_types.median(\n",
       "values=tensor([ 1.0558,  5.3790, -4.1347]),\n",
       "indices=tensor([334, 389,  28]))"
      ]
     },
     "execution_count": 24,
     "metadata": {},
     "output_type": "execute_result"
    }
   ],
   "source": [
    "samples[\"mu\"].median(dim = 0)"
   ]
  },
  {
   "cell_type": "code",
   "execution_count": null,
   "metadata": {},
   "outputs": [
    {
     "data": {
      "image/png": "[encoded data removed]",
      "text/plain": [
       "<Figure size 640x480 with 1 Axes>"
      ]
     },
     "metadata": {},
     "output_type": "display_data"
    },
    {
     "data": {
      "image/png": "[encoded data removed]",
      "text/plain": [
       "<Figure size 640x480 with 1 Axes>"
      ]
     },
     "metadata": {},
     "output_type": "display_data"
    },
    {
     "data": {
      "image/png": "[encoded data removed]",
      "text/plain": [
       "<Figure size 640x480 with 1 Axes>"
      ]
     },
     "metadata": {},
     "output_type": "display_data"
    }
   ],
   "source": [
    "for dim in range(3):\n",
    "    plt.hist(samples[\"mu\"][:,dim].numpy(), bins = 30)\n",
    "    plt.show()"
   ]
  },
  {
   "cell_type": "code",
   "execution_count": null,
   "metadata": {},
   "outputs": [],
   "source": [
    "pprogram_batched = make_fa_program_normal_weight_prior_batched()"
   ]
  },
  {
   "cell_type": "code",
   "execution_count": null,
   "metadata": {},
   "outputs": [
    {
     "name": "stdout",
     "output_type": "stream",
     "text": [
      "tensor([[ 0.1769,  0.0000,  0.0000],\n",
      "        [-0.1999,  0.2277,  0.0000],\n",
      "        [ 0.0458, -0.0843,  0.0350],\n",
      "        [-0.0609, -0.0978, -0.1425],\n",
      "        [ 0.1424, -0.0265, -0.0098]])\n",
      "z: torch.Size([32, 3])\n",
      "mu: torch.Size([32, 5])\n",
      "W: torch.Size([32, 5, 3])\n",
      "psi_diag: torch.Size([5, 32])\n",
      "psi: torch.Size([32, 5, 5])\n",
      "mean_x: torch.Size([32, 5])\n"
     ]
    }
   ],
   "source": [
    "rb = pprogram_batched()"
   ]
  },
  {
   "cell_type": "code",
   "execution_count": null,
   "metadata": {},
   "outputs": [
    {
     "data": {
      "text/plain": [
       "torch.Size([32, 100, 5])"
      ]
     },
     "execution_count": 153,
     "metadata": {},
     "output_type": "execute_result"
    }
   ],
   "source": [
    "rb[\"x\"].shape"
   ]
  },
  {
   "cell_type": "code",
   "execution_count": null,
   "metadata": {},
   "outputs": [
    {
     "data": {
      "text/plain": [
       "torch.return_types.median(\n",
       "values=tensor([0.6933, 0.3093, 0.5158]),\n",
       "indices=tensor([168, 109, 482]))"
      ]
     },
     "execution_count": 27,
     "metadata": {},
     "output_type": "execute_result"
    }
   ],
   "source": [
    "samples[\"sigma_squared\"].median(dim = 0)"
   ]
  },
  {
   "cell_type": "code",
   "execution_count": null,
   "metadata": {},
   "outputs": [
    {
     "ename": "NameError",
     "evalue": "name 'make_gmm_program_univariate_batched' is not defined",
     "output_type": "error",
     "traceback": [
      "\u001b[1;31m---------------------------------------------------------------------------\u001b[0m",
      "\u001b[1;31mNameError\u001b[0m                                 Traceback (most recent call last)",
      "Cell \u001b[1;32mIn[28], line 1\u001b[0m\n\u001b[1;32m----> 1\u001b[0m pprogram_batched \u001b[38;5;241m=\u001b[39m \u001b[43mmake_gmm_program_univariate_batched\u001b[49m(\n\u001b[0;32m      2\u001b[0m     n \u001b[38;5;241m=\u001b[39m \u001b[38;5;241m100\u001b[39m,\n\u001b[0;32m      3\u001b[0m     p \u001b[38;5;241m=\u001b[39m \u001b[38;5;241m3\u001b[39m,\n\u001b[0;32m      4\u001b[0m     batch_size \u001b[38;5;241m=\u001b[39m \u001b[38;5;241m1000\u001b[39m,\n\u001b[0;32m      5\u001b[0m     a1 \u001b[38;5;241m=\u001b[39m \u001b[38;5;241m5.0\u001b[39m,\n\u001b[0;32m      6\u001b[0m     b1 \u001b[38;5;241m=\u001b[39m \u001b[38;5;241m2.0\u001b[39m,\n\u001b[0;32m      7\u001b[0m     dirichlet_beta \u001b[38;5;241m=\u001b[39m \u001b[38;5;241m1.0\u001b[39m,\n\u001b[0;32m      8\u001b[0m     lambda1 \u001b[38;5;241m=\u001b[39m \u001b[38;5;241m3.0\u001b[39m,\n\u001b[0;32m      9\u001b[0m     )\n",
      "\u001b[1;31mNameError\u001b[0m: name 'make_gmm_program_univariate_batched' is not defined"
     ]
    }
   ],
   "source": [
    "pprogram_batched = make_gmm_program_univariate_batched(\n",
    "    n: int = 100,\n",
    "    p: int = 5,\n",
    "    batch_size: int = 32,\n",
    "    z_dim: int = 3,\n",
    "    w_var: float = 0.1,\n",
    "    mu_var: float = 3.0,\n",
    "    a1_psi_var: float = 5.0,\n",
    "    b1_psi_var: float = 2.0,\n",
    "    )\n",
    "    )"
   ]
  },
  {
   "cell_type": "code",
   "execution_count": null,
   "metadata": {},
   "outputs": [],
   "source": [
    "samples_batched = pprogram_batched()"
   ]
  },
  {
   "cell_type": "code",
   "execution_count": null,
   "metadata": {},
   "outputs": [
    {
     "data": {
      "text/plain": [
       "torch.Size([1000, 3])"
      ]
     },
     "execution_count": 42,
     "metadata": {},
     "output_type": "execute_result"
    }
   ],
   "source": [
    "samples_batched[\"sigma_squared\"].shape"
   ]
  },
  {
   "cell_type": "code",
   "execution_count": null,
   "metadata": {},
   "outputs": [
    {
     "name": "stdout",
     "output_type": "stream",
     "text": [
      "phi torch.Size([3, 1000])\n",
      "mu torch.Size([1000, 3])\n",
      "sigma_squared torch.Size([1000, 3])\n",
      "z torch.Size([1000, 100])\n",
      "x torch.Size([1000, 100])\n",
      "beta torch.Size([1000, 6])\n"
     ]
    }
   ],
   "source": [
    "for key in samples_batched.keys():\n",
    "    print(key, samples_batched[key].shape)"
   ]
  },
  {
   "cell_type": "code",
   "execution_count": null,
   "metadata": {},
   "outputs": [],
   "source": []
  }
 ],
 "metadata": {
  "kernelspec": {
   "display_name": "Python 3",
   "language": "python",
   "name": "python3"
  },
  "language_info": {
   "codemirror_mode": {
    "name": "ipython",
    "version": 3
   },
   "file_extension": ".py",
   "mimetype": "text/x-python",
   "name": "python",
   "nbconvert_exporter": "python",
   "pygments_lexer": "ipython3",
   "version": "3.10.13"
  }
 },
 "nbformat": 4,
 "nbformat_minor": 2
}

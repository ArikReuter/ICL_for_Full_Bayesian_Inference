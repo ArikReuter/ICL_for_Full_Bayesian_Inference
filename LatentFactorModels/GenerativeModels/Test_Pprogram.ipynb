{
 "cells": [
  {
   "cell_type": "code",
   "execution_count": 43,
   "metadata": {},
   "outputs": [
    {
     "name": "stdout",
     "output_type": "stream",
     "text": [
      "The autoreload extension is already loaded. To reload it, use:\n",
      "  %reload_ext autoreload\n"
     ]
    }
   ],
   "source": [
    "%load_ext autoreload\n",
    "%autoreload 2"
   ]
  },
  {
   "cell_type": "code",
   "execution_count": 168,
   "metadata": {},
   "outputs": [],
   "source": [
    "import matplotlib.pyplot as plt\n",
    "from PFNExperiments.LatentFactorModels.GenerativeModels.Clustering.GMMs import make_gmm_program_univariate, make_gmm_program_univariate_batched"
   ]
  },
  {
   "cell_type": "code",
   "execution_count": 45,
   "metadata": {},
   "outputs": [],
   "source": [
    "from PFNExperiments.LatentFactorModels.GenerativeModels.LatenFactorModel_abstract import return_only_x\n",
    "from PFNExperiments.LatentFactorModels.ComparisonModels.Hamiltionian_MC import Hamiltionian_MC\n",
    "\n",
    "from PFNExperiments.LatentFactorModels.ComparisonModels.MakeDefaultListComparison import make_default_list_comparison,make_reduced_list_comparison"
   ]
  },
  {
   "cell_type": "code",
   "execution_count": 106,
   "metadata": {},
   "outputs": [],
   "source": [
    "pprogram = make_gmm_program_univariate(\n",
    "    dirichlet_beta = 1.0,\n",
    "    lambda1= 10.0\n",
    "    )"
   ]
  },
  {
   "cell_type": "code",
   "execution_count": 107,
   "metadata": {},
   "outputs": [],
   "source": [
    "r = pprogram(\n",
    ")"
   ]
  },
  {
   "cell_type": "code",
   "execution_count": 108,
   "metadata": {},
   "outputs": [
    {
     "data": {
      "text/plain": [
       "{'phi': tensor([0.2714, 0.2801, 0.4485]),\n",
       " 'mu': tensor([ -3.7376, -10.2377,   1.3009]),\n",
       " 'sigma_squared': tensor([0.2416, 0.6708, 0.2905]),\n",
       " 'z': tensor([2, 1, 2, 2, 1, 2, 2, 2, 2, 1, 1, 0, 1, 2, 1, 0, 1, 2, 0, 2, 0, 2, 0, 2,\n",
       "         2, 0, 1, 2, 0, 1, 2, 0, 1, 2, 1, 0, 2, 1, 2, 2, 1, 2, 0, 0, 2, 1, 1, 2,\n",
       "         2, 0, 0, 0, 0, 2, 1, 1, 0, 2, 1, 1, 2, 2, 0, 0, 0, 2, 2, 2, 2, 0, 1, 2,\n",
       "         0, 2, 0, 0, 2, 2, 0, 1, 1, 0, 2, 0, 0, 2, 0, 1, 0, 1, 2, 0, 2, 1, 0, 1,\n",
       "         2, 0, 2, 2]),\n",
       " 'x': tensor([  1.2421, -10.1121,   0.7347,   1.8186, -10.5914,   1.2967,   1.3179,\n",
       "           1.1049,   1.7887, -10.4854, -10.2776,  -4.0348,  -9.7878,   1.1806,\n",
       "          -9.4964,  -3.8782, -11.3971,   0.8229,  -4.0212,   1.6325,  -3.9693,\n",
       "           1.4352,  -3.3122,   1.6680,   1.6882,  -3.6907, -10.3393,   1.4547,\n",
       "          -3.6952, -10.5360,   1.4411,  -3.2593,  -9.5932,   0.8802, -10.5605,\n",
       "          -3.8461,   1.4158, -10.4125,   1.0498,   1.4239, -10.3679,   1.6434,\n",
       "          -3.3925,  -3.7255,   1.6795, -10.5064,  -9.9335,   0.7748,   1.3567,\n",
       "          -3.6849,  -4.0689,  -3.7673,  -3.4568,   1.0520, -10.1620, -10.9015,\n",
       "          -3.5948,   1.7011,  -9.6445,  -8.9354,   0.8933,   1.3949,  -3.3798,\n",
       "          -3.8665,  -3.3954,   0.4235,   1.6872,   1.6183,   1.3061,  -3.8106,\n",
       "         -10.4691,   0.8630,  -4.1168,   1.5701,  -3.6364,  -3.7066,   1.5081,\n",
       "           1.5720,  -4.0288,  -9.1292,  -9.7107,  -3.8598,   1.2282,  -4.1971,\n",
       "          -3.8721,   1.3934,  -3.5432,  -8.7963,  -3.5854, -10.3576,   1.5445,\n",
       "          -3.5952,   1.8012,  -9.6847,  -3.5119,  -9.5067,   0.9913,  -4.2014,\n",
       "           1.4243,   1.3532])}"
      ]
     },
     "execution_count": 108,
     "metadata": {},
     "output_type": "execute_result"
    }
   ],
   "source": [
    "r"
   ]
  },
  {
   "cell_type": "code",
   "execution_count": 158,
   "metadata": {},
   "outputs": [
    {
     "data": {
      "text/plain": [
       "(array([ 1.,  4., 10.,  5.,  3.,  3.,  0.,  0.,  0.,  0.,  0.,  0.,  0.,\n",
       "         0.,  0.,  0.,  8., 18.,  6.,  0.,  0.,  0.,  0.,  0.,  0.,  0.,\n",
       "         1.,  6., 12., 23.]),\n",
       " array([-11.39714527, -10.95662117, -10.51609802, -10.07557392,\n",
       "         -9.63504982,  -9.19452572,  -8.75400257,  -8.31347847,\n",
       "         -7.87295437,  -7.43243074,  -6.99190664,  -6.55138302,\n",
       "         -6.11085892,  -5.67033529,  -5.22981119,  -4.78928757,\n",
       "         -4.34876394,  -3.90823984,  -3.46771598,  -3.02719212,\n",
       "         -2.58666825,  -2.14614439,  -1.70562065,  -1.26509678,\n",
       "         -0.82457292,  -0.38404909,   0.05647475,   0.49699861,\n",
       "          0.93752247,   1.37804627,   1.81857014]),\n",
       " <BarContainer object of 30 artists>)"
      ]
     },
     "execution_count": 158,
     "metadata": {},
     "output_type": "execute_result"
    },
    {
     "data": {
      "image/png": "[encoded data removed]",
      "text/plain": [
       "<Figure size 640x480 with 1 Axes>"
      ]
     },
     "metadata": {},
     "output_type": "display_data"
    }
   ],
   "source": [
    "x = r['x']\n",
    "\n",
    "plt.hist(x, bins = 30)"
   ]
  },
  {
   "cell_type": "code",
   "execution_count": 159,
   "metadata": {},
   "outputs": [],
   "source": [
    "pprogram_return_only_x = return_only_x(pprogram)"
   ]
  },
  {
   "cell_type": "code",
   "execution_count": 146,
   "metadata": {},
   "outputs": [],
   "source": [
    "models = make_default_list_comparison(pprogram= pprogram_return_only_x, n_samples= 1000)\n",
    "\n",
    "model_list = {\n",
    "        #\"hmc_sampler\": models[0],\n",
    "        #\"vi_diag\": models[1],\n",
    "        \"vi_multivariate_normal\": models[2],\n",
    "        #\"vi_laplace\": models[3],\n",
    "        #\"vi_autoIAF\": models[4],\n",
    "        \"vi_autostrucured\": models[5],\n",
    "}"
   ]
  },
  {
   "cell_type": "code",
   "execution_count": 147,
   "metadata": {},
   "outputs": [
    {
     "name": "stderr",
     "output_type": "stream",
     "text": [
      "c:\\Users\\arik_\\Documents\\Dokumente\\Job_Clausthal\\PFNs\\Repository\\PFNExperiments\\.conda\\lib\\site-packages\\pyro\\util.py:303: UserWarning: Found vars in model but not guide: {'phi', 'z'}\n",
      "  warnings.warn(f\"Found vars in model but not guide: {bad_sites}\")\n"
     ]
    },
    {
     "name": "stdout",
     "output_type": "stream",
     "text": [
      "....................\n",
      "....................\n"
     ]
    }
   ],
   "source": [
    "samples_per_model = {}\n",
    "\n",
    "for name, model in model_list.items():\n",
    "    samples_per_model[name] = model.sample_posterior(x = x)"
   ]
  },
  {
   "cell_type": "code",
   "execution_count": 148,
   "metadata": {},
   "outputs": [
    {
     "data": {
      "text/plain": [
       "(tensor([ -3.7376, -10.2377,   1.3009]), tensor([0.2416, 0.6708, 0.2905]))"
      ]
     },
     "execution_count": 148,
     "metadata": {},
     "output_type": "execute_result"
    }
   ],
   "source": [
    "r[\"mu\"], r[\"sigma_squared\"]"
   ]
  },
  {
   "cell_type": "code",
   "execution_count": 149,
   "metadata": {},
   "outputs": [
    {
     "data": {
      "text/plain": [
       "tensor([  1.2421, -10.1121,   0.7347,   1.8186, -10.5914,   1.2967,   1.3179,\n",
       "          1.1049,   1.7887, -10.4854, -10.2776,  -4.0348,  -9.7878,   1.1806,\n",
       "         -9.4964,  -3.8782, -11.3971,   0.8229,  -4.0212,   1.6325,  -3.9693,\n",
       "          1.4352,  -3.3122,   1.6680,   1.6882,  -3.6907, -10.3393,   1.4547,\n",
       "         -3.6952, -10.5360,   1.4411,  -3.2593,  -9.5932,   0.8802, -10.5605,\n",
       "         -3.8461,   1.4158, -10.4125,   1.0498,   1.4239, -10.3679,   1.6434,\n",
       "         -3.3925,  -3.7255,   1.6795, -10.5064,  -9.9335,   0.7748,   1.3567,\n",
       "         -3.6849,  -4.0689,  -3.7673,  -3.4568,   1.0520, -10.1620, -10.9015,\n",
       "         -3.5948,   1.7011,  -9.6445,  -8.9354,   0.8933,   1.3949,  -3.3798,\n",
       "         -3.8665,  -3.3954,   0.4235,   1.6872,   1.6183,   1.3061,  -3.8106,\n",
       "        -10.4691,   0.8630,  -4.1168,   1.5701,  -3.6364,  -3.7066,   1.5081,\n",
       "          1.5720,  -4.0288,  -9.1292,  -9.7107,  -3.8598,   1.2282,  -4.1971,\n",
       "         -3.8721,   1.3934,  -3.5432,  -8.7963,  -3.5854, -10.3576,   1.5445,\n",
       "         -3.5952,   1.8012,  -9.6847,  -3.5119,  -9.5067,   0.9913,  -4.2014,\n",
       "          1.4243,   1.3532])"
      ]
     },
     "execution_count": 149,
     "metadata": {},
     "output_type": "execute_result"
    }
   ],
   "source": [
    "x"
   ]
  },
  {
   "cell_type": "code",
   "execution_count": 160,
   "metadata": {},
   "outputs": [],
   "source": [
    "model = Hamiltionian_MC(\n",
    "    pprogram=pprogram_return_only_x,\n",
    "    n_samples=500,\n",
    "    n_warmup=500\n",
    ")"
   ]
  },
  {
   "cell_type": "code",
   "execution_count": 161,
   "metadata": {},
   "outputs": [
    {
     "name": "stderr",
     "output_type": "stream",
     "text": [
      "Sample: 100%|██████████| 1000/1000 [01:17, 12.86it/s, step size=6.35e-01, acc. prob=0.913]\n"
     ]
    }
   ],
   "source": [
    "samples = model.sample_posterior(x = x)"
   ]
  },
  {
   "cell_type": "code",
   "execution_count": 162,
   "metadata": {},
   "outputs": [
    {
     "data": {
      "text/plain": [
       "tensor([ -3.7376, -10.2377,   1.3009])"
      ]
     },
     "execution_count": 162,
     "metadata": {},
     "output_type": "execute_result"
    }
   ],
   "source": [
    "r[\"mu\"]"
   ]
  },
  {
   "cell_type": "code",
   "execution_count": 163,
   "metadata": {},
   "outputs": [
    {
     "data": {
      "text/plain": [
       "dict_keys(['mu', 'phi', 'sigma_squared'])"
      ]
     },
     "execution_count": 163,
     "metadata": {},
     "output_type": "execute_result"
    }
   ],
   "source": [
    "samples.keys()"
   ]
  },
  {
   "cell_type": "code",
   "execution_count": 164,
   "metadata": {},
   "outputs": [
    {
     "data": {
      "text/plain": [
       "torch.return_types.median(\n",
       "values=tensor([ -3.7375, -10.0621,   1.3357]),\n",
       "indices=tensor([190,  74, 185]))"
      ]
     },
     "execution_count": 164,
     "metadata": {},
     "output_type": "execute_result"
    }
   ],
   "source": [
    "samples[\"mu\"].median(dim = 0)"
   ]
  },
  {
   "cell_type": "code",
   "execution_count": 165,
   "metadata": {},
   "outputs": [
    {
     "data": {
      "image/png": "[encoded data removed]",
      "text/plain": [
       "<Figure size 640x480 with 1 Axes>"
      ]
     },
     "metadata": {},
     "output_type": "display_data"
    },
    {
     "data": {
      "image/png": "[encoded data removed]",
      "text/plain": [
       "<Figure size 640x480 with 1 Axes>"
      ]
     },
     "metadata": {},
     "output_type": "display_data"
    },
    {
     "data": {
      "image/png": "[encoded data removed]",
      "text/plain": [
       "<Figure size 640x480 with 1 Axes>"
      ]
     },
     "metadata": {},
     "output_type": "display_data"
    }
   ],
   "source": [
    "for dim in range(3):\n",
    "    plt.hist(samples[\"mu\"][:,dim].numpy(), bins = 30)\n",
    "    plt.show()"
   ]
  },
  {
   "cell_type": "code",
   "execution_count": 166,
   "metadata": {},
   "outputs": [
    {
     "data": {
      "text/plain": [
       "tensor([0.2416, 0.6708, 0.2905])"
      ]
     },
     "execution_count": 166,
     "metadata": {},
     "output_type": "execute_result"
    }
   ],
   "source": [
    "r[\"sigma_squared\"]"
   ]
  },
  {
   "cell_type": "code",
   "execution_count": 167,
   "metadata": {},
   "outputs": [
    {
     "data": {
      "text/plain": [
       "torch.return_types.median(\n",
       "values=tensor([0.2776, 0.6129, 0.3387]),\n",
       "indices=tensor([115, 279, 453]))"
      ]
     },
     "execution_count": 167,
     "metadata": {},
     "output_type": "execute_result"
    }
   ],
   "source": [
    "samples[\"sigma_squared\"].median(dim = 0)"
   ]
  },
  {
   "cell_type": "code",
   "execution_count": 209,
   "metadata": {},
   "outputs": [],
   "source": [
    "pprogram_batched = make_gmm_program_univariate_batched(\n",
    "    dirichlet_beta = 1.0,\n",
    "    lambda1= 10.0\n",
    "    )"
   ]
  },
  {
   "cell_type": "code",
   "execution_count": 210,
   "metadata": {},
   "outputs": [
    {
     "name": "stdout",
     "output_type": "stream",
     "text": [
      "torch.Size([100, 1000]) torch.Size([100, 1000])\n"
     ]
    }
   ],
   "source": [
    "samples_batched = pprogram_batched()"
   ]
  },
  {
   "cell_type": "code",
   "execution_count": 211,
   "metadata": {},
   "outputs": [
    {
     "data": {
      "text/plain": [
       "torch.Size([100, 1000])"
      ]
     },
     "execution_count": 211,
     "metadata": {},
     "output_type": "execute_result"
    }
   ],
   "source": [
    "samples_batched[\"x\"].shape"
   ]
  },
  {
   "cell_type": "code",
   "execution_count": null,
   "metadata": {},
   "outputs": [],
   "source": []
  }
 ],
 "metadata": {
  "kernelspec": {
   "display_name": "Python 3",
   "language": "python",
   "name": "python3"
  },
  "language_info": {
   "codemirror_mode": {
    "name": "ipython",
    "version": 3
   },
   "file_extension": ".py",
   "mimetype": "text/x-python",
   "name": "python",
   "nbconvert_exporter": "python",
   "pygments_lexer": "ipython3",
   "version": "3.10.13"
  }
 },
 "nbformat": 4,
 "nbformat_minor": 2
}

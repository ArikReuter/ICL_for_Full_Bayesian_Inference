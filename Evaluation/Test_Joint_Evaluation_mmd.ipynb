{
 "cells": [
  {
   "cell_type": "code",
   "execution_count": 46,
   "metadata": {},
   "outputs": [
    {
     "name": "stdout",
     "output_type": "stream",
     "text": [
      "The autoreload extension is already loaded. To reload it, use:\n",
      "  %reload_ext autoreload\n"
     ]
    }
   ],
   "source": [
    "%load_ext autoreload\n",
    "%autoreload 2"
   ]
  },
  {
   "cell_type": "code",
   "execution_count": 47,
   "metadata": {},
   "outputs": [],
   "source": [
    "import torch\n",
    "import pandas as pd\n",
    "from tqdm import tqdm\n",
    "from PFNExperiments.Evaluation.ClassifcationBasedComparison import compare_samples_classifier_based\n",
    "from PFNExperiments.Evaluation.MMD import compare_samples_mmd\n",
    "from scipy.stats import wilcoxon"
   ]
  },
  {
   "cell_type": "code",
   "execution_count": 48,
   "metadata": {},
   "outputs": [],
   "source": [
    "# sample data such that the marginals for x and y are always the same, only the joint distribution changes\n",
    "\n",
    "P = 5\n",
    "N_samples = 1000\n",
    "\n",
    "def samplex(N_samples = N_samples):\n",
    "    return torch.randn(N_samples, P)\n",
    "\n",
    "def generate_sample_y_t(t):\n",
    "    def sampley_t(x):\n",
    "        \"\"\"\n",
    "        Interpolate between sampley3 and sampley1\n",
    "        t = 1 -> deterministic dependence on x\n",
    "        t = 0 -> no dependence on x\n",
    "        \"\"\"\n",
    "        xt = 2*t*x\n",
    "\n",
    "        noise = torch.randn(N_samples, P)*((4 - (2*t)**2)**0.5)\n",
    "\n",
    "        return xt + noise\n",
    "    return sampley_t\n",
    "\n",
    "\n"
   ]
  },
  {
   "cell_type": "code",
   "execution_count": 49,
   "metadata": {},
   "outputs": [],
   "source": [
    "t_max = 0.99\n",
    "sampley_gt = generate_sample_y_t(t_max)\n"
   ]
  },
  {
   "cell_type": "code",
   "execution_count": 50,
   "metadata": {},
   "outputs": [
    {
     "name": "stderr",
     "output_type": "stream",
     "text": [
      "100%|██████████| 1000/1000 [05:02<00:00,  3.31it/s]\n",
      "100%|██████████| 1000/1000 [04:39<00:00,  3.58it/s]"
     ]
    },
    {
     "name": "stdout",
     "output_type": "stream",
     "text": [
      "\n",
      "      marginal_y1y2_res: MMD    0.005658\n",
      "dtype: float64\n",
      "        marginal_y1y3_res: MMD    0.005645\n",
      "dtype: float64\n",
      "        \n",
      "WilcoxonResult(statistic=array([247366.]), pvalue=array([0.75223811]))\n"
     ]
    },
    {
     "name": "stderr",
     "output_type": "stream",
     "text": [
      "\n"
     ]
    }
   ],
   "source": [
    "# consistency check if any difference in the marginals regarding y can be detected\n",
    "\n",
    "def sample_marginal(n_x_samples, sample_ya, sample_yb):\n",
    "    res_list = []\n",
    "    for i in tqdm(list(range(n_x_samples))):\n",
    "        x1 = samplex()\n",
    "        x2 = samplex()\n",
    "        y1 = sample_ya(x1)\n",
    "        y2 = sample_yb(x2)\n",
    "        diff_mmd = compare_samples_mmd(y1, y2)\n",
    "\n",
    "        res_list.append(diff_mmd)\n",
    "\n",
    "    return pd.DataFrame(res_list)\n",
    "\n",
    "marginal_y1y2_res = sample_marginal(n_x_samples = 1000, sample_ya = sampley_gt, sample_yb = generate_sample_y_t(0.1))\n",
    "marginal_y1y3_res = sample_marginal(n_x_samples = 1000, sample_ya = sampley_gt, sample_yb = generate_sample_y_t(0.8))\n",
    "\n",
    "print(f\"\"\"\n",
    "      marginal_y1y2_res: {marginal_y1y2_res.mean()}\n",
    "        marginal_y1y3_res: {marginal_y1y3_res.mean()}\n",
    "        \"\"\")\n",
    "\n",
    "print(wilcoxon(marginal_y1y2_res, marginal_y1y3_res))"
   ]
  },
  {
   "cell_type": "code",
   "execution_count": 51,
   "metadata": {},
   "outputs": [
    {
     "name": "stderr",
     "output_type": "stream",
     "text": [
      "100%|██████████| 1000/1000 [03:55<00:00,  4.24it/s]\n",
      "100%|██████████| 1000/1000 [04:34<00:00,  3.65it/s]\n",
      "100%|██████████| 1000/1000 [04:23<00:00,  3.79it/s]\n",
      "100%|██████████| 1000/1000 [04:12<00:00,  3.96it/s]\n",
      "100%|██████████| 1000/1000 [03:10<00:00,  5.26it/s]\n",
      "100%|██████████| 1000/1000 [02:09<00:00,  7.75it/s]\n",
      "100%|██████████| 1000/1000 [02:31<00:00,  6.60it/s]\n",
      "100%|██████████| 1000/1000 [02:02<00:00,  8.17it/s]\n",
      "100%|██████████| 1000/1000 [02:02<00:00,  8.15it/s]\n",
      "100%|██████████| 1000/1000 [02:03<00:00,  8.09it/s]\n",
      "100%|██████████| 10/10 [31:05<00:00, 186.58s/it]"
     ]
    },
    {
     "name": "stdout",
     "output_type": "stream",
     "text": [
      "[MMD    0.005661\n",
      "dtype: float64, MMD    0.005692\n",
      "dtype: float64, MMD    0.005545\n",
      "dtype: float64, MMD    0.00559\n",
      "dtype: float64, MMD    0.005683\n",
      "dtype: float64, MMD    0.005696\n",
      "dtype: float64, MMD    0.005593\n",
      "dtype: float64, MMD    0.005585\n",
      "dtype: float64, MMD    0.005537\n",
      "dtype: float64, MMD    0.005659\n",
      "dtype: float64]\n"
     ]
    },
    {
     "name": "stderr",
     "output_type": "stream",
     "text": [
      "\n"
     ]
    }
   ],
   "source": [
    "\n",
    "different_t_res = []\n",
    "for t in tqdm(torch.linspace(0, t_max, 10)):\n",
    "    marginal_y1yt_res = sample_marginal(n_x_samples = 1000, sample_ya = sampley_gt, sample_yb = generate_sample_y_t(t))\n",
    "    different_t_res.append(marginal_y1yt_res.mean())\n",
    "\n",
    "print(different_t_res)"
   ]
  },
  {
   "cell_type": "code",
   "execution_count": 52,
   "metadata": {},
   "outputs": [
    {
     "name": "stderr",
     "output_type": "stream",
     "text": [
      "100%|██████████| 1000/1000 [02:40<00:00,  6.22it/s]\n",
      "100%|██████████| 1000/1000 [02:36<00:00,  6.38it/s]"
     ]
    },
    {
     "name": "stdout",
     "output_type": "stream",
     "text": [
      "\n",
      "Posterior y1 y2: MMD    2.850188\n",
      "dtype: float64    \n",
      "Posterior y1 y3: MMD    1.624913\n",
      "dtype: float64\n",
      "      \n",
      "WilcoxonResult(statistic=array([1.]), pvalue=array([3.33585995e-165]))\n"
     ]
    },
    {
     "name": "stderr",
     "output_type": "stream",
     "text": [
      "\n"
     ]
    }
   ],
   "source": [
    "# check expected difference in the posteriors\n",
    "\n",
    "\n",
    "def sample_posterior(n_x_samples, sample_ya, sample_yb):\n",
    "    res_list = []\n",
    "    for i in tqdm(list(range(n_x_samples))):\n",
    "        x1 = samplex(N_samples=1)\n",
    "        x2 = x1\n",
    "        y1 = sample_ya(x1)\n",
    "        y2 = sample_yb(x2)\n",
    "        diff_mmd = compare_samples_mmd(y1, y2)\n",
    "\n",
    "        res_list.append(diff_mmd)\n",
    "\n",
    "    return pd.DataFrame(res_list)\n",
    "\n",
    "posterior_y1y2_res = sample_posterior(n_x_samples = 1000, sample_ya = sampley_gt, sample_yb = generate_sample_y_t(0.1))\n",
    "posterior_y1y3_res = sample_posterior(n_x_samples = 1000, sample_ya = sampley_gt, sample_yb = generate_sample_y_t(0.8))\n",
    "\n",
    "print(f\"\"\"\n",
    "Posterior y1 y2: {posterior_y1y2_res.mean()}    \n",
    "Posterior y1 y3: {posterior_y1y3_res.mean()}\n",
    "      \"\"\")\n",
    "\n",
    "print(wilcoxon(posterior_y1y2_res, posterior_y1y3_res))"
   ]
  },
  {
   "cell_type": "code",
   "execution_count": 53,
   "metadata": {},
   "outputs": [
    {
     "name": "stderr",
     "output_type": "stream",
     "text": [
      "100%|██████████| 1000/1000 [04:08<00:00,  4.02it/s]\n",
      "100%|██████████| 1000/1000 [03:41<00:00,  4.51it/s]\n",
      "100%|██████████| 1000/1000 [02:46<00:00,  6.01it/s]\n",
      "100%|██████████| 1000/1000 [03:22<00:00,  4.93it/s]\n",
      "100%|██████████| 1000/1000 [02:00<00:00,  8.27it/s]\n",
      "100%|██████████| 1000/1000 [02:03<00:00,  8.07it/s]\n",
      "100%|██████████| 1000/1000 [03:10<00:00,  5.25it/s]\n",
      "100%|██████████| 1000/1000 [03:20<00:00,  4.99it/s]\n",
      "100%|██████████| 1000/1000 [03:10<00:00,  5.26it/s]\n",
      "100%|██████████| 1000/1000 [03:37<00:00,  4.60it/s]\n",
      "100%|██████████| 10/10 [31:23<00:00, 188.33s/it]"
     ]
    },
    {
     "name": "stdout",
     "output_type": "stream",
     "text": [
      "[MMD    2.993758\n",
      "dtype: float64, MMD    2.809594\n",
      "dtype: float64, MMD    2.65092\n",
      "dtype: float64, MMD    2.484032\n",
      "dtype: float64, MMD    2.320952\n",
      "dtype: float64, MMD    2.141462\n",
      "dtype: float64, MMD    1.956068\n",
      "dtype: float64, MMD    1.707329\n",
      "dtype: float64, MMD    1.293886\n",
      "dtype: float64, MMD    0.005551\n",
      "dtype: float64]\n"
     ]
    },
    {
     "name": "stderr",
     "output_type": "stream",
     "text": [
      "\n"
     ]
    }
   ],
   "source": [
    "different_t_res = []\n",
    "for t in tqdm(torch.linspace(0, t_max, 10)):\n",
    "    posterior_y1yt_res = sample_posterior(n_x_samples = 1000, sample_ya = sampley_gt, sample_yb = generate_sample_y_t(t))\n",
    "    different_t_res.append(posterior_y1yt_res.mean())\n",
    "\n",
    "print(different_t_res)"
   ]
  },
  {
   "cell_type": "code",
   "execution_count": 54,
   "metadata": {},
   "outputs": [
    {
     "name": "stderr",
     "output_type": "stream",
     "text": [
      "100%|██████████| 1000/1000 [02:38<00:00,  6.31it/s]\n",
      "100%|██████████| 1000/1000 [03:58<00:00,  4.20it/s]"
     ]
    },
    {
     "name": "stdout",
     "output_type": "stream",
     "text": [
      "\n",
      "Joint y1 y2: MMD    0.044684\n",
      "dtype: float64\n",
      "Joint y1 y3: MMD    0.008151\n",
      "dtype: float64\n",
      "      \n",
      "WilcoxonResult(statistic=array([0.]), pvalue=array([3.3258404e-165]))\n"
     ]
    },
    {
     "name": "stderr",
     "output_type": "stream",
     "text": [
      "\n"
     ]
    }
   ],
   "source": [
    "def sample_joint(\n",
    "    n_x_samples = 1000,\n",
    "    sample_ya = sampley1,\n",
    "    sample_yb = sampley2\n",
    "):\n",
    "    res_list = []\n",
    "\n",
    "    for i in tqdm(list(range(n_x_samples))):\n",
    "        x1 = samplex(N_samples=N_samples)\n",
    "        x2 = samplex(N_samples=N_samples)\n",
    "\n",
    "        y1 = sample_ya(x1)\n",
    "        y2 = sample_yb(x2)\n",
    "\n",
    "        xy1 = torch.cat([x1, y1], dim=1)\n",
    "        xy2 = torch.cat([x2, y2], dim=1)\n",
    "\n",
    "        mmd = compare_samples_mmd(xy1, xy2)\n",
    "\n",
    "        res_list.append(mmd)\n",
    "\n",
    "    return pd.DataFrame(res_list)\n",
    "\n",
    "\n",
    "\n",
    "joint_y1y2_res = sample_joint(n_x_samples = 1000, sample_ya = sampley_gt, sample_yb = generate_sample_y_t(0.1))\n",
    "joint_y1y3_res = sample_joint(n_x_samples = 1000, sample_ya = sampley_gt, sample_yb = generate_sample_y_t(0.8))\n",
    "\n",
    "print(f\"\"\"\n",
    "Joint y1 y2: {joint_y1y2_res.mean()}\n",
    "Joint y1 y3: {joint_y1y3_res.mean()}\n",
    "      \"\"\")\n",
    "\n",
    "print(wilcoxon(joint_y1y2_res, joint_y1y3_res))"
   ]
  },
  {
   "cell_type": "code",
   "execution_count": 55,
   "metadata": {},
   "outputs": [
    {
     "name": "stderr",
     "output_type": "stream",
     "text": [
      "100%|██████████| 1000/1000 [03:23<00:00,  4.92it/s]\n",
      "100%|██████████| 1000/1000 [03:41<00:00,  4.51it/s]\n",
      "100%|██████████| 1000/1000 [02:29<00:00,  6.68it/s]\n",
      "100%|██████████| 1000/1000 [02:19<00:00,  7.16it/s]\n",
      "100%|██████████| 1000/1000 [03:34<00:00,  4.66it/s]\n",
      "100%|██████████| 1000/1000 [02:19<00:00,  7.16it/s]\n",
      "100%|██████████| 1000/1000 [02:17<00:00,  7.30it/s]\n",
      "100%|██████████| 1000/1000 [04:09<00:00,  4.01it/s]\n",
      "100%|██████████| 1000/1000 [03:19<00:00,  5.01it/s]\n",
      "100%|██████████| 1000/1000 [03:26<00:00,  4.85it/s]\n",
      "100%|██████████| 10/10 [31:00<00:00, 186.07s/it]"
     ]
    },
    {
     "name": "stdout",
     "output_type": "stream",
     "text": [
      "[MMD    0.052592\n",
      "dtype: float64, MMD    0.043865\n",
      "dtype: float64, MMD    0.036127\n",
      "dtype: float64, MMD    0.02898\n",
      "dtype: float64, MMD    0.022631\n",
      "dtype: float64, MMD    0.017106\n",
      "dtype: float64, MMD    0.012478\n",
      "dtype: float64, MMD    0.008892\n",
      "dtype: float64, MMD    0.00656\n",
      "dtype: float64, MMD    0.005581\n",
      "dtype: float64]\n"
     ]
    },
    {
     "name": "stderr",
     "output_type": "stream",
     "text": [
      "\n"
     ]
    }
   ],
   "source": [
    "different_t_res = []\n",
    "for t in tqdm(torch.linspace(0, t_max, 10)):\n",
    "    joint_y1yt_res = sample_joint(n_x_samples=1000, sample_ya=sampley_gt, sample_yb=generate_sample_y_t(t))\n",
    "    different_t_res.append(joint_y1yt_res.mean())\n",
    "\n",
    "print(different_t_res)"
   ]
  }
 ],
 "metadata": {
  "kernelspec": {
   "display_name": "Python 3",
   "language": "python",
   "name": "python3"
  },
  "language_info": {
   "codemirror_mode": {
    "name": "ipython",
    "version": 3
   },
   "file_extension": ".py",
   "mimetype": "text/x-python",
   "name": "python",
   "nbconvert_exporter": "python",
   "pygments_lexer": "ipython3",
   "version": "3.10.13"
  }
 },
 "nbformat": 4,
 "nbformat_minor": 2
}

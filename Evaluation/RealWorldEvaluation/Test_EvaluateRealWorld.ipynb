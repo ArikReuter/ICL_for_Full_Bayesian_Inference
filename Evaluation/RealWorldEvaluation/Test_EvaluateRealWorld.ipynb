{
 "cells": [
  {
   "cell_type": "code",
   "execution_count": 124,
   "metadata": {},
   "outputs": [
    {
     "name": "stdout",
     "output_type": "stream",
     "text": [
      "The autoreload extension is already loaded. To reload it, use:\n",
      "  %reload_ext autoreload\n"
     ]
    }
   ],
   "source": [
    "%load_ext autoreload\n",
    "%autoreload 2"
   ]
  },
  {
   "cell_type": "code",
   "execution_count": 103,
   "metadata": {},
   "outputs": [],
   "source": [
    "import torch \n",
    "from sklearn.datasets import load_diabetes\n",
    "from PFNExperiments.Evaluation.RealWorldEvaluation.PreprocessDataset import Preprocessor"
   ]
  },
  {
   "cell_type": "code",
   "execution_count": 54,
   "metadata": {},
   "outputs": [],
   "source": [
    "from PFNExperiments.Evaluation.RealWorldEvaluation.EvaluateRealWorld import EvaluateRealWorld\n",
    "\n",
    "from PFNExperiments.LinearRegression.GenerativeModels.LM_abstract import return_only_y, print_code\n",
    "\n",
    "from PFNExperiments.LinearRegression.ComparisonModels.Variational_InferenceAutoguide import Variational_InferenceAutoguide\n",
    "from PFNExperiments.LinearRegression.ComparisonModels.Hamiltionion_MC import Hamiltionian_MC\n",
    "\n",
    "from PFNExperiments.LinearRegression.ComparisonModels.AnalyticalSolutionsLM import PosteriorLM_IG\n",
    "from pyro.infer.autoguide import AutoDiagonalNormal, AutoMultivariateNormal, AutoLaplaceApproximation, AutoIAFNormal, AutoStructured"
   ]
  },
  {
   "cell_type": "code",
   "execution_count": 112,
   "metadata": {},
   "outputs": [
    {
     "name": "stdout",
     "output_type": "stream",
     "text": [
      "An error occured while preprocessing the dataset with id 361078. Skipping the dataset\n",
      "An error occured while preprocessing the dataset with id 361080. Skipping the dataset\n",
      "An error occured while preprocessing the dataset with id 361081. Skipping the dataset\n",
      "An error occured while preprocessing the dataset with id 361082. Skipping the dataset\n",
      "An error occured while preprocessing the dataset with id 361083. Skipping the dataset\n",
      "An error occured while preprocessing the dataset with id 361085. Skipping the dataset\n",
      "An error occured while preprocessing the dataset with id 361086. Skipping the dataset\n",
      "An error occured while preprocessing the dataset with id 361280. Skipping the dataset\n",
      "An error occured while preprocessing the dataset with id 361281. Skipping the dataset\n"
     ]
    }
   ],
   "source": [
    "from PFNExperiments.Evaluation.RealWorldEvaluation.PreprocessDataset import Preprocessor\n",
    "from PFNExperiments.Evaluation.RealWorldEvaluation.GetDataOpenML import GetDataOpenML\n",
    "getdata = GetDataOpenML(\n",
    "    preprocessor = Preprocessor(\n",
    "        N_datapoints = 100,\n",
    "        P_features = 10,\n",
    "        target_mean = 0.0,\n",
    "        target_var = 1.0\n",
    "    ),\n",
    "    save_path = \"C:/Users/arik_/Documents/Dokumente/Job_Clausthal/PFNs/Repository/PFNExperiments/Evaluation/RealWorldEvaluation/DatasetsOpenML/Tabular_benchmark_numerical_regression.pkl\",\n",
    "    benchmark_id = 336\n",
    ")\n",
    "datasets = getdata.get_data()"
   ]
  },
  {
   "cell_type": "code",
   "execution_count": 113,
   "metadata": {},
   "outputs": [],
   "source": [
    "from PFNExperiments.LinearRegression.GenerativeModels.GenerateDataLM_Examples import make_lm_program_ig, make_lm_program_ig_batched\n",
    "\n",
    "make_lm_program = make_lm_program_ig\n",
    "make_lm_program_batched = make_lm_program_ig_batched"
   ]
  },
  {
   "cell_type": "code",
   "execution_count": 114,
   "metadata": {},
   "outputs": [],
   "source": [
    "a = 5.0\n",
    "b = 2.0\n",
    "tau = 1.0\n",
    "\n",
    "N_SAMPLES_PER_MODEL = 100\n",
    "\n",
    "pprogram1 = make_lm_program_ig(tau = tau, a = a, b = b)\n",
    "\n",
    "pprogram1_y = return_only_y(pprogram1)\n",
    "\n",
    "analytical_solution = PosteriorLM_IG(\n",
    "    pprogram_dict= {\n",
    "        \"tau\": tau,\n",
    "        \"a\": a,\n",
    "        \"b\": b\n",
    "    },\n",
    "    n_samples=N_SAMPLES_PER_MODEL\n",
    ")\n",
    "\n",
    "vi_diag = Variational_InferenceAutoguide(\n",
    "    pprogram=pprogram1_y,\n",
    "    make_guide_fun = AutoDiagonalNormal,\n",
    "    n_steps = 2000,\n",
    "    n_samples=N_SAMPLES_PER_MODEL,\n",
    "    lr = 1e-2\n",
    ")\n",
    "\n",
    "vi_multivariate_normal = Variational_InferenceAutoguide(\n",
    "    pprogram=pprogram1_y,\n",
    "    make_guide_fun = AutoMultivariateNormal,\n",
    "    n_steps = 2000,\n",
    "    n_samples=N_SAMPLES_PER_MODEL,\n",
    "    lr = 1e-2\n",
    ")\n",
    "\n",
    "\n",
    "hmc_sampler = Hamiltionian_MC(pprogram = pprogram1_y, n_warmup=500, n_samples=N_SAMPLES_PER_MODEL)"
   ]
  },
  {
   "cell_type": "code",
   "execution_count": 120,
   "metadata": {},
   "outputs": [],
   "source": [
    "eval = EvaluateRealWorld(\n",
    "    posterior_model = analytical_solution,\n",
    "    evaluation_datasets = datasets,\n",
    "    comparison_models = [vi_diag, \n",
    "                         vi_multivariate_normal, \n",
    "                         #hmc_sampler\n",
    "                         ],\n",
    "    n_evaluation_cases = len(datasets)\n",
    ")"
   ]
  },
  {
   "cell_type": "code",
   "execution_count": 121,
   "metadata": {},
   "outputs": [
    {
     "name": "stderr",
     "output_type": "stream",
     "text": [
      "Sampling posterior: 100%|██████████| 10/10 [00:00<00:00, 116.24it/s]\n",
      "Sampling posterior:   0%|          | 0/10 [00:00<?, ?it/s]"
     ]
    },
    {
     "name": "stdout",
     "output_type": "stream",
     "text": [
      "...................."
     ]
    },
    {
     "name": "stderr",
     "output_type": "stream",
     "text": [
      "Sampling posterior:  10%|█         | 1/10 [00:11<01:43, 11.45s/it]"
     ]
    },
    {
     "name": "stdout",
     "output_type": "stream",
     "text": [
      "\n",
      "...................."
     ]
    },
    {
     "name": "stderr",
     "output_type": "stream",
     "text": [
      "Sampling posterior:  20%|██        | 2/10 [00:24<01:39, 12.42s/it]"
     ]
    },
    {
     "name": "stdout",
     "output_type": "stream",
     "text": [
      "\n",
      "...................."
     ]
    },
    {
     "name": "stderr",
     "output_type": "stream",
     "text": [
      "Sampling posterior:  30%|███       | 3/10 [00:37<01:28, 12.59s/it]"
     ]
    },
    {
     "name": "stdout",
     "output_type": "stream",
     "text": [
      "\n",
      "...................."
     ]
    },
    {
     "name": "stderr",
     "output_type": "stream",
     "text": [
      "Sampling posterior:  40%|████      | 4/10 [00:50<01:15, 12.66s/it]"
     ]
    },
    {
     "name": "stdout",
     "output_type": "stream",
     "text": [
      "\n",
      "...................."
     ]
    },
    {
     "name": "stderr",
     "output_type": "stream",
     "text": [
      "Sampling posterior:  50%|█████     | 5/10 [01:02<01:03, 12.67s/it]"
     ]
    },
    {
     "name": "stdout",
     "output_type": "stream",
     "text": [
      "\n",
      "...................."
     ]
    },
    {
     "name": "stderr",
     "output_type": "stream",
     "text": [
      "Sampling posterior:  60%|██████    | 6/10 [01:15<00:50, 12.71s/it]"
     ]
    },
    {
     "name": "stdout",
     "output_type": "stream",
     "text": [
      "\n",
      "...................."
     ]
    },
    {
     "name": "stderr",
     "output_type": "stream",
     "text": [
      "Sampling posterior:  70%|███████   | 7/10 [01:28<00:38, 12.73s/it]"
     ]
    },
    {
     "name": "stdout",
     "output_type": "stream",
     "text": [
      "\n",
      "...................."
     ]
    },
    {
     "name": "stderr",
     "output_type": "stream",
     "text": [
      "Sampling posterior:  80%|████████  | 8/10 [01:41<00:25, 12.76s/it]"
     ]
    },
    {
     "name": "stdout",
     "output_type": "stream",
     "text": [
      "\n",
      "...................."
     ]
    },
    {
     "name": "stderr",
     "output_type": "stream",
     "text": [
      "Sampling posterior:  90%|█████████ | 9/10 [01:54<00:12, 12.95s/it]"
     ]
    },
    {
     "name": "stdout",
     "output_type": "stream",
     "text": [
      "\n",
      "...................."
     ]
    },
    {
     "name": "stderr",
     "output_type": "stream",
     "text": [
      "Sampling posterior: 100%|██████████| 10/10 [02:08<00:00, 12.81s/it]\n"
     ]
    },
    {
     "name": "stdout",
     "output_type": "stream",
     "text": [
      "\n"
     ]
    },
    {
     "name": "stderr",
     "output_type": "stream",
     "text": [
      "Sampling posterior:   0%|          | 0/10 [00:00<?, ?it/s]"
     ]
    },
    {
     "name": "stdout",
     "output_type": "stream",
     "text": [
      "...................."
     ]
    },
    {
     "name": "stderr",
     "output_type": "stream",
     "text": [
      "Sampling posterior:  10%|█         | 1/10 [00:15<02:16, 15.20s/it]"
     ]
    },
    {
     "name": "stdout",
     "output_type": "stream",
     "text": [
      "\n",
      "...................."
     ]
    },
    {
     "name": "stderr",
     "output_type": "stream",
     "text": [
      "Sampling posterior:  20%|██        | 2/10 [00:30<02:02, 15.27s/it]"
     ]
    },
    {
     "name": "stdout",
     "output_type": "stream",
     "text": [
      "\n",
      "...................."
     ]
    },
    {
     "name": "stderr",
     "output_type": "stream",
     "text": [
      "Sampling posterior:  30%|███       | 3/10 [00:45<01:45, 15.00s/it]"
     ]
    },
    {
     "name": "stdout",
     "output_type": "stream",
     "text": [
      "\n",
      "...................."
     ]
    },
    {
     "name": "stderr",
     "output_type": "stream",
     "text": [
      "Sampling posterior:  40%|████      | 4/10 [01:00<01:31, 15.29s/it]"
     ]
    },
    {
     "name": "stdout",
     "output_type": "stream",
     "text": [
      "\n",
      "...................."
     ]
    },
    {
     "name": "stderr",
     "output_type": "stream",
     "text": [
      "Sampling posterior:  50%|█████     | 5/10 [01:15<01:15, 15.09s/it]"
     ]
    },
    {
     "name": "stdout",
     "output_type": "stream",
     "text": [
      "\n",
      "...................."
     ]
    },
    {
     "name": "stderr",
     "output_type": "stream",
     "text": [
      "Sampling posterior:  60%|██████    | 6/10 [01:30<01:00, 15.06s/it]"
     ]
    },
    {
     "name": "stdout",
     "output_type": "stream",
     "text": [
      "\n",
      "...................."
     ]
    },
    {
     "name": "stderr",
     "output_type": "stream",
     "text": [
      "Sampling posterior:  70%|███████   | 7/10 [01:45<00:44, 14.93s/it]"
     ]
    },
    {
     "name": "stdout",
     "output_type": "stream",
     "text": [
      "\n",
      "...................."
     ]
    },
    {
     "name": "stderr",
     "output_type": "stream",
     "text": [
      "Sampling posterior:  80%|████████  | 8/10 [02:00<00:29, 14.92s/it]"
     ]
    },
    {
     "name": "stdout",
     "output_type": "stream",
     "text": [
      "\n",
      "...................."
     ]
    },
    {
     "name": "stderr",
     "output_type": "stream",
     "text": [
      "Sampling posterior:  90%|█████████ | 9/10 [02:14<00:14, 14.84s/it]"
     ]
    },
    {
     "name": "stdout",
     "output_type": "stream",
     "text": [
      "\n",
      "...................."
     ]
    },
    {
     "name": "stderr",
     "output_type": "stream",
     "text": [
      "Sampling posterior: 100%|██████████| 10/10 [02:29<00:00, 14.95s/it]"
     ]
    },
    {
     "name": "stdout",
     "output_type": "stream",
     "text": [
      "\n"
     ]
    },
    {
     "name": "stderr",
     "output_type": "stream",
     "text": [
      "\n"
     ]
    },
    {
     "name": "stdout",
     "output_type": "stream",
     "text": [
      "Comparison to ground truth:\n",
      "\n",
      "Summarized results:\n",
      "\n",
      "Comparison among models:\n",
      "\n",
      "Summarized results:\n"
     ]
    },
    {
     "data": {
      "text/html": [
       "<div>\n",
       "<style scoped>\n",
       "    .dataframe tbody tr th:only-of-type {\n",
       "        vertical-align: middle;\n",
       "    }\n",
       "\n",
       "    .dataframe tbody tr th {\n",
       "        vertical-align: top;\n",
       "    }\n",
       "\n",
       "    .dataframe thead th {\n",
       "        text-align: right;\n",
       "    }\n",
       "</style>\n",
       "<table border=\"1\" class=\"dataframe\">\n",
       "  <thead>\n",
       "    <tr style=\"text-align: right;\">\n",
       "      <th></th>\n",
       "      <th>Model 1</th>\n",
       "      <th>Model 2</th>\n",
       "      <th>Mean_Wasserstein_distance with metric euclidean</th>\n",
       "      <th>Mean_MMD</th>\n",
       "      <th>Mean_cst_roc_auc</th>\n",
       "      <th>Std_Wasserstein_distance with metric euclidean</th>\n",
       "      <th>Std_MMD</th>\n",
       "      <th>Std_cst_roc_auc</th>\n",
       "    </tr>\n",
       "  </thead>\n",
       "  <tbody>\n",
       "    <tr>\n",
       "      <th>0</th>\n",
       "      <td>&lt;PFNExperiments.LinearRegression.ComparisonMod...</td>\n",
       "      <td>Variational Inference with guide: AutoDiagonal...</td>\n",
       "      <td>2.289042</td>\n",
       "      <td>0.538941</td>\n",
       "      <td>0.7970</td>\n",
       "      <td>0.393519</td>\n",
       "      <td>0.600067</td>\n",
       "      <td>0.189285</td>\n",
       "    </tr>\n",
       "    <tr>\n",
       "      <th>1</th>\n",
       "      <td>&lt;PFNExperiments.LinearRegression.ComparisonMod...</td>\n",
       "      <td>Variational Inference with guide: AutoMultivar...</td>\n",
       "      <td>2.276015</td>\n",
       "      <td>0.129080</td>\n",
       "      <td>0.6015</td>\n",
       "      <td>0.428826</td>\n",
       "      <td>0.099192</td>\n",
       "      <td>0.092498</td>\n",
       "    </tr>\n",
       "    <tr>\n",
       "      <th>2</th>\n",
       "      <td>Variational Inference with guide: AutoDiagonal...</td>\n",
       "      <td>Variational Inference with guide: AutoMultivar...</td>\n",
       "      <td>2.146727</td>\n",
       "      <td>0.439870</td>\n",
       "      <td>0.7705</td>\n",
       "      <td>0.308579</td>\n",
       "      <td>0.564845</td>\n",
       "      <td>0.181788</td>\n",
       "    </tr>\n",
       "  </tbody>\n",
       "</table>\n",
       "</div>"
      ],
      "text/plain": [
       "                                             Model 1  \\\n",
       "0  <PFNExperiments.LinearRegression.ComparisonMod...   \n",
       "1  <PFNExperiments.LinearRegression.ComparisonMod...   \n",
       "2  Variational Inference with guide: AutoDiagonal...   \n",
       "\n",
       "                                             Model 2  \\\n",
       "0  Variational Inference with guide: AutoDiagonal...   \n",
       "1  Variational Inference with guide: AutoMultivar...   \n",
       "2  Variational Inference with guide: AutoMultivar...   \n",
       "\n",
       "   Mean_Wasserstein_distance with metric euclidean  Mean_MMD  \\\n",
       "0                                         2.289042  0.538941   \n",
       "1                                         2.276015  0.129080   \n",
       "2                                         2.146727  0.439870   \n",
       "\n",
       "   Mean_cst_roc_auc  Std_Wasserstein_distance with metric euclidean   Std_MMD  \\\n",
       "0            0.7970                                        0.393519  0.600067   \n",
       "1            0.6015                                        0.428826  0.099192   \n",
       "2            0.7705                                        0.308579  0.564845   \n",
       "\n",
       "   Std_cst_roc_auc  \n",
       "0         0.189285  \n",
       "1         0.092498  \n",
       "2         0.181788  "
      ]
     },
     "metadata": {},
     "output_type": "display_data"
    },
    {
     "name": "stdout",
     "output_type": "stream",
     "text": [
      "P-values:\n"
     ]
    },
    {
     "data": {
      "text/html": [
       "<div>\n",
       "<style scoped>\n",
       "    .dataframe tbody tr th:only-of-type {\n",
       "        vertical-align: middle;\n",
       "    }\n",
       "\n",
       "    .dataframe tbody tr th {\n",
       "        vertical-align: top;\n",
       "    }\n",
       "\n",
       "    .dataframe thead th {\n",
       "        text-align: right;\n",
       "    }\n",
       "</style>\n",
       "<table border=\"1\" class=\"dataframe\">\n",
       "  <thead>\n",
       "    <tr style=\"text-align: right;\">\n",
       "      <th></th>\n",
       "      <th>Pair 1: Model A</th>\n",
       "      <th>Pair 1: Model B</th>\n",
       "      <th>Pair 2: Model A</th>\n",
       "      <th>Pair 2: Model B</th>\n",
       "      <th>Wasserstein_distance with metric euclidean_p-value</th>\n",
       "      <th>MMD_p-value</th>\n",
       "      <th>cst_roc_auc_p-value</th>\n",
       "    </tr>\n",
       "  </thead>\n",
       "  <tbody>\n",
       "    <tr>\n",
       "      <th>0</th>\n",
       "      <td>&lt;PFNExperiments.LinearRegression.ComparisonMod...</td>\n",
       "      <td>Variational Inference with guide: AutoDiagonal...</td>\n",
       "      <td>&lt;PFNExperiments.LinearRegression.ComparisonMod...</td>\n",
       "      <td>Variational Inference with guide: AutoMultivar...</td>\n",
       "      <td>0.909722</td>\n",
       "      <td>0.031209</td>\n",
       "      <td>0.025692</td>\n",
       "    </tr>\n",
       "    <tr>\n",
       "      <th>1</th>\n",
       "      <td>&lt;PFNExperiments.LinearRegression.ComparisonMod...</td>\n",
       "      <td>Variational Inference with guide: AutoDiagonal...</td>\n",
       "      <td>Variational Inference with guide: AutoDiagonal...</td>\n",
       "      <td>Variational Inference with guide: AutoMultivar...</td>\n",
       "      <td>0.570750</td>\n",
       "      <td>0.344704</td>\n",
       "      <td>0.623046</td>\n",
       "    </tr>\n",
       "    <tr>\n",
       "      <th>2</th>\n",
       "      <td>&lt;PFNExperiments.LinearRegression.ComparisonMod...</td>\n",
       "      <td>Variational Inference with guide: AutoMultivar...</td>\n",
       "      <td>Variational Inference with guide: AutoDiagonal...</td>\n",
       "      <td>Variational Inference with guide: AutoMultivar...</td>\n",
       "      <td>0.677585</td>\n",
       "      <td>0.161972</td>\n",
       "      <td>0.045155</td>\n",
       "    </tr>\n",
       "  </tbody>\n",
       "</table>\n",
       "</div>"
      ],
      "text/plain": [
       "                                     Pair 1: Model A  \\\n",
       "0  <PFNExperiments.LinearRegression.ComparisonMod...   \n",
       "1  <PFNExperiments.LinearRegression.ComparisonMod...   \n",
       "2  <PFNExperiments.LinearRegression.ComparisonMod...   \n",
       "\n",
       "                                     Pair 1: Model B  \\\n",
       "0  Variational Inference with guide: AutoDiagonal...   \n",
       "1  Variational Inference with guide: AutoDiagonal...   \n",
       "2  Variational Inference with guide: AutoMultivar...   \n",
       "\n",
       "                                     Pair 2: Model A  \\\n",
       "0  <PFNExperiments.LinearRegression.ComparisonMod...   \n",
       "1  Variational Inference with guide: AutoDiagonal...   \n",
       "2  Variational Inference with guide: AutoDiagonal...   \n",
       "\n",
       "                                     Pair 2: Model B  \\\n",
       "0  Variational Inference with guide: AutoMultivar...   \n",
       "1  Variational Inference with guide: AutoMultivar...   \n",
       "2  Variational Inference with guide: AutoMultivar...   \n",
       "\n",
       "   Wasserstein_distance with metric euclidean_p-value  MMD_p-value  \\\n",
       "0                                           0.909722      0.031209   \n",
       "1                                           0.570750      0.344704   \n",
       "2                                           0.677585      0.161972   \n",
       "\n",
       "   cst_roc_auc_p-value  \n",
       "0             0.025692  \n",
       "1             0.623046  \n",
       "2             0.045155  "
      ]
     },
     "metadata": {},
     "output_type": "display_data"
    },
    {
     "data": {
      "text/plain": [
       "{'summarized_results': {'model_comparison_among_each_other':                                              Model 1  \\\n",
       "  0  <PFNExperiments.LinearRegression.ComparisonMod...   \n",
       "  1  <PFNExperiments.LinearRegression.ComparisonMod...   \n",
       "  2  Variational Inference with guide: AutoDiagonal...   \n",
       "  \n",
       "                                               Model 2  \\\n",
       "  0  Variational Inference with guide: AutoDiagonal...   \n",
       "  1  Variational Inference with guide: AutoMultivar...   \n",
       "  2  Variational Inference with guide: AutoMultivar...   \n",
       "  \n",
       "     Mean_Wasserstein_distance with metric euclidean  Mean_MMD  \\\n",
       "  0                                         2.289042  0.538941   \n",
       "  1                                         2.276015  0.129080   \n",
       "  2                                         2.146727  0.439870   \n",
       "  \n",
       "     Mean_cst_roc_auc  Std_Wasserstein_distance with metric euclidean   Std_MMD  \\\n",
       "  0            0.7970                                        0.393519  0.600067   \n",
       "  1            0.6015                                        0.428826  0.099192   \n",
       "  2            0.7705                                        0.308579  0.564845   \n",
       "  \n",
       "     Std_cst_roc_auc  \n",
       "  0         0.189285  \n",
       "  1         0.092498  \n",
       "  2         0.181788  },\n",
       " 'test_results': {'model_comparison_among_each_other':                                      Pair 1: Model A  \\\n",
       "  0  <PFNExperiments.LinearRegression.ComparisonMod...   \n",
       "  1  <PFNExperiments.LinearRegression.ComparisonMod...   \n",
       "  2  <PFNExperiments.LinearRegression.ComparisonMod...   \n",
       "  \n",
       "                                       Pair 1: Model B  \\\n",
       "  0  Variational Inference with guide: AutoDiagonal...   \n",
       "  1  Variational Inference with guide: AutoDiagonal...   \n",
       "  2  Variational Inference with guide: AutoMultivar...   \n",
       "  \n",
       "                                       Pair 2: Model A  \\\n",
       "  0  <PFNExperiments.LinearRegression.ComparisonMod...   \n",
       "  1  Variational Inference with guide: AutoDiagonal...   \n",
       "  2  Variational Inference with guide: AutoDiagonal...   \n",
       "  \n",
       "                                       Pair 2: Model B  \\\n",
       "  0  Variational Inference with guide: AutoMultivar...   \n",
       "  1  Variational Inference with guide: AutoMultivar...   \n",
       "  2  Variational Inference with guide: AutoMultivar...   \n",
       "  \n",
       "     Wasserstein_distance with metric euclidean_p-value  MMD_p-value  \\\n",
       "  0                                           0.909722      0.031209   \n",
       "  1                                           0.570750      0.344704   \n",
       "  2                                           0.677585      0.161972   \n",
       "  \n",
       "     cst_roc_auc_p-value  \n",
       "  0             0.025692  \n",
       "  1             0.623046  \n",
       "  2             0.045155  },\n",
       " 'res_df': {'model_comparison_among_each_other': {('<PFNExperiments.LinearRegression.ComparisonModels.AnalyticalSolutionsLM.PosteriorLM_IG object at 0x000001738E608040>',\n",
       "    'Variational Inference with guide: AutoDiagonalNormal()'):    Wasserstein_distance with metric euclidean       MMD  cst_roc_auc\n",
       "   0                                    2.302575  0.113118        0.585\n",
       "   1                                    1.722306  0.222168        0.875\n",
       "   2                                    2.296281  1.603372        0.990\n",
       "   3                                    2.339893  0.098612        0.605\n",
       "   4                                    2.238865  1.602585        0.990\n",
       "   5                                    3.195601  0.250407        0.755\n",
       "   6                                    2.565974  0.051715        0.475\n",
       "   7                                    2.035531  0.291343        0.780\n",
       "   8                                    2.219957  0.337417        0.920\n",
       "   9                                    1.973435  0.818673        0.995,\n",
       "   ('<PFNExperiments.LinearRegression.ComparisonModels.AnalyticalSolutionsLM.PosteriorLM_IG object at 0x000001738E608040>',\n",
       "    'Variational Inference with guide: AutoMultivariateNormal()'):    Wasserstein_distance with metric euclidean       MMD  cst_roc_auc\n",
       "   0                                    2.473024  0.092633        0.555\n",
       "   1                                    1.746951  0.057868        0.545\n",
       "   2                                    2.033247  0.089031        0.565\n",
       "   3                                    2.273264  0.077624        0.545\n",
       "   4                                    1.981360  0.074490        0.565\n",
       "   5                                    3.201612  0.138448        0.615\n",
       "   6                                    2.529934  0.061546        0.480\n",
       "   7                                    2.168295  0.204862        0.675\n",
       "   8                                    2.521061  0.382515        0.805\n",
       "   9                                    1.831401  0.111780        0.665,\n",
       "   ('Variational Inference with guide: AutoDiagonalNormal()',\n",
       "    'Variational Inference with guide: AutoMultivariateNormal()'):    Wasserstein_distance with metric euclidean       MMD  cst_roc_auc\n",
       "   0                                    2.269353  0.124853        0.635\n",
       "   1                                    1.662379  0.200268        0.895\n",
       "   2                                    1.982775  1.428373        0.980\n",
       "   3                                    2.405141  0.083192        0.630\n",
       "   4                                    2.035323  1.487930        0.975\n",
       "   5                                    2.594940  0.085463        0.550\n",
       "   6                                    2.474548  0.062467        0.530\n",
       "   7                                    2.015830  0.154980        0.815\n",
       "   8                                    2.278339  0.105479        0.710\n",
       "   9                                    1.748639  0.665697        0.985}}}"
      ]
     },
     "execution_count": 121,
     "metadata": {},
     "output_type": "execute_result"
    }
   ],
   "source": [
    "eval.run_evaluation()"
   ]
  },
  {
   "cell_type": "code",
   "execution_count": 123,
   "metadata": {},
   "outputs": [
    {
     "ename": "TypeError",
     "evalue": "EvaluateRealWorld.plot_results() got an unexpected keyword argument 'max_number_plots'",
     "output_type": "error",
     "traceback": [
      "\u001b[1;31m---------------------------------------------------------------------------\u001b[0m",
      "\u001b[1;31mTypeError\u001b[0m                                 Traceback (most recent call last)",
      "Cell \u001b[1;32mIn[123], line 1\u001b[0m\n\u001b[1;32m----> 1\u001b[0m \u001b[38;5;28;43meval\u001b[39;49m\u001b[38;5;241;43m.\u001b[39;49m\u001b[43mplot_results\u001b[49m\u001b[43m(\u001b[49m\u001b[43mmax_number_plots\u001b[49m\u001b[43m \u001b[49m\u001b[38;5;241;43m=\u001b[39;49m\u001b[43m \u001b[49m\u001b[38;5;241;43m10\u001b[39;49m\u001b[43m)\u001b[49m\n",
      "\u001b[1;31mTypeError\u001b[0m: EvaluateRealWorld.plot_results() got an unexpected keyword argument 'max_number_plots'"
     ]
    }
   ],
   "source": [
    "eval.plot_results()"
   ]
  },
  {
   "cell_type": "code",
   "execution_count": null,
   "metadata": {},
   "outputs": [],
   "source": []
  }
 ],
 "metadata": {
  "kernelspec": {
   "display_name": "Python 3",
   "language": "python",
   "name": "python3"
  },
  "language_info": {
   "codemirror_mode": {
    "name": "ipython",
    "version": 3
   },
   "file_extension": ".py",
   "mimetype": "text/x-python",
   "name": "python",
   "nbconvert_exporter": "python",
   "pygments_lexer": "ipython3",
   "version": "3.10.13"
  }
 },
 "nbformat": 4,
 "nbformat_minor": 2
}

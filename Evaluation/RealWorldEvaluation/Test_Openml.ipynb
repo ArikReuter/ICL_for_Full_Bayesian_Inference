{
 "cells": [
  {
   "cell_type": "code",
   "execution_count": 1,
   "metadata": {},
   "outputs": [],
   "source": [
    "%load_ext autoreload\n",
    "%autoreload 2"
   ]
  },
  {
   "cell_type": "code",
   "execution_count": 2,
   "metadata": {},
   "outputs": [],
   "source": [
    "from PFNExperiments.Evaluation.RealWorldEvaluation.PreprocessDataset import Preprocessor\n",
    "from PFNExperiments.Evaluation.RealWorldEvaluation.GetDataOpenML import GetDataOpenML"
   ]
  },
  {
   "cell_type": "code",
   "execution_count": 9,
   "metadata": {},
   "outputs": [],
   "source": [
    "getdata = GetDataOpenML(\n",
    "    preprocessor = Preprocessor(\n",
    "        N_datapoints = 50,\n",
    "        P_features = 5,\n",
    "        target_mean = 0.0,\n",
    "        target_var = 1.0\n",
    "    ),\n",
    "    save_path = \"C:/Users/arik_/Documents/Dokumente/Job_Clausthal/PFNs/Repository/PFNExperiments/Evaluation/RealWorldEvaluation/DatasetsOpenML/Tabular_benchmark_numerical_regression.pkl\",\n",
    "    benchmark_id = 336\n",
    ")"
   ]
  },
  {
   "cell_type": "code",
   "execution_count": 10,
   "metadata": {},
   "outputs": [
    {
     "name": "stdout",
     "output_type": "stream",
     "text": [
      "An error occured while preprocessing the dataset with id 361086. Skipping the dataset\n"
     ]
    }
   ],
   "source": [
    "dataset = getdata.get_data()"
   ]
  },
  {
   "cell_type": "code",
   "execution_count": 11,
   "metadata": {},
   "outputs": [],
   "source": [
    "n_diff_values = [d[\"n_diff_values\"] for d in dataset]"
   ]
  },
  {
   "cell_type": "code",
   "execution_count": 13,
   "metadata": {},
   "outputs": [],
   "source": [
    "n_diff_y_values = [len(d[\"y\"].unique()) for d in dataset]"
   ]
  },
  {
   "cell_type": "code",
   "execution_count": 14,
   "metadata": {},
   "outputs": [
    {
     "data": {
      "text/plain": [
       "[28, 6, 15, 6, 13, 48, 41, 50, 50, 48, 35, 48, 50, 47, 47, 49, 13, 45]"
      ]
     },
     "execution_count": 14,
     "metadata": {},
     "output_type": "execute_result"
    }
   ],
   "source": [
    "n_diff_y_values"
   ]
  },
  {
   "cell_type": "code",
   "execution_count": 15,
   "metadata": {},
   "outputs": [],
   "source": [
    "import torch\n",
    "\n",
    "n_diff_vals_cat = torch.cat(n_diff_values)"
   ]
  },
  {
   "cell_type": "code",
   "execution_count": 16,
   "metadata": {},
   "outputs": [
    {
     "data": {
      "text/plain": [
       "(array([ 1.,  0.,  2.,  0.,  0.,  0.,  0.,  0.,  0.,  0.,  1.,  0.,  0.,\n",
       "         5.,  0.,  1.,  0.,  0.,  0.,  0.,  0.,  1.,  0.,  1.,  0.,  0.,\n",
       "         2.,  0.,  1.,  0.,  0.,  2.,  0.,  0.,  2.,  0.,  1.,  0.,  0.,\n",
       "         0.,  0.,  0.,  2.,  0.,  4.,  0.,  0.,  4.,  0.,  0.,  1.,  0.,\n",
       "         2.,  0.,  0.,  2.,  0.,  3.,  0.,  0.,  0.,  0.,  0.,  1.,  0.,\n",
       "         3.,  0.,  0.,  2.,  0.,  0.,  1.,  0.,  1.,  0.,  0.,  1.,  0.,\n",
       "         4.,  0.,  0.,  4.,  0.,  0.,  2.,  0.,  1.,  0.,  0.,  6.,  0.,\n",
       "         0.,  6.,  0.,  1.,  0.,  0.,  3.,  0., 26.]),\n",
       " array([12.  , 12.38, 12.76, 13.14, 13.52, 13.9 , 14.28, 14.66, 15.04,\n",
       "        15.42, 15.8 , 16.18, 16.56, 16.94, 17.32, 17.7 , 18.08, 18.46,\n",
       "        18.84, 19.22, 19.6 , 19.98, 20.36, 20.74, 21.12, 21.5 , 21.88,\n",
       "        22.26, 22.64, 23.02, 23.4 , 23.78, 24.16, 24.54, 24.92, 25.3 ,\n",
       "        25.68, 26.06, 26.44, 26.82, 27.2 , 27.58, 27.96, 28.34, 28.72,\n",
       "        29.1 , 29.48, 29.86, 30.24, 30.62, 31.  , 31.38, 31.76, 32.14,\n",
       "        32.52, 32.9 , 33.28, 33.66, 34.04, 34.42, 34.8 , 35.18, 35.56,\n",
       "        35.94, 36.32, 36.7 , 37.08, 37.46, 37.84, 38.22, 38.6 , 38.98,\n",
       "        39.36, 39.74, 40.12, 40.5 , 40.88, 41.26, 41.64, 42.02, 42.4 ,\n",
       "        42.78, 43.16, 43.54, 43.92, 44.3 , 44.68, 45.06, 45.44, 45.82,\n",
       "        46.2 , 46.58, 46.96, 47.34, 47.72, 48.1 , 48.48, 48.86, 49.24,\n",
       "        49.62, 50.  ]),\n",
       " <BarContainer object of 100 artists>)"
      ]
     },
     "execution_count": 16,
     "metadata": {},
     "output_type": "execute_result"
    },
    {
     "data": {
      "image/png": "[encoded data removed]",
      "text/plain": [
       "<Figure size 640x480 with 1 Axes>"
      ]
     },
     "metadata": {},
     "output_type": "display_data"
    }
   ],
   "source": [
    "import matplotlib.pyplot as plt\n",
    "\n",
    "plt.hist(n_diff_vals_cat, bins = 100)"
   ]
  },
  {
   "cell_type": "code",
   "execution_count": 17,
   "metadata": {},
   "outputs": [
    {
     "data": {
      "text/plain": [
       "tensor([50, 50, 50, 50, 49, 48, 47, 47, 43, 33, 41, 24, 24, 20, 18, 17, 17, 16,\n",
       "        13, 13, 50, 38, 34, 32, 30, 29, 25, 17, 17, 12, 44, 42, 42, 36, 34, 32,\n",
       "        30, 29, 28, 28, 46, 43, 42, 39, 34, 31, 29, 25, 23, 17, 47, 46, 46, 45,\n",
       "        43, 43, 42, 40, 38, 30, 50, 49, 47, 47, 47, 46, 44, 37, 26, 21, 50, 50,\n",
       "        50, 50, 50, 50, 50, 50, 49, 46, 50, 50, 50, 50, 50, 50, 50, 50, 50, 50,\n",
       "        50, 50, 46, 37, 37, 33, 30, 29, 22, 22])"
      ]
     },
     "execution_count": 17,
     "metadata": {},
     "output_type": "execute_result"
    }
   ],
   "source": [
    "n_diff_vals_cat"
   ]
  }
 ],
 "metadata": {
  "kernelspec": {
   "display_name": "Python 3",
   "language": "python",
   "name": "python3"
  },
  "language_info": {
   "codemirror_mode": {
    "name": "ipython",
    "version": 3
   },
   "file_extension": ".py",
   "mimetype": "text/x-python",
   "name": "python",
   "nbconvert_exporter": "python",
   "pygments_lexer": "ipython3",
   "version": "3.10.13"
  }
 },
 "nbformat": 4,
 "nbformat_minor": 2
}

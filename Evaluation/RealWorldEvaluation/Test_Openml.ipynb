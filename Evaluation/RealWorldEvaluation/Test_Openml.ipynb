{
 "cells": [
  {
   "cell_type": "code",
   "execution_count": 1,
   "metadata": {},
   "outputs": [],
   "source": [
    "%load_ext autoreload\n",
    "%autoreload 2"
   ]
  },
  {
   "cell_type": "code",
   "execution_count": 2,
   "metadata": {},
   "outputs": [
    {
     "ename": "TypeError",
     "evalue": "Preprocessor.__init__() missing 2 required positional arguments: 'N_datapoints' and 'P_features'",
     "output_type": "error",
     "traceback": [
      "\u001b[1;31m---------------------------------------------------------------------------\u001b[0m",
      "\u001b[1;31mTypeError\u001b[0m                                 Traceback (most recent call last)",
      "Cell \u001b[1;32mIn[2], line 2\u001b[0m\n\u001b[0;32m      1\u001b[0m \u001b[38;5;28;01mfrom\u001b[39;00m \u001b[38;5;21;01mPFNExperiments\u001b[39;00m\u001b[38;5;21;01m.\u001b[39;00m\u001b[38;5;21;01mEvaluation\u001b[39;00m\u001b[38;5;21;01m.\u001b[39;00m\u001b[38;5;21;01mRealWorldEvaluation\u001b[39;00m\u001b[38;5;21;01m.\u001b[39;00m\u001b[38;5;21;01mPreprocessDataset\u001b[39;00m \u001b[38;5;28;01mimport\u001b[39;00m Preprocessor\n\u001b[1;32m----> 2\u001b[0m \u001b[38;5;28;01mfrom\u001b[39;00m \u001b[38;5;21;01mPFNExperiments\u001b[39;00m\u001b[38;5;21;01m.\u001b[39;00m\u001b[38;5;21;01mEvaluation\u001b[39;00m\u001b[38;5;21;01m.\u001b[39;00m\u001b[38;5;21;01mRealWorldEvaluation\u001b[39;00m\u001b[38;5;21;01m.\u001b[39;00m\u001b[38;5;21;01mGetDataOpenML\u001b[39;00m \u001b[38;5;28;01mimport\u001b[39;00m GetDataOpenML\n",
      "File \u001b[1;32m~\\Documents\\Dokumente\\Job_Clausthal\\PFNs\\Repository\\PFNExperiments\\Evaluation\\RealWorldEvaluation\\GetDataOpenML.py:6\u001b[0m\n\u001b[0;32m      3\u001b[0m \u001b[38;5;28;01mimport\u001b[39;00m \u001b[38;5;21;01mpickle\u001b[39;00m\n\u001b[0;32m      4\u001b[0m \u001b[38;5;28;01mfrom\u001b[39;00m \u001b[38;5;21;01mPFNExperiments\u001b[39;00m\u001b[38;5;21;01m.\u001b[39;00m\u001b[38;5;21;01mEvaluation\u001b[39;00m\u001b[38;5;21;01m.\u001b[39;00m\u001b[38;5;21;01mRealWorldEvaluation\u001b[39;00m\u001b[38;5;21;01m.\u001b[39;00m\u001b[38;5;21;01mPreprocessDataset\u001b[39;00m \u001b[38;5;28;01mimport\u001b[39;00m Preprocessor\n\u001b[1;32m----> 6\u001b[0m \u001b[38;5;28;01mclass\u001b[39;00m \u001b[38;5;21;01mGetDataOpenML\u001b[39;00m:\n\u001b[0;32m      7\u001b[0m \u001b[38;5;250m    \u001b[39m\u001b[38;5;124;03m\"\"\"\u001b[39;00m\n\u001b[0;32m      8\u001b[0m \u001b[38;5;124;03m    A class to get the data from OpenML\u001b[39;00m\n\u001b[0;32m      9\u001b[0m \u001b[38;5;124;03m    \"\"\"\u001b[39;00m\n\u001b[0;32m     10\u001b[0m     \u001b[38;5;28;01mdef\u001b[39;00m \u001b[38;5;21m__init__\u001b[39m(\n\u001b[0;32m     11\u001b[0m             \u001b[38;5;28mself\u001b[39m, \n\u001b[0;32m     12\u001b[0m             benchmark_id: \u001b[38;5;28mint\u001b[39m \u001b[38;5;241m=\u001b[39m \u001b[38;5;241m336\u001b[39m,  \u001b[38;5;66;03m#   Tabular benchmark numerical regression,\u001b[39;00m\n\u001b[0;32m     13\u001b[0m             preprocessor \u001b[38;5;241m=\u001b[39m Preprocessor(),\n\u001b[0;32m     14\u001b[0m             save_path: \u001b[38;5;28mstr\u001b[39m \u001b[38;5;241m=\u001b[39m \u001b[38;5;28;01mNone\u001b[39;00m\n\u001b[0;32m     15\u001b[0m     ):\n",
      "File \u001b[1;32m~\\Documents\\Dokumente\\Job_Clausthal\\PFNs\\Repository\\PFNExperiments\\Evaluation\\RealWorldEvaluation\\GetDataOpenML.py:13\u001b[0m, in \u001b[0;36mGetDataOpenML\u001b[1;34m()\u001b[0m\n\u001b[0;32m      6\u001b[0m \u001b[38;5;28;01mclass\u001b[39;00m \u001b[38;5;21;01mGetDataOpenML\u001b[39;00m:\n\u001b[0;32m      7\u001b[0m \u001b[38;5;250m    \u001b[39m\u001b[38;5;124;03m\"\"\"\u001b[39;00m\n\u001b[0;32m      8\u001b[0m \u001b[38;5;124;03m    A class to get the data from OpenML\u001b[39;00m\n\u001b[0;32m      9\u001b[0m \u001b[38;5;124;03m    \"\"\"\u001b[39;00m\n\u001b[0;32m     10\u001b[0m     \u001b[38;5;28;01mdef\u001b[39;00m \u001b[38;5;21m__init__\u001b[39m(\n\u001b[0;32m     11\u001b[0m             \u001b[38;5;28mself\u001b[39m, \n\u001b[0;32m     12\u001b[0m             benchmark_id: \u001b[38;5;28mint\u001b[39m \u001b[38;5;241m=\u001b[39m \u001b[38;5;241m336\u001b[39m,  \u001b[38;5;66;03m#   Tabular benchmark numerical regression,\u001b[39;00m\n\u001b[1;32m---> 13\u001b[0m             preprocessor \u001b[38;5;241m=\u001b[39m \u001b[43mPreprocessor\u001b[49m\u001b[43m(\u001b[49m\u001b[43m)\u001b[49m,\n\u001b[0;32m     14\u001b[0m             save_path: \u001b[38;5;28mstr\u001b[39m \u001b[38;5;241m=\u001b[39m \u001b[38;5;28;01mNone\u001b[39;00m\n\u001b[0;32m     15\u001b[0m     ):\n\u001b[0;32m     16\u001b[0m \u001b[38;5;250m        \u001b[39m\u001b[38;5;124;03m\"\"\"\u001b[39;00m\n\u001b[0;32m     17\u001b[0m \u001b[38;5;124;03m        Args:\u001b[39;00m\n\u001b[0;32m     18\u001b[0m \u001b[38;5;124;03m            benchmark_id: int: the OpenML benchmark id\u001b[39;00m\n\u001b[0;32m     19\u001b[0m \u001b[38;5;124;03m            preprocessor: callable: a preprocessor\u001b[39;00m\n\u001b[0;32m     20\u001b[0m \u001b[38;5;124;03m            save_path: str: the path to save the data\u001b[39;00m\n\u001b[0;32m     21\u001b[0m \u001b[38;5;124;03m        \"\"\"\u001b[39;00m\n\u001b[0;32m     22\u001b[0m         \u001b[38;5;28mself\u001b[39m\u001b[38;5;241m.\u001b[39mbenchmark_id \u001b[38;5;241m=\u001b[39m benchmark_id\n",
      "\u001b[1;31mTypeError\u001b[0m: Preprocessor.__init__() missing 2 required positional arguments: 'N_datapoints' and 'P_features'"
     ]
    }
   ],
   "source": [
    "from PFNExperiments.Evaluation.RealWorldEvaluation.PreprocessDataset import Preprocessor\n",
    "from PFNExperiments.Evaluation.RealWorldEvaluation.GetDataOpenML import GetDataOpenML"
   ]
  },
  {
   "cell_type": "code",
   "execution_count": 42,
   "metadata": {},
   "outputs": [],
   "source": [
    "preprocessor = Preprocessor(\n",
    "    N_datapoints=100,\n",
    "    P_features=10\n",
    ")"
   ]
  },
  {
   "cell_type": "code",
   "execution_count": 43,
   "metadata": {},
   "outputs": [
    {
     "ename": "NameError",
     "evalue": "name 'GetDataOpenML' is not defined",
     "output_type": "error",
     "traceback": [
      "\u001b[1;31m---------------------------------------------------------------------------\u001b[0m",
      "\u001b[1;31mNameError\u001b[0m                                 Traceback (most recent call last)",
      "Cell \u001b[1;32mIn[43], line 1\u001b[0m\n\u001b[1;32m----> 1\u001b[0m getdata \u001b[38;5;241m=\u001b[39m \u001b[43mGetDataOpenML\u001b[49m(\n\u001b[0;32m      2\u001b[0m     preprocessor \u001b[38;5;241m=\u001b[39m Preprocessor(\n\u001b[0;32m      3\u001b[0m         N_datapoints \u001b[38;5;241m=\u001b[39m \u001b[38;5;241m100\u001b[39m,\n\u001b[0;32m      4\u001b[0m         P_features \u001b[38;5;241m=\u001b[39m \u001b[38;5;241m10\u001b[39m,\n\u001b[0;32m      5\u001b[0m         target_mean \u001b[38;5;241m=\u001b[39m \u001b[38;5;241m0.0\u001b[39m,\n\u001b[0;32m      6\u001b[0m         target_var \u001b[38;5;241m=\u001b[39m \u001b[38;5;241m1.0\u001b[39m\n\u001b[0;32m      7\u001b[0m     ),\n\u001b[0;32m      8\u001b[0m     save_path \u001b[38;5;241m=\u001b[39m \u001b[38;5;124m\"\u001b[39m\u001b[38;5;124mC:/Users/arik_/Documents/Dokumente/Job_Clausthal/PFNs/Repository/PFNExperiments/Evaluation/RealWorldEvaluation/DatasetsOpenML/Tabular_benchmark_numerical_regression.pkl\u001b[39m\u001b[38;5;124m\"\u001b[39m,\n\u001b[0;32m      9\u001b[0m     benchmark_id \u001b[38;5;241m=\u001b[39m \u001b[38;5;241m336\u001b[39m\n\u001b[0;32m     10\u001b[0m )\n",
      "\u001b[1;31mNameError\u001b[0m: name 'GetDataOpenML' is not defined"
     ]
    }
   ],
   "source": [
    "getdata = GetDataOpenML(\n",
    "    preprocessor = Preprocessor(\n",
    "        N_datapoints = 100,\n",
    "        P_features = 10,\n",
    "        target_mean = 0.0,\n",
    "        target_var = 1.0\n",
    "    ),\n",
    "    save_path = \"C:/Users/arik_/Documents/Dokumente/Job_Clausthal/PFNs/Repository/PFNExperiments/Evaluation/RealWorldEvaluation/DatasetsOpenML/Tabular_benchmark_numerical_regression.pkl\",\n",
    "    benchmark_id = 336\n",
    ")"
   ]
  }
 ],
 "metadata": {
  "kernelspec": {
   "display_name": "Python 3",
   "language": "python",
   "name": "python3"
  },
  "language_info": {
   "codemirror_mode": {
    "name": "ipython",
    "version": 3
   },
   "file_extension": ".py",
   "mimetype": "text/x-python",
   "name": "python",
   "nbconvert_exporter": "python",
   "pygments_lexer": "ipython3",
   "version": "3.10.13"
  }
 },
 "nbformat": 4,
 "nbformat_minor": 2
}

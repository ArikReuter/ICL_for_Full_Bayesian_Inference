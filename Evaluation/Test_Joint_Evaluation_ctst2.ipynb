{
 "cells": [
  {
   "cell_type": "code",
   "execution_count": 11,
   "metadata": {},
   "outputs": [
    {
     "name": "stdout",
     "output_type": "stream",
     "text": [
      "The autoreload extension is already loaded. To reload it, use:\n",
      "  %reload_ext autoreload\n"
     ]
    }
   ],
   "source": [
    "%load_ext autoreload\n",
    "%autoreload 2"
   ]
  },
  {
   "cell_type": "code",
   "execution_count": 12,
   "metadata": {},
   "outputs": [],
   "source": [
    "import torch\n",
    "import pandas as pd\n",
    "from tqdm import tqdm\n",
    "from PFNExperiments.Evaluation.ClassifcationBasedComparison import compare_samples_classifier_based\n",
    "from PFNExperiments.Evaluation.MMD import compare_samples_mmd\n",
    "from scipy.stats import wilcoxon\n",
    "from sklearn.tree import DecisionTreeClassifier"
   ]
  },
  {
   "cell_type": "code",
   "execution_count": 13,
   "metadata": {},
   "outputs": [],
   "source": [
    "# sample data such that the marginals for x and y are always the same, only the joint distribution changes\n",
    "\n",
    "P = 5\n",
    "N_samples = 1000\n",
    "\n",
    "def samplex(N_samples = N_samples):\n",
    "    return torch.randn(N_samples, P)\n",
    "\n",
    "def generate_sample_y_t(t):\n",
    "    def sampley_t(x):\n",
    "        \"\"\"\n",
    "        Interpolate between sampley3 and sampley1\n",
    "        t = 1 -> deterministic dependence on x\n",
    "        t = 0 -> no dependence on x\n",
    "        \"\"\"\n",
    "        xt = 2*t*x\n",
    "\n",
    "        noise = torch.randn(N_samples, P)*((4 - (2*t)**2)**0.5)\n",
    "\n",
    "        return xt + noise\n",
    "    return sampley_t\n",
    "\n",
    "\n"
   ]
  },
  {
   "cell_type": "code",
   "execution_count": 14,
   "metadata": {},
   "outputs": [],
   "source": [
    "t_max = 0.99\n",
    "sampley_gt = generate_sample_y_t(t_max)\n"
   ]
  },
  {
   "cell_type": "code",
   "execution_count": 15,
   "metadata": {},
   "outputs": [
    {
     "name": "stderr",
     "output_type": "stream",
     "text": [
      "100%|██████████| 100/100 [01:02<00:00,  1.59it/s]\n",
      "100%|██████████| 100/100 [01:00<00:00,  1.67it/s]"
     ]
    },
    {
     "name": "stdout",
     "output_type": "stream",
     "text": [
      "\n",
      "      marginal_y1y2_res: CST_accuracy         0.500665\n",
      "CST_roc_auc_score    0.500665\n",
      "dtype: float64\n",
      "        marginal_y1y3_res: CST_accuracy         0.500065\n",
      "CST_roc_auc_score    0.500065\n",
      "dtype: float64\n",
      "        \n",
      "WilcoxonResult(statistic=array([2407. , 2400.5]), pvalue=array([0.68494024, 0.66859404]))\n"
     ]
    },
    {
     "name": "stderr",
     "output_type": "stream",
     "text": [
      "\n"
     ]
    }
   ],
   "source": [
    "# consistency check if any difference in the marginals regarding y can be detected\n",
    "\n",
    "def sample_marginal(n_x_samples, sample_ya, sample_yb):\n",
    "    res_list = []\n",
    "    for i in tqdm(list(range(n_x_samples))):\n",
    "        x1 = samplex()\n",
    "        x2 = samplex()\n",
    "        y1 = sample_ya(x1)\n",
    "        y2 = sample_yb(x2)\n",
    "        diff_mmd = compare_samples_classifier_based(y1, y2, used_model = DecisionTreeClassifier())\n",
    "\n",
    "        res_list.append(diff_mmd)\n",
    "\n",
    "    return pd.DataFrame(res_list)\n",
    "\n",
    "marginal_y1y2_res = sample_marginal(n_x_samples = 100, sample_ya = sampley_gt, sample_yb = generate_sample_y_t(0.1))\n",
    "marginal_y1y3_res = sample_marginal(n_x_samples = 100, sample_ya = sampley_gt, sample_yb = generate_sample_y_t(0.8))\n",
    "\n",
    "print(f\"\"\"\n",
    "      marginal_y1y2_res: {marginal_y1y2_res.mean()}\n",
    "        marginal_y1y3_res: {marginal_y1y3_res.mean()}\n",
    "        \"\"\")\n",
    "\n",
    "print(wilcoxon(marginal_y1y2_res, marginal_y1y3_res))"
   ]
  },
  {
   "cell_type": "code",
   "execution_count": 16,
   "metadata": {},
   "outputs": [
    {
     "name": "stderr",
     "output_type": "stream",
     "text": [
      "100%|██████████| 100/100 [00:55<00:00,  1.80it/s]\n",
      "100%|██████████| 100/100 [00:48<00:00,  2.04it/s]\n",
      "100%|██████████| 100/100 [00:49<00:00,  2.02it/s]\n",
      "100%|██████████| 100/100 [00:48<00:00,  2.06it/s]\n",
      "100%|██████████| 100/100 [00:48<00:00,  2.05it/s]\n",
      "100%|██████████| 100/100 [00:47<00:00,  2.10it/s]\n",
      "100%|██████████| 100/100 [00:48<00:00,  2.04it/s]\n",
      "100%|██████████| 100/100 [00:49<00:00,  2.04it/s]\n",
      "100%|██████████| 100/100 [00:48<00:00,  2.04it/s]\n",
      "100%|██████████| 100/100 [00:48<00:00,  2.04it/s]\n",
      "100%|██████████| 10/10 [08:14<00:00, 49.49s/it]"
     ]
    },
    {
     "name": "stdout",
     "output_type": "stream",
     "text": [
      "[CST_accuracy         0.497685\n",
      "CST_roc_auc_score    0.497685\n",
      "dtype: float64, CST_accuracy         0.498315\n",
      "CST_roc_auc_score    0.498315\n",
      "dtype: float64, CST_accuracy         0.499365\n",
      "CST_roc_auc_score    0.499365\n",
      "dtype: float64, CST_accuracy         0.500985\n",
      "CST_roc_auc_score    0.500985\n",
      "dtype: float64, CST_accuracy         0.500245\n",
      "CST_roc_auc_score    0.500245\n",
      "dtype: float64, CST_accuracy         0.499365\n",
      "CST_roc_auc_score    0.499365\n",
      "dtype: float64, CST_accuracy         0.5007\n",
      "CST_roc_auc_score    0.5007\n",
      "dtype: float64, CST_accuracy         0.498685\n",
      "CST_roc_auc_score    0.498685\n",
      "dtype: float64, CST_accuracy         0.500175\n",
      "CST_roc_auc_score    0.500175\n",
      "dtype: float64, CST_accuracy         0.49924\n",
      "CST_roc_auc_score    0.49924\n",
      "dtype: float64]\n"
     ]
    },
    {
     "name": "stderr",
     "output_type": "stream",
     "text": [
      "\n"
     ]
    }
   ],
   "source": [
    "\n",
    "different_t_res = []\n",
    "for t in tqdm(torch.linspace(0, t_max, 10)):\n",
    "    marginal_y1yt_res = sample_marginal(n_x_samples = 100, sample_ya = sampley_gt, sample_yb = generate_sample_y_t(t))\n",
    "    different_t_res.append(marginal_y1yt_res.mean())\n",
    "\n",
    "print(different_t_res)"
   ]
  },
  {
   "cell_type": "code",
   "execution_count": 17,
   "metadata": {},
   "outputs": [
    {
     "name": "stderr",
     "output_type": "stream",
     "text": [
      "100%|██████████| 1000/1000 [03:51<00:00,  4.32it/s]\n",
      "100%|██████████| 1000/1000 [05:18<00:00,  3.14it/s]"
     ]
    },
    {
     "name": "stdout",
     "output_type": "stream",
     "text": [
      "\n",
      "Posterior y1 y2: CST_accuracy         0.991135\n",
      "CST_roc_auc_score    0.991135\n",
      "dtype: float64    \n",
      "Posterior y1 y3: CST_accuracy         0.955395\n",
      "CST_roc_auc_score    0.955395\n",
      "dtype: float64\n",
      "      \n",
      "WilcoxonResult(statistic=array([0., 0.]), pvalue=array([3.31260033e-165, 3.31087845e-165]))\n"
     ]
    },
    {
     "name": "stderr",
     "output_type": "stream",
     "text": [
      "\n"
     ]
    }
   ],
   "source": [
    "# check expected difference in the posteriors\n",
    "\n",
    "\n",
    "def sample_posterior(n_x_samples, sample_ya, sample_yb):\n",
    "    res_list = []\n",
    "    for i in tqdm(list(range(n_x_samples))):\n",
    "        x1 = samplex(N_samples=1)\n",
    "        x2 = x1\n",
    "        y1 = sample_ya(x1)\n",
    "        y2 = sample_yb(x2)\n",
    "        diff_mmd = compare_samples_classifier_based(y1, y2, used_model = DecisionTreeClassifier())\n",
    "\n",
    "        res_list.append(diff_mmd)\n",
    "\n",
    "    return pd.DataFrame(res_list)\n",
    "\n",
    "posterior_y1y2_res = sample_posterior(n_x_samples = 1000, sample_ya = sampley_gt, sample_yb = generate_sample_y_t(0.1))\n",
    "posterior_y1y3_res = sample_posterior(n_x_samples = 1000, sample_ya = sampley_gt, sample_yb = generate_sample_y_t(0.8))\n",
    "\n",
    "print(f\"\"\"\n",
    "Posterior y1 y2: {posterior_y1y2_res.mean()}    \n",
    "Posterior y1 y3: {posterior_y1y3_res.mean()}\n",
    "      \"\"\")\n",
    "\n",
    "print(wilcoxon(posterior_y1y2_res, posterior_y1y3_res))"
   ]
  },
  {
   "cell_type": "code",
   "execution_count": 18,
   "metadata": {},
   "outputs": [
    {
     "name": "stderr",
     "output_type": "stream",
     "text": [
      "100%|██████████| 1000/1000 [03:40<00:00,  4.54it/s]\n",
      "100%|██████████| 1000/1000 [03:49<00:00,  4.37it/s]\n",
      "100%|██████████| 1000/1000 [04:00<00:00,  4.15it/s]\n",
      "100%|██████████| 1000/1000 [05:06<00:00,  3.26it/s]\n",
      "100%|██████████| 1000/1000 [05:06<00:00,  3.27it/s]\n",
      "100%|██████████| 1000/1000 [05:27<00:00,  3.05it/s]\n",
      "100%|██████████| 1000/1000 [05:03<00:00,  3.30it/s]\n",
      "100%|██████████| 1000/1000 [06:00<00:00,  2.77it/s]\n",
      "100%|██████████| 1000/1000 [07:47<00:00,  2.14it/s]\n",
      "100%|██████████| 1000/1000 [08:29<00:00,  1.96it/s]\n",
      "100%|██████████| 10/10 [54:32<00:00, 327.26s/it]"
     ]
    },
    {
     "name": "stdout",
     "output_type": "stream",
     "text": [
      "[CST_accuracy         0.992131\n",
      "CST_roc_auc_score    0.992131\n",
      "dtype: float64, CST_accuracy         0.990771\n",
      "CST_roc_auc_score    0.990771\n",
      "dtype: float64, CST_accuracy         0.989069\n",
      "CST_roc_auc_score    0.989069\n",
      "dtype: float64, CST_accuracy         0.986926\n",
      "CST_roc_auc_score    0.986926\n",
      "dtype: float64, CST_accuracy         0.984438\n",
      "CST_roc_auc_score    0.984438\n",
      "dtype: float64, CST_accuracy         0.980236\n",
      "CST_roc_auc_score    0.980236\n",
      "dtype: float64, CST_accuracy         0.974055\n",
      "CST_roc_auc_score    0.974054\n",
      "dtype: float64, CST_accuracy         0.961328\n",
      "CST_roc_auc_score    0.961328\n",
      "dtype: float64, CST_accuracy         0.923077\n",
      "CST_roc_auc_score    0.923077\n",
      "dtype: float64, CST_accuracy         0.500088\n",
      "CST_roc_auc_score    0.500088\n",
      "dtype: float64]\n"
     ]
    },
    {
     "name": "stderr",
     "output_type": "stream",
     "text": [
      "\n"
     ]
    }
   ],
   "source": [
    "different_t_res = []\n",
    "for t in tqdm(torch.linspace(0, t_max, 10)):\n",
    "    posterior_y1yt_res = sample_posterior(n_x_samples = 1000, sample_ya = sampley_gt, sample_yb = generate_sample_y_t(t))\n",
    "    different_t_res.append(posterior_y1yt_res.mean())\n",
    "\n",
    "print(different_t_res)"
   ]
  },
  {
   "cell_type": "code",
   "execution_count": 19,
   "metadata": {},
   "outputs": [
    {
     "name": "stderr",
     "output_type": "stream",
     "text": [
      "100%|██████████| 1000/1000 [13:24<00:00,  1.24it/s]\n",
      "100%|██████████| 1000/1000 [14:28<00:00,  1.15it/s]"
     ]
    },
    {
     "name": "stdout",
     "output_type": "stream",
     "text": [
      "\n",
      "Joint y1 y2: CST_accuracy         0.864961\n",
      "CST_roc_auc_score    0.864961\n",
      "dtype: float64\n",
      "Joint y1 y3: CST_accuracy         0.690791\n",
      "CST_roc_auc_score    0.690791\n",
      "dtype: float64\n",
      "      \n",
      "WilcoxonResult(statistic=array([0., 0.]), pvalue=array([3.32085497e-165, 3.31891032e-165]))\n"
     ]
    },
    {
     "name": "stderr",
     "output_type": "stream",
     "text": [
      "\n"
     ]
    }
   ],
   "source": [
    "def sample_joint(\n",
    "    n_x_samples = 1000,\n",
    "    sample_ya = None,\n",
    "    sample_yb = None \n",
    "):\n",
    "    res_list = []\n",
    "\n",
    "    for i in tqdm(list(range(n_x_samples))):\n",
    "        x1 = samplex(N_samples=N_samples)\n",
    "        x2 = samplex(N_samples=N_samples)\n",
    "\n",
    "        y1 = sample_ya(x1)\n",
    "        y2 = sample_yb(x2)\n",
    "\n",
    "        xy1 = torch.cat([x1, y1], dim=1)\n",
    "        xy2 = torch.cat([x2, y2], dim=1)\n",
    "\n",
    "        mmd = compare_samples_classifier_based(xy1, xy2, used_model = DecisionTreeClassifier())\n",
    "\n",
    "        res_list.append(mmd)\n",
    "\n",
    "    return pd.DataFrame(res_list)\n",
    "\n",
    "\n",
    "\n",
    "joint_y1y2_res = sample_joint(n_x_samples = 1000, sample_ya = sampley_gt, sample_yb = generate_sample_y_t(0.1))\n",
    "joint_y1y3_res = sample_joint(n_x_samples = 1000, sample_ya = sampley_gt, sample_yb = generate_sample_y_t(0.8))\n",
    "\n",
    "print(f\"\"\"\n",
    "Joint y1 y2: {joint_y1y2_res.mean()}\n",
    "Joint y1 y3: {joint_y1y3_res.mean()}\n",
    "      \"\"\")\n",
    "\n",
    "print(wilcoxon(joint_y1y2_res, joint_y1y3_res))"
   ]
  },
  {
   "cell_type": "code",
   "execution_count": 20,
   "metadata": {},
   "outputs": [
    {
     "name": "stderr",
     "output_type": "stream",
     "text": [
      "100%|██████████| 100/100 [01:17<00:00,  1.29it/s]\n",
      "100%|██████████| 100/100 [01:13<00:00,  1.37it/s]\n",
      "100%|██████████| 100/100 [01:37<00:00,  1.03it/s]\n",
      "100%|██████████| 100/100 [01:38<00:00,  1.02it/s]\n",
      "100%|██████████| 100/100 [01:23<00:00,  1.20it/s]\n",
      "100%|██████████| 100/100 [01:21<00:00,  1.22it/s]\n",
      "100%|██████████| 100/100 [01:24<00:00,  1.19it/s]\n",
      "100%|██████████| 100/100 [01:32<00:00,  1.09it/s]\n",
      "100%|██████████| 100/100 [01:41<00:00,  1.01s/it]\n",
      "100%|██████████| 100/100 [01:08<00:00,  1.47it/s]\n",
      "100%|██████████| 10/10 [14:18<00:00, 85.80s/it]"
     ]
    },
    {
     "name": "stdout",
     "output_type": "stream",
     "text": [
      "[CST_accuracy         0.877275\n",
      "CST_roc_auc_score    0.877275\n",
      "dtype: float64, CST_accuracy         0.863255\n",
      "CST_roc_auc_score    0.863255\n",
      "dtype: float64, CST_accuracy         0.849185\n",
      "CST_roc_auc_score    0.849185\n",
      "dtype: float64, CST_accuracy         0.830785\n",
      "CST_roc_auc_score    0.830785\n",
      "dtype: float64, CST_accuracy         0.811605\n",
      "CST_roc_auc_score    0.811605\n",
      "dtype: float64, CST_accuracy         0.78664\n",
      "CST_roc_auc_score    0.78664\n",
      "dtype: float64, CST_accuracy         0.75262\n",
      "CST_roc_auc_score    0.75262\n",
      "dtype: float64, CST_accuracy         0.70723\n",
      "CST_roc_auc_score    0.70723\n",
      "dtype: float64, CST_accuracy         0.63391\n",
      "CST_roc_auc_score    0.63391\n",
      "dtype: float64, CST_accuracy         0.49862\n",
      "CST_roc_auc_score    0.49862\n",
      "dtype: float64]\n"
     ]
    },
    {
     "name": "stderr",
     "output_type": "stream",
     "text": [
      "\n"
     ]
    }
   ],
   "source": [
    "different_t_res = []\n",
    "for t in tqdm(torch.linspace(0, t_max, 10)):\n",
    "    joint_y1yt_res = sample_joint(n_x_samples=100, sample_ya=sampley_gt, sample_yb=generate_sample_y_t(t))\n",
    "    different_t_res.append(joint_y1yt_res.mean())\n",
    "\n",
    "print(different_t_res)"
   ]
  }
 ],
 "metadata": {
  "kernelspec": {
   "display_name": "Python 3",
   "language": "python",
   "name": "python3"
  },
  "language_info": {
   "codemirror_mode": {
    "name": "ipython",
    "version": 3
   },
   "file_extension": ".py",
   "mimetype": "text/x-python",
   "name": "python",
   "nbconvert_exporter": "python",
   "pygments_lexer": "ipython3",
   "version": "3.10.13"
  }
 },
 "nbformat": 4,
 "nbformat_minor": 2
}

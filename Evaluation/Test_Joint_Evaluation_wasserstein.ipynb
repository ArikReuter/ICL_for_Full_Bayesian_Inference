{
 "cells": [
  {
   "cell_type": "code",
   "execution_count": 2,
   "metadata": {},
   "outputs": [],
   "source": [
    "%load_ext autoreload\n",
    "%autoreload 2"
   ]
  },
  {
   "cell_type": "code",
   "execution_count": 3,
   "metadata": {},
   "outputs": [],
   "source": [
    "import torch\n",
    "import pandas as pd\n",
    "from tqdm import tqdm\n",
    "from PFNExperiments.Evaluation.ClassifcationBasedComparison import compare_samples_classifier_based\n",
    "from PFNExperiments.Evaluation.MMD import compare_samples_mmd\n",
    "from PFNExperiments.Evaluation.BasicMetrics import compare_Wasserstein\n",
    "from scipy.stats import wilcoxon"
   ]
  },
  {
   "cell_type": "code",
   "execution_count": 4,
   "metadata": {},
   "outputs": [],
   "source": [
    "# sample data such that the marginals for x and y are always the same, only the joint distribution changes\n",
    "P = 5\n",
    "N_samples = 1000\n",
    "\n",
    "def samplex(N_samples = N_samples):\n",
    "    return torch.randn(N_samples, P)\n",
    "\n",
    "def generate_sample_y_t(t):\n",
    "    def sampley_t(x):\n",
    "        \"\"\"\n",
    "        Interpolate between sampley3 and sampley1\n",
    "        t = 1 -> deterministic dependence on x\n",
    "        t = 0 -> no dependence on x\n",
    "        \"\"\"\n",
    "        xt = 2*t*x\n",
    "\n",
    "        noise = torch.randn(N_samples, P)*((4 - (2*t)**2)**0.5)\n",
    "\n",
    "        return xt + noise\n",
    "    return sampley_t\n"
   ]
  },
  {
   "cell_type": "code",
   "execution_count": 5,
   "metadata": {},
   "outputs": [],
   "source": [
    "t_max = 0.99"
   ]
  },
  {
   "cell_type": "code",
   "execution_count": 6,
   "metadata": {},
   "outputs": [],
   "source": [
    "sampley1 = generate_sample_y_t(t_max)"
   ]
  },
  {
   "cell_type": "code",
   "execution_count": 7,
   "metadata": {},
   "outputs": [
    {
     "name": "stderr",
     "output_type": "stream",
     "text": [
      "100%|██████████| 500/500 [02:13<00:00,  3.75it/s]\n",
      "100%|██████████| 500/500 [02:17<00:00,  3.65it/s]"
     ]
    },
    {
     "name": "stdout",
     "output_type": "stream",
     "text": [
      "\n",
      "      marginal_y1y2_res: Wasserstein_distance with metric euclidean    1.632349\n",
      "dtype: float64\n",
      "        marginal_y1y3_res: Wasserstein_distance with metric euclidean    1.632636\n",
      "dtype: float64\n",
      "        \n",
      "WilcoxonResult(statistic=array([62375.]), pvalue=array([0.93835016]))\n"
     ]
    },
    {
     "name": "stderr",
     "output_type": "stream",
     "text": [
      "\n"
     ]
    }
   ],
   "source": [
    "# consistency check if any difference in the marginals regarding y can be detected\n",
    "\n",
    "def sample_marginal(n_x_samples, sample_ya, sample_yb):\n",
    "    res_list = []\n",
    "    for i in tqdm(list(range(n_x_samples))):\n",
    "        x1 = samplex()\n",
    "        x2 = samplex()\n",
    "        y1 = sample_ya(x1)\n",
    "        y2 = sample_yb(x2)\n",
    "        diff_mmd = compare_Wasserstein(y1, y2)\n",
    "\n",
    "        res_list.append(diff_mmd)\n",
    "\n",
    "    return pd.DataFrame(res_list)\n",
    "\n",
    "marginal_y1y2_res = sample_marginal(n_x_samples = 500, sample_ya = sampley1, sample_yb = generate_sample_y_t(0.1))\n",
    "marginal_y1y3_res = sample_marginal(n_x_samples = 500, sample_ya = sampley1, sample_yb =generate_sample_y_t(0.8))\n",
    "\n",
    "print(f\"\"\"\n",
    "      marginal_y1y2_res: {marginal_y1y2_res.mean()}\n",
    "        marginal_y1y3_res: {marginal_y1y3_res.mean()}\n",
    "        \"\"\")\n",
    "\n",
    "print(wilcoxon(marginal_y1y2_res, marginal_y1y3_res))"
   ]
  },
  {
   "cell_type": "code",
   "execution_count": 84,
   "metadata": {},
   "outputs": [
    {
     "name": "stderr",
     "output_type": "stream",
     "text": [
      "100%|██████████| 500/500 [03:38<00:00,  2.29it/s]\n",
      "100%|██████████| 500/500 [03:27<00:00,  2.41it/s]\n",
      "100%|██████████| 500/500 [03:27<00:00,  2.41it/s]\n",
      "100%|██████████| 500/500 [03:27<00:00,  2.41it/s]\n",
      "100%|██████████| 500/500 [03:24<00:00,  2.44it/s]\n",
      "100%|██████████| 500/500 [03:26<00:00,  2.43it/s]\n",
      "100%|██████████| 500/500 [03:34<00:00,  2.33it/s]\n",
      "100%|██████████| 500/500 [04:04<00:00,  2.04it/s]\n",
      "100%|██████████| 500/500 [03:54<00:00,  2.14it/s]\n",
      "100%|██████████| 500/500 [04:16<00:00,  1.95it/s]\n",
      "100%|██████████| 10/10 [36:40<00:00, 220.01s/it]"
     ]
    },
    {
     "name": "stdout",
     "output_type": "stream",
     "text": [
      "[Wasserstein_distance with metric euclidean    1.632527\n",
      "dtype: float64, Wasserstein_distance with metric euclidean    1.633233\n",
      "dtype: float64, Wasserstein_distance with metric euclidean    1.631207\n",
      "dtype: float64, Wasserstein_distance with metric euclidean    1.632713\n",
      "dtype: float64, Wasserstein_distance with metric euclidean    1.631065\n",
      "dtype: float64, Wasserstein_distance with metric euclidean    1.63283\n",
      "dtype: float64, Wasserstein_distance with metric euclidean    1.632659\n",
      "dtype: float64, Wasserstein_distance with metric euclidean    1.630798\n",
      "dtype: float64, Wasserstein_distance with metric euclidean    1.631543\n",
      "dtype: float64, Wasserstein_distance with metric euclidean    1.631402\n",
      "dtype: float64]\n"
     ]
    },
    {
     "name": "stderr",
     "output_type": "stream",
     "text": [
      "\n"
     ]
    }
   ],
   "source": [
    "different_t_res = []\n",
    "for t in tqdm(torch.linspace(0, t_max, 10)):\n",
    "    marginal_y1yt_res = sample_marginal(n_x_samples = 500, sample_ya = sampley1, sample_yb = generate_sample_y_t(t))\n",
    "    different_t_res.append(marginal_y1yt_res.mean())\n",
    "\n",
    "print(different_t_res)"
   ]
  },
  {
   "cell_type": "code",
   "execution_count": 85,
   "metadata": {},
   "outputs": [
    {
     "name": "stderr",
     "output_type": "stream",
     "text": [
      "100%|██████████| 1000/1000 [08:10<00:00,  2.04it/s]\n",
      "100%|██████████| 1000/1000 [08:48<00:00,  1.89it/s]"
     ]
    },
    {
     "name": "stdout",
     "output_type": "stream",
     "text": [
      "\n",
      "Posterior y1 y2: Wasserstein_distance with metric euclidean    5.266666\n",
      "dtype: float64    \n",
      "Posterior y1 y3: Wasserstein_distance with metric euclidean    2.149913\n",
      "dtype: float64\n",
      "      \n",
      "WilcoxonResult(statistic=array([0.]), pvalue=array([3.32585912e-165]))\n"
     ]
    },
    {
     "name": "stderr",
     "output_type": "stream",
     "text": [
      "\n"
     ]
    }
   ],
   "source": [
    "# check expected difference in the posteriors\n",
    "\n",
    "\n",
    "def sample_posterior(n_x_samples, sample_ya, sample_yb):\n",
    "    res_list = []\n",
    "    for i in tqdm(list(range(n_x_samples))):\n",
    "        x1 = samplex(N_samples=1)\n",
    "        x2 = x1\n",
    "        y1 = sample_ya(x1)\n",
    "        y2 = sample_yb(x2)\n",
    "        diff_mmd = compare_Wasserstein(y1, y2)\n",
    "\n",
    "        res_list.append(diff_mmd)\n",
    "\n",
    "    return pd.DataFrame(res_list)\n",
    "\n",
    "posterior_y1y2_res = sample_posterior(n_x_samples = 1000, sample_ya = sampley1, sample_yb = generate_sample_y_t(0.1))\n",
    "posterior_y1y3_res = sample_posterior(n_x_samples = 1000, sample_ya = sampley1, sample_yb = generate_sample_y_t(0.8))\n",
    "\n",
    "print(f\"\"\"\n",
    "Posterior y1 y2: {posterior_y1y2_res.mean()}    \n",
    "Posterior y1 y3: {posterior_y1y3_res.mean()}\n",
    "      \"\"\")\n",
    "\n",
    "print(wilcoxon(posterior_y1y2_res, posterior_y1y3_res))"
   ]
  },
  {
   "cell_type": "code",
   "execution_count": 86,
   "metadata": {},
   "outputs": [
    {
     "name": "stderr",
     "output_type": "stream",
     "text": [
      "100%|██████████| 1000/1000 [09:19<00:00,  1.79it/s]\n",
      "100%|██████████| 1000/1000 [08:09<00:00,  2.04it/s]\n",
      "100%|██████████| 1000/1000 [09:09<00:00,  1.82it/s]\n",
      "100%|██████████| 1000/1000 [08:44<00:00,  1.91it/s]\n",
      "100%|██████████| 1000/1000 [08:27<00:00,  1.97it/s]\n",
      "100%|██████████| 1000/1000 [09:04<00:00,  1.83it/s]\n",
      "100%|██████████| 1000/1000 [05:03<00:00,  3.29it/s]\n",
      "100%|██████████| 1000/1000 [04:58<00:00,  3.35it/s]\n",
      "100%|██████████| 1000/1000 [04:34<00:00,  3.65it/s]\n",
      "100%|██████████| 1000/1000 [03:44<00:00,  4.46it/s]\n",
      "100%|██████████| 10/10 [1:11:16<00:00, 427.61s/it]"
     ]
    },
    {
     "name": "stdout",
     "output_type": "stream",
     "text": [
      "[Wasserstein_distance with metric euclidean    5.53613\n",
      "dtype: float64, Wasserstein_distance with metric euclidean    5.226158\n",
      "dtype: float64, Wasserstein_distance with metric euclidean    4.864709\n",
      "dtype: float64, Wasserstein_distance with metric euclidean    4.458535\n",
      "dtype: float64, Wasserstein_distance with metric euclidean    4.004716\n",
      "dtype: float64, Wasserstein_distance with metric euclidean    3.524912\n",
      "dtype: float64, Wasserstein_distance with metric euclidean    2.984637\n",
      "dtype: float64, Wasserstein_distance with metric euclidean    2.344583\n",
      "dtype: float64, Wasserstein_distance with metric euclidean    1.53766\n",
      "dtype: float64, Wasserstein_distance with metric euclidean    0.230151\n",
      "dtype: float64]\n"
     ]
    },
    {
     "name": "stderr",
     "output_type": "stream",
     "text": [
      "\n"
     ]
    }
   ],
   "source": [
    "different_t_res = []\n",
    "for t in tqdm(torch.linspace(0, t_max, 10)):\n",
    "    posterior_y1yt_res = sample_posterior(n_x_samples = 1000, sample_ya = sampley1, sample_yb = generate_sample_y_t(t))\n",
    "    different_t_res.append(posterior_y1yt_res.mean())\n",
    "\n",
    "print(different_t_res)"
   ]
  },
  {
   "cell_type": "code",
   "execution_count": 87,
   "metadata": {},
   "outputs": [
    {
     "name": "stderr",
     "output_type": "stream",
     "text": [
      "100%|██████████| 500/500 [02:22<00:00,  3.52it/s]\n",
      "100%|██████████| 500/500 [02:26<00:00,  3.40it/s]"
     ]
    },
    {
     "name": "stdout",
     "output_type": "stream",
     "text": [
      "\n",
      "Joint y1 y2: Wasserstein_distance with metric euclidean    3.186253\n",
      "dtype: float64\n",
      "Joint y1 y3: Wasserstein_distance with metric euclidean    2.228198\n",
      "dtype: float64\n",
      "      \n",
      "WilcoxonResult(statistic=array([0.]), pvalue=array([1.26471895e-83]))\n"
     ]
    },
    {
     "name": "stderr",
     "output_type": "stream",
     "text": [
      "\n"
     ]
    }
   ],
   "source": [
    "def sample_joint(\n",
    "    n_x_samples = 100,\n",
    "    sample_ya = sampley1,\n",
    "    sample_yb = sampley2\n",
    "):\n",
    "    res_list = []\n",
    "\n",
    "    for i in tqdm(list(range(n_x_samples))):\n",
    "        x1 = samplex(N_samples=N_samples)\n",
    "        x2 = samplex(N_samples=N_samples)\n",
    "\n",
    "        y1 = sample_ya(x1)\n",
    "        y2 = sample_yb(x2)\n",
    "\n",
    "        xy1 = torch.cat([x1, y1], dim=1)\n",
    "        xy2 = torch.cat([x2, y2], dim=1)\n",
    "\n",
    "        mmd = compare_Wasserstein(xy1, xy2)\n",
    "\n",
    "        res_list.append(mmd)\n",
    "\n",
    "    return pd.DataFrame(res_list)\n",
    "\n",
    "\n",
    "\n",
    "joint_y1y2_res = sample_joint(n_x_samples=500, sample_ya=sampley1, sample_yb=generate_sample_y_t(0.1))\n",
    "joint_y1y3_res = sample_joint(n_x_samples=500, sample_ya=sampley1, sample_yb=generate_sample_y_t(0.8))\n",
    "\n",
    "print(f\"\"\"\n",
    "Joint y1 y2: {joint_y1y2_res.mean()}\n",
    "Joint y1 y3: {joint_y1y3_res.mean()}\n",
    "      \"\"\")\n",
    "\n",
    "print(wilcoxon(joint_y1y2_res, joint_y1y3_res))"
   ]
  },
  {
   "cell_type": "code",
   "execution_count": 88,
   "metadata": {},
   "outputs": [
    {
     "name": "stderr",
     "output_type": "stream",
     "text": [
      "100%|██████████| 500/500 [02:38<00:00,  3.16it/s]\n",
      "100%|██████████| 500/500 [02:31<00:00,  3.31it/s]\n",
      "100%|██████████| 500/500 [02:22<00:00,  3.50it/s]\n",
      "100%|██████████| 500/500 [02:18<00:00,  3.60it/s]\n",
      "100%|██████████| 500/500 [02:18<00:00,  3.60it/s]\n",
      "100%|██████████| 500/500 [02:16<00:00,  3.67it/s]\n",
      "100%|██████████| 500/500 [02:35<00:00,  3.22it/s]\n",
      "100%|██████████| 500/500 [02:15<00:00,  3.69it/s]\n",
      "100%|██████████| 500/500 [02:14<00:00,  3.73it/s]\n",
      "100%|██████████| 500/500 [02:10<00:00,  3.82it/s]\n",
      "100%|██████████| 10/10 [23:41<00:00, 142.14s/it]"
     ]
    },
    {
     "name": "stdout",
     "output_type": "stream",
     "text": [
      "[Wasserstein_distance with metric euclidean    3.306616\n",
      "dtype: float64, Wasserstein_distance with metric euclidean    3.17288\n",
      "dtype: float64, Wasserstein_distance with metric euclidean    3.038421\n",
      "dtype: float64, Wasserstein_distance with metric euclidean    2.90107\n",
      "dtype: float64, Wasserstein_distance with metric euclidean    2.755061\n",
      "dtype: float64, Wasserstein_distance with metric euclidean    2.606836\n",
      "dtype: float64, Wasserstein_distance with metric euclidean    2.447963\n",
      "dtype: float64, Wasserstein_distance with metric euclidean    2.277621\n",
      "dtype: float64, Wasserstein_distance with metric euclidean    2.090024\n",
      "dtype: float64, Wasserstein_distance with metric euclidean    1.870655\n",
      "dtype: float64]\n"
     ]
    },
    {
     "name": "stderr",
     "output_type": "stream",
     "text": [
      "\n"
     ]
    }
   ],
   "source": [
    "different_t_res = []\n",
    "for t in tqdm(torch.linspace(0, t_max, 10)):\n",
    "    joint_y1yt_res = sample_joint(n_x_samples=500, sample_ya=sampley1, sample_yb=generate_sample_y_t(t))\n",
    "    different_t_res.append(joint_y1yt_res.mean())\n",
    "\n",
    "print(different_t_res)"
   ]
  }
 ],
 "metadata": {
  "kernelspec": {
   "display_name": "Python 3",
   "language": "python",
   "name": "python3"
  },
  "language_info": {
   "codemirror_mode": {
    "name": "ipython",
    "version": 3
   },
   "file_extension": ".py",
   "mimetype": "text/x-python",
   "name": "python",
   "nbconvert_exporter": "python",
   "pygments_lexer": "ipython3",
   "version": "3.10.13"
  }
 },
 "nbformat": 4,
 "nbformat_minor": 2
}

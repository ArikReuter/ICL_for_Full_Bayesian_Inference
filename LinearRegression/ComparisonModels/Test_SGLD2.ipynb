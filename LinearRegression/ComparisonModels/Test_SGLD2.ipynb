{
 "cells": [
  {
   "cell_type": "code",
   "execution_count": 17,
   "metadata": {},
   "outputs": [
    {
     "name": "stdout",
     "output_type": "stream",
     "text": [
      "The autoreload extension is already loaded. To reload it, use:\n",
      "  %reload_ext autoreload\n"
     ]
    },
    {
     "name": "stderr",
     "output_type": "stream",
     "text": [
      "[autoreload of PFNExperiments.LinearRegression.ComparisonModels.SGLD failed: Traceback (most recent call last):\n",
      "  File \"c:\\Users\\arik_\\Documents\\Dokumente\\Job_Clausthal\\PFNs\\Repository\\PFNExperiments\\.venv\\Lib\\site-packages\\IPython\\extensions\\autoreload.py\", line 276, in check\n",
      "    superreload(m, reload, self.old_objects)\n",
      "  File \"c:\\Users\\arik_\\Documents\\Dokumente\\Job_Clausthal\\PFNs\\Repository\\PFNExperiments\\.venv\\Lib\\site-packages\\IPython\\extensions\\autoreload.py\", line 500, in superreload\n",
      "    update_generic(old_obj, new_obj)\n",
      "  File \"c:\\Users\\arik_\\Documents\\Dokumente\\Job_Clausthal\\PFNs\\Repository\\PFNExperiments\\.venv\\Lib\\site-packages\\IPython\\extensions\\autoreload.py\", line 397, in update_generic\n",
      "    update(a, b)\n",
      "  File \"c:\\Users\\arik_\\Documents\\Dokumente\\Job_Clausthal\\PFNs\\Repository\\PFNExperiments\\.venv\\Lib\\site-packages\\IPython\\extensions\\autoreload.py\", line 349, in update_class\n",
      "    if update_generic(old_obj, new_obj):\n",
      "       ^^^^^^^^^^^^^^^^^^^^^^^^^^^^^^^^\n",
      "  File \"c:\\Users\\arik_\\Documents\\Dokumente\\Job_Clausthal\\PFNs\\Repository\\PFNExperiments\\.venv\\Lib\\site-packages\\IPython\\extensions\\autoreload.py\", line 397, in update_generic\n",
      "    update(a, b)\n",
      "  File \"c:\\Users\\arik_\\Documents\\Dokumente\\Job_Clausthal\\PFNs\\Repository\\PFNExperiments\\.venv\\Lib\\site-packages\\IPython\\extensions\\autoreload.py\", line 309, in update_function\n",
      "    setattr(old, name, getattr(new, name))\n",
      "ValueError: step() requires a code object with 1 free vars, not 2619930050560\n",
      "]\n"
     ]
    }
   ],
   "source": [
    "%load_ext autoreload\n",
    "%autoreload 2"
   ]
  },
  {
   "cell_type": "code",
   "execution_count": 18,
   "metadata": {},
   "outputs": [],
   "source": [
    "#!pip install langevin-sampling"
   ]
  },
  {
   "cell_type": "code",
   "execution_count": 19,
   "metadata": {},
   "outputs": [],
   "source": [
    "import torch\n",
    "import pyro.poutine as poutine\n",
    "import pyro\n",
    "\n",
    "from pyro.infer.autoguide import AutoDelta\n",
    "from pyro.infer import SVI, Trace_ELBO\n",
    "import torch\n",
    "from pyro.optim import PyroOptim\n",
    "\n",
    "from langevin_sampling.SGLD import SGLD as SGLD_org"
   ]
  },
  {
   "cell_type": "code",
   "execution_count": 20,
   "metadata": {},
   "outputs": [],
   "source": [
    "from PFNExperiments.LinearRegression.ComparisonModels.SGLD import SGLD\n",
    "from PFNExperiments.LinearRegression.GenerativeModels.GenerateDataLM_Examples import make_lm_program_ig\n",
    "from PFNExperiments.LinearRegression.GenerativeModels.LM_abstract import return_only_y, print_code"
   ]
  },
  {
   "cell_type": "code",
   "execution_count": 21,
   "metadata": {},
   "outputs": [],
   "source": [
    "from torch.optim import Adam"
   ]
  },
  {
   "cell_type": "code",
   "execution_count": 22,
   "metadata": {},
   "outputs": [],
   "source": [
    "pprogram = make_lm_program_ig(\n",
    ")\n",
    "\n",
    "pprogram_return_only_y = return_only_y(pprogram)"
   ]
  },
  {
   "cell_type": "code",
   "execution_count": 23,
   "metadata": {},
   "outputs": [],
   "source": [
    "X = torch.randn(100, 10)\n",
    "r = pprogram(X)\n",
    "y = r['y']"
   ]
  },
  {
   "cell_type": "code",
   "execution_count": 24,
   "metadata": {},
   "outputs": [],
   "source": [
    "guide = AutoDelta(pprogram_return_only_y)\n",
    "\n",
    "Trace_ELBO().differentiable_loss(pprogram_return_only_y, guide, X, y)\n",
    "\n",
    "optim = PyroOptim(SGLD_org, {\"lr\": 1e-3})\n",
    "\n",
    "svi = SVI(pprogram_return_only_y, guide, optim, loss=Trace_ELBO())\n",
    "\n",
    "svi = SVI(pprogram_return_only_y, guide, optim, loss=Trace_ELBO())"
   ]
  },
  {
   "cell_type": "code",
   "execution_count": 25,
   "metadata": {},
   "outputs": [
    {
     "name": "stdout",
     "output_type": "stream",
     "text": [
      "[Parameter containing:\n",
      "tensor(2.6529, requires_grad=True), Parameter containing:\n",
      "tensor([ 0.0574, -0.9531, -0.0731, -0.0808,  0.1744,  0.8579,  0.8908, -0.0966,\n",
      "         0.2126, -0.4793], requires_grad=True)]\n",
      "{'sigma_squared': tensor(14.1956), 'beta': tensor([ 0.0574, -0.9531, -0.0731, -0.0808,  0.1744,  0.8579,  0.8908, -0.0966,\n",
      "         0.2126, -0.4793])}\n",
      "395.089075088501\n"
     ]
    }
   ],
   "source": [
    "loss = svi.step(X, y)\n",
    "\n",
    "print(list(guide.parameters()))\n",
    "print(guide.median())\n",
    "print(loss)"
   ]
  },
  {
   "cell_type": "code",
   "execution_count": 26,
   "metadata": {},
   "outputs": [],
   "source": [
    "sampler = SGLD(\n",
    "    pprogram=pprogram_return_only_y,\n",
    ")"
   ]
  },
  {
   "cell_type": "code",
   "execution_count": 27,
   "metadata": {},
   "outputs": [],
   "source": [
    "from PFNExperiments.LinearRegression.ComparisonModels.SGLD import SGLD"
   ]
  },
  {
   "cell_type": "code",
   "execution_count": 28,
   "metadata": {},
   "outputs": [],
   "source": [
    "sampler = SGLD(\n",
    "    pprogram =  pprogram_return_only_y,\n",
    "    n_samples = 10,\n",
    "    n_warmup = 10,\n",
    "    shuffle_samples = False,\n",
    "    optim_kwargs = {\"lr\": 1e-3}\n",
    ")"
   ]
  },
  {
   "cell_type": "code",
   "execution_count": 29,
   "metadata": {},
   "outputs": [],
   "source": [
    "r2 = sampler.sample_posterior(X, y)"
   ]
  },
  {
   "cell_type": "code",
   "execution_count": 30,
   "metadata": {},
   "outputs": [
    {
     "data": {
      "text/plain": [
       "{'sigma_squared': tensor([3.8518, 3.7499, 3.7993, 3.4612, 3.3583, 3.2942, 3.4017, 3.1500, 3.2905,\n",
       "         3.0112]),\n",
       " 'beta': tensor([[ 0.1108, -0.8856,  0.0665, -0.1134,  0.2234,  0.8938,  1.0622, -0.1907,\n",
       "           0.4166, -0.0596],\n",
       "         [ 0.0728, -0.8529,  0.0673, -0.1048,  0.2596,  0.9013,  1.0804, -0.1925,\n",
       "           0.3810,  0.0351],\n",
       "         [ 0.0717, -0.8827,  0.0547, -0.1081,  0.2419,  0.8750,  1.0946, -0.2483,\n",
       "           0.3607,  0.1182],\n",
       "         [ 0.0552, -0.8112,  0.1722, -0.0428,  0.2083,  0.8350,  1.0851, -0.2308,\n",
       "           0.4320,  0.1329],\n",
       "         [ 0.0473, -0.8402,  0.2845, -0.0238,  0.2617,  0.8186,  1.1084, -0.1289,\n",
       "           0.4720,  0.1682],\n",
       "         [ 0.0164, -0.8349,  0.3697, -0.0310,  0.2589,  0.7470,  1.0804, -0.1501,\n",
       "           0.4254,  0.1918],\n",
       "         [ 0.0378, -0.8320,  0.2987, -0.0265,  0.2854,  0.7196,  1.0501, -0.0783,\n",
       "           0.4341,  0.2884],\n",
       "         [ 0.0405, -0.8238,  0.2352, -0.1410,  0.3098,  0.6746,  1.0779, -0.0806,\n",
       "           0.4299,  0.3403],\n",
       "         [ 0.0708, -0.7902,  0.2094, -0.1671,  0.3510,  0.6473,  1.1020, -0.1173,\n",
       "           0.4123,  0.4768],\n",
       "         [ 0.0733, -0.7055,  0.2408, -0.1751,  0.2746,  0.6249,  1.0648, -0.1468,\n",
       "           0.3798,  0.5291]])}"
      ]
     },
     "execution_count": 30,
     "metadata": {},
     "output_type": "execute_result"
    }
   ],
   "source": [
    "r2"
   ]
  }
 ],
 "metadata": {
  "kernelspec": {
   "display_name": ".venv",
   "language": "python",
   "name": "python3"
  },
  "language_info": {
   "codemirror_mode": {
    "name": "ipython",
    "version": 3
   },
   "file_extension": ".py",
   "mimetype": "text/x-python",
   "name": "python",
   "nbconvert_exporter": "python",
   "pygments_lexer": "ipython3",
   "version": "3.11.9"
  }
 },
 "nbformat": 4,
 "nbformat_minor": 2
}

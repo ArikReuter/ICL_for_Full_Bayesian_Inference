{
 "cells": [
  {
   "cell_type": "code",
   "execution_count": 1,
   "metadata": {},
   "outputs": [],
   "source": [
    "%load_ext autoreload\n",
    "%autoreload 2"
   ]
  },
  {
   "cell_type": "code",
   "execution_count": 2,
   "metadata": {},
   "outputs": [
    {
     "name": "stderr",
     "output_type": "stream",
     "text": [
      "c:\\Users\\arik_\\Documents\\Dokumente\\Job_Clausthal\\PFNs\\Repository\\PFNExperiments\\.conda\\lib\\site-packages\\tqdm\\auto.py:21: TqdmWarning: IProgress not found. Please update jupyter and ipywidgets. See https://ipywidgets.readthedocs.io/en/stable/user_install.html\n",
      "  from .autonotebook import tqdm as notebook_tqdm\n"
     ]
    }
   ],
   "source": [
    "from PFNExperiments.LinearRegression.GenerativeModels.GenerateDataLM_Examples import make_lm_program_spike_and_slap_batched, make_lm_program_spike_and_slap, make_lm_program_spike_and_slap_continuos\n",
    "from PFNExperiments.LinearRegression.GenerativeModels.LM_abstract import return_only_y, print_code\n",
    "from PFNExperiments.LinearRegression.ComparisonModels.Variational_Inference import Variational_Inference\n",
    "from PFNExperiments.LinearRegression.GenerativeModels.GenerateX import simulate_X_uniform\n"
   ]
  },
  {
   "cell_type": "code",
   "execution_count": 3,
   "metadata": {},
   "outputs": [],
   "source": [
    "X = simulate_X_uniform(100, 10)"
   ]
  },
  {
   "cell_type": "code",
   "execution_count": 4,
   "metadata": {},
   "outputs": [],
   "source": [
    "pprogram = make_lm_program_spike_and_slap_batched()\n",
    "pprogram_unbatched = make_lm_program_spike_and_slap_continuos(params_beta_dist=1e-2)"
   ]
  },
  {
   "cell_type": "code",
   "execution_count": 5,
   "metadata": {},
   "outputs": [],
   "source": [
    "data = pprogram(X)\n",
    "y = data[\"y\"]"
   ]
  },
  {
   "cell_type": "code",
   "execution_count": 6,
   "metadata": {},
   "outputs": [],
   "source": [
    "pprogram_return_only_y = return_only_y(pprogram_unbatched)"
   ]
  },
  {
   "cell_type": "code",
   "execution_count": 7,
   "metadata": {},
   "outputs": [
    {
     "data": {
      "text/plain": [
       "tensor([-0.2537,  0.0723, -1.1352, -0.9508, -0.8505, -0.7341,  0.3266,  0.0120,\n",
       "         0.5317, -0.6388,  0.5996, -0.9724, -0.2646,  0.1080, -0.7024,  0.1146,\n",
       "        -0.3214, -0.1403,  0.1491, -0.3031,  0.1836,  0.8504,  0.4733, -0.7793,\n",
       "        -0.2720, -0.2488, -0.5444,  0.4024, -0.8521, -0.7420, -0.9173, -0.8712,\n",
       "        -1.0083, -0.9586, -1.1974,  0.0337,  0.4773,  0.0712, -0.0728, -0.3812,\n",
       "        -0.3706,  0.0433, -0.7404, -0.7253,  0.0661, -0.4508, -1.1771, -0.1839,\n",
       "         0.3678,  0.3394,  0.0994,  0.2137, -0.4700,  0.4535,  0.0443, -0.4039,\n",
       "        -0.1973,  0.3542, -0.2347, -0.2131,  0.2413, -0.8525,  0.0208, -0.5473,\n",
       "        -0.0912,  0.1427, -0.0429,  0.5454, -0.0487, -1.1199, -0.5686,  0.1775,\n",
       "        -0.9069, -1.1924, -1.1858,  0.0166, -0.4054,  0.2700, -0.3115, -0.3031,\n",
       "        -1.0418, -0.2031,  0.5639, -0.1142,  0.3743, -0.1696, -0.0698,  0.7143,\n",
       "        -0.3406,  0.2512,  0.0221, -1.0854, -0.5943, -0.2998,  0.0186,  0.4188,\n",
       "        -0.6199,  0.1029,  0.5827,  0.3278])"
      ]
     },
     "execution_count": 7,
     "metadata": {},
     "output_type": "execute_result"
    }
   ],
   "source": [
    "pprogram_return_only_y(X)"
   ]
  },
  {
   "cell_type": "code",
   "execution_count": 8,
   "metadata": {},
   "outputs": [],
   "source": [
    "model = Variational_Inference(\n",
    "    pprogram = pprogram_return_only_y,\n",
    ")"
   ]
  },
  {
   "cell_type": "code",
   "execution_count": 9,
   "metadata": {},
   "outputs": [
    {
     "name": "stdout",
     "output_type": "stream",
     "text": [
      "....................\n"
     ]
    }
   ],
   "source": [
    "samples = model.sample_posterior(X, y)"
   ]
  },
  {
   "cell_type": "code",
   "execution_count": 10,
   "metadata": {},
   "outputs": [
    {
     "data": {
      "text/plain": [
       "tensor([[1.7172e-16, 5.9959e-01, 2.2461e-21,  ..., 9.9998e-01, 8.9471e-01,\n",
       "         9.6982e-27],\n",
       "        [1.3043e-16, 6.6260e-01, 2.4826e-21,  ..., 9.9996e-01, 8.9749e-01,\n",
       "         2.4350e-26],\n",
       "        [1.5073e-16, 6.0765e-01, 3.6899e-21,  ..., 9.9996e-01, 9.0313e-01,\n",
       "         6.5697e-27],\n",
       "        ...,\n",
       "        [7.8378e-17, 6.4478e-01, 3.0443e-21,  ..., 9.9996e-01, 8.9811e-01,\n",
       "         2.9717e-26],\n",
       "        [1.5386e-16, 5.9962e-01, 4.1255e-21,  ..., 9.9987e-01, 8.9936e-01,\n",
       "         1.7786e-26],\n",
       "        [8.3490e-17, 6.2442e-01, 3.5221e-21,  ..., 9.9996e-01, 8.9018e-01,\n",
       "         1.6427e-26]])"
      ]
     },
     "execution_count": 10,
     "metadata": {},
     "output_type": "execute_result"
    }
   ],
   "source": [
    "samples[\"include_beta\"]"
   ]
  },
  {
   "cell_type": "code",
   "execution_count": 11,
   "metadata": {},
   "outputs": [
    {
     "data": {
      "text/plain": [
       "tensor([1.1318e-16, 6.2230e-01, 2.8766e-21, 9.8309e-01, 1.2367e-14, 9.9998e-01,\n",
       "        8.3938e-06, 9.9995e-01, 8.9746e-01, 2.2472e-26])"
      ]
     },
     "execution_count": 11,
     "metadata": {},
     "output_type": "execute_result"
    }
   ],
   "source": [
    "samples[\"include_beta\"].mean(dim = 0)"
   ]
  },
  {
   "cell_type": "code",
   "execution_count": 12,
   "metadata": {},
   "outputs": [
    {
     "data": {
      "text/plain": [
       "dict_keys(['x', 'y', 'sigma_squared', 'include_beta', 'beta'])"
      ]
     },
     "execution_count": 12,
     "metadata": {},
     "output_type": "execute_result"
    }
   ],
   "source": [
    "data.keys()"
   ]
  },
  {
   "cell_type": "code",
   "execution_count": 13,
   "metadata": {},
   "outputs": [
    {
     "data": {
      "text/plain": [
       "tensor([[1., 1., 0., 0., 1., 0., 0., 1., 1., 1.]])"
      ]
     },
     "execution_count": 13,
     "metadata": {},
     "output_type": "execute_result"
    }
   ],
   "source": [
    "data[\"include_beta\"]"
   ]
  },
  {
   "cell_type": "code",
   "execution_count": 14,
   "metadata": {},
   "outputs": [
    {
     "data": {
      "text/plain": [
       "tensor([[-1.1926,  1.1741, -0.2098, -1.2438,  0.1705, -0.5754, -0.7694, -0.4402,\n",
       "         -0.9511,  0.2424, -0.2659, -1.0100, -0.0137, -1.1234,  0.0197,  1.7387,\n",
       "         -0.1921,  0.3843,  0.5627, -0.3139, -0.1635,  0.3219, -0.2081, -0.7291,\n",
       "         -0.2841,  0.0501, -0.9658, -0.1372,  0.1190, -0.7274,  0.1616, -0.6428,\n",
       "         -0.1805, -1.0609, -0.1711, -0.1620,  1.0240,  0.0577, -1.6309, -0.9079,\n",
       "          0.1907, -0.6139,  0.3323,  0.7138,  0.0951,  0.1031, -0.2981, -0.2327,\n",
       "          0.6740, -0.0101,  0.4541,  0.0366, -0.4250,  0.8000, -0.6379, -0.7132,\n",
       "          0.3481,  0.2341,  0.9738, -0.7603,  0.0507, -1.0042,  0.5253,  0.2483,\n",
       "         -0.4157,  0.7377,  0.5021,  1.3715,  1.4761, -0.0591,  0.2149, -0.1984,\n",
       "         -0.1567, -1.3925,  0.5441,  0.9526,  0.1475,  1.3760, -0.7634,  1.1773,\n",
       "         -1.0736,  1.6573,  0.0766,  0.8587, -0.8664, -1.2258, -0.6238, -1.2006,\n",
       "         -1.0218, -0.4385,  1.6217, -0.6294, -0.4166,  0.9429, -0.8594,  0.3287,\n",
       "         -0.5050,  0.6600, -0.8982, -0.9496]])"
      ]
     },
     "execution_count": 14,
     "metadata": {},
     "output_type": "execute_result"
    }
   ],
   "source": [
    "data[\"y\"]"
   ]
  },
  {
   "cell_type": "code",
   "execution_count": null,
   "metadata": {},
   "outputs": [],
   "source": []
  }
 ],
 "metadata": {
  "kernelspec": {
   "display_name": "Python 3",
   "language": "python",
   "name": "python3"
  },
  "language_info": {
   "codemirror_mode": {
    "name": "ipython",
    "version": 3
   },
   "file_extension": ".py",
   "mimetype": "text/x-python",
   "name": "python",
   "nbconvert_exporter": "python",
   "pygments_lexer": "ipython3",
   "version": "3.10.13"
  }
 },
 "nbformat": 4,
 "nbformat_minor": 2
}

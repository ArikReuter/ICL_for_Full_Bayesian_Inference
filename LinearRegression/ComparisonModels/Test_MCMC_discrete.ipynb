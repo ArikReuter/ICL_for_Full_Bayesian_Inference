{
 "cells": [
  {
   "cell_type": "code",
   "execution_count": 1,
   "metadata": {},
   "outputs": [],
   "source": [
    "%load_ext autoreload\n",
    "%autoreload 2"
   ]
  },
  {
   "cell_type": "code",
   "execution_count": 31,
   "metadata": {},
   "outputs": [],
   "source": [
    "from PFNExperiments.LinearRegression.GenerativeModels.GenerateDataLM_Examples import make_lm_program_spike_and_slap_batched, make_lm_program_spike_and_slap, make_lm_program_spike_and_slap_continuos\n",
    "from PFNExperiments.LinearRegression.GenerativeModels.LM_abstract import return_only_y, print_code\n",
    "from PFNExperiments.LinearRegression.ComparisonModels.Hamiltionion_MC import Hamiltionian_MC\n",
    "from PFNExperiments.LinearRegression.GenerativeModels.GenerateX import simulate_X_uniform\n"
   ]
  },
  {
   "cell_type": "code",
   "execution_count": 25,
   "metadata": {},
   "outputs": [],
   "source": [
    "X = simulate_X_uniform(100, 10)"
   ]
  },
  {
   "cell_type": "code",
   "execution_count": 42,
   "metadata": {},
   "outputs": [],
   "source": [
    "pprogram = make_lm_program_spike_and_slap_batched()\n",
    "pprogram_unbatched = make_lm_program_spike_and_slap_continuos(params_beta_dist=1e-2)"
   ]
  },
  {
   "cell_type": "code",
   "execution_count": 43,
   "metadata": {},
   "outputs": [],
   "source": [
    "data = pprogram(X)\n",
    "y = data[\"y\"]"
   ]
  },
  {
   "cell_type": "code",
   "execution_count": 44,
   "metadata": {},
   "outputs": [],
   "source": [
    "pprogram_return_only_y = return_only_y(pprogram_unbatched)"
   ]
  },
  {
   "cell_type": "code",
   "execution_count": 45,
   "metadata": {},
   "outputs": [
    {
     "data": {
      "text/plain": [
       "tensor([-0.3454, -0.7805,  0.7733, -0.7767, -0.8860, -1.0792, -0.7087,  0.0087,\n",
       "        -1.5149, -0.6831,  0.2578, -0.7757,  0.4074, -0.8306, -0.6123, -2.0065,\n",
       "        -0.0098, -0.2917, -0.9701, -0.6362, -1.5564, -1.3077, -0.6931, -1.5884,\n",
       "        -1.4441, -0.8125, -1.6683, -0.1517,  1.1926, -0.6725, -0.8980, -1.6750,\n",
       "         0.5338, -0.0032, -0.8631,  0.7975, -1.8685, -0.8068, -0.0027,  0.3442,\n",
       "        -1.7523, -1.1910, -0.1023, -0.1110, -1.2914, -0.2159, -1.7111, -1.4200,\n",
       "        -0.7671, -0.4362, -1.5020, -0.8029, -0.9461, -1.0491, -1.7878, -0.5465,\n",
       "        -0.3429, -0.7366, -0.8560, -0.0211, -1.3971,  0.7821,  0.0913, -0.4758,\n",
       "        -0.5942, -1.5682, -0.3011, -1.0402, -1.0623, -1.9901, -1.0273, -2.1024,\n",
       "        -0.8478, -0.3833, -0.9192, -0.5911, -0.9905, -0.2235, -1.2637, -1.0906,\n",
       "        -0.4556, -0.3458, -1.0071, -1.3917, -0.3606, -0.8208, -1.1686, -0.5617,\n",
       "        -1.2418, -0.3805, -0.2084, -1.5733, -0.8062, -1.0326, -0.7223, -1.6166,\n",
       "        -1.8010, -1.4847, -0.4703, -0.3879])"
      ]
     },
     "execution_count": 45,
     "metadata": {},
     "output_type": "execute_result"
    }
   ],
   "source": [
    "pprogram_return_only_y(X)"
   ]
  },
  {
   "cell_type": "code",
   "execution_count": 46,
   "metadata": {},
   "outputs": [],
   "source": [
    "sampler = Hamiltionian_MC(pprogram_return_only_y, n_samples= 500, n_warmup= 500)"
   ]
  },
  {
   "cell_type": "code",
   "execution_count": 47,
   "metadata": {},
   "outputs": [
    {
     "name": "stderr",
     "output_type": "stream",
     "text": [
      "Sample: 100%|██████████| 1000/1000 [29:32,  1.77s/it, step size=4.21e-03, acc. prob=0.899]\n"
     ]
    }
   ],
   "source": [
    "samples = sampler.sample_posterior(X, y)"
   ]
  },
  {
   "cell_type": "code",
   "execution_count": 52,
   "metadata": {},
   "outputs": [
    {
     "data": {
      "text/plain": [
       "tensor([0.0081, 0.0061, 0.0110, 0.0067, 0.0151, 0.8639, 0.9917, 0.5128, 0.0126,\n",
       "        0.0305])"
      ]
     },
     "execution_count": 52,
     "metadata": {},
     "output_type": "execute_result"
    }
   ],
   "source": [
    "samples[\"include_beta\"].mean(dim = 0)"
   ]
  },
  {
   "cell_type": "code",
   "execution_count": null,
   "metadata": {},
   "outputs": [],
   "source": []
  }
 ],
 "metadata": {
  "kernelspec": {
   "display_name": "Python 3",
   "language": "python",
   "name": "python3"
  },
  "language_info": {
   "codemirror_mode": {
    "name": "ipython",
    "version": 3
   },
   "file_extension": ".py",
   "mimetype": "text/x-python",
   "name": "python",
   "nbconvert_exporter": "python",
   "pygments_lexer": "ipython3",
   "version": "3.10.13"
  }
 },
 "nbformat": 4,
 "nbformat_minor": 2
}

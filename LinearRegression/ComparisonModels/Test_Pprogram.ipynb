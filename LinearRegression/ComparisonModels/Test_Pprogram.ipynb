{
 "cells": [
  {
   "cell_type": "code",
   "execution_count": 1,
   "metadata": {},
   "outputs": [],
   "source": [
    "%load_ext autoreload\n",
    "%autoreload 2"
   ]
  },
  {
   "cell_type": "code",
   "execution_count": 2,
   "metadata": {},
   "outputs": [],
   "source": [
    "import torch\n",
    "from PFNExperiments.LinearRegression.GenerativeModels.GenerateDataLM_ExamplesSparsity import make_lm_program_Laplace_ig_batched, make_lm_program_Laplace_ig\n",
    "from PFNExperiments.LinearRegression.GenerativeModels.LM_abstract import return_only_y, print_code\n",
    "\n",
    "from PFNExperiments.LinearRegression.GenerativeModels.GenerateDataLM_Examples import make_lm_program_ig, make_lm_program_ig_batched"
   ]
  },
  {
   "cell_type": "code",
   "execution_count": 3,
   "metadata": {},
   "outputs": [],
   "source": [
    "data_batched = torch.randn(16, 100, 10)\n",
    "data = torch.randn(100, 10)"
   ]
  },
  {
   "cell_type": "code",
   "execution_count": 4,
   "metadata": {},
   "outputs": [],
   "source": [
    "pprogram_batched = make_lm_program_Laplace_ig_batched()\n",
    "pprogram = make_lm_program_Laplace_ig()\n",
    "\n",
    "pprogram_return_only_y = return_only_y(pprogram)"
   ]
  },
  {
   "cell_type": "code",
   "execution_count": 5,
   "metadata": {},
   "outputs": [
    {
     "data": {
      "text/plain": [
       "tensor([ 0.1144, -1.0649, -0.3918, -0.4386,  1.0473, -0.3064,  0.3710,  1.0123,\n",
       "         0.4514,  0.3491])"
      ]
     },
     "execution_count": 5,
     "metadata": {},
     "output_type": "execute_result"
    }
   ],
   "source": [
    "pprogram2 = make_lm_program_ig()\n",
    "pprogram2_batched = make_lm_program_ig_batched()\n",
    "\n",
    "pprogram2(data)[\"beta\"]"
   ]
  },
  {
   "cell_type": "code",
   "execution_count": 6,
   "metadata": {},
   "outputs": [
    {
     "data": {
      "text/plain": [
       "torch.Size([100])"
      ]
     },
     "execution_count": 6,
     "metadata": {},
     "output_type": "execute_result"
    }
   ],
   "source": [
    "pprogram_return_only_y(data).shape"
   ]
  },
  {
   "cell_type": "code",
   "execution_count": 7,
   "metadata": {},
   "outputs": [],
   "source": [
    "from PFNExperiments.LinearRegression.ComparisonModels.Hamiltionion_MC import Hamiltionian_MC\n",
    "from PFNExperiments.LinearRegression.ComparisonModels.Variational_Inference import Variational_Inference"
   ]
  },
  {
   "cell_type": "code",
   "execution_count": 14,
   "metadata": {},
   "outputs": [],
   "source": [
    "sampler = Hamiltionian_MC(\n",
    "    pprogram_return_only_y,\n",
    "    n_samples=10,\n",
    "    n_warmup=10,\n",
    "    shuffle_samples=True\n",
    ")"
   ]
  },
  {
   "cell_type": "code",
   "execution_count": 15,
   "metadata": {},
   "outputs": [],
   "source": [
    "r_pprogram = pprogram(data)"
   ]
  },
  {
   "cell_type": "code",
   "execution_count": 16,
   "metadata": {},
   "outputs": [],
   "source": [
    "x = r_pprogram[\"x\"]\n",
    "y = r_pprogram[\"y\"]"
   ]
  },
  {
   "cell_type": "code",
   "execution_count": 17,
   "metadata": {},
   "outputs": [
    {
     "name": "stderr",
     "output_type": "stream",
     "text": [
      "Sample: 100%|██████████| 20/20 [00:00, 45.99it/s, step size=3.19e-02, acc. prob=0.677]\n"
     ]
    },
    {
     "data": {
      "text/plain": [
       "{'beta': tensor([[ 1.3277, -0.0229,  0.6602,  1.7189,  1.0953,  0.0424, -0.9715,  0.9434,\n",
       "           0.6479, -0.7178],\n",
       "         [ 1.3385,  0.0147,  0.7004,  1.7115,  1.1063,  0.0085, -0.8986,  0.9783,\n",
       "           0.6370, -0.6577],\n",
       "         [ 1.2867, -0.0575,  0.7666,  1.7359,  1.2224,  0.0444, -0.9690,  1.0521,\n",
       "           0.6165, -0.6757],\n",
       "         [ 1.2270, -0.0595,  0.7248,  1.6528,  1.2279,  0.0285, -1.0234,  1.0113,\n",
       "           0.6556, -0.5994],\n",
       "         [ 1.3366, -0.0672,  0.7165,  1.7291,  1.1261, -0.0271, -0.9312,  0.9524,\n",
       "           0.6678, -0.5831],\n",
       "         [ 1.3282, -0.0112,  0.6720,  1.7929,  1.0632,  0.0341, -0.9348,  0.9771,\n",
       "           0.6208, -0.6194],\n",
       "         [ 1.3085, -0.0623,  0.7711,  1.7166,  1.1218,  0.0046, -0.9853,  0.9585,\n",
       "           0.5826, -0.6449],\n",
       "         [ 1.3487, -0.0326,  0.7016,  1.6794,  1.1614,  0.0260, -0.9836,  0.9879,\n",
       "           0.6724, -0.6412],\n",
       "         [ 1.3092, -0.0271,  0.7628,  1.6737,  1.1844,  0.0081, -0.9408,  0.9865,\n",
       "           0.6478, -0.6426],\n",
       "         [ 1.2072, -0.0683,  0.7863,  1.7005,  1.2110,  0.0361, -0.9755,  1.0006,\n",
       "           0.6489, -0.5315]]),\n",
       " 'sigma_squared': tensor([0.2808, 0.3214, 0.3341, 0.3224, 0.3305, 0.3106, 0.3164, 0.3007, 0.3086,\n",
       "         0.3173])}"
      ]
     },
     "execution_count": 17,
     "metadata": {},
     "output_type": "execute_result"
    }
   ],
   "source": [
    "sampler.sample_posterior(\n",
    "    X=x,\n",
    "    y=y\n",
    ")"
   ]
  },
  {
   "cell_type": "code",
   "execution_count": 12,
   "metadata": {},
   "outputs": [],
   "source": [
    "vi = Variational_Inference(\n",
    "    pprogram_return_only_y,\n",
    "    n_samples=10,\n",
    "    n_steps=100,\n",
    "    lr = 1e-1\n",
    ")"
   ]
  },
  {
   "cell_type": "code",
   "execution_count": 13,
   "metadata": {},
   "outputs": [
    {
     "name": "stdout",
     "output_type": "stream",
     "text": [
      ".\n"
     ]
    },
    {
     "data": {
      "text/plain": [
       "{'_AutoDiagonalNormal_latent': tensor([[ 0.8353, -1.3723, -0.3632, -1.4352, -1.4973, -2.2003, -2.4395,  0.6067,\n",
       "           1.2191, -1.7031,  1.6655],\n",
       "         [ 0.7935, -1.6351, -0.3154, -1.4201, -1.4624, -2.1919, -2.4436,  0.7050,\n",
       "           1.1154, -1.7776,  1.6834],\n",
       "         [ 0.8378, -1.3901, -0.6792, -1.5966, -1.6598, -2.0851, -2.3749,  0.8466,\n",
       "           1.1520, -1.8509,  1.6823],\n",
       "         [ 0.7142, -1.5624, -0.1811, -1.2284, -1.3477, -2.1315, -2.3663,  0.6931,\n",
       "           1.1020, -1.8849,  1.4132],\n",
       "         [ 0.4840, -1.3826, -0.1754, -1.4546, -1.7398, -2.1470, -2.4193,  0.5820,\n",
       "           1.1500, -1.7144,  1.6909],\n",
       "         [ 0.5363, -1.6004, -0.2795, -1.3574, -1.4081, -2.1664, -2.1976,  0.5362,\n",
       "           1.1268, -1.7071,  1.8388],\n",
       "         [ 0.6824, -1.5152, -0.2346, -1.3776, -1.3846, -2.1045, -2.4081,  0.8353,\n",
       "           1.0383, -1.7359,  1.8245],\n",
       "         [ 0.5144, -1.3867, -0.4849, -1.4300, -1.6689, -2.0679, -2.2796,  0.8404,\n",
       "           1.1875, -1.6350,  1.7977],\n",
       "         [ 0.5049, -1.3638, -0.2895, -1.4143, -1.6442, -2.0856, -2.3110,  0.6106,\n",
       "           1.0751, -1.5947,  1.6862],\n",
       "         [ 0.6437, -1.5491, -0.2098, -1.4915, -1.3926, -2.0791, -2.2085,  0.7202,\n",
       "           1.1625, -1.7299,  1.5556]]),\n",
       " 'sigma_squared': tensor([2.3056, 2.2110, 2.3113, 2.0426, 1.6225, 1.7096, 1.9787, 1.6727, 1.6568,\n",
       "         1.9035]),\n",
       " 'beta': tensor([[-1.3723, -0.3632, -1.4352, -1.4973, -2.2003, -2.4395,  0.6067,  1.2191,\n",
       "          -1.7031,  1.6655],\n",
       "         [-1.6351, -0.3154, -1.4201, -1.4624, -2.1919, -2.4436,  0.7050,  1.1154,\n",
       "          -1.7776,  1.6834],\n",
       "         [-1.3901, -0.6792, -1.5966, -1.6598, -2.0851, -2.3749,  0.8466,  1.1520,\n",
       "          -1.8509,  1.6823],\n",
       "         [-1.5624, -0.1811, -1.2284, -1.3477, -2.1315, -2.3663,  0.6931,  1.1020,\n",
       "          -1.8849,  1.4132],\n",
       "         [-1.3826, -0.1754, -1.4546, -1.7398, -2.1470, -2.4193,  0.5820,  1.1500,\n",
       "          -1.7144,  1.6909],\n",
       "         [-1.6004, -0.2795, -1.3574, -1.4081, -2.1664, -2.1976,  0.5362,  1.1268,\n",
       "          -1.7071,  1.8388],\n",
       "         [-1.5152, -0.2346, -1.3776, -1.3846, -2.1045, -2.4081,  0.8353,  1.0383,\n",
       "          -1.7359,  1.8245],\n",
       "         [-1.3867, -0.4849, -1.4300, -1.6689, -2.0679, -2.2796,  0.8404,  1.1875,\n",
       "          -1.6350,  1.7977],\n",
       "         [-1.3638, -0.2895, -1.4143, -1.6442, -2.0856, -2.3110,  0.6106,  1.0751,\n",
       "          -1.5947,  1.6862],\n",
       "         [-1.5491, -0.2098, -1.4915, -1.3926, -2.0791, -2.2085,  0.7202,  1.1625,\n",
       "          -1.7299,  1.5556]])}"
      ]
     },
     "execution_count": 13,
     "metadata": {},
     "output_type": "execute_result"
    }
   ],
   "source": [
    "vi.sample_posterior(\n",
    "    X=x,\n",
    "    y=y\n",
    ")"
   ]
  },
  {
   "cell_type": "code",
   "execution_count": null,
   "metadata": {},
   "outputs": [],
   "source": []
  }
 ],
 "metadata": {
  "kernelspec": {
   "display_name": "Python 3",
   "language": "python",
   "name": "python3"
  },
  "language_info": {
   "codemirror_mode": {
    "name": "ipython",
    "version": 3
   },
   "file_extension": ".py",
   "mimetype": "text/x-python",
   "name": "python",
   "nbconvert_exporter": "python",
   "pygments_lexer": "ipython3",
   "version": "3.10.13"
  }
 },
 "nbformat": 4,
 "nbformat_minor": 2
}

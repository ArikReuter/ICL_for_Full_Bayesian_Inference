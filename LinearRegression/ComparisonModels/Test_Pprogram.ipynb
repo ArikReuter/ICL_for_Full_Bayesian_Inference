{
 "cells": [
  {
   "cell_type": "code",
   "execution_count": 1,
   "metadata": {},
   "outputs": [],
   "source": [
    "%load_ext autoreload\n",
    "%autoreload 2"
   ]
  },
  {
   "cell_type": "code",
   "execution_count": 33,
   "metadata": {},
   "outputs": [],
   "source": [
    "import torch\n",
    "from PFNExperiments.LinearRegression.GenerativeModels.GenerateDataLM_ExamplesSparsity import make_lm_program_Laplace_ig_batched, make_lm_program_Laplace_ig\n",
    "from PFNExperiments.LinearRegression.GenerativeModels.LM_abstract import return_only_y, print_code\n",
    "\n",
    "from PFNExperiments.LinearRegression.GenerativeModels.GenerateDataLM_Examples import make_lm_program_ig, make_lm_program_ig_batched"
   ]
  },
  {
   "cell_type": "code",
   "execution_count": 27,
   "metadata": {},
   "outputs": [],
   "source": [
    "data_batched = torch.randn(16, 100, 10)\n",
    "data = torch.randn(100, 10)"
   ]
  },
  {
   "cell_type": "code",
   "execution_count": 45,
   "metadata": {},
   "outputs": [],
   "source": [
    "pprogram_batched = make_lm_program_Laplace_ig_batched()\n",
    "pprogram = make_lm_program_Laplace_ig()\n",
    "\n",
    "pprogram_return_only_y = return_only_y(pprogram)"
   ]
  },
  {
   "cell_type": "code",
   "execution_count": 46,
   "metadata": {},
   "outputs": [
    {
     "name": "stdout",
     "output_type": "stream",
     "text": [
      "torch.Size([10])\n"
     ]
    },
    {
     "data": {
      "text/plain": [
       "tensor([ 0.1718,  1.3477, -1.7379, -1.4193, -2.4089,  0.0836, -0.7606,  1.4155,\n",
       "        -0.9165, -0.5794])"
      ]
     },
     "execution_count": 46,
     "metadata": {},
     "output_type": "execute_result"
    }
   ],
   "source": [
    "pprogram2 = make_lm_program_ig()\n",
    "pprogram2_batched = make_lm_program_ig_batched()\n",
    "\n",
    "pprogram2(data)[\"beta\"]"
   ]
  },
  {
   "cell_type": "code",
   "execution_count": 47,
   "metadata": {},
   "outputs": [
    {
     "name": "stdout",
     "output_type": "stream",
     "text": [
      "torch.Size([10])\n"
     ]
    },
    {
     "data": {
      "text/plain": [
       "torch.Size([100])"
      ]
     },
     "execution_count": 47,
     "metadata": {},
     "output_type": "execute_result"
    }
   ],
   "source": [
    "pprogram_return_only_y(data).shape"
   ]
  },
  {
   "cell_type": "code",
   "execution_count": 48,
   "metadata": {},
   "outputs": [],
   "source": [
    "from PFNExperiments.LinearRegression.ComparisonModels.Hamiltionion_MC import Hamiltionian_MC\n",
    "from PFNExperiments.LinearRegression.ComparisonModels.Variational_Inference import Variational_Inference"
   ]
  },
  {
   "cell_type": "code",
   "execution_count": 49,
   "metadata": {},
   "outputs": [],
   "source": [
    "sampler = Hamiltionian_MC(\n",
    "    pprogram_return_only_y,\n",
    "    n_samples=10,\n",
    "    n_warmup=10\n",
    ")"
   ]
  },
  {
   "cell_type": "code",
   "execution_count": 50,
   "metadata": {},
   "outputs": [
    {
     "name": "stdout",
     "output_type": "stream",
     "text": [
      "torch.Size([10])\n"
     ]
    }
   ],
   "source": [
    "r_pprogram = pprogram(data)"
   ]
  },
  {
   "cell_type": "code",
   "execution_count": 51,
   "metadata": {},
   "outputs": [],
   "source": [
    "x = r_pprogram[\"x\"]\n",
    "y = r_pprogram[\"y\"]"
   ]
  },
  {
   "cell_type": "code",
   "execution_count": 52,
   "metadata": {},
   "outputs": [
    {
     "name": "stderr",
     "output_type": "stream",
     "text": [
      "Warmup:  50%|█████     | 10/20 [00:00, 49.64it/s, step size=5.77e-02, acc. prob=0.725]"
     ]
    },
    {
     "name": "stdout",
     "output_type": "stream",
     "text": [
      "torch.Size([10])\n",
      "torch.Size([10])\n",
      "torch.Size([10])\n",
      "torch.Size([10])\n",
      "torch.Size([10])\n",
      "torch.Size([10])\n",
      "torch.Size([10])\n",
      "torch.Size([10])\n",
      "torch.Size([10])\n",
      "torch.Size([10])\n",
      "torch.Size([10])\n",
      "torch.Size([10])\n",
      "torch.Size([10])\n",
      "torch.Size([10])\n",
      "torch.Size([10])\n",
      "torch.Size([10])\n",
      "torch.Size([10])\n",
      "torch.Size([10])\n",
      "torch.Size([10])\n",
      "torch.Size([10])\n",
      "torch.Size([10])\n",
      "torch.Size([10])\n",
      "torch.Size([10])\n",
      "torch.Size([10])\n",
      "torch.Size([10])\n",
      "torch.Size([10])\n",
      "torch.Size([10])\n",
      "torch.Size([10])\n",
      "torch.Size([10])\n",
      "torch.Size([10])\n",
      "torch.Size([10])\n",
      "torch.Size([10])\n",
      "torch.Size([10])\n",
      "torch.Size([10])\n",
      "torch.Size([10])\n",
      "torch.Size([10])\n",
      "torch.Size([10])\n",
      "torch.Size([10])\n",
      "torch.Size([10])\n",
      "torch.Size([10])\n",
      "torch.Size([10])\n",
      "torch.Size([10])\n",
      "torch.Size([10])\n",
      "torch.Size([10])\n",
      "torch.Size([10])\n",
      "torch.Size([10])\n",
      "torch.Size([10])\n",
      "torch.Size([10])\n",
      "torch.Size([10])\n",
      "torch.Size([10])\n",
      "torch.Size([10])\n",
      "torch.Size([10])\n",
      "torch.Size([10])\n",
      "torch.Size([10])\n",
      "torch.Size([10])\n",
      "torch.Size([10])\n",
      "torch.Size([10])\n",
      "torch.Size([10])\n",
      "torch.Size([10])\n",
      "torch.Size([10])\n",
      "torch.Size([10])\n",
      "torch.Size([10])\n",
      "torch.Size([10])\n",
      "torch.Size([10])\n",
      "torch.Size([10])\n",
      "torch.Size([10])\n",
      "torch.Size([10])\n",
      "torch.Size([10])\n",
      "torch.Size([10])\n",
      "torch.Size([10])\n",
      "torch.Size([10])\n",
      "torch.Size([10])\n",
      "torch.Size([10])\n",
      "torch.Size([10])\n",
      "torch.Size([10])\n",
      "torch.Size([10])\n",
      "torch.Size([10])\n",
      "torch.Size([10])\n",
      "torch.Size([10])\n",
      "torch.Size([10])\n",
      "torch.Size([10])\n",
      "torch.Size([10])\n",
      "torch.Size([10])\n",
      "torch.Size([10])\n",
      "torch.Size([10])\n",
      "torch.Size([10])\n"
     ]
    },
    {
     "name": "stderr",
     "output_type": "stream",
     "text": [
      "Sample: 100%|██████████| 20/20 [00:00, 53.35it/s, step size=5.77e-02, acc. prob=0.818]"
     ]
    },
    {
     "name": "stdout",
     "output_type": "stream",
     "text": [
      "torch.Size([10])\n",
      "torch.Size([10])\n",
      "torch.Size([10])\n",
      "torch.Size([10])\n",
      "torch.Size([10])\n",
      "torch.Size([10])\n",
      "torch.Size([10])\n",
      "torch.Size([10])\n",
      "torch.Size([10])\n",
      "torch.Size([10])\n",
      "torch.Size([10])\n",
      "torch.Size([10])\n",
      "torch.Size([10])\n",
      "torch.Size([10])\n",
      "torch.Size([10])\n",
      "torch.Size([10])\n",
      "torch.Size([10])\n",
      "torch.Size([10])\n",
      "torch.Size([10])\n",
      "torch.Size([10])\n",
      "torch.Size([10])\n",
      "torch.Size([10])\n",
      "torch.Size([10])\n",
      "torch.Size([10])\n",
      "torch.Size([10])\n",
      "torch.Size([10])\n",
      "torch.Size([10])\n",
      "torch.Size([10])\n",
      "torch.Size([10])\n",
      "torch.Size([10])\n",
      "torch.Size([10])\n",
      "torch.Size([10])\n",
      "torch.Size([10])\n",
      "torch.Size([10])\n",
      "torch.Size([10])\n",
      "torch.Size([10])\n",
      "torch.Size([10])\n",
      "torch.Size([10])\n",
      "torch.Size([10])\n",
      "torch.Size([10])\n",
      "torch.Size([10])\n",
      "torch.Size([10])\n",
      "torch.Size([10])\n",
      "torch.Size([10])\n",
      "torch.Size([10])\n",
      "torch.Size([10])\n",
      "torch.Size([10])\n",
      "torch.Size([10])\n",
      "torch.Size([10])\n",
      "torch.Size([10])\n",
      "torch.Size([10])\n",
      "torch.Size([10])\n",
      "torch.Size([10])\n",
      "torch.Size([10])\n",
      "torch.Size([10])\n",
      "torch.Size([10])\n",
      "torch.Size([10])\n",
      "torch.Size([10])\n",
      "torch.Size([10])\n",
      "torch.Size([10])\n",
      "torch.Size([10])\n",
      "torch.Size([10])\n"
     ]
    },
    {
     "name": "stderr",
     "output_type": "stream",
     "text": [
      "\n"
     ]
    },
    {
     "data": {
      "text/plain": [
       "{'beta': tensor([[-1.5334, -0.8964,  2.2628, -0.1613, -0.7045,  0.2571,  3.5586,  4.0206,\n",
       "           1.2299,  0.2790],\n",
       "         [-1.5131, -0.7124,  2.3312, -0.0488, -0.5454,  0.3109,  3.2119,  3.8331,\n",
       "           1.1057,  0.2752],\n",
       "         [-1.4505, -0.8239,  2.3827, -0.1099, -0.5185,  0.2249,  3.3761,  3.9713,\n",
       "           1.1968,  0.3359],\n",
       "         [-1.5294, -0.9403,  2.1433, -0.0653, -0.5184,  0.2828,  3.2945,  3.9441,\n",
       "           1.1070,  0.3083],\n",
       "         [-1.4072, -0.7693,  2.1650,  0.0548, -0.4599,  0.2656,  3.3006,  4.0566,\n",
       "           1.1023,  0.2673],\n",
       "         [-1.3246, -0.7862,  2.3631, -0.2017, -0.6740,  0.2403,  3.3295,  4.0112,\n",
       "           1.0585,  0.1152],\n",
       "         [-1.5795, -0.8322,  2.3247, -0.0197, -0.6374,  0.3807,  3.3215,  3.8776,\n",
       "           1.1143,  0.3602],\n",
       "         [-1.4494, -0.8038,  2.2920, -0.1894, -0.7002,  0.1706,  3.3689,  3.9814,\n",
       "           1.1103,  0.3200],\n",
       "         [-1.4778, -0.7879,  2.2881, -0.0399, -0.5824,  0.3077,  3.3539,  3.9165,\n",
       "           1.2058,  0.3364],\n",
       "         [-1.5886, -0.8814,  2.2713, -0.1010, -0.6042,  0.3756,  3.5500,  3.9470,\n",
       "           1.2003,  0.2720]]),\n",
       " 'sigma_squared': tensor([0.7784, 0.6830, 0.7410, 0.7000, 0.6602, 0.6738, 0.6749, 0.6361, 0.6152,\n",
       "         0.7128])}"
      ]
     },
     "execution_count": 52,
     "metadata": {},
     "output_type": "execute_result"
    }
   ],
   "source": [
    "sampler.sample_posterior(\n",
    "    X=x,\n",
    "    y=y\n",
    ")"
   ]
  },
  {
   "cell_type": "code",
   "execution_count": 53,
   "metadata": {},
   "outputs": [],
   "source": [
    "vi = Variational_Inference(\n",
    "    pprogram_return_only_y,\n",
    "    n_samples=10,\n",
    "    n_steps=100,\n",
    "    lr = 1e-1\n",
    ")"
   ]
  },
  {
   "cell_type": "code",
   "execution_count": 54,
   "metadata": {},
   "outputs": [
    {
     "name": "stdout",
     "output_type": "stream",
     "text": [
      "torch.Size([10])\n",
      "torch.Size([10])\n",
      ".torch.Size([10])\n",
      "torch.Size([10])\n",
      "torch.Size([10])\n",
      "torch.Size([10])\n",
      "torch.Size([10])\n",
      "torch.Size([10])\n",
      "torch.Size([10])\n",
      "torch.Size([10])\n",
      "torch.Size([10])\n",
      "torch.Size([10])\n",
      "torch.Size([10])\n",
      "torch.Size([10])\n",
      "torch.Size([10])\n",
      "torch.Size([10])\n",
      "torch.Size([10])\n",
      "torch.Size([10])\n",
      "torch.Size([10])\n",
      "torch.Size([10])\n",
      "torch.Size([10])\n",
      "torch.Size([10])\n",
      "torch.Size([10])\n",
      "torch.Size([10])\n",
      "torch.Size([10])\n",
      "torch.Size([10])\n",
      "torch.Size([10])\n",
      "torch.Size([10])\n",
      "torch.Size([10])\n",
      "torch.Size([10])\n",
      "torch.Size([10])\n",
      "torch.Size([10])\n",
      "torch.Size([10])\n",
      "torch.Size([10])\n",
      "torch.Size([10])\n",
      "torch.Size([10])\n",
      "torch.Size([10])\n",
      "torch.Size([10])\n",
      "torch.Size([10])\n",
      "torch.Size([10])\n",
      "torch.Size([10])\n",
      "torch.Size([10])\n",
      "torch.Size([10])\n",
      "torch.Size([10])\n",
      "torch.Size([10])\n",
      "torch.Size([10])\n",
      "torch.Size([10])\n",
      "torch.Size([10])\n",
      "torch.Size([10])\n",
      "torch.Size([10])\n",
      "torch.Size([10])\n",
      "torch.Size([10])\n",
      "torch.Size([10])\n",
      "torch.Size([10])\n",
      "torch.Size([10])\n",
      "torch.Size([10])\n",
      "torch.Size([10])\n",
      "torch.Size([10])\n",
      "torch.Size([10])\n",
      "torch.Size([10])\n",
      "torch.Size([10])\n",
      "torch.Size([10])\n",
      "torch.Size([10])\n",
      "torch.Size([10])\n",
      "torch.Size([10])\n",
      "torch.Size([10])\n",
      "torch.Size([10])\n",
      "torch.Size([10])\n",
      "torch.Size([10])\n",
      "torch.Size([10])\n",
      "torch.Size([10])\n",
      "torch.Size([10])\n",
      "torch.Size([10])\n",
      "torch.Size([10])\n",
      "torch.Size([10])\n",
      "torch.Size([10])\n",
      "torch.Size([10])\n",
      "torch.Size([10])\n",
      "torch.Size([10])\n",
      "torch.Size([10])\n",
      "torch.Size([10])\n",
      "torch.Size([10])\n",
      "torch.Size([10])\n",
      "torch.Size([10])\n",
      "torch.Size([10])\n",
      "torch.Size([10])\n",
      "torch.Size([10])\n",
      "torch.Size([10])\n",
      "torch.Size([10])\n",
      "torch.Size([10])\n",
      "torch.Size([10])\n",
      "torch.Size([10])\n",
      "torch.Size([10])\n",
      "torch.Size([10])\n",
      "torch.Size([10])\n",
      "torch.Size([10])\n",
      "torch.Size([10])\n",
      "torch.Size([10])\n",
      "torch.Size([10])\n",
      "torch.Size([10])\n",
      "torch.Size([10])\n",
      "\n"
     ]
    },
    {
     "data": {
      "text/plain": [
       "{'_AutoDiagonalNormal_latent': tensor([[ 0.4432, -1.6131, -1.3550,  1.9485,  0.1789, -0.1257,  0.4043,  2.2753,\n",
       "           2.5002,  0.9997,  0.2930],\n",
       "         [ 0.7948, -1.5690, -1.2930,  1.7579,  0.0424, -0.0743,  0.5698,  2.3062,\n",
       "           2.7459,  1.2227,  0.2970],\n",
       "         [ 0.7468, -1.6143, -1.1980,  2.2222,  0.2137,  0.0085,  0.0140,  2.3882,\n",
       "           2.4405,  1.2587,  0.2326],\n",
       "         [ 0.3373, -1.5358, -1.3902,  2.0458,  0.1916,  0.0795,  0.1946,  2.3410,\n",
       "           2.6883,  1.0838,  0.3445],\n",
       "         [ 0.6203, -1.5394, -1.1421,  1.9501, -0.1447,  0.0225,  0.2903,  2.3202,\n",
       "           2.4540,  1.5253,  0.3063],\n",
       "         [ 0.5572, -1.5438, -1.2340,  1.9646,  0.0071, -0.2662,  0.2042,  2.2810,\n",
       "           2.4738,  1.2464,  0.3340],\n",
       "         [ 0.6006, -1.4866, -1.0414,  2.3424, -0.0737,  0.0654, -0.0067,  2.2653,\n",
       "           2.6827,  1.3176,  0.3713],\n",
       "         [ 0.8925, -1.3852, -1.1834,  2.0596,  0.1699, -0.1201,  0.4937,  2.3820,\n",
       "           2.3565,  1.2079,  0.2058],\n",
       "         [ 0.4913, -1.4631, -1.2910,  1.7148, -0.1181, -0.2239, -0.2423,  2.3324,\n",
       "           2.4259,  1.1655,  0.2339],\n",
       "         [ 0.6300, -1.5454, -1.1932,  2.2302, -0.0522, -0.0956,  0.3703,  2.4170,\n",
       "           2.5784,  1.2282,  0.1379]]),\n",
       " 'sigma_squared': tensor([1.5577, 2.2140, 2.1103, 1.4012, 1.8595, 1.7457, 1.8233, 2.4412, 1.6344,\n",
       "         1.8776]),\n",
       " 'beta': tensor([[-1.6131, -1.3550,  1.9485,  0.1789, -0.1257,  0.4043,  2.2753,  2.5002,\n",
       "           0.9997,  0.2930],\n",
       "         [-1.5690, -1.2930,  1.7579,  0.0424, -0.0743,  0.5698,  2.3062,  2.7459,\n",
       "           1.2227,  0.2970],\n",
       "         [-1.6143, -1.1980,  2.2222,  0.2137,  0.0085,  0.0140,  2.3882,  2.4405,\n",
       "           1.2587,  0.2326],\n",
       "         [-1.5358, -1.3902,  2.0458,  0.1916,  0.0795,  0.1946,  2.3410,  2.6883,\n",
       "           1.0838,  0.3445],\n",
       "         [-1.5394, -1.1421,  1.9501, -0.1447,  0.0225,  0.2903,  2.3202,  2.4540,\n",
       "           1.5253,  0.3063],\n",
       "         [-1.5438, -1.2340,  1.9646,  0.0071, -0.2662,  0.2042,  2.2810,  2.4738,\n",
       "           1.2464,  0.3340],\n",
       "         [-1.4866, -1.0414,  2.3424, -0.0737,  0.0654, -0.0067,  2.2653,  2.6827,\n",
       "           1.3176,  0.3713],\n",
       "         [-1.3852, -1.1834,  2.0596,  0.1699, -0.1201,  0.4937,  2.3820,  2.3565,\n",
       "           1.2079,  0.2058],\n",
       "         [-1.4631, -1.2910,  1.7148, -0.1181, -0.2239, -0.2423,  2.3324,  2.4259,\n",
       "           1.1655,  0.2339],\n",
       "         [-1.5454, -1.1932,  2.2302, -0.0522, -0.0956,  0.3703,  2.4170,  2.5784,\n",
       "           1.2282,  0.1379]])}"
      ]
     },
     "execution_count": 54,
     "metadata": {},
     "output_type": "execute_result"
    }
   ],
   "source": [
    "vi.sample_posterior(\n",
    "    X=x,\n",
    "    y=y\n",
    ")"
   ]
  },
  {
   "cell_type": "code",
   "execution_count": null,
   "metadata": {},
   "outputs": [],
   "source": []
  }
 ],
 "metadata": {
  "kernelspec": {
   "display_name": "Python 3",
   "language": "python",
   "name": "python3"
  },
  "language_info": {
   "codemirror_mode": {
    "name": "ipython",
    "version": 3
   },
   "file_extension": ".py",
   "mimetype": "text/x-python",
   "name": "python",
   "nbconvert_exporter": "python",
   "pygments_lexer": "ipython3",
   "version": "3.10.13"
  }
 },
 "nbformat": 4,
 "nbformat_minor": 2
}

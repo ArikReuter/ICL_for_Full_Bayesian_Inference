{
 "cells": [
  {
   "cell_type": "code",
   "execution_count": 9,
   "metadata": {},
   "outputs": [
    {
     "name": "stdout",
     "output_type": "stream",
     "text": [
      "The autoreload extension is already loaded. To reload it, use:\n",
      "  %reload_ext autoreload\n"
     ]
    }
   ],
   "source": [
    "%load_ext autoreload\n",
    "%autoreload 2"
   ]
  },
  {
   "cell_type": "code",
   "execution_count": 10,
   "metadata": {},
   "outputs": [],
   "source": [
    "import torch \n",
    "import pyro\n",
    "import inspect"
   ]
  },
  {
   "cell_type": "code",
   "execution_count": 14,
   "metadata": {},
   "outputs": [],
   "source": [
    "from GenerateDataLM_Examples import make_lm_program_plain, make_lm_program_gamma_gamma, make_lm_program_gamma_gamma_augmented\n",
    "from LM_abstract import return_only_y"
   ]
  },
  {
   "cell_type": "code",
   "execution_count": 15,
   "metadata": {},
   "outputs": [],
   "source": [
    "x_test = torch.rand(10, 5)"
   ]
  },
  {
   "cell_type": "code",
   "execution_count": 16,
   "metadata": {},
   "outputs": [],
   "source": [
    "pprogram1 = make_lm_program_gamma_gamma_augmented()\n",
    "pprogram1_y = return_only_y(pprogram1)"
   ]
  },
  {
   "cell_type": "code",
   "execution_count": 17,
   "metadata": {},
   "outputs": [
    {
     "name": "stdout",
     "output_type": "stream",
     "text": [
      "        def multivariate_lm_return_dict(x: torch.tensor, y: torch.tensor = None) -> dict:\n",
      "                sigma_squared = (pyro.sample(\"sigma_squared\", pyro.distributions.Gamma(a0, b0)) + 0.1)/10000\n",
      "                \n",
      "                tau = (pyro.sample(\"tau\", pyro.distributions.Gamma(a1,b1)) + 0.1)/10\n",
      "\n",
      "                beta_mean = torch.zeros(x.shape[1])\n",
      "                beta_cov = (1/tau) * torch.eye(x.shape[1])\n",
      "\n",
      "                beta = pyro.sample(\"beta\", pyro.distributions.MultivariateNormal(beta_mean, beta_cov))\n",
      "\n",
      "                mean = torch.matmul(x, beta)\n",
      "\n",
      "                with pyro.plate(\"data\", len(x)):\n",
      "\n",
      "                        y = pyro.sample(\"obs\", pyro.distributions.Normal(mean, sigma_squared), obs=y)\n",
      "\n",
      "                return {\n",
      "                        \"x\": x,\n",
      "                        \"y\": y,\n",
      "                        \"sigma_squared\": sigma_squared,\n",
      "                        \"tau\": tau,\n",
      "                        \"beta\": beta\n",
      "                }\n",
      "\n"
     ]
    }
   ],
   "source": [
    "print(inspect.getsource(pprogram1))"
   ]
  },
  {
   "cell_type": "code",
   "execution_count": 18,
   "metadata": {},
   "outputs": [
    {
     "data": {
      "text/plain": [
       "{'x': tensor([[0.4751, 0.9740, 0.6781, 0.8396, 0.0399],\n",
       "         [0.5208, 0.6352, 0.2324, 0.7731, 0.3670],\n",
       "         [0.4371, 0.6511, 0.8038, 0.0697, 0.6474],\n",
       "         [0.8615, 0.3588, 0.5655, 0.1777, 0.2774],\n",
       "         [0.6581, 0.7667, 0.2053, 0.8710, 0.9429],\n",
       "         [0.7916, 0.0108, 0.6712, 0.1803, 0.5939],\n",
       "         [0.6735, 0.8638, 0.4441, 0.8754, 0.1270],\n",
       "         [0.2292, 0.1116, 0.7377, 0.3345, 0.4324],\n",
       "         [0.0484, 0.5664, 0.4569, 0.9636, 0.2460],\n",
       "         [0.2367, 0.0631, 0.3349, 0.1032, 0.8096]]),\n",
       " 'y': tensor([-2.7189, -1.4626, -2.3615, -3.3263, -1.1892, -1.9007, -2.7987, -0.2675,\n",
       "          0.2796,  0.2252]),\n",
       " 'sigma_squared': tensor(0.0003),\n",
       " 'tau': tensor(0.2493),\n",
       " 'beta': tensor([-3.3373, -2.2672, -0.6171,  1.7084,  1.4678])}"
      ]
     },
     "execution_count": 18,
     "metadata": {},
     "output_type": "execute_result"
    }
   ],
   "source": [
    "pprogram1(x_test)"
   ]
  },
  {
   "cell_type": "code",
   "execution_count": 19,
   "metadata": {},
   "outputs": [
    {
     "data": {
      "text/plain": [
       "tensor([4.7977, 4.7872, 3.3901, 2.9579, 6.7423, 2.8922, 5.1756, 2.3267, 4.2094,\n",
       "        2.4689])"
      ]
     },
     "execution_count": 19,
     "metadata": {},
     "output_type": "execute_result"
    }
   ],
   "source": [
    "pprogram1_y(x_test)"
   ]
  },
  {
   "cell_type": "code",
   "execution_count": null,
   "metadata": {},
   "outputs": [],
   "source": []
  }
 ],
 "metadata": {
  "kernelspec": {
   "display_name": "Python 3",
   "language": "python",
   "name": "python3"
  },
  "language_info": {
   "codemirror_mode": {
    "name": "ipython",
    "version": 3
   },
   "file_extension": ".py",
   "mimetype": "text/x-python",
   "name": "python",
   "nbconvert_exporter": "python",
   "pygments_lexer": "ipython3",
   "version": "3.10.13"
  }
 },
 "nbformat": 4,
 "nbformat_minor": 2
}

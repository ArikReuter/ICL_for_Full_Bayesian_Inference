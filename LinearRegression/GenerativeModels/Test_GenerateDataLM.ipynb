{
 "cells": [
  {
   "cell_type": "code",
   "execution_count": 3,
   "metadata": {},
   "outputs": [],
   "source": [
    "%load_ext autoreload\n",
    "%autoreload 2"
   ]
  },
  {
   "cell_type": "code",
   "execution_count": 4,
   "metadata": {},
   "outputs": [],
   "source": [
    "import torch \n",
    "import pyro\n",
    "import inspect"
   ]
  },
  {
   "cell_type": "code",
   "execution_count": 14,
   "metadata": {},
   "outputs": [],
   "source": [
    "from GenerateDataLM_ExamplesSparsity import make_lm_program_Laplace_ig, make_lm_program_Laplace_ig, make_lm_program_Laplace_ig_batched"
   ]
  },
  {
   "cell_type": "code",
   "execution_count": 6,
   "metadata": {},
   "outputs": [],
   "source": [
    "x_test = torch.rand(10, 5)"
   ]
  },
  {
   "cell_type": "code",
   "execution_count": 8,
   "metadata": {},
   "outputs": [],
   "source": [
    "pprogram1 = make_lm_program_Laplace_ig()\n"
   ]
  },
  {
   "cell_type": "code",
   "execution_count": 9,
   "metadata": {},
   "outputs": [
    {
     "name": "stdout",
     "output_type": "stream",
     "text": [
      "        def multivariate_lm_return_dict(x: torch.Tensor, y: torch.Tensor = None) -> dict:\n",
      "                # Define distributions for the global parameters\n",
      "                sigma_squared_dist = dist.InverseGamma(a, b)\n",
      "\n",
      "\n",
      "                sigma_squared = pyro.sample(\"sigma_squared\", sigma_squared_dist).squeeze()\n",
      "\n",
      "                beta_dist = dist.Laplace(torch.zeros(x.shape[1]), torch.ones(x.shape[1]) * tau)\n",
      "                beta = pyro.sample(\"beta\", beta_dist)\n",
      "\n",
      "                # Compute mean using matrix multiplication\n",
      "                mean = torch.matmul(x, beta)\n",
      "\n",
      "                with pyro.plate(\"data\", len(x)):\n",
      "                        y = pyro.sample(\"obs\", pyro.distributions.Normal(mean, sigma_squared), obs=y)\n",
      "\n",
      "\n",
      "                return {\n",
      "                        \"x\": x,\n",
      "                        \"y\": y,\n",
      "                        \"sigma_squared\": sigma_squared,\n",
      "                        \"beta\": beta\n",
      "                }\n",
      "\n"
     ]
    }
   ],
   "source": [
    "print(inspect.getsource(pprogram1))"
   ]
  },
  {
   "cell_type": "code",
   "execution_count": 10,
   "metadata": {},
   "outputs": [
    {
     "data": {
      "text/plain": [
       "{'x': tensor([[0.6982, 0.7959, 0.2601, 0.2380, 0.2091],\n",
       "         [0.5637, 0.8576, 0.4164, 0.8841, 0.9527],\n",
       "         [0.6523, 0.1370, 0.5826, 0.3266, 0.8153],\n",
       "         [0.0622, 0.2053, 0.6906, 0.2275, 0.6996],\n",
       "         [0.8868, 0.1270, 0.6378, 0.5049, 0.7761],\n",
       "         [0.8002, 0.2556, 0.1469, 0.9388, 0.7648],\n",
       "         [0.3835, 0.4979, 0.5414, 0.4409, 0.1928],\n",
       "         [0.4248, 0.6206, 0.5312, 0.6309, 0.8103],\n",
       "         [0.5448, 0.1203, 0.4891, 0.3271, 0.9618],\n",
       "         [0.8410, 0.1535, 0.7963, 0.7955, 0.1488]]),\n",
       " 'y': tensor([-0.8519, -1.0347,  0.6679,  1.3090,  1.0603,  0.2205,  0.4552,  0.4379,\n",
       "          3.1528,  1.3172]),\n",
       " 'sigma_squared': tensor(0.6708),\n",
       " 'beta': tensor([ 1.5215, -2.4404,  1.0467, -0.7894,  1.0830])}"
      ]
     },
     "execution_count": 10,
     "metadata": {},
     "output_type": "execute_result"
    }
   ],
   "source": [
    "pprogram1(x_test)"
   ]
  },
  {
   "cell_type": "code",
   "execution_count": 19,
   "metadata": {},
   "outputs": [
    {
     "data": {
      "text/plain": [
       "tensor([4.7977, 4.7872, 3.3901, 2.9579, 6.7423, 2.8922, 5.1756, 2.3267, 4.2094,\n",
       "        2.4689])"
      ]
     },
     "execution_count": 19,
     "metadata": {},
     "output_type": "execute_result"
    }
   ],
   "source": [
    "pprogram1_y(x_test)"
   ]
  },
  {
   "cell_type": "code",
   "execution_count": 22,
   "metadata": {},
   "outputs": [],
   "source": [
    "x_test_batched = torch.rand(10, 11, 5)\n",
    "\n",
    "pprogram2 = make_lm_program_Laplace_ig_batched()"
   ]
  },
  {
   "cell_type": "code",
   "execution_count": 23,
   "metadata": {},
   "outputs": [],
   "source": [
    "r = pprogram2(x_test_batched)"
   ]
  },
  {
   "cell_type": "code",
   "execution_count": 24,
   "metadata": {},
   "outputs": [
    {
     "name": "stdout",
     "output_type": "stream",
     "text": [
      "x torch.Size([10, 11, 5])\n",
      "y torch.Size([10, 11])\n",
      "sigma_squared torch.Size([10, 1])\n",
      "beta torch.Size([10, 5])\n"
     ]
    }
   ],
   "source": [
    "for key, value in r.items():\n",
    "    print(key, value.shape)"
   ]
  },
  {
   "cell_type": "code",
   "execution_count": null,
   "metadata": {},
   "outputs": [],
   "source": []
  }
 ],
 "metadata": {
  "kernelspec": {
   "display_name": "Python 3",
   "language": "python",
   "name": "python3"
  },
  "language_info": {
   "codemirror_mode": {
    "name": "ipython",
    "version": 3
   },
   "file_extension": ".py",
   "mimetype": "text/x-python",
   "name": "python",
   "nbconvert_exporter": "python",
   "pygments_lexer": "ipython3",
   "version": "3.10.13"
  }
 },
 "nbformat": 4,
 "nbformat_minor": 2
}

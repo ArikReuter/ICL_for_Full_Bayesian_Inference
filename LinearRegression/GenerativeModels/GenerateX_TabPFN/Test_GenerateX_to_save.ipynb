{
 "cells": [
  {
   "cell_type": "code",
   "execution_count": 9,
   "metadata": {},
   "outputs": [
    {
     "name": "stdout",
     "output_type": "stream",
     "text": [
      "The autoreload extension is already loaded. To reload it, use:\n",
      "  %reload_ext autoreload\n"
     ]
    }
   ],
   "source": [
    "%load_ext autoreload\n",
    "%autoreload 2"
   ]
  },
  {
   "cell_type": "code",
   "execution_count": 10,
   "metadata": {},
   "outputs": [],
   "source": [
    "import torch \n",
    "from PFNExperiments.LinearRegression.GenerativeModels.GenerateX_TabPFN.GenerateX_to_save import GenerateX_to_save"
   ]
  },
  {
   "cell_type": "code",
   "execution_count": 11,
   "metadata": {},
   "outputs": [],
   "source": [
    "gen = GenerateX_to_save(\n",
    "    n_samples = 1_000_000,\n",
    "    N = 50,\n",
    "    P = 5,\n",
    "    save_folder= \"C:/Users/arik_/Documents/Dokumente/Job_Clausthal/PFNs/Repository/PFNExperiments/LinearRegression/GenerativeModels/GenerateX_TabPFN/Saved_Data/\",\n",
    "    save_name = \"X_tabpfn_n50_p5_1_000_000_v2.pt\",\n",
    "    replace_nan = False,\n",
    "    normalize= False\n",
    ")"
   ]
  },
  {
   "cell_type": "code",
   "execution_count": 12,
   "metadata": {},
   "outputs": [
    {
     "name": "stdout",
     "output_type": "stream",
     "text": [
      "Using style prior: True\n",
      "Using cpu:0 device\n",
      "Using a Transformer with 25.77 M parameters\n"
     ]
    },
    {
     "name": "stderr",
     "output_type": "stream",
     "text": [
      "  7%|▋         | 71022/1000000 [28:57<7:52:06, 32.80it/s] "
     ]
    },
    {
     "name": "stdout",
     "output_type": "stream",
     "text": [
      "Nan caught in MLP model x: tensor(0)  y: tensor(50)\n",
      "{'is_causal': False, 'num_causes': 6, 'prior_mlp_hidden_dim': 214, 'num_layers': 15, 'noise_std': 0.00014997963831767344, 'y_is_effect': False, 'pre_sample_weights': True, 'prior_mlp_dropout_prob': 0.5982376115768675, 'pre_sample_causes': True}\n"
     ]
    },
    {
     "name": "stderr",
     "output_type": "stream",
     "text": [
      " 17%|█▋        | 165488/1000000 [1:11:22<7:40:35, 30.20it/s] "
     ]
    },
    {
     "name": "stdout",
     "output_type": "stream",
     "text": [
      "Nan caught in MLP model x: tensor(0)  y: tensor(22)\n",
      "{'is_causal': False, 'num_causes': 3, 'prior_mlp_hidden_dim': 231, 'num_layers': 16, 'noise_std': 0.0004470026458821111, 'y_is_effect': True, 'pre_sample_weights': False, 'prior_mlp_dropout_prob': 0.2300288515506543, 'pre_sample_causes': True}\n"
     ]
    },
    {
     "name": "stderr",
     "output_type": "stream",
     "text": [
      " 38%|███▊      | 379700/1000000 [2:42:31<4:47:11, 36.00it/s] "
     ]
    },
    {
     "name": "stdout",
     "output_type": "stream",
     "text": [
      "Nan caught in MLP model x: tensor(0)  y: tensor(50)\n",
      "{'is_causal': True, 'num_causes': 6, 'prior_mlp_hidden_dim': 126, 'num_layers': 21, 'noise_std': 0.0007654758284416183, 'y_is_effect': True, 'pre_sample_weights': True, 'prior_mlp_dropout_prob': 0.27288597098099376, 'pre_sample_causes': True}\n"
     ]
    },
    {
     "name": "stderr",
     "output_type": "stream",
     "text": [
      " 50%|█████     | 503193/1000000 [3:35:00<3:05:36, 44.61it/s] "
     ]
    },
    {
     "name": "stdout",
     "output_type": "stream",
     "text": [
      "Nan caught in MLP model x: tensor(250)  y: tensor(50)\n",
      "{'is_causal': True, 'num_causes': 13, 'prior_mlp_hidden_dim': 112, 'num_layers': 22, 'noise_std': 0.0002295949173004907, 'y_is_effect': False, 'pre_sample_weights': True, 'prior_mlp_dropout_prob': 0.22225425740876878, 'pre_sample_causes': True}\n"
     ]
    },
    {
     "name": "stderr",
     "output_type": "stream",
     "text": [
      "100%|██████████| 1000000/1000000 [7:03:21<00:00, 39.37it/s]  \n"
     ]
    }
   ],
   "source": [
    "r = gen.sample()"
   ]
  },
  {
   "cell_type": "code",
   "execution_count": 14,
   "metadata": {},
   "outputs": [
    {
     "data": {
      "text/plain": [
       "torch.Size([1000000, 50, 5])"
      ]
     },
     "execution_count": 14,
     "metadata": {},
     "output_type": "execute_result"
    }
   ],
   "source": [
    "r.shape"
   ]
  },
  {
   "cell_type": "code",
   "execution_count": null,
   "metadata": {},
   "outputs": [],
   "source": []
  }
 ],
 "metadata": {
  "kernelspec": {
   "display_name": "Python 3",
   "language": "python",
   "name": "python3"
  },
  "language_info": {
   "codemirror_mode": {
    "name": "ipython",
    "version": 3
   },
   "file_extension": ".py",
   "mimetype": "text/x-python",
   "name": "python",
   "nbconvert_exporter": "python",
   "pygments_lexer": "ipython3",
   "version": "3.10.13"
  }
 },
 "nbformat": 4,
 "nbformat_minor": 2
}

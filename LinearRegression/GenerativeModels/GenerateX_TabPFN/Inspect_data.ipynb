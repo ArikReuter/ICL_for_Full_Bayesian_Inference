{
 "cells": [
  {
   "cell_type": "code",
   "execution_count": 45,
   "metadata": {},
   "outputs": [
    {
     "name": "stdout",
     "output_type": "stream",
     "text": [
      "The autoreload extension is already loaded. To reload it, use:\n",
      "  %reload_ext autoreload\n"
     ]
    }
   ],
   "source": [
    "%load_ext autoreload\n",
    "%autoreload 2\n",
    "\n",
    "import torch"
   ]
  },
  {
   "cell_type": "code",
   "execution_count": 46,
   "metadata": {},
   "outputs": [],
   "source": [
    "path = \"C:/Users/arik_/Documents/Dokumente/Job_Clausthal/PFNs/Repository/PFNExperiments/LinearRegression/GenerativeModels/GenerateX_TabPFN/Saved_Data/X_tabpfn_n50_p5_1_000_000_v2.pt\"\n",
    "\n",
    "X = torch.load(path)"
   ]
  },
  {
   "cell_type": "code",
   "execution_count": 47,
   "metadata": {},
   "outputs": [
    {
     "name": "stdout",
     "output_type": "stream",
     "text": [
      "tensor(True)\n",
      "tensor(False)\n"
     ]
    }
   ],
   "source": [
    "# check for inf and nan\n",
    "print(torch.isnan(X).any())\n",
    "\n",
    "print(torch.isinf(X).any())"
   ]
  },
  {
   "cell_type": "code",
   "execution_count": 48,
   "metadata": {},
   "outputs": [
    {
     "name": "stdout",
     "output_type": "stream",
     "text": [
      "tensor(1022400)\n"
     ]
    }
   ],
   "source": [
    "# count number of nans\n",
    "print(torch.isnan(X).sum())\n",
    "\n"
   ]
  },
  {
   "cell_type": "code",
   "execution_count": 37,
   "metadata": {},
   "outputs": [
    {
     "data": {
      "text/plain": [
       "torch.Size([1000000, 50, 5])"
      ]
     },
     "execution_count": 37,
     "metadata": {},
     "output_type": "execute_result"
    }
   ],
   "source": [
    "X.shape"
   ]
  },
  {
   "cell_type": "code",
   "execution_count": 40,
   "metadata": {},
   "outputs": [],
   "source": [
    "Xs = X[:1000]"
   ]
  },
  {
   "cell_type": "code",
   "execution_count": 43,
   "metadata": {},
   "outputs": [
    {
     "data": {
      "text/plain": [
       "tensor(0.)"
      ]
     },
     "execution_count": 43,
     "metadata": {},
     "output_type": "execute_result"
    }
   ],
   "source": [
    "Xs[44].min()"
   ]
  },
  {
   "cell_type": "code",
   "execution_count": 30,
   "metadata": {},
   "outputs": [
    {
     "data": {
      "text/plain": [
       "tensor([[0.8920, 0.5274, 0.5536, 0.5739, 0.5826],\n",
       "        [0.6661, 0.5406, 0.6846, 0.7747, 0.7266],\n",
       "        [0.3262, 0.6320, 0.5931, 0.5012, 0.5878],\n",
       "        [0.4185, 0.4753, 0.6460, 0.3031, 0.7773],\n",
       "        [0.5379, 0.3338, 0.3824, 0.6756, 0.2368],\n",
       "        [0.6669, 0.2248, 1.0000, 0.3412, 0.6777],\n",
       "        [0.6367, 0.8826, 0.3936, 0.4375, 0.4359],\n",
       "        [0.1603, 0.5824, 0.7155, 0.4512, 0.3659],\n",
       "        [0.2881, 0.3559, 0.3763, 0.6081, 0.3220],\n",
       "        [1.0000, 0.3234, 0.1844, 0.1345, 0.4520],\n",
       "        [0.6488, 0.6098, 0.3126, 0.3518, 0.6512],\n",
       "        [0.8056, 0.7531, 0.5179, 0.3329, 0.4397],\n",
       "        [0.7966, 0.5856, 0.5023, 0.6523, 0.9825],\n",
       "        [0.1356, 0.5275, 0.3845, 0.3754, 0.0000],\n",
       "        [0.6734, 0.0000, 0.3404, 0.4268, 0.7650],\n",
       "        [0.7029, 0.6907, 0.8415, 0.4662, 0.4762],\n",
       "        [0.3785, 0.5287, 0.4359, 0.3688, 0.6292],\n",
       "        [0.5558, 0.6445, 0.6494, 0.8196, 0.3993],\n",
       "        [0.8922, 0.5116, 0.5992, 0.4750, 0.4379],\n",
       "        [0.7124, 0.5868, 0.5892, 1.0000, 0.5475],\n",
       "        [0.5670, 0.7247, 0.4433, 0.7416, 0.4512],\n",
       "        [0.3278, 0.0260, 0.5653, 0.3267, 0.6351],\n",
       "        [0.5114, 0.5451, 0.7224, 0.5667, 0.3794],\n",
       "        [0.7896, 0.8950, 0.9123, 0.4396, 0.4568],\n",
       "        [0.9094, 0.3377, 0.9024, 0.4032, 0.2425],\n",
       "        [0.5341, 0.6209, 0.6357, 0.0660, 0.3154],\n",
       "        [0.8898, 0.6627, 0.6530, 0.3992, 0.2783],\n",
       "        [0.1842, 1.0000, 0.8542, 0.3590, 0.3315],\n",
       "        [0.6495, 0.6707, 0.2371, 0.4839, 0.7770],\n",
       "        [0.5326, 0.6163, 0.6201, 0.5010, 0.7983],\n",
       "        [0.4323, 0.2886, 0.3289, 0.4311, 0.5831],\n",
       "        [0.6512, 0.4861, 0.4443, 0.6293, 0.3060],\n",
       "        [0.4886, 0.4750, 0.7482, 0.7390, 0.4513],\n",
       "        [0.0000, 0.1227, 0.3095, 0.2790, 0.3474],\n",
       "        [0.6837, 0.2753, 0.4811, 0.5465, 0.4681],\n",
       "        [0.3742, 0.3531, 0.5471, 0.4632, 0.1964],\n",
       "        [0.9370, 0.6999, 0.9712, 0.4083, 0.2894],\n",
       "        [0.6494, 0.2341, 0.6858, 0.7839, 0.6002],\n",
       "        [0.5266, 0.6846, 0.4682, 0.6002, 0.3670],\n",
       "        [0.5312, 0.3676, 0.4113, 0.0000, 0.9256],\n",
       "        [0.4243, 0.5551, 0.0000, 0.7174, 0.3788],\n",
       "        [0.3660, 0.2861, 0.7930, 0.6876, 0.6508],\n",
       "        [0.8273, 0.2704, 0.2801, 0.5068, 0.4554],\n",
       "        [0.6715, 0.5074, 0.5794, 0.6398, 0.5802],\n",
       "        [0.7417, 0.7939, 0.4212, 0.6266, 0.1835],\n",
       "        [0.6392, 0.7849, 0.6580, 0.4852, 0.1605],\n",
       "        [0.6067, 0.6885, 0.7792, 0.4962, 0.2932],\n",
       "        [0.6247, 0.3369, 0.6174, 0.3477, 1.0000],\n",
       "        [0.5488, 0.6489, 0.3809, 0.4716, 0.5180],\n",
       "        [0.5791, 0.8032, 0.5357, 0.4686, 0.3536]])"
      ]
     },
     "execution_count": 30,
     "metadata": {},
     "output_type": "execute_result"
    }
   ],
   "source": [
    "Xs[45]"
   ]
  },
  {
   "cell_type": "code",
   "execution_count": null,
   "metadata": {},
   "outputs": [],
   "source": []
  }
 ],
 "metadata": {
  "kernelspec": {
   "display_name": "Python 3",
   "language": "python",
   "name": "python3"
  },
  "language_info": {
   "codemirror_mode": {
    "name": "ipython",
    "version": 3
   },
   "file_extension": ".py",
   "mimetype": "text/x-python",
   "name": "python",
   "nbconvert_exporter": "python",
   "pygments_lexer": "ipython3",
   "version": "3.10.13"
  }
 },
 "nbformat": 4,
 "nbformat_minor": 2
}

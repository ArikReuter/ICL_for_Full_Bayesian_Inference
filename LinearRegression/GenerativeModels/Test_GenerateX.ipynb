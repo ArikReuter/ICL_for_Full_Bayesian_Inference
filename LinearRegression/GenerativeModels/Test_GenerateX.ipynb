{
 "cells": [
  {
   "cell_type": "code",
   "execution_count": 1,
   "metadata": {},
   "outputs": [],
   "source": [
    "%load_ext autoreload\n",
    "%autoreload 2"
   ]
  },
  {
   "cell_type": "code",
   "execution_count": 2,
   "metadata": {},
   "outputs": [],
   "source": [
    "import torch \n",
    "import matplotlib.pyplot as plt"
   ]
  },
  {
   "cell_type": "code",
   "execution_count": 3,
   "metadata": {},
   "outputs": [],
   "source": [
    "from PFNExperiments.LinearRegression.GenerativeModels.GenerateX import simulate_X_uniform_discretized, simulate_X_uniform_discretized3, simulate_X_uniform_discretized4"
   ]
  },
  {
   "cell_type": "code",
   "execution_count": 18,
   "metadata": {},
   "outputs": [],
   "source": [
    "N = 50\n",
    "P = 5\n",
    "bs = 32"
   ]
  },
  {
   "cell_type": "code",
   "execution_count": 19,
   "metadata": {},
   "outputs": [],
   "source": [
    "X = simulate_X_uniform_discretized3(\n",
    "    n = N,\n",
    "    p = P,\n",
    "    batch_size=bs,\n",
    ")"
   ]
  },
  {
   "cell_type": "code",
   "execution_count": 20,
   "metadata": {},
   "outputs": [
    {
     "data": {
      "text/plain": [
       "torch.Size([32, 50, 5])"
      ]
     },
     "execution_count": 20,
     "metadata": {},
     "output_type": "execute_result"
    }
   ],
   "source": [
    "X.shape"
   ]
  },
  {
   "cell_type": "code",
   "execution_count": 21,
   "metadata": {},
   "outputs": [],
   "source": [
    "def get_n_diff_values(X):\n",
    "    print(X.shape)\n",
    "    return [len(torch.unique(X[:,i])) for i in range(X.shape[1])]"
   ]
  },
  {
   "cell_type": "code",
   "execution_count": 32,
   "metadata": {},
   "outputs": [
    {
     "data": {
      "text/plain": [
       "tensor(0.4836)"
      ]
     },
     "execution_count": 32,
     "metadata": {},
     "output_type": "execute_result"
    }
   ],
   "source": [
    "X[1].mean()"
   ]
  },
  {
   "cell_type": "code",
   "execution_count": 25,
   "metadata": {},
   "outputs": [
    {
     "name": "stdout",
     "output_type": "stream",
     "text": [
      "torch.Size([50, 5])\n"
     ]
    },
    {
     "data": {
      "text/plain": [
       "[50, 47, 35, 48, 32]"
      ]
     },
     "execution_count": 25,
     "metadata": {},
     "output_type": "execute_result"
    }
   ],
   "source": [
    "get_n_diff_values(X[7])"
   ]
  },
  {
   "cell_type": "code",
   "execution_count": 17,
   "metadata": {},
   "outputs": [
    {
     "data": {
      "text/plain": [
       "torch.Size([50, 10])"
      ]
     },
     "execution_count": 17,
     "metadata": {},
     "output_type": "execute_result"
    }
   ],
   "source": [
    "X[3].shape"
   ]
  },
  {
   "cell_type": "code",
   "execution_count": 318,
   "metadata": {},
   "outputs": [
    {
     "data": {
      "text/plain": [
       "(array([2., 0., 0., 1., 0., 1., 1., 0., 0., 2., 0., 0., 0., 1., 0., 0., 1.,\n",
       "        0., 1., 1., 0., 1., 0., 1., 0., 0., 0., 0., 1., 0., 1., 1., 1., 0.,\n",
       "        1., 1., 1., 0., 0., 0., 0., 1., 2., 0., 0., 1., 1., 1., 0., 0., 1.,\n",
       "        1., 0., 0., 0., 2., 0., 0., 2., 0., 1., 0., 0., 0., 0., 0., 1., 1.,\n",
       "        0., 0., 0., 1., 3., 1., 0., 0., 2., 0., 0., 1., 1., 1., 0., 2., 1.,\n",
       "        0., 0., 4., 0., 0., 2., 0., 0., 0., 1., 1., 0., 0., 0., 2., 0., 0.,\n",
       "        0., 1., 1., 1., 0., 0., 0., 1., 1., 1., 2., 0., 0., 1., 0., 0., 0.,\n",
       "        0., 2., 0., 1., 0., 0., 0., 1., 0., 0., 1., 0., 0., 0., 1., 1., 1.,\n",
       "        1., 1., 1., 0., 1., 0., 0., 0., 2., 0., 1., 0., 0., 2., 1., 0., 0.,\n",
       "        2., 1., 1., 0., 0., 1., 0., 1., 0., 0., 0., 0., 1., 0., 0., 0., 0.,\n",
       "        0., 0., 0., 0., 0., 0., 0., 0., 1., 0., 1., 0., 0., 1., 0., 0., 1.,\n",
       "        0., 0., 2., 0., 0., 0., 0., 0., 0., 0., 0., 0., 2.]),\n",
       " array([0.00978118, 0.01472048, 0.01965977, 0.02459907, 0.02953837,\n",
       "        0.03447766, 0.03941695, 0.04435625, 0.04929555, 0.05423484,\n",
       "        0.05917414, 0.06411343, 0.06905273, 0.07399203, 0.07893132,\n",
       "        0.08387062, 0.08880991, 0.09374921, 0.09868851, 0.1036278 ,\n",
       "        0.1085671 , 0.11350639, 0.11844569, 0.12338498, 0.12832427,\n",
       "        0.13326357, 0.13820288, 0.14314216, 0.14808147, 0.15302075,\n",
       "        0.15796006, 0.16289935, 0.16783865, 0.17277794, 0.17771724,\n",
       "        0.18265653, 0.18759583, 0.19253512, 0.19747442, 0.20241371,\n",
       "        0.20735301, 0.2122923 , 0.2172316 , 0.22217089, 0.22711019,\n",
       "        0.23204948, 0.23698878, 0.24192807, 0.24686737, 0.25180668,\n",
       "        0.25674596, 0.26168525, 0.26662457, 0.27156386, 0.27650315,\n",
       "        0.28144243, 0.28638175, 0.29132104, 0.29626033, 0.30119962,\n",
       "        0.30613893, 0.31107822, 0.31601751, 0.3209568 , 0.32589611,\n",
       "        0.3308354 , 0.33577469, 0.34071398, 0.3456533 , 0.35059258,\n",
       "        0.35553187, 0.36047116, 0.36541048, 0.37034976, 0.37528905,\n",
       "        0.38022834, 0.38516766, 0.39010695, 0.39504623, 0.39998555,\n",
       "        0.40492484, 0.40986413, 0.41480342, 0.41974273, 0.42468202,\n",
       "        0.42962131, 0.4345606 , 0.43949991, 0.4444392 , 0.44937849,\n",
       "        0.45431778, 0.4592571 , 0.46419638, 0.46913567, 0.47407496,\n",
       "        0.47901428, 0.48395357, 0.48889285, 0.49383214, 0.49877146,\n",
       "        0.50371075, 0.50865006, 0.51358932, 0.51852864, 0.52346796,\n",
       "        0.52840722, 0.53334653, 0.53828579, 0.54322511, 0.54816443,\n",
       "        0.55310369, 0.558043  , 0.56298232, 0.56792158, 0.5728609 ,\n",
       "        0.57780015, 0.58273947, 0.58767879, 0.59261805, 0.59755737,\n",
       "        0.60249668, 0.60743594, 0.61237526, 0.61731452, 0.62225384,\n",
       "        0.62719315, 0.63213241, 0.63707173, 0.64201105, 0.6469503 ,\n",
       "        0.65188962, 0.65682894, 0.6617682 , 0.66670752, 0.67164677,\n",
       "        0.67658609, 0.68152541, 0.68646467, 0.69140399, 0.6963433 ,\n",
       "        0.70128256, 0.70622188, 0.71116114, 0.71610045, 0.72103977,\n",
       "        0.72597903, 0.73091835, 0.73585767, 0.74079692, 0.74573624,\n",
       "        0.75067556, 0.75561482, 0.76055413, 0.76549339, 0.77043271,\n",
       "        0.77537203, 0.78031129, 0.7852506 , 0.79018992, 0.79512918,\n",
       "        0.8000685 , 0.80500776, 0.80994707, 0.81488639, 0.81982565,\n",
       "        0.82476497, 0.82970428, 0.83464354, 0.83958286, 0.84452212,\n",
       "        0.84946144, 0.85440075, 0.85934001, 0.86427933, 0.86921865,\n",
       "        0.87415791, 0.87909722, 0.88403654, 0.8889758 , 0.89391512,\n",
       "        0.89885437, 0.90379369, 0.90873301, 0.91367227, 0.91861159,\n",
       "        0.9235509 , 0.92849016, 0.93342948, 0.93836874, 0.94330806,\n",
       "        0.94824737, 0.95318663, 0.95812595, 0.96306527, 0.96800452,\n",
       "        0.97294384, 0.9778831 , 0.98282242, 0.98776174, 0.99270099,\n",
       "        0.99764031]),\n",
       " <BarContainer object of 200 artists>)"
      ]
     },
     "execution_count": 318,
     "metadata": {},
     "output_type": "execute_result"
    },
    {
     "data": {
      "image/png": "[encoded data removed]",
      "text/plain": [
       "<Figure size 640x480 with 1 Axes>"
      ]
     },
     "metadata": {},
     "output_type": "display_data"
    }
   ],
   "source": [
    "plt.hist(X[4, : , 2], bins=200)"
   ]
  },
  {
   "cell_type": "code",
   "execution_count": null,
   "metadata": {},
   "outputs": [],
   "source": []
  }
 ],
 "metadata": {
  "kernelspec": {
   "display_name": "Python 3",
   "language": "python",
   "name": "python3"
  },
  "language_info": {
   "codemirror_mode": {
    "name": "ipython",
    "version": 3
   },
   "file_extension": ".py",
   "mimetype": "text/x-python",
   "name": "python",
   "nbconvert_exporter": "python",
   "pygments_lexer": "ipython3",
   "version": "3.10.13"
  }
 },
 "nbformat": 4,
 "nbformat_minor": 2
}

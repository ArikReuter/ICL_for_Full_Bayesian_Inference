{
 "cells": [
  {
   "cell_type": "code",
   "execution_count": 2,
   "metadata": {},
   "outputs": [],
   "source": [
    "%load_ext autoreload\n",
    "%autoreload 2"
   ]
  },
  {
   "cell_type": "code",
   "execution_count": 3,
   "metadata": {},
   "outputs": [],
   "source": [
    "import torch"
   ]
  },
  {
   "cell_type": "code",
   "execution_count": 4,
   "metadata": {},
   "outputs": [],
   "source": [
    "BATCH_SIZE = 4\n",
    "N_FEATURES = 3\n",
    "N_SAMPLES = 10\n",
    "\n",
    "batch = torch.randn(BATCH_SIZE, N_SAMPLES, N_FEATURES)"
   ]
  },
  {
   "cell_type": "code",
   "execution_count": 5,
   "metadata": {},
   "outputs": [
    {
     "data": {
      "text/plain": [
       "torch.Size([4, 10, 3])"
      ]
     },
     "execution_count": 5,
     "metadata": {},
     "output_type": "execute_result"
    }
   ],
   "source": [
    "batch.shape"
   ]
  },
  {
   "cell_type": "code",
   "execution_count": 25,
   "metadata": {},
   "outputs": [],
   "source": [
    "from Transformer_TabPFN import TransformerTabPFN"
   ]
  },
  {
   "cell_type": "code",
   "execution_count": 26,
   "metadata": {},
   "outputs": [],
   "source": [
    "model = TransformerTabPFN()"
   ]
  },
  {
   "cell_type": "code",
   "execution_count": 27,
   "metadata": {},
   "outputs": [
    {
     "data": {
      "text/plain": [
       "TransformerTabPFN(\n",
       "  (pfnbackbone): TransformerModel(\n",
       "    (transformer_encoder): TransformerEncoderDiffInit(\n",
       "      (layers): ModuleList(\n",
       "        (0-11): 12 x TransformerEncoderLayer(\n",
       "          (self_attn): MultiheadAttention(\n",
       "            (out_proj): NonDynamicallyQuantizableLinear(in_features=512, out_features=512, bias=True)\n",
       "          )\n",
       "          (linear1): Linear(in_features=512, out_features=1024, bias=True)\n",
       "          (dropout): Dropout(p=0.0, inplace=False)\n",
       "          (linear2): Linear(in_features=1024, out_features=512, bias=True)\n",
       "          (norm1): LayerNorm((512,), eps=1e-05, elementwise_affine=True)\n",
       "          (norm2): LayerNorm((512,), eps=1e-05, elementwise_affine=True)\n",
       "          (dropout1): Dropout(p=0.0, inplace=False)\n",
       "          (dropout2): Dropout(p=0.0, inplace=False)\n",
       "        )\n",
       "      )\n",
       "    )\n",
       "    (encoder): Linear(in_features=100, out_features=512, bias=True)\n",
       "    (y_encoder): Linear(in_features=1, out_features=512, bias=True)\n",
       "    (decoder): Sequential(\n",
       "      (0): Linear(in_features=512, out_features=1024, bias=True)\n",
       "      (1): GELU(approximate='none')\n",
       "      (2): Linear(in_features=1024, out_features=10, bias=True)\n",
       "    )\n",
       "    (criterion): CrossEntropyLoss()\n",
       "  )\n",
       ")"
      ]
     },
     "execution_count": 27,
     "metadata": {},
     "output_type": "execute_result"
    }
   ],
   "source": [
    "model"
   ]
  },
  {
   "cell_type": "code",
   "execution_count": null,
   "metadata": {},
   "outputs": [
    {
     "data": {
      "text/plain": [
       "tensor([[[-7.5310e-01, -2.9906e-01,  5.7844e-01,  ..., -2.6452e-01,\n",
       "           2.9888e-02, -9.9440e-01],\n",
       "         [-7.8237e-01, -8.2262e-02, -6.7840e-01,  ...,  1.0732e-01,\n",
       "           1.1064e-01, -7.8280e-01],\n",
       "         [-1.9112e+00,  1.5666e+00,  8.8576e-01,  ...,  4.2760e-01,\n",
       "           9.7627e-01, -1.8643e+00],\n",
       "         ...,\n",
       "         [-7.3781e-01,  1.3038e+00, -4.6700e-01,  ...,  1.3475e-01,\n",
       "           3.7065e-01, -1.5868e+00],\n",
       "         [-1.0967e+00,  8.3397e-01, -8.8367e-01,  ..., -3.2615e-02,\n",
       "           8.7731e-01, -1.1880e+00],\n",
       "         [-1.4300e+00,  1.0891e+00,  1.0862e+00,  ..., -4.7426e-03,\n",
       "           8.5403e-01, -1.9413e+00]],\n",
       "\n",
       "        [[-6.8993e-01, -3.1042e-01,  5.2150e-01,  ..., -6.4111e-02,\n",
       "           3.0242e-02, -9.3828e-01],\n",
       "         [-1.0601e+00, -9.7298e-02,  7.9680e-01,  ..., -2.3100e-01,\n",
       "          -1.1908e-02, -8.7542e-01],\n",
       "         [-1.1641e+00,  1.5126e+00, -2.6759e-02,  ...,  1.5924e-02,\n",
       "           8.9743e-01, -1.4808e+00],\n",
       "         ...,\n",
       "         [-3.9575e-01,  1.3002e+00, -8.8049e-01,  ...,  3.6704e-01,\n",
       "           4.1808e-01, -1.3647e+00],\n",
       "         [-1.5302e+00,  7.8114e-01,  3.9143e-01,  ...,  5.3553e-01,\n",
       "           1.9344e-01, -1.7514e+00],\n",
       "         [-8.6175e-01,  5.7971e-01,  8.1140e-01,  ..., -8.8945e-02,\n",
       "           3.3405e-01, -1.8870e+00]],\n",
       "\n",
       "        [[-5.5757e-01, -3.3619e-01,  5.3794e-01,  ..., -2.5783e-01,\n",
       "           5.0613e-02, -1.0030e+00],\n",
       "         [-1.5428e+00,  4.0795e-02,  1.0784e+00,  ..., -3.0212e-01,\n",
       "          -7.7909e-04, -1.1810e+00],\n",
       "         [-1.1962e+00,  1.0715e+00,  7.9225e-01,  ...,  3.7047e-01,\n",
       "           4.8142e-01, -1.8585e+00],\n",
       "         ...,\n",
       "         [-9.2331e-01,  1.6127e+00, -4.4459e-01,  ...,  1.7698e-01,\n",
       "           6.8383e-01, -1.4721e+00],\n",
       "         [-1.7478e+00,  8.4879e-01,  4.8397e-01,  ...,  1.0819e+00,\n",
       "           5.6856e-01, -1.7481e+00],\n",
       "         [-4.3211e-01,  9.8834e-01, -1.6696e-01,  ..., -2.2223e-01,\n",
       "           6.3153e-01, -1.5514e+00]],\n",
       "\n",
       "        [[ 2.5786e-01, -5.1897e-01, -6.5244e-01,  ..., -3.4536e-01,\n",
       "           2.3747e-01, -6.8825e-01],\n",
       "         [-2.6129e-01,  1.6497e-01, -7.2114e-01,  ..., -1.4688e-01,\n",
       "          -2.0741e-01, -5.0839e-01],\n",
       "         [-6.8852e-01,  1.2488e+00, -6.1998e-01,  ...,  1.2672e-02,\n",
       "           7.7141e-01, -1.3391e+00],\n",
       "         ...,\n",
       "         [-1.4537e-01,  1.1249e+00, -1.0663e+00,  ...,  4.5569e-01,\n",
       "           2.8483e-01, -1.3423e+00],\n",
       "         [-1.0416e+00,  7.2990e-01, -1.1821e+00,  ...,  1.5591e-01,\n",
       "           9.5070e-01, -1.2982e+00],\n",
       "         [-3.4903e-02,  8.7057e-01, -7.5047e-01,  ..., -3.0577e-01,\n",
       "           5.8522e-01, -1.3472e+00]]], grad_fn=<NativeLayerNormBackward0>)"
      ]
     },
     "execution_count": 28,
     "metadata": {},
     "output_type": "execute_result"
    }
   ],
   "source": [
    "model(batch).shape"
   ]
  },
  {
   "cell_type": "code",
   "execution_count": null,
   "metadata": {},
   "outputs": [],
   "source": []
  }
 ],
 "metadata": {
  "kernelspec": {
   "display_name": "Python 3",
   "language": "python",
   "name": "python3"
  },
  "language_info": {
   "codemirror_mode": {
    "name": "ipython",
    "version": 3
   },
   "file_extension": ".py",
   "mimetype": "text/x-python",
   "name": "python",
   "nbconvert_exporter": "python",
   "pygments_lexer": "ipython3",
   "version": "3.10.13"
  }
 },
 "nbformat": 4,
 "nbformat_minor": 2
}

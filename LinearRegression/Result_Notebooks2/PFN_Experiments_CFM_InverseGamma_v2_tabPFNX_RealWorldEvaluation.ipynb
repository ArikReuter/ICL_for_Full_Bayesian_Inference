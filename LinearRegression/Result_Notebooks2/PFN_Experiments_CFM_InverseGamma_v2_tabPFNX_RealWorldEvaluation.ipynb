{
  "cells": [
    {
      "cell_type": "code",
      "execution_count": 1,
      "metadata": {
        "id": "UJkDueX_7TYp"
      },
      "outputs": [],
      "source": [
        "%load_ext autoreload\n",
        "%autoreload 2"
      ]
    },
    {
      "cell_type": "code",
      "execution_count": 2,
      "metadata": {
        "colab": {
          "base_uri": "https://localhost:8080/"
        },
        "id": "XwBvFkbtTvhT",
        "outputId": "da13d73b-4ea1-4b8e-f20b-d2f5393c047b"
      },
      "outputs": [
        {
          "output_type": "stream",
          "name": "stdout",
          "text": [
            "Mounted at /content/drive\n"
          ]
        }
      ],
      "source": [
        "from google.colab import drive\n",
        "drive.mount('/content/drive')"
      ]
    },
    {
      "cell_type": "code",
      "execution_count": 3,
      "metadata": {
        "colab": {
          "base_uri": "https://localhost:8080/"
        },
        "id": "SIMjbZyZfTos",
        "outputId": "1c129830-24cb-4040-c4a9-3f24e160e467"
      },
      "outputs": [
        {
          "output_type": "stream",
          "name": "stdout",
          "text": [
            "Collecting pyro-ppl\n",
            "  Downloading pyro_ppl-1.9.1-py3-none-any.whl.metadata (7.8 kB)\n",
            "Requirement already satisfied: numpy>=1.7 in /usr/local/lib/python3.10/dist-packages (from pyro-ppl) (1.26.4)\n",
            "Requirement already satisfied: opt-einsum>=2.3.2 in /usr/local/lib/python3.10/dist-packages (from pyro-ppl) (3.3.0)\n",
            "Collecting pyro-api>=0.1.1 (from pyro-ppl)\n",
            "  Downloading pyro_api-0.1.2-py3-none-any.whl.metadata (2.5 kB)\n",
            "Requirement already satisfied: torch>=2.0 in /usr/local/lib/python3.10/dist-packages (from pyro-ppl) (2.3.1+cu121)\n",
            "Requirement already satisfied: tqdm>=4.36 in /usr/local/lib/python3.10/dist-packages (from pyro-ppl) (4.66.4)\n",
            "Requirement already satisfied: filelock in /usr/local/lib/python3.10/dist-packages (from torch>=2.0->pyro-ppl) (3.15.4)\n",
            "Requirement already satisfied: typing-extensions>=4.8.0 in /usr/local/lib/python3.10/dist-packages (from torch>=2.0->pyro-ppl) (4.12.2)\n",
            "Requirement already satisfied: sympy in /usr/local/lib/python3.10/dist-packages (from torch>=2.0->pyro-ppl) (1.13.1)\n",
            "Requirement already satisfied: networkx in /usr/local/lib/python3.10/dist-packages (from torch>=2.0->pyro-ppl) (3.3)\n",
            "Requirement already satisfied: jinja2 in /usr/local/lib/python3.10/dist-packages (from torch>=2.0->pyro-ppl) (3.1.4)\n",
            "Requirement already satisfied: fsspec in /usr/local/lib/python3.10/dist-packages (from torch>=2.0->pyro-ppl) (2024.6.1)\n",
            "Collecting nvidia-cuda-nvrtc-cu12==12.1.105 (from torch>=2.0->pyro-ppl)\n",
            "  Using cached nvidia_cuda_nvrtc_cu12-12.1.105-py3-none-manylinux1_x86_64.whl.metadata (1.5 kB)\n",
            "Collecting nvidia-cuda-runtime-cu12==12.1.105 (from torch>=2.0->pyro-ppl)\n",
            "  Using cached nvidia_cuda_runtime_cu12-12.1.105-py3-none-manylinux1_x86_64.whl.metadata (1.5 kB)\n",
            "Collecting nvidia-cuda-cupti-cu12==12.1.105 (from torch>=2.0->pyro-ppl)\n",
            "  Using cached nvidia_cuda_cupti_cu12-12.1.105-py3-none-manylinux1_x86_64.whl.metadata (1.6 kB)\n",
            "Collecting nvidia-cudnn-cu12==8.9.2.26 (from torch>=2.0->pyro-ppl)\n",
            "  Using cached nvidia_cudnn_cu12-8.9.2.26-py3-none-manylinux1_x86_64.whl.metadata (1.6 kB)\n",
            "Collecting nvidia-cublas-cu12==12.1.3.1 (from torch>=2.0->pyro-ppl)\n",
            "  Using cached nvidia_cublas_cu12-12.1.3.1-py3-none-manylinux1_x86_64.whl.metadata (1.5 kB)\n",
            "Collecting nvidia-cufft-cu12==11.0.2.54 (from torch>=2.0->pyro-ppl)\n",
            "  Using cached nvidia_cufft_cu12-11.0.2.54-py3-none-manylinux1_x86_64.whl.metadata (1.5 kB)\n",
            "Collecting nvidia-curand-cu12==10.3.2.106 (from torch>=2.0->pyro-ppl)\n",
            "  Using cached nvidia_curand_cu12-10.3.2.106-py3-none-manylinux1_x86_64.whl.metadata (1.5 kB)\n",
            "Collecting nvidia-cusolver-cu12==11.4.5.107 (from torch>=2.0->pyro-ppl)\n",
            "  Using cached nvidia_cusolver_cu12-11.4.5.107-py3-none-manylinux1_x86_64.whl.metadata (1.6 kB)\n",
            "Collecting nvidia-cusparse-cu12==12.1.0.106 (from torch>=2.0->pyro-ppl)\n",
            "  Using cached nvidia_cusparse_cu12-12.1.0.106-py3-none-manylinux1_x86_64.whl.metadata (1.6 kB)\n",
            "Collecting nvidia-nccl-cu12==2.20.5 (from torch>=2.0->pyro-ppl)\n",
            "  Using cached nvidia_nccl_cu12-2.20.5-py3-none-manylinux2014_x86_64.whl.metadata (1.8 kB)\n",
            "Collecting nvidia-nvtx-cu12==12.1.105 (from torch>=2.0->pyro-ppl)\n",
            "  Using cached nvidia_nvtx_cu12-12.1.105-py3-none-manylinux1_x86_64.whl.metadata (1.7 kB)\n",
            "Requirement already satisfied: triton==2.3.1 in /usr/local/lib/python3.10/dist-packages (from torch>=2.0->pyro-ppl) (2.3.1)\n",
            "Collecting nvidia-nvjitlink-cu12 (from nvidia-cusolver-cu12==11.4.5.107->torch>=2.0->pyro-ppl)\n",
            "  Using cached nvidia_nvjitlink_cu12-12.6.20-py3-none-manylinux2014_x86_64.whl.metadata (1.5 kB)\n",
            "Requirement already satisfied: MarkupSafe>=2.0 in /usr/local/lib/python3.10/dist-packages (from jinja2->torch>=2.0->pyro-ppl) (2.1.5)\n",
            "Requirement already satisfied: mpmath<1.4,>=1.1.0 in /usr/local/lib/python3.10/dist-packages (from sympy->torch>=2.0->pyro-ppl) (1.3.0)\n",
            "Downloading pyro_ppl-1.9.1-py3-none-any.whl (755 kB)\n",
            "\u001b[2K   \u001b[90m━━━━━━━━━━━━━━━━━━━━━━━━━━━━━━━━━━━━━━━━\u001b[0m \u001b[32m756.0/756.0 kB\u001b[0m \u001b[31m15.1 MB/s\u001b[0m eta \u001b[36m0:00:00\u001b[0m\n",
            "\u001b[?25hDownloading pyro_api-0.1.2-py3-none-any.whl (11 kB)\n",
            "Using cached nvidia_cublas_cu12-12.1.3.1-py3-none-manylinux1_x86_64.whl (410.6 MB)\n",
            "Using cached nvidia_cuda_cupti_cu12-12.1.105-py3-none-manylinux1_x86_64.whl (14.1 MB)\n",
            "Using cached nvidia_cuda_nvrtc_cu12-12.1.105-py3-none-manylinux1_x86_64.whl (23.7 MB)\n",
            "Using cached nvidia_cuda_runtime_cu12-12.1.105-py3-none-manylinux1_x86_64.whl (823 kB)\n",
            "Using cached nvidia_cudnn_cu12-8.9.2.26-py3-none-manylinux1_x86_64.whl (731.7 MB)\n",
            "Using cached nvidia_cufft_cu12-11.0.2.54-py3-none-manylinux1_x86_64.whl (121.6 MB)\n",
            "Using cached nvidia_curand_cu12-10.3.2.106-py3-none-manylinux1_x86_64.whl (56.5 MB)\n",
            "Using cached nvidia_cusolver_cu12-11.4.5.107-py3-none-manylinux1_x86_64.whl (124.2 MB)\n",
            "Using cached nvidia_cusparse_cu12-12.1.0.106-py3-none-manylinux1_x86_64.whl (196.0 MB)\n",
            "Using cached nvidia_nccl_cu12-2.20.5-py3-none-manylinux2014_x86_64.whl (176.2 MB)\n",
            "Using cached nvidia_nvtx_cu12-12.1.105-py3-none-manylinux1_x86_64.whl (99 kB)\n",
            "Using cached nvidia_nvjitlink_cu12-12.6.20-py3-none-manylinux2014_x86_64.whl (19.7 MB)\n",
            "Installing collected packages: pyro-api, nvidia-nvtx-cu12, nvidia-nvjitlink-cu12, nvidia-nccl-cu12, nvidia-curand-cu12, nvidia-cufft-cu12, nvidia-cuda-runtime-cu12, nvidia-cuda-nvrtc-cu12, nvidia-cuda-cupti-cu12, nvidia-cublas-cu12, nvidia-cusparse-cu12, nvidia-cudnn-cu12, nvidia-cusolver-cu12, pyro-ppl\n",
            "Successfully installed nvidia-cublas-cu12-12.1.3.1 nvidia-cuda-cupti-cu12-12.1.105 nvidia-cuda-nvrtc-cu12-12.1.105 nvidia-cuda-runtime-cu12-12.1.105 nvidia-cudnn-cu12-8.9.2.26 nvidia-cufft-cu12-11.0.2.54 nvidia-curand-cu12-10.3.2.106 nvidia-cusolver-cu12-11.4.5.107 nvidia-cusparse-cu12-12.1.0.106 nvidia-nccl-cu12-2.20.5 nvidia-nvjitlink-cu12-12.6.20 nvidia-nvtx-cu12-12.1.105 pyro-api-0.1.2 pyro-ppl-1.9.1\n",
            "Collecting pot\n",
            "  Downloading POT-0.9.4-cp310-cp310-manylinux_2_17_x86_64.manylinux2014_x86_64.whl.metadata (32 kB)\n",
            "Requirement already satisfied: numpy>=1.16 in /usr/local/lib/python3.10/dist-packages (from pot) (1.26.4)\n",
            "Requirement already satisfied: scipy>=1.6 in /usr/local/lib/python3.10/dist-packages (from pot) (1.13.1)\n",
            "Downloading POT-0.9.4-cp310-cp310-manylinux_2_17_x86_64.manylinux2014_x86_64.whl (835 kB)\n",
            "\u001b[2K   \u001b[90m━━━━━━━━━━━━━━━━━━━━━━━━━━━━━━━━━━━━━━━━\u001b[0m \u001b[32m835.4/835.4 kB\u001b[0m \u001b[31m23.3 MB/s\u001b[0m eta \u001b[36m0:00:00\u001b[0m\n",
            "\u001b[?25hInstalling collected packages: pot\n",
            "Successfully installed pot-0.9.4\n",
            "Requirement already satisfied: tensorboard in /usr/local/lib/python3.10/dist-packages (2.17.0)\n",
            "Requirement already satisfied: absl-py>=0.4 in /usr/local/lib/python3.10/dist-packages (from tensorboard) (1.4.0)\n",
            "Requirement already satisfied: grpcio>=1.48.2 in /usr/local/lib/python3.10/dist-packages (from tensorboard) (1.64.1)\n",
            "Requirement already satisfied: markdown>=2.6.8 in /usr/local/lib/python3.10/dist-packages (from tensorboard) (3.6)\n",
            "Requirement already satisfied: numpy>=1.12.0 in /usr/local/lib/python3.10/dist-packages (from tensorboard) (1.26.4)\n",
            "Requirement already satisfied: protobuf!=4.24.0,<5.0.0,>=3.19.6 in /usr/local/lib/python3.10/dist-packages (from tensorboard) (3.20.3)\n",
            "Requirement already satisfied: setuptools>=41.0.0 in /usr/local/lib/python3.10/dist-packages (from tensorboard) (71.0.4)\n",
            "Requirement already satisfied: six>1.9 in /usr/local/lib/python3.10/dist-packages (from tensorboard) (1.16.0)\n",
            "Requirement already satisfied: tensorboard-data-server<0.8.0,>=0.7.0 in /usr/local/lib/python3.10/dist-packages (from tensorboard) (0.7.2)\n",
            "Requirement already satisfied: werkzeug>=1.0.1 in /usr/local/lib/python3.10/dist-packages (from tensorboard) (3.0.3)\n",
            "Requirement already satisfied: MarkupSafe>=2.1.1 in /usr/local/lib/python3.10/dist-packages (from werkzeug>=1.0.1->tensorboard) (2.1.5)\n",
            "Collecting torchdiffeq\n",
            "  Downloading torchdiffeq-0.2.4-py3-none-any.whl.metadata (440 bytes)\n",
            "Requirement already satisfied: torch>=1.5.0 in /usr/local/lib/python3.10/dist-packages (from torchdiffeq) (2.3.1+cu121)\n",
            "Requirement already satisfied: scipy>=1.4.0 in /usr/local/lib/python3.10/dist-packages (from torchdiffeq) (1.13.1)\n",
            "Requirement already satisfied: numpy<2.3,>=1.22.4 in /usr/local/lib/python3.10/dist-packages (from scipy>=1.4.0->torchdiffeq) (1.26.4)\n",
            "Requirement already satisfied: filelock in /usr/local/lib/python3.10/dist-packages (from torch>=1.5.0->torchdiffeq) (3.15.4)\n",
            "Requirement already satisfied: typing-extensions>=4.8.0 in /usr/local/lib/python3.10/dist-packages (from torch>=1.5.0->torchdiffeq) (4.12.2)\n",
            "Requirement already satisfied: sympy in /usr/local/lib/python3.10/dist-packages (from torch>=1.5.0->torchdiffeq) (1.13.1)\n",
            "Requirement already satisfied: networkx in /usr/local/lib/python3.10/dist-packages (from torch>=1.5.0->torchdiffeq) (3.3)\n",
            "Requirement already satisfied: jinja2 in /usr/local/lib/python3.10/dist-packages (from torch>=1.5.0->torchdiffeq) (3.1.4)\n",
            "Requirement already satisfied: fsspec in /usr/local/lib/python3.10/dist-packages (from torch>=1.5.0->torchdiffeq) (2024.6.1)\n",
            "Requirement already satisfied: nvidia-cuda-nvrtc-cu12==12.1.105 in /usr/local/lib/python3.10/dist-packages (from torch>=1.5.0->torchdiffeq) (12.1.105)\n",
            "Requirement already satisfied: nvidia-cuda-runtime-cu12==12.1.105 in /usr/local/lib/python3.10/dist-packages (from torch>=1.5.0->torchdiffeq) (12.1.105)\n",
            "Requirement already satisfied: nvidia-cuda-cupti-cu12==12.1.105 in /usr/local/lib/python3.10/dist-packages (from torch>=1.5.0->torchdiffeq) (12.1.105)\n",
            "Requirement already satisfied: nvidia-cudnn-cu12==8.9.2.26 in /usr/local/lib/python3.10/dist-packages (from torch>=1.5.0->torchdiffeq) (8.9.2.26)\n",
            "Requirement already satisfied: nvidia-cublas-cu12==12.1.3.1 in /usr/local/lib/python3.10/dist-packages (from torch>=1.5.0->torchdiffeq) (12.1.3.1)\n",
            "Requirement already satisfied: nvidia-cufft-cu12==11.0.2.54 in /usr/local/lib/python3.10/dist-packages (from torch>=1.5.0->torchdiffeq) (11.0.2.54)\n",
            "Requirement already satisfied: nvidia-curand-cu12==10.3.2.106 in /usr/local/lib/python3.10/dist-packages (from torch>=1.5.0->torchdiffeq) (10.3.2.106)\n",
            "Requirement already satisfied: nvidia-cusolver-cu12==11.4.5.107 in /usr/local/lib/python3.10/dist-packages (from torch>=1.5.0->torchdiffeq) (11.4.5.107)\n",
            "Requirement already satisfied: nvidia-cusparse-cu12==12.1.0.106 in /usr/local/lib/python3.10/dist-packages (from torch>=1.5.0->torchdiffeq) (12.1.0.106)\n",
            "Requirement already satisfied: nvidia-nccl-cu12==2.20.5 in /usr/local/lib/python3.10/dist-packages (from torch>=1.5.0->torchdiffeq) (2.20.5)\n",
            "Requirement already satisfied: nvidia-nvtx-cu12==12.1.105 in /usr/local/lib/python3.10/dist-packages (from torch>=1.5.0->torchdiffeq) (12.1.105)\n",
            "Requirement already satisfied: triton==2.3.1 in /usr/local/lib/python3.10/dist-packages (from torch>=1.5.0->torchdiffeq) (2.3.1)\n",
            "Requirement already satisfied: nvidia-nvjitlink-cu12 in /usr/local/lib/python3.10/dist-packages (from nvidia-cusolver-cu12==11.4.5.107->torch>=1.5.0->torchdiffeq) (12.6.20)\n",
            "Requirement already satisfied: MarkupSafe>=2.0 in /usr/local/lib/python3.10/dist-packages (from jinja2->torch>=1.5.0->torchdiffeq) (2.1.5)\n",
            "Requirement already satisfied: mpmath<1.4,>=1.1.0 in /usr/local/lib/python3.10/dist-packages (from sympy->torch>=1.5.0->torchdiffeq) (1.3.0)\n",
            "Downloading torchdiffeq-0.2.4-py3-none-any.whl (32 kB)\n",
            "Installing collected packages: torchdiffeq\n",
            "Successfully installed torchdiffeq-0.2.4\n",
            "Collecting openml\n",
            "  Downloading openml-0.14.2.tar.gz (144 kB)\n",
            "\u001b[2K     \u001b[90m━━━━━━━━━━━━━━━━━━━━━━━━━━━━━━━━━━━━━━━━\u001b[0m \u001b[32m144.5/144.5 kB\u001b[0m \u001b[31m4.6 MB/s\u001b[0m eta \u001b[36m0:00:00\u001b[0m\n",
            "\u001b[?25h  Installing build dependencies ... \u001b[?25l\u001b[?25hdone\n",
            "  Getting requirements to build wheel ... \u001b[?25l\u001b[?25hdone\n",
            "  Preparing metadata (pyproject.toml) ... \u001b[?25l\u001b[?25hdone\n",
            "Collecting liac-arff>=2.4.0 (from openml)\n",
            "  Downloading liac-arff-2.5.0.tar.gz (13 kB)\n",
            "  Preparing metadata (setup.py) ... \u001b[?25l\u001b[?25hdone\n",
            "Collecting xmltodict (from openml)\n",
            "  Downloading xmltodict-0.13.0-py2.py3-none-any.whl.metadata (7.7 kB)\n",
            "Requirement already satisfied: requests in /usr/local/lib/python3.10/dist-packages (from openml) (2.31.0)\n",
            "Requirement already satisfied: scikit-learn>=0.18 in /usr/local/lib/python3.10/dist-packages (from openml) (1.3.2)\n",
            "Requirement already satisfied: python-dateutil in /usr/local/lib/python3.10/dist-packages (from openml) (2.8.2)\n",
            "Requirement already satisfied: pandas>=1.0.0 in /usr/local/lib/python3.10/dist-packages (from openml) (2.1.4)\n",
            "Requirement already satisfied: scipy>=0.13.3 in /usr/local/lib/python3.10/dist-packages (from openml) (1.13.1)\n",
            "Requirement already satisfied: numpy>=1.6.2 in /usr/local/lib/python3.10/dist-packages (from openml) (1.26.4)\n",
            "Collecting minio (from openml)\n",
            "  Downloading minio-7.2.7-py3-none-any.whl.metadata (6.4 kB)\n",
            "Requirement already satisfied: pyarrow in /usr/local/lib/python3.10/dist-packages (from openml) (14.0.2)\n",
            "Requirement already satisfied: pytz>=2020.1 in /usr/local/lib/python3.10/dist-packages (from pandas>=1.0.0->openml) (2024.1)\n",
            "Requirement already satisfied: tzdata>=2022.1 in /usr/local/lib/python3.10/dist-packages (from pandas>=1.0.0->openml) (2024.1)\n",
            "Requirement already satisfied: six>=1.5 in /usr/local/lib/python3.10/dist-packages (from python-dateutil->openml) (1.16.0)\n",
            "Requirement already satisfied: joblib>=1.1.1 in /usr/local/lib/python3.10/dist-packages (from scikit-learn>=0.18->openml) (1.4.2)\n",
            "Requirement already satisfied: threadpoolctl>=2.0.0 in /usr/local/lib/python3.10/dist-packages (from scikit-learn>=0.18->openml) (3.5.0)\n",
            "Requirement already satisfied: certifi in /usr/local/lib/python3.10/dist-packages (from minio->openml) (2024.7.4)\n",
            "Requirement already satisfied: urllib3 in /usr/local/lib/python3.10/dist-packages (from minio->openml) (2.0.7)\n",
            "Requirement already satisfied: argon2-cffi in /usr/local/lib/python3.10/dist-packages (from minio->openml) (23.1.0)\n",
            "Collecting pycryptodome (from minio->openml)\n",
            "  Downloading pycryptodome-3.20.0-cp35-abi3-manylinux_2_17_x86_64.manylinux2014_x86_64.whl.metadata (3.4 kB)\n",
            "Requirement already satisfied: typing-extensions in /usr/local/lib/python3.10/dist-packages (from minio->openml) (4.12.2)\n",
            "Requirement already satisfied: charset-normalizer<4,>=2 in /usr/local/lib/python3.10/dist-packages (from requests->openml) (3.3.2)\n",
            "Requirement already satisfied: idna<4,>=2.5 in /usr/local/lib/python3.10/dist-packages (from requests->openml) (3.7)\n",
            "Requirement already satisfied: argon2-cffi-bindings in /usr/local/lib/python3.10/dist-packages (from argon2-cffi->minio->openml) (21.2.0)\n",
            "Requirement already satisfied: cffi>=1.0.1 in /usr/local/lib/python3.10/dist-packages (from argon2-cffi-bindings->argon2-cffi->minio->openml) (1.16.0)\n",
            "Requirement already satisfied: pycparser in /usr/local/lib/python3.10/dist-packages (from cffi>=1.0.1->argon2-cffi-bindings->argon2-cffi->minio->openml) (2.22)\n",
            "Downloading minio-7.2.7-py3-none-any.whl (93 kB)\n",
            "\u001b[2K   \u001b[90m━━━━━━━━━━━━━━━━━━━━━━━━━━━━━━━━━━━━━━━━\u001b[0m \u001b[32m93.5/93.5 kB\u001b[0m \u001b[31m6.2 MB/s\u001b[0m eta \u001b[36m0:00:00\u001b[0m\n",
            "\u001b[?25hDownloading xmltodict-0.13.0-py2.py3-none-any.whl (10.0 kB)\n",
            "Downloading pycryptodome-3.20.0-cp35-abi3-manylinux_2_17_x86_64.manylinux2014_x86_64.whl (2.1 MB)\n",
            "\u001b[2K   \u001b[90m━━━━━━━━━━━━━━━━━━━━━━━━━━━━━━━━━━━━━━━━\u001b[0m \u001b[32m2.1/2.1 MB\u001b[0m \u001b[31m58.3 MB/s\u001b[0m eta \u001b[36m0:00:00\u001b[0m\n",
            "\u001b[?25hBuilding wheels for collected packages: openml, liac-arff\n",
            "  Building wheel for openml (pyproject.toml) ... \u001b[?25l\u001b[?25hdone\n",
            "  Created wheel for openml: filename=openml-0.14.2-py3-none-any.whl size=158701 sha256=fd50dd960f484099ad30863d176d5cab853a6b0db346d3a2be4a0a81d0689dd4\n",
            "  Stored in directory: /root/.cache/pip/wheels/2e/4e/af/5e721761d86375dbca82e63cc2470019e97815bc39f11451ea\n",
            "  Building wheel for liac-arff (setup.py) ... \u001b[?25l\u001b[?25hdone\n",
            "  Created wheel for liac-arff: filename=liac_arff-2.5.0-py3-none-any.whl size=11717 sha256=e903e84b9209d665893ef7aaccd36be3fb5ac55ecb1bbdca3b5401204093a8ca\n",
            "  Stored in directory: /root/.cache/pip/wheels/5d/2a/9c/3895d9617f8f49a0883ba686326d598e78a1c2f54fe3cae86d\n",
            "Successfully built openml liac-arff\n",
            "Installing collected packages: xmltodict, pycryptodome, liac-arff, minio, openml\n",
            "Successfully installed liac-arff-2.5.0 minio-7.2.7 openml-0.14.2 pycryptodome-3.20.0 xmltodict-0.13.0\n"
          ]
        }
      ],
      "source": [
        "!pip install pyro-ppl\n",
        "!pip install pot\n",
        "!pip install tensorboard\n",
        "!pip install torchdiffeq\n",
        "!pip install openml"
      ]
    },
    {
      "cell_type": "code",
      "execution_count": 4,
      "metadata": {
        "colab": {
          "base_uri": "https://localhost:8080/"
        },
        "id": "JQcJR2_SezJ1",
        "outputId": "96c29c58-74e0-427a-cd6e-2beff0ea2ad9"
      },
      "outputs": [
        {
          "output_type": "stream",
          "name": "stdout",
          "text": [
            "Cloning into 'PFNExperiments'...\n",
            "remote: Enumerating objects: 1449, done.\u001b[K\n",
            "remote: Counting objects: 100% (222/222), done.\u001b[K\n",
            "remote: Compressing objects: 100% (153/153), done.\u001b[K\n",
            "remote: Total 1449 (delta 151), reused 132 (delta 67), pack-reused 1227\u001b[K\n",
            "Receiving objects: 100% (1449/1449), 60.23 MiB | 20.79 MiB/s, done.\n",
            "Resolving deltas: 100% (1035/1035), done.\n"
          ]
        }
      ],
      "source": [
        "!rm -rf PFNExperiments\n",
        "!git clone https://github.com/ArikReuter/PFNExperiments\n"
      ]
    },
    {
      "cell_type": "code",
      "execution_count": 5,
      "metadata": {
        "id": "AX0Vm6Jhe9Z2",
        "colab": {
          "base_uri": "https://localhost:8080/"
        },
        "outputId": "1eddd553-dd8d-4282-de94-41b68ef0c9d3"
      },
      "outputs": [
        {
          "output_type": "stream",
          "name": "stderr",
          "text": [
            "WARNING:openml:No permission to create OpenML directory at /root/.config/openml! This can result in OpenML-Python not working properly.\n"
          ]
        }
      ],
      "source": [
        "import torch\n",
        "from PFNExperiments.LinearRegression.GenerativeModels.GenerateData import GenerateData, check_data, check_and_plot_data\n",
        "from PFNExperiments.LinearRegression.GenerativeModels.GenerateDataLM_Examples import make_lm_program_ig_batched, make_lm_program_ig\n",
        "\n",
        "from PFNExperiments.LinearRegression.GenerativeModels.GenerateX import simulate_X_uniform\n",
        "from PFNExperiments.LinearRegression.GenerativeModels.LM_abstract import return_only_y, print_code\n",
        "from PFNExperiments.LinearRegression.GenerativeModels.Quantizer import Quantizer\n",
        "from PFNExperiments.LinearRegression.Models.Transformer_CNF import TransformerCNFConditionalDecoder\n",
        "from PFNExperiments.Training.Trainer import Trainer, batch_to_model_lm, visualize_training_results\n",
        "from PFNExperiments.Training.Losses import MSELoss_unsqueezed, nll_loss_full_gaussian\n",
        "from PFNExperiments.Training.EvalMetrics import mean_squared_error_torch_avg, mae_torch_avg, r2_score_torch_avg\n",
        "from PFNExperiments.LinearRegression.Models.ModelPosterior import ModelPosteriorFullGaussian, ModelPosteriorFullGaussian2\n",
        "from PFNExperiments.LinearRegression.Models.AugmentLoss import add_l2_loss_nll_loss\n",
        "from PFNExperiments.LinearRegression.Models.ModelToPosteriorCNF_LearnedBaseDist import ModelToPosteriorCNF_LearnedBaseDist\n",
        "\n",
        "from PFNExperiments.Training.FlowMatching.CFMLossOT2 import CFMLossOT2\n",
        "\n",
        "from PFNExperiments.Evaluation.ComparePosteriorSamples import compare_all_metrics, marginal_plots_hist_parallel, marginal_plots_kde_together\n",
        "from PFNExperiments.LinearRegression.Evaluation.CompareModels import ModelComparison\n",
        "from PFNExperiments.LinearRegression.Models.ModelToPosteriorCNF import ModelToPosteriorCNF\n",
        "from PFNExperiments.LinearRegression.ComparisonModels.Hamiltionion_MC import Hamiltionian_MC\n",
        "\n",
        "from PFNExperiments.LinearRegression.ComparisonModels.Variational_Inference import Variational_Inference, make_guide_program_gamma_gamma\n",
        "\n",
        "from PFNExperiments.LinearRegression.Evaluation.CompareComparisonModels import CompareComparisonModels\n",
        "\n",
        "from PFNExperiments.LinearRegression.GenerativeModels.Curriculum import Curriculum\n",
        "from PFNExperiments.LinearRegression.GenerativeModels.GenerateDataCurriculumCFM import GenerateDataCurriculumCFM\n",
        "\n",
        "from PFNExperiments.Training.TrainerCurriculumCNF import TrainerCurriculumCNF\n",
        "\n",
        "from PFNExperiments.LinearRegression.ComparisonModels.AnalyticalSolutionsLM import PosteriorLM_IG\n",
        "from PFNExperiments.LinearRegression.GenerativeModels.GenerateDataLM_Examples import make_lm_program_ig_batched, make_lm_program_ig\n",
        "from PFNExperiments.LinearRegression.GenerativeModels.GenerateX import simulate_X_uniform\n",
        "\n",
        "from PFNExperiments.LinearRegression.Evaluation.CompareComparisonModels import CompareComparisonModels\n",
        "\n",
        "from PFNExperiments.Training.FlowMatching.Couplings import MiniBatchOTCoupling\n",
        "\n",
        "from PFNExperiments.LinearRegression.ComparisonModels.Variational_InferenceAutoguide import Variational_InferenceAutoguide\n",
        "\n",
        "from pyro.infer.autoguide import AutoDiagonalNormal, AutoMultivariateNormal, AutoLaplaceApproximation, AutoIAFNormal, AutoStructured\n",
        "from PFNExperiments.Evaluation.Evaluate import Evaluate\n",
        "\n",
        "from PFNExperiments.Evaluation.RealWorldEvaluation.PreprocessDataset import Preprocessor\n",
        "from PFNExperiments.Evaluation.RealWorldEvaluation.GetDataOpenML import GetDataOpenML\n",
        "\n",
        "from PFNExperiments.Evaluation.RealWorldEvaluation.EvaluateRealWorld import EvaluateRealWorld, just_return_results, results_dict_to_latent_variable_beta, results_dict_to_latent_variable_beta0_and_beta"
      ]
    },
    {
      "cell_type": "code",
      "execution_count": 5,
      "metadata": {
        "id": "KLwTNFLpK7g0"
      },
      "outputs": [],
      "source": []
    },
    {
      "cell_type": "code",
      "execution_count": 6,
      "metadata": {
        "id": "Iz_uJvYvT3kC"
      },
      "outputs": [],
      "source": [
        "torch.backends.cudnn.benchmark = True"
      ]
    },
    {
      "cell_type": "code",
      "execution_count": 7,
      "metadata": {
        "id": "bvjblAzyh2x_"
      },
      "outputs": [],
      "source": [
        "N = 50\n",
        "P = 5\n",
        "BATCH_SIZE = 1024\n",
        "N_EPOCHS = 100\n",
        "N_SAMPLES_PER_EPOCH = 500_000\n",
        "N_BATCHES_PER_EPOCH = N_SAMPLES_PER_EPOCH//BATCH_SIZE\n",
        "SAVE_PATH = \"/content/drive/MyDrive/PFN_Experiments/Training_RunsCFM\"\n",
        "SAVE_PATH_EVALUATION = f\"{SAVE_PATH}/PFN_Experiments_CFM_InverseGamma_v2_RealWorldEvaluation\"\n",
        "\n",
        "#BATCH_SIZE = 128"
      ]
    },
    {
      "cell_type": "code",
      "execution_count": 8,
      "metadata": {
        "id": "xILcsSJJ0sVg"
      },
      "outputs": [],
      "source": [
        "a = 5.0\n",
        "b = 2.0\n",
        "tau = 1.0"
      ]
    },
    {
      "cell_type": "code",
      "execution_count": 9,
      "metadata": {
        "id": "seCG29odoXku",
        "colab": {
          "base_uri": "https://localhost:8080/",
          "height": 1000
        },
        "outputId": "f6e2fa07-fc2b-4b5b-b00c-aa4273794ef6"
      },
      "outputs": [
        {
          "output_type": "display_data",
          "data": {
            "text/plain": [
              "<Figure size 640x1500 with 3 Axes>"
            ],
            "image/png": "[encoded data removed]"
          },
          "metadata": {}
        }
      ],
      "source": [
        "curriculum = Curriculum(max_iter=int(N_EPOCHS*N_BATCHES_PER_EPOCH*BATCH_SIZE*0.5))\n",
        "curriculum.add_param_list(\n",
        "    [\n",
        "    (\"tau\", curriculum.constant_scheduler(tau)),\n",
        "    (\"a\", curriculum.constant_scheduler(a)),\n",
        "    (\"b\", curriculum.constant_scheduler(b)),\n",
        "\n",
        "    ]\n",
        ")\n",
        "curriculum.plot_all_schedules()"
      ]
    },
    {
      "cell_type": "code",
      "execution_count": 10,
      "metadata": {
        "id": "MSGVblYD-98G",
        "colab": {
          "base_uri": "https://localhost:8080/"
        },
        "outputId": "bf1e8684-8012-4410-d231-4be8df11264d"
      },
      "outputs": [
        {
          "output_type": "execute_result",
          "data": {
            "text/plain": [
              "{'tau': 1.0, 'a': 5.0, 'b': 2.0}"
            ]
          },
          "metadata": {},
          "execution_count": 10
        }
      ],
      "source": [
        "curriculum.get_params(299*N_SAMPLES_PER_EPOCH)"
      ]
    },
    {
      "cell_type": "code",
      "execution_count": 11,
      "metadata": {
        "id": "5fsyom8G0M5C"
      },
      "outputs": [],
      "source": [
        "data_generator = GenerateDataCurriculumCFM(\n",
        "    pprogram_maker= make_lm_program_ig_batched,\n",
        "    curriculum= curriculum,\n",
        "    #coupling = None\n",
        ")"
      ]
    },
    {
      "cell_type": "code",
      "execution_count": 11,
      "metadata": {
        "id": "dPiIi24JPg5U"
      },
      "outputs": [],
      "source": []
    },
    {
      "cell_type": "code",
      "execution_count": 12,
      "metadata": {
        "id": "Ygg-bs3rMtTl",
        "colab": {
          "base_uri": "https://localhost:8080/",
          "height": 302
        },
        "outputId": "a6061f4a-f2c8-4256-a004-9c9867fb9a37"
      },
      "outputs": [
        {
          "output_type": "execute_result",
          "data": {
            "image/svg+xml": "<?xml version=\"1.0\" encoding=\"UTF-8\" standalone=\"no\"?>\n<!DOCTYPE svg PUBLIC \"-//W3C//DTD SVG 1.1//EN\"\n \"http://www.w3.org/Graphics/SVG/1.1/DTD/svg11.dtd\">\n<!-- Generated by graphviz version 2.43.0 (0)\n -->\n<!-- Title: %3 Pages: 1 -->\n<svg width=\"439pt\" height=\"211pt\"\n viewBox=\"0.00 0.00 438.50 210.50\" xmlns=\"http://www.w3.org/2000/svg\" xmlns:xlink=\"http://www.w3.org/1999/xlink\">\n<g id=\"graph0\" class=\"graph\" transform=\"scale(1 1) rotate(0) translate(4 206.5)\">\n<title>%3</title>\n<polygon fill=\"white\" stroke=\"transparent\" points=\"-4,4 -4,-206.5 434.5,-206.5 434.5,4 -4,4\"/>\n<g id=\"clust1\" class=\"cluster\">\n<title>cluster_batch</title>\n<polygon fill=\"none\" stroke=\"black\" points=\"8,-8 8,-194.5 224,-194.5 224,-8 8,-8\"/>\n<text text-anchor=\"middle\" x=\"201\" y=\"-15.8\" font-family=\"Times,serif\" font-size=\"14.00\">batch</text>\n</g>\n<g id=\"clust2\" class=\"cluster\">\n<title>cluster_data</title>\n<polygon fill=\"none\" stroke=\"black\" points=\"115,-39 115,-114 189,-114 189,-39 115,-39\"/>\n<text text-anchor=\"middle\" x=\"169.5\" y=\"-46.8\" font-family=\"Times,serif\" font-size=\"14.00\">data</text>\n</g>\n<!-- sigma_squared -->\n<g id=\"node1\" class=\"node\">\n<title>sigma_squared</title>\n<ellipse fill=\"white\" stroke=\"black\" cx=\"152\" cy=\"-168.5\" rx=\"63.89\" ry=\"18\"/>\n<text text-anchor=\"middle\" x=\"152\" y=\"-164.8\" font-family=\"Times,serif\" font-size=\"14.00\">sigma_squared</text>\n</g>\n<!-- noise -->\n<g id=\"node3\" class=\"node\">\n<title>noise</title>\n<ellipse fill=\"white\" stroke=\"black\" cx=\"152\" cy=\"-88\" rx=\"29.5\" ry=\"18\"/>\n<text text-anchor=\"middle\" x=\"152\" y=\"-84.3\" font-family=\"Times,serif\" font-size=\"14.00\">noise</text>\n</g>\n<!-- sigma_squared&#45;&gt;noise -->\n<g id=\"edge1\" class=\"edge\">\n<title>sigma_squared&#45;&gt;noise</title>\n<path fill=\"none\" stroke=\"black\" d=\"M152,-150.47C152,-140.49 152,-127.65 152,-116.3\"/>\n<polygon fill=\"black\" stroke=\"black\" points=\"155.5,-116 152,-106 148.5,-116 155.5,-116\"/>\n</g>\n<!-- beta -->\n<g id=\"node2\" class=\"node\">\n<title>beta</title>\n<ellipse fill=\"white\" stroke=\"black\" cx=\"43\" cy=\"-168.5\" rx=\"27\" ry=\"18\"/>\n<text text-anchor=\"middle\" x=\"43\" y=\"-164.8\" font-family=\"Times,serif\" font-size=\"14.00\">beta</text>\n</g>\n<!-- distribution_description_node -->\n<g id=\"node4\" class=\"node\">\n<title>distribution_description_node</title>\n<text text-anchor=\"start\" x=\"241.5\" y=\"-179.8\" font-family=\"Times,serif\" font-size=\"14.00\">sigma_squared ~ InverseGamma</text>\n<text text-anchor=\"start\" x=\"241.5\" y=\"-164.8\" font-family=\"Times,serif\" font-size=\"14.00\">beta ~ MultivariateNormal</text>\n<text text-anchor=\"start\" x=\"241.5\" y=\"-149.8\" font-family=\"Times,serif\" font-size=\"14.00\">noise ~ Normal</text>\n</g>\n</g>\n</svg>\n",
            "text/plain": [
              "<graphviz.graphs.Digraph at 0x788775b31a80>"
            ]
          },
          "metadata": {},
          "execution_count": 12
        }
      ],
      "source": [
        "data_generator.render_model()"
      ]
    },
    {
      "cell_type": "code",
      "execution_count": 13,
      "metadata": {
        "id": "GF1BGQG2hlTW",
        "colab": {
          "base_uri": "https://localhost:8080/"
        },
        "outputId": "3c914d2e-ebdc-45d6-c988-7321f019dfed"
      },
      "outputs": [
        {
          "output_type": "stream",
          "name": "stdout",
          "text": [
            "The number of batches times the number of epochs must be equal to the total number of iterations in the curriculum. But got 49971200 and 24985600 respectively\n"
          ]
        }
      ],
      "source": [
        "epoch_loader = data_generator.make_epoch_loader(\n",
        "    n = N,\n",
        "    p = P,\n",
        "    number_of_batches_per_epoch = N_BATCHES_PER_EPOCH,\n",
        "    n_epochs = N_EPOCHS,\n",
        "    batch_size= BATCH_SIZE,\n",
        "    train_frac= 0.5,\n",
        "    val_frac= 0.1,\n",
        "    shuffle=False,\n",
        "    n_samples_to_generate_at_once = 250_000\n",
        ")"
      ]
    },
    {
      "cell_type": "code",
      "execution_count": 14,
      "metadata": {
        "id": "SrpFXxwfHkBu"
      },
      "outputs": [],
      "source": [
        "#save_path_model = \"/content/drive/MyDrive/PFN_Experiments/Training_Runs/experiment_2024_05_29_07_37_35/model.pth\""
      ]
    },
    {
      "cell_type": "code",
      "execution_count": 15,
      "metadata": {
        "id": "QufHnyKPiDAl"
      },
      "outputs": [],
      "source": [
        "\n",
        "model = TransformerCNFConditionalDecoder(\n",
        "    n_input_features_encoder = P+1,\n",
        "    n_input_features_decoder = P,\n",
        "    d_model_encoder = 512,\n",
        "    d_model_decoder = 512,\n",
        "    n_heads_encoder = 8,\n",
        "    n_heads_decoder = 8,\n",
        "    d_ff_encoder = 1024,\n",
        "    d_ff_decoder = 1024,\n",
        "    dropout_encoder = 0.1,\n",
        "    dropout_decoder = 0.1,\n",
        "    n_conditional_input_features =  1,\n",
        "    n_condition_features = 512,\n",
        "    n_layers_condition_embedding = 3,\n",
        "    n_layers_encoder = 8,\n",
        "    n_layers_decoder = 6,\n",
        "    use_positional_encoding_encoder = True,\n",
        "    use_positional_encoding_decoder = False,\n",
        "    use_self_attention_decoder = False,\n",
        "    output_dim = P,\n",
        "    d_final_processing = 512,\n",
        "    n_final_layers = 3,\n",
        "    dropout_final = 0.1,\n",
        "    treat_z_as_sequence = False,\n",
        ")"
      ]
    },
    {
      "cell_type": "code",
      "execution_count": 16,
      "metadata": {
        "id": "R0x2hi8X9bDi"
      },
      "outputs": [],
      "source": [
        "def count_parameters(model):\n",
        "    return sum(p.numel() for p in model.parameters() if p.requires_grad)"
      ]
    },
    {
      "cell_type": "code",
      "execution_count": 17,
      "metadata": {
        "id": "HEVjGBaGhYUA",
        "colab": {
          "base_uri": "https://localhost:8080/",
          "height": 35
        },
        "outputId": "9a5e9c0c-c2ce-47b2-fa93-819ae87aa111"
      },
      "outputs": [
        {
          "output_type": "execute_result",
          "data": {
            "text/plain": [
              "'4.31e+07'"
            ],
            "application/vnd.google.colaboratory.intrinsic+json": {
              "type": "string"
            }
          },
          "metadata": {},
          "execution_count": 17
        }
      ],
      "source": [
        "'{:.2e}'.format(count_parameters(model))"
      ]
    },
    {
      "cell_type": "code",
      "execution_count": 18,
      "metadata": {
        "id": "3pV8DPcPAKpZ"
      },
      "outputs": [],
      "source": [
        "import torch\n",
        "from torch.optim.lr_scheduler import ReduceLROnPlateau, OneCycleLR"
      ]
    },
    {
      "cell_type": "code",
      "execution_count": 19,
      "metadata": {
        "id": "7guRCL6amy7O"
      },
      "outputs": [],
      "source": [
        "lr = 1e-4\n",
        "opt = torch.optim.AdamW(model.parameters(), lr=lr, weight_decay=1e-5)"
      ]
    },
    {
      "cell_type": "markdown",
      "metadata": {
        "id": "rbR2_6cZ86l1"
      },
      "source": []
    },
    {
      "cell_type": "code",
      "execution_count": 20,
      "metadata": {
        "id": "dU7ZyZ0bTe0T"
      },
      "outputs": [],
      "source": [
        "loss_fun = CFMLossOT2(\n",
        "    sigma_min=1e-2\n",
        ")"
      ]
    },
    {
      "cell_type": "code",
      "execution_count": 21,
      "metadata": {
        "id": "stcftIkuiVCp"
      },
      "outputs": [],
      "source": [
        "scheduler = OneCycleLR(opt,\n",
        "                       max_lr = 1e-4,\n",
        "                       epochs = N_EPOCHS,\n",
        "                       steps_per_epoch = N_SAMPLES_PER_EPOCH//BATCH_SIZE,\n",
        "                       pct_start = 0.1,\n",
        "                       div_factor=25.0,\n",
        "                       final_div_factor=1e2)\n",
        "\n",
        "#scheduler = ReduceLROnPlateau(opt)\n",
        "\n",
        "additional_evals = {\n",
        "}"
      ]
    },
    {
      "cell_type": "code",
      "execution_count": 22,
      "metadata": {
        "id": "heOg5bn-NG3K"
      },
      "outputs": [],
      "source": [
        "#?TrainerCurriculumCNF"
      ]
    },
    {
      "cell_type": "code",
      "execution_count": 23,
      "metadata": {
        "id": "k8jYoTeKXRf_",
        "colab": {
          "base_uri": "https://localhost:8080/"
        },
        "outputId": "21a608ef-bf3d-40b3-b956-5094ae38984c"
      },
      "outputs": [
        {
          "output_type": "stream",
          "name": "stdout",
          "text": [
            "Warning: n_samples_to_generate_at_once should be smaller than n_samples_per_epoch, but got 250000 and 249856 respectively. This most likely won't make sense\n",
            "Warning: n_samples_to_generate_at_once should be smaller than n_samples_per_epoch, but got 250000 and 49971 respectively. This most likely won't make sense\n",
            "Warning: n_samples_to_generate_at_once should be smaller than n_samples_per_epoch, but got 250000 and 199885 respectively. This most likely won't make sense\n",
            "Warning: n_samples_to_generate_at_once should be smaller than n_samples_per_epoch, but got 250000 and 249856 respectively. This most likely won't make sense\n",
            "Warning: n_samples_to_generate_at_once should be smaller than n_samples_per_epoch, but got 250000 and 49971 respectively. This most likely won't make sense\n",
            "Warning: n_samples_to_generate_at_once should be smaller than n_samples_per_epoch, but got 250000 and 199885 respectively. This most likely won't make sense\n"
          ]
        }
      ],
      "source": [
        "trainer = TrainerCurriculumCNF(\n",
        "    model = model,\n",
        "    optimizer=opt,\n",
        "    scheduler = scheduler,\n",
        "    loss_function=loss_fun,\n",
        "    epoch_loader = epoch_loader,\n",
        "    evaluation_functions= additional_evals,\n",
        "    n_epochs = N_EPOCHS,\n",
        "    early_stopping_patience = 200,\n",
        "    schedule_step_on = \"batch\",\n",
        "    save_path = SAVE_PATH,\n",
        "    coupling = None,\n",
        "    use_same_timestep_per_batch = False,\n",
        "    use_train_mode_during_validation = False,\n",
        "    max_gradient_norm = 1.0\n",
        "\n",
        ")"
      ]
    },
    {
      "cell_type": "code",
      "execution_count": 24,
      "metadata": {
        "id": "HQOSsWQeTDfc",
        "colab": {
          "base_uri": "https://localhost:8080/",
          "height": 35
        },
        "outputId": "fe489102-46f1-45d9-af9c-bb6d53523e56"
      },
      "outputs": [
        {
          "output_type": "execute_result",
          "data": {
            "text/plain": [
              "'/content/drive/MyDrive/PFN_Experiments/Training_RunsCFM/experiment_2024_08_06_10_25_00'"
            ],
            "application/vnd.google.colaboratory.intrinsic+json": {
              "type": "string"
            }
          },
          "metadata": {},
          "execution_count": 24
        }
      ],
      "source": [
        "trainer.set_new_save_path(\"/content/drive/MyDrive/PFN_Experiments/Training_RunsCFM/experiment_2024_08_06_10_25_00\")\n",
        "\n",
        "trainer.save_path"
      ]
    },
    {
      "cell_type": "code",
      "execution_count": 25,
      "metadata": {
        "id": "AEZTlv_B96jm"
      },
      "outputs": [],
      "source": [
        "try:\n",
        "  trainer.load_best_model()\n",
        "except:\n",
        "  print(\"Could not load model\")\n",
        "  pass"
      ]
    },
    {
      "cell_type": "code",
      "execution_count": 26,
      "metadata": {
        "id": "M6SQXfEgcZm-",
        "colab": {
          "base_uri": "https://localhost:8080/"
        },
        "outputId": "c39a639f-2010-4378-f71d-735a45926a9f"
      },
      "outputs": [
        {
          "output_type": "execute_result",
          "data": {
            "text/plain": [
              "TransformerCNFConditionalDecoder(\n",
              "  (condition_embedding_layer): MLP(\n",
              "    (linear1): Linear_block(\n",
              "      (fc): Linear(in_features=1, out_features=512, bias=True)\n",
              "      (act): LeakyReLU(negative_slope=0.01)\n",
              "      (bn): BatchNorm1d(512, eps=1e-05, momentum=0.1, affine=True, track_running_stats=True)\n",
              "      (drop): Dropout(p=0.1, inplace=False)\n",
              "    )\n",
              "    (hidden_layers): Sequential(\n",
              "      (0): Linear_skip_block(\n",
              "        (fc): Linear(in_features=512, out_features=512, bias=True)\n",
              "        (act): LeakyReLU(negative_slope=0.01)\n",
              "        (bn): BatchNorm1d(512, eps=1e-05, momentum=0.1, affine=True, track_running_stats=True)\n",
              "        (drop): Dropout(p=0.1, inplace=False)\n",
              "      )\n",
              "      (1): Linear_skip_block(\n",
              "        (fc): Linear(in_features=512, out_features=512, bias=True)\n",
              "        (act): LeakyReLU(negative_slope=0.01)\n",
              "        (bn): BatchNorm1d(512, eps=1e-05, momentum=0.1, affine=True, track_running_stats=True)\n",
              "        (drop): Dropout(p=0.1, inplace=False)\n",
              "      )\n",
              "      (2): Linear_skip_block(\n",
              "        (fc): Linear(in_features=512, out_features=512, bias=True)\n",
              "        (act): LeakyReLU(negative_slope=0.01)\n",
              "        (bn): BatchNorm1d(512, eps=1e-05, momentum=0.1, affine=True, track_running_stats=True)\n",
              "        (drop): Dropout(p=0.1, inplace=False)\n",
              "      )\n",
              "    )\n",
              "    (linear_final): Linear(in_features=512, out_features=512, bias=True)\n",
              "  )\n",
              "  (transformer_encoder): TransformerEncoder(\n",
              "    (embedding_layer): Linear(in_features=6, out_features=512, bias=True)\n",
              "    (positional_encoding): PositionalEncoding(\n",
              "      (dropout): Dropout(p=0.1, inplace=False)\n",
              "    )\n",
              "    (encoder_blocks): ModuleList(\n",
              "      (0-7): 8 x EncoderBlock(\n",
              "        (layer_norm0): LayerNorm((512,), eps=1e-05, elementwise_affine=True)\n",
              "        (multihead_attention): MultiheadAttention(\n",
              "          (out_proj): NonDynamicallyQuantizableLinear(in_features=512, out_features=512, bias=True)\n",
              "        )\n",
              "        (layer_norm1): LayerNorm((512,), eps=1e-05, elementwise_affine=True)\n",
              "        (positionwise_feedforward): PositionwiseFeedForward(\n",
              "          (w_1): Linear(in_features=512, out_features=1024, bias=True)\n",
              "          (w_2): Linear(in_features=1024, out_features=512, bias=True)\n",
              "          (dropout): Dropout(p=0.1, inplace=False)\n",
              "        )\n",
              "      )\n",
              "    )\n",
              "  )\n",
              "  (transformer_decoder): TransformerDecoderConditional(\n",
              "    (embedding_layer): Linear(in_features=5, out_features=512, bias=True)\n",
              "    (decoder_blocks): ModuleList(\n",
              "      (0-5): 6 x DecoderBlockConditional(\n",
              "        (condition_layer_norm1): ConditionalLayerNorm(\n",
              "          (layer_norm): LayerNorm((512,), eps=1e-05, elementwise_affine=False)\n",
              "          (gamma_layer): Linear(in_features=512, out_features=512, bias=True)\n",
              "          (beta_layer): Linear(in_features=512, out_features=512, bias=True)\n",
              "        )\n",
              "        (multihead_cross_attention): MultiheadAttention(\n",
              "          (out_proj): NonDynamicallyQuantizableLinear(in_features=512, out_features=512, bias=True)\n",
              "        )\n",
              "        (rescale_cross): Rescale(\n",
              "          (rescale): Linear(in_features=512, out_features=512, bias=True)\n",
              "        )\n",
              "        (condition_layer_norm2): ConditionalLayerNorm(\n",
              "          (layer_norm): LayerNorm((512,), eps=1e-05, elementwise_affine=False)\n",
              "          (gamma_layer): Linear(in_features=512, out_features=512, bias=True)\n",
              "          (beta_layer): Linear(in_features=512, out_features=512, bias=True)\n",
              "        )\n",
              "        (positionwise_feedforward): PositionwiseFeedForward(\n",
              "          (w_1): Linear(in_features=512, out_features=1024, bias=True)\n",
              "          (w_2): Linear(in_features=1024, out_features=512, bias=True)\n",
              "          (dropout): Dropout(p=0.1, inplace=False)\n",
              "        )\n",
              "        (rescale1): Rescale(\n",
              "          (rescale): Linear(in_features=512, out_features=512, bias=True)\n",
              "        )\n",
              "      )\n",
              "    )\n",
              "  )\n",
              "  (final_processing): MLPConditional(\n",
              "    (linear1): Linear_block(\n",
              "      (fc): Linear(in_features=512, out_features=512, bias=True)\n",
              "      (act): LeakyReLU(negative_slope=0.01)\n",
              "      (bn): BatchNorm1d(512, eps=1e-05, momentum=0.1, affine=True, track_running_stats=True)\n",
              "      (drop): Dropout(p=0.1, inplace=False)\n",
              "    )\n",
              "    (conditional_bn1): ConditionalBatchNorm(\n",
              "      (bn): BatchNorm1d(512, eps=1e-05, momentum=0.1, affine=False, track_running_stats=True)\n",
              "      (linear_gamma): Linear(in_features=512, out_features=512, bias=True)\n",
              "      (linear_beta): Linear(in_features=512, out_features=512, bias=True)\n",
              "    )\n",
              "    (hidden_bn_layers): ModuleList(\n",
              "      (0-2): 3 x ConditionalBatchNorm(\n",
              "        (bn): BatchNorm1d(512, eps=1e-05, momentum=0.1, affine=False, track_running_stats=True)\n",
              "        (linear_gamma): Linear(in_features=512, out_features=512, bias=True)\n",
              "        (linear_beta): Linear(in_features=512, out_features=512, bias=True)\n",
              "      )\n",
              "    )\n",
              "    (hidden_layers): ModuleList(\n",
              "      (0-2): 3 x Linear_skip_block(\n",
              "        (fc): Linear(in_features=512, out_features=512, bias=True)\n",
              "        (act): LeakyReLU(negative_slope=0.01)\n",
              "        (bn): BatchNorm1d(512, eps=1e-05, momentum=0.1, affine=True, track_running_stats=True)\n",
              "        (drop): Dropout(p=0.1, inplace=False)\n",
              "      )\n",
              "    )\n",
              "    (linear_final): Linear(in_features=512, out_features=5, bias=True)\n",
              "    (conditional_bn_final): ConditionalBatchNorm(\n",
              "      (bn): BatchNorm1d(5, eps=1e-05, momentum=0.1, affine=False, track_running_stats=True)\n",
              "      (linear_gamma): Linear(in_features=512, out_features=5, bias=True)\n",
              "      (linear_beta): Linear(in_features=512, out_features=5, bias=True)\n",
              "    )\n",
              "  )\n",
              ")"
            ]
          },
          "metadata": {},
          "execution_count": 26
        }
      ],
      "source": [
        "model.eval()\n",
        "trainer.load_best_model()\n",
        "trainer.model.cuda()"
      ]
    },
    {
      "cell_type": "code",
      "execution_count": 27,
      "metadata": {
        "id": "aJNaEAfbtjiM",
        "colab": {
          "base_uri": "https://localhost:8080/"
        },
        "outputId": "233d6574-57e2-4573-c19b-5cc04e574c36"
      },
      "outputs": [
        {
          "output_type": "stream",
          "name": "stderr",
          "text": [
            "100%|██████████| 196/196 [01:19<00:00,  2.47it/s]\n"
          ]
        },
        {
          "output_type": "execute_result",
          "data": {
            "text/plain": [
              "{'loss_mean': 0.3299914002418518,\n",
              " 'loss_median': 0.32935628294944763,\n",
              " 'loss_std': 0.015411128289997578}"
            ]
          },
          "metadata": {},
          "execution_count": 27
        }
      ],
      "source": [
        "trainer.test()"
      ]
    },
    {
      "cell_type": "code",
      "execution_count": 28,
      "metadata": {
        "id": "Wa7SYMBkZxua"
      },
      "outputs": [],
      "source": [
        "N_SAMPLES_PER_MODEL = 1_000"
      ]
    },
    {
      "cell_type": "code",
      "execution_count": 29,
      "metadata": {
        "id": "EE7ZNy6kV73b",
        "colab": {
          "base_uri": "https://localhost:8080/"
        },
        "outputId": "1084d7d3-a8af-4842-ac3d-86629ca4a502"
      },
      "outputs": [
        {
          "output_type": "stream",
          "name": "stdout",
          "text": [
            "params for pprogram: {'tau': 1.0, 'a': 5.0, 'b': 2.0}\n",
            "        def multivariate_lm_return_dict(x: torch.Tensor, y: torch.Tensor = None) -> dict:\n",
            "                # Define distributions for the global parameters\n",
            "                sigma_squared_dist = dist.InverseGamma(a, b)\n",
            "\n",
            "                beta_cov = torch.eye(x.shape[1]) * (tau ** 2)  # the covariance matrix of the parameters of the linear model\n",
            "\n",
            "                sigma_squared = pyro.sample(\"sigma_squared\", sigma_squared_dist).squeeze()\n",
            "\n",
            "                beta_dist = dist.MultivariateNormal(torch.zeros(x.shape[1]), beta_cov)\n",
            "                beta = pyro.sample(\"beta\", beta_dist)\n",
            "\n",
            "                # Compute mean using matrix multiplication\n",
            "                mean = torch.matmul(x, beta)\n",
            "\n",
            "                with pyro.plate(\"data\", len(x)):\n",
            "                        y = pyro.sample(\"obs\", pyro.distributions.Normal(mean, sigma_squared), obs=y)\n",
            "\n",
            "\n",
            "                return {\n",
            "                        \"x\": x,\n",
            "                        \"y\": y,\n",
            "                        \"sigma_squared\": sigma_squared,\n",
            "                        \"beta\": beta\n",
            "                }\n",
            "\n",
            "params for pprogram: {'tau': 1.0, 'a': 5.0, 'b': 2.0}\n",
            "        def multivariate_lm_return_dict(x: torch.Tensor, y: torch.Tensor = None) -> dict:\n",
            "                # Define distributions for the global parameters\n",
            "                sigma_squared_dist = dist.InverseGamma(a, b)\n",
            "\n",
            "                beta_cov = torch.eye(x.shape[1]) * (tau ** 2)  # the covariance matrix of the parameters of the linear model\n",
            "\n",
            "                sigma_squared = pyro.sample(\"sigma_squared\", sigma_squared_dist).squeeze()\n",
            "\n",
            "                beta_dist = dist.MultivariateNormal(torch.zeros(x.shape[1]), beta_cov)\n",
            "                beta = pyro.sample(\"beta\", beta_dist)\n",
            "\n",
            "                # Compute mean using matrix multiplication\n",
            "                mean = torch.matmul(x, beta)\n",
            "\n",
            "                with pyro.plate(\"data\", len(x)):\n",
            "                        y = pyro.sample(\"obs\", pyro.distributions.Normal(mean, sigma_squared), obs=y)\n",
            "\n",
            "\n",
            "                return {\n",
            "                        \"x\": x,\n",
            "                        \"y\": y,\n",
            "                        \"sigma_squared\": sigma_squared,\n",
            "                        \"beta\": beta\n",
            "                }\n",
            "\n"
          ]
        }
      ],
      "source": [
        "full_model = ModelToPosteriorCNF(\n",
        "    model = model.eval(),\n",
        "    sample_name = \"beta\",\n",
        "    sample_shape = (P,),\n",
        "    n_samples=N_SAMPLES_PER_MODEL,\n",
        "    batch_size = BATCH_SIZE,\n",
        "    solve_adjoint = True,\n",
        "    atol = 1e-7,\n",
        "    rtol = 1e-7,\n",
        "    #device = torch.device(\"cpu\")\n",
        ")\n",
        "benchmark_params_ppgrogram = data_generator.curriculum.get_params(-1)\n",
        "print(f\"params for pprogram: {benchmark_params_ppgrogram}\")\n",
        "\n",
        "pprogram1 = make_lm_program_ig(**benchmark_params_ppgrogram)\n",
        "\n",
        "pprogram1_y = return_only_y(pprogram1)\n",
        "print_code(pprogram1)\n",
        "\n",
        "\n",
        "\n",
        "benchmark_params_ppgrogram = data_generator.curriculum.get_params(-1)\n",
        "print(f\"params for pprogram: {benchmark_params_ppgrogram}\")\n",
        "\n",
        "pprogram1 = make_lm_program_ig(**benchmark_params_ppgrogram)\n",
        "\n",
        "pprogram1_y = return_only_y(pprogram1)\n",
        "print_code(pprogram1)\n",
        "\n",
        "\n",
        "\n",
        "\n"
      ]
    },
    {
      "cell_type": "code",
      "execution_count": 30,
      "metadata": {
        "id": "SVTxEfoJK080"
      },
      "outputs": [],
      "source": [
        "N_SAMPLES_PER_MODEL = 1000"
      ]
    },
    {
      "cell_type": "code",
      "execution_count": 31,
      "metadata": {
        "id": "MfTOFzf3Qrzw"
      },
      "outputs": [],
      "source": [
        "analytical_solution = PosteriorLM_IG(\n",
        "    pprogram_dict= {\n",
        "        \"tau\": tau,\n",
        "        \"a\": a,\n",
        "        \"b\": b\n",
        "    },\n",
        "    n_samples=N_SAMPLES_PER_MODEL\n",
        ")\n",
        "\n",
        "\n",
        "hmc_sampler = Hamiltionian_MC(pprogram = pprogram1_y, n_warmup=500, n_samples=N_SAMPLES_PER_MODEL)\n",
        "\n",
        "vi_diag = Variational_InferenceAutoguide(\n",
        "    pprogram=pprogram1_y,\n",
        "    make_guide_fun = AutoDiagonalNormal,\n",
        "    n_steps = 2000,\n",
        "    n_samples=N_SAMPLES_PER_MODEL,\n",
        "    lr = 1e-2\n",
        ")\n",
        "\n",
        "vi_multivariate_normal = Variational_InferenceAutoguide(\n",
        "    pprogram=pprogram1_y,\n",
        "    make_guide_fun = AutoMultivariateNormal,\n",
        "    n_steps = 2000,\n",
        "    n_samples=N_SAMPLES_PER_MODEL,\n",
        "    lr = 1e-2\n",
        ")\n",
        "vi_laplace = Variational_InferenceAutoguide(\n",
        "    pprogram=pprogram1_y,\n",
        "    make_guide_fun = AutoLaplaceApproximation,\n",
        "    n_steps = 2000,\n",
        "    n_samples=N_SAMPLES_PER_MODEL,\n",
        "    lr = 1e-2\n",
        ")\n",
        "\n",
        "vi_autoIAF = Variational_InferenceAutoguide(\n",
        "    pprogram=pprogram1_y,\n",
        "    make_guide_fun=AutoIAFNormal,\n",
        "    #additional_make_guide_args={\"num_transforms\": 5, \"hidden_dim\" : 100},\n",
        "    n_steps = 2000,\n",
        "    n_samples=N_SAMPLES_PER_MODEL,\n",
        "    lr = 1e-3\n",
        ")\n",
        "\n",
        "vi_autostrucured = Variational_InferenceAutoguide(\n",
        "    pprogram=pprogram1_y,\n",
        "    make_guide_fun=AutoStructured,\n",
        "    n_steps = 2000,\n",
        "    n_samples=N_SAMPLES_PER_MODEL,\n",
        "    lr = 1e-2\n",
        ")\n"
      ]
    },
    {
      "cell_type": "code",
      "execution_count": 32,
      "metadata": {
        "id": "crqsdvP_Kjbm",
        "colab": {
          "base_uri": "https://localhost:8080/"
        },
        "outputId": "b28b0e49-9964-4dd7-bd5c-31dea6723fc5"
      },
      "outputs": [
        {
          "output_type": "stream",
          "name": "stdout",
          "text": [
            "An error occured while preprocessing the dataset with id 361086. Skipping the dataset\n"
          ]
        }
      ],
      "source": [
        "\n",
        "getdata = GetDataOpenML(\n",
        "    preprocessor = Preprocessor(\n",
        "        N_datapoints = N,\n",
        "        P_features = P,\n",
        "        target_mean = 0.0,\n",
        "        target_var = 0.75\n",
        "    ),\n",
        "    save_path = \"/content/drive/MyDrive/PFN_Experiments/DatasetsOpenML/numerical_regression.pkl\",\n",
        "    benchmark_id = 336\n",
        ")\n",
        "datasets = getdata.get_data()"
      ]
    },
    {
      "cell_type": "code",
      "source": [],
      "metadata": {
        "id": "t0AUj7BYblps"
      },
      "execution_count": 42,
      "outputs": []
    },
    {
      "cell_type": "code",
      "execution_count": 44,
      "metadata": {
        "id": "jt612Ro8KjSu",
        "colab": {
          "base_uri": "https://localhost:8080/"
        },
        "outputId": "f1df76b2-e170-4db8-e3ae-ee9a4a3da68b"
      },
      "outputs": [
        {
          "output_type": "stream",
          "name": "stdout",
          "text": [
            "The save path is not empty and the overwrite flag is set, the results will be overwritten\n"
          ]
        }
      ],
      "source": [
        "eval_rw = EvaluateRealWorld(\n",
        "    posterior_model = full_model,\n",
        "    evaluation_datasets = datasets,\n",
        "    comparison_models = [\n",
        "                        analytical_solution,\n",
        "                        hmc_sampler,\n",
        "                        vi_multivariate_normal,\n",
        "                        vi_diag,\n",
        "                        vi_laplace,\n",
        "                        vi_autoIAF,\n",
        "                        vi_autostrucured,\n",
        "                        ],\n",
        "    results_dict_to_latent_variable_comparison_models = just_return_results,\n",
        "    n_evaluation_cases = len(datasets),\n",
        "    save_path = SAVE_PATH_EVALUATION,\n",
        "    overwrite_results = True\n",
        ")"
      ]
    },
    {
      "cell_type": "code",
      "execution_count": 45,
      "metadata": {
        "id": "UP-fqoHuKjE3",
        "colab": {
          "base_uri": "https://localhost:8080/",
          "height": 1000
        },
        "outputId": "4a7e7fb6-3d4e-4518-db34-7afd8ffb442c"
      },
      "outputs": [
        {
          "output_type": "stream",
          "name": "stderr",
          "text": [
            "Sampling posterior:   0%|          | 0/18 [00:00<?, ?it/s]\n",
            "0it [00:00, ?it/s]\n",
            "Sampling posterior:   6%|▌         | 1/18 [02:46<47:12, 166.61s/it]\n",
            "0it [00:00, ?it/s]\n",
            "Sampling posterior:  11%|█         | 2/18 [05:28<43:41, 163.83s/it]\n",
            "0it [00:00, ?it/s]\n",
            "Sampling posterior:  17%|█▋        | 3/18 [08:19<41:44, 167.00s/it]\n",
            "0it [00:00, ?it/s]\n",
            "Sampling posterior:  22%|██▏       | 4/18 [11:18<40:06, 171.88s/it]\n",
            "0it [00:00, ?it/s]\n",
            "Sampling posterior:  28%|██▊       | 5/18 [14:01<36:30, 168.54s/it]\n",
            "0it [00:00, ?it/s]\n",
            "Sampling posterior:  33%|███▎      | 6/18 [16:44<33:21, 166.81s/it]\n",
            "0it [00:00, ?it/s]\n",
            "Sampling posterior:  39%|███▉      | 7/18 [19:31<30:36, 166.97s/it]\n",
            "0it [00:00, ?it/s]\n",
            "Sampling posterior:  44%|████▍     | 8/18 [22:17<27:43, 166.36s/it]\n",
            "0it [00:00, ?it/s]\n",
            "Sampling posterior:  50%|█████     | 9/18 [24:56<24:37, 164.20s/it]\n",
            "0it [00:00, ?it/s]\n",
            "Sampling posterior:  56%|█████▌    | 10/18 [27:44<22:03, 165.49s/it]\n",
            "0it [00:00, ?it/s]\n",
            "Sampling posterior:  61%|██████    | 11/18 [30:38<19:35, 167.95s/it]\n",
            "0it [00:00, ?it/s]\n",
            "Sampling posterior:  67%|██████▋   | 12/18 [33:30<16:55, 169.33s/it]\n",
            "0it [00:00, ?it/s]\n",
            "Sampling posterior:  72%|███████▏  | 13/18 [36:19<14:05, 169.13s/it]\n",
            "0it [00:00, ?it/s]\n",
            "Sampling posterior:  78%|███████▊  | 14/18 [39:03<11:10, 167.60s/it]\n",
            "0it [00:00, ?it/s]\n",
            "Sampling posterior:  83%|████████▎ | 15/18 [41:49<08:20, 166.99s/it]\n",
            "0it [00:00, ?it/s]\n",
            "Sampling posterior:  89%|████████▉ | 16/18 [44:32<05:32, 166.03s/it]\n",
            "0it [00:00, ?it/s]\n",
            "Sampling posterior:  94%|█████████▍| 17/18 [47:30<02:49, 169.46s/it]\n",
            "0it [00:00, ?it/s]\n",
            "Sampling posterior: 100%|██████████| 18/18 [50:24<00:00, 168.04s/it]\n",
            "Sampling posterior: 100%|██████████| 18/18 [00:00<00:00, 809.12it/s]\n",
            "Sample: 100%|██████████| 1500/1500 [00:37, 39.62it/s, step size=6.35e-01, acc. prob=0.916]\n",
            "Sample: 100%|██████████| 1500/1500 [01:51, 13.50it/s, step size=1.60e-01, acc. prob=0.947]\n",
            "Sample: 100%|██████████| 1500/1500 [03:04,  8.14it/s, step size=9.15e-02, acc. prob=0.959]\n",
            "Sample: 100%|██████████| 1500/1500 [00:54, 27.60it/s, step size=3.81e-01, acc. prob=0.950]\n",
            "Sample: 100%|██████████| 1500/1500 [04:05,  6.11it/s, step size=7.38e-02, acc. prob=0.935]\n",
            "Sample: 100%|██████████| 1500/1500 [02:10, 11.46it/s, step size=1.35e-01, acc. prob=0.941]\n",
            "Sample: 100%|██████████| 1500/1500 [02:38,  9.45it/s, step size=1.15e-01, acc. prob=0.926]\n",
            "Sample: 100%|██████████| 1500/1500 [02:44,  9.11it/s, step size=1.05e-01, acc. prob=0.943]\n",
            "Sample: 100%|██████████| 1500/1500 [00:54, 27.29it/s, step size=4.14e-01, acc. prob=0.910]\n",
            "Sample: 100%|██████████| 1500/1500 [02:06, 11.90it/s, step size=1.32e-01, acc. prob=0.959]\n",
            "Sample: 100%|██████████| 1500/1500 [01:56, 12.89it/s, step size=1.54e-01, acc. prob=0.923]\n",
            "Sample: 100%|██████████| 1500/1500 [01:47, 13.94it/s, step size=1.69e-01, acc. prob=0.923]\n",
            "Sample: 100%|██████████| 1500/1500 [01:31, 16.42it/s, step size=1.86e-01, acc. prob=0.913]\n",
            "Sample: 100%|██████████| 1500/1500 [00:59, 25.39it/s, step size=3.48e-01, acc. prob=0.931]\n",
            "Sample: 100%|██████████| 1500/1500 [02:51,  8.74it/s, step size=9.66e-02, acc. prob=0.938]\n",
            "Sample: 100%|██████████| 1500/1500 [01:04, 23.13it/s, step size=3.11e-01, acc. prob=0.927]\n",
            "Sample: 100%|██████████| 1500/1500 [02:17, 10.91it/s, step size=1.18e-01, acc. prob=0.926]\n",
            "Sample: 100%|██████████| 1500/1500 [00:41, 36.24it/s, step size=5.95e-01, acc. prob=0.931]\n",
            "Sampling posterior: 100%|██████████| 18/18 [34:18<00:00, 114.34s/it]\n",
            "Sampling posterior:   0%|          | 0/18 [00:00<?, ?it/s]"
          ]
        },
        {
          "output_type": "stream",
          "name": "stdout",
          "text": [
            "....................\n"
          ]
        },
        {
          "output_type": "stream",
          "name": "stderr",
          "text": [
            "\rSampling posterior:   6%|▌         | 1/18 [00:13<03:43, 13.14s/it]"
          ]
        },
        {
          "output_type": "stream",
          "name": "stdout",
          "text": [
            "....................\n"
          ]
        },
        {
          "output_type": "stream",
          "name": "stderr",
          "text": [
            "\rSampling posterior:  11%|█         | 2/18 [00:26<03:29, 13.11s/it]"
          ]
        },
        {
          "output_type": "stream",
          "name": "stdout",
          "text": [
            "....................\n"
          ]
        },
        {
          "output_type": "stream",
          "name": "stderr",
          "text": [
            "\rSampling posterior:  17%|█▋        | 3/18 [00:39<03:18, 13.25s/it]"
          ]
        },
        {
          "output_type": "stream",
          "name": "stdout",
          "text": [
            "....................\n"
          ]
        },
        {
          "output_type": "stream",
          "name": "stderr",
          "text": [
            "\rSampling posterior:  22%|██▏       | 4/18 [00:52<03:05, 13.24s/it]"
          ]
        },
        {
          "output_type": "stream",
          "name": "stdout",
          "text": [
            "....................\n"
          ]
        },
        {
          "output_type": "stream",
          "name": "stderr",
          "text": [
            "\rSampling posterior:  28%|██▊       | 5/18 [01:06<02:52, 13.28s/it]"
          ]
        },
        {
          "output_type": "stream",
          "name": "stdout",
          "text": [
            "....................\n"
          ]
        },
        {
          "output_type": "stream",
          "name": "stderr",
          "text": [
            "\rSampling posterior:  33%|███▎      | 6/18 [01:19<02:39, 13.33s/it]"
          ]
        },
        {
          "output_type": "stream",
          "name": "stdout",
          "text": [
            "....................\n"
          ]
        },
        {
          "output_type": "stream",
          "name": "stderr",
          "text": [
            "\rSampling posterior:  39%|███▉      | 7/18 [01:32<02:26, 13.28s/it]"
          ]
        },
        {
          "output_type": "stream",
          "name": "stdout",
          "text": [
            "....................\n"
          ]
        },
        {
          "output_type": "stream",
          "name": "stderr",
          "text": [
            "\rSampling posterior:  44%|████▍     | 8/18 [01:45<02:12, 13.24s/it]"
          ]
        },
        {
          "output_type": "stream",
          "name": "stdout",
          "text": [
            "....................\n"
          ]
        },
        {
          "output_type": "stream",
          "name": "stderr",
          "text": [
            "\rSampling posterior:  50%|█████     | 9/18 [01:59<01:59, 13.32s/it]"
          ]
        },
        {
          "output_type": "stream",
          "name": "stdout",
          "text": [
            "....................\n"
          ]
        },
        {
          "output_type": "stream",
          "name": "stderr",
          "text": [
            "\rSampling posterior:  56%|█████▌    | 10/18 [02:12<01:46, 13.34s/it]"
          ]
        },
        {
          "output_type": "stream",
          "name": "stdout",
          "text": [
            "....................\n"
          ]
        },
        {
          "output_type": "stream",
          "name": "stderr",
          "text": [
            "\rSampling posterior:  61%|██████    | 11/18 [02:26<01:33, 13.33s/it]"
          ]
        },
        {
          "output_type": "stream",
          "name": "stdout",
          "text": [
            "....................\n"
          ]
        },
        {
          "output_type": "stream",
          "name": "stderr",
          "text": [
            "\rSampling posterior:  67%|██████▋   | 12/18 [02:39<01:20, 13.37s/it]"
          ]
        },
        {
          "output_type": "stream",
          "name": "stdout",
          "text": [
            "....................\n"
          ]
        },
        {
          "output_type": "stream",
          "name": "stderr",
          "text": [
            "\rSampling posterior:  72%|███████▏  | 13/18 [02:53<01:07, 13.52s/it]"
          ]
        },
        {
          "output_type": "stream",
          "name": "stdout",
          "text": [
            "....................\n"
          ]
        },
        {
          "output_type": "stream",
          "name": "stderr",
          "text": [
            "\rSampling posterior:  78%|███████▊  | 14/18 [03:06<00:53, 13.50s/it]"
          ]
        },
        {
          "output_type": "stream",
          "name": "stdout",
          "text": [
            "....................\n"
          ]
        },
        {
          "output_type": "stream",
          "name": "stderr",
          "text": [
            "\rSampling posterior:  83%|████████▎ | 15/18 [03:20<00:40, 13.40s/it]"
          ]
        },
        {
          "output_type": "stream",
          "name": "stdout",
          "text": [
            "....................\n"
          ]
        },
        {
          "output_type": "stream",
          "name": "stderr",
          "text": [
            "\rSampling posterior:  89%|████████▉ | 16/18 [03:33<00:26, 13.47s/it]"
          ]
        },
        {
          "output_type": "stream",
          "name": "stdout",
          "text": [
            "....................\n"
          ]
        },
        {
          "output_type": "stream",
          "name": "stderr",
          "text": [
            "\rSampling posterior:  94%|█████████▍| 17/18 [03:47<00:13, 13.45s/it]"
          ]
        },
        {
          "output_type": "stream",
          "name": "stdout",
          "text": [
            "....................\n"
          ]
        },
        {
          "output_type": "stream",
          "name": "stderr",
          "text": [
            "Sampling posterior: 100%|██████████| 18/18 [04:00<00:00, 13.37s/it]\n",
            "Sampling posterior:   0%|          | 0/18 [00:00<?, ?it/s]"
          ]
        },
        {
          "output_type": "stream",
          "name": "stdout",
          "text": [
            "....................\n"
          ]
        },
        {
          "output_type": "stream",
          "name": "stderr",
          "text": [
            "\rSampling posterior:   6%|▌         | 1/18 [00:11<03:17, 11.63s/it]"
          ]
        },
        {
          "output_type": "stream",
          "name": "stdout",
          "text": [
            "....................\n"
          ]
        },
        {
          "output_type": "stream",
          "name": "stderr",
          "text": [
            "\rSampling posterior:  11%|█         | 2/18 [00:23<03:03, 11.48s/it]"
          ]
        },
        {
          "output_type": "stream",
          "name": "stdout",
          "text": [
            "....................\n"
          ]
        },
        {
          "output_type": "stream",
          "name": "stderr",
          "text": [
            "\rSampling posterior:  17%|█▋        | 3/18 [00:34<02:51, 11.42s/it]"
          ]
        },
        {
          "output_type": "stream",
          "name": "stdout",
          "text": [
            "....................\n"
          ]
        },
        {
          "output_type": "stream",
          "name": "stderr",
          "text": [
            "\rSampling posterior:  22%|██▏       | 4/18 [00:45<02:39, 11.40s/it]"
          ]
        },
        {
          "output_type": "stream",
          "name": "stdout",
          "text": [
            "....................\n"
          ]
        },
        {
          "output_type": "stream",
          "name": "stderr",
          "text": [
            "\rSampling posterior:  28%|██▊       | 5/18 [00:57<02:30, 11.55s/it]"
          ]
        },
        {
          "output_type": "stream",
          "name": "stdout",
          "text": [
            "....................\n"
          ]
        },
        {
          "output_type": "stream",
          "name": "stderr",
          "text": [
            "\rSampling posterior:  33%|███▎      | 6/18 [01:08<02:17, 11.47s/it]"
          ]
        },
        {
          "output_type": "stream",
          "name": "stdout",
          "text": [
            "....................\n"
          ]
        },
        {
          "output_type": "stream",
          "name": "stderr",
          "text": [
            "\rSampling posterior:  39%|███▉      | 7/18 [01:20<02:06, 11.46s/it]"
          ]
        },
        {
          "output_type": "stream",
          "name": "stdout",
          "text": [
            "....................\n"
          ]
        },
        {
          "output_type": "stream",
          "name": "stderr",
          "text": [
            "\rSampling posterior:  44%|████▍     | 8/18 [01:31<01:54, 11.44s/it]"
          ]
        },
        {
          "output_type": "stream",
          "name": "stdout",
          "text": [
            "....................\n"
          ]
        },
        {
          "output_type": "stream",
          "name": "stderr",
          "text": [
            "\rSampling posterior:  50%|█████     | 9/18 [01:43<01:43, 11.49s/it]"
          ]
        },
        {
          "output_type": "stream",
          "name": "stdout",
          "text": [
            "....................\n"
          ]
        },
        {
          "output_type": "stream",
          "name": "stderr",
          "text": [
            "\rSampling posterior:  56%|█████▌    | 10/18 [01:54<01:31, 11.47s/it]"
          ]
        },
        {
          "output_type": "stream",
          "name": "stdout",
          "text": [
            "....................\n"
          ]
        },
        {
          "output_type": "stream",
          "name": "stderr",
          "text": [
            "\rSampling posterior:  61%|██████    | 11/18 [02:06<01:20, 11.45s/it]"
          ]
        },
        {
          "output_type": "stream",
          "name": "stdout",
          "text": [
            "....................\n"
          ]
        },
        {
          "output_type": "stream",
          "name": "stderr",
          "text": [
            "\rSampling posterior:  67%|██████▋   | 12/18 [02:17<01:08, 11.42s/it]"
          ]
        },
        {
          "output_type": "stream",
          "name": "stdout",
          "text": [
            "....................\n"
          ]
        },
        {
          "output_type": "stream",
          "name": "stderr",
          "text": [
            "\rSampling posterior:  72%|███████▏  | 13/18 [02:29<00:57, 11.49s/it]"
          ]
        },
        {
          "output_type": "stream",
          "name": "stdout",
          "text": [
            "....................\n"
          ]
        },
        {
          "output_type": "stream",
          "name": "stderr",
          "text": [
            "\rSampling posterior:  78%|███████▊  | 14/18 [02:40<00:45, 11.46s/it]"
          ]
        },
        {
          "output_type": "stream",
          "name": "stdout",
          "text": [
            "....................\n"
          ]
        },
        {
          "output_type": "stream",
          "name": "stderr",
          "text": [
            "\rSampling posterior:  83%|████████▎ | 15/18 [02:51<00:34, 11.46s/it]"
          ]
        },
        {
          "output_type": "stream",
          "name": "stdout",
          "text": [
            "....................\n"
          ]
        },
        {
          "output_type": "stream",
          "name": "stderr",
          "text": [
            "\rSampling posterior:  89%|████████▉ | 16/18 [03:03<00:23, 11.54s/it]"
          ]
        },
        {
          "output_type": "stream",
          "name": "stdout",
          "text": [
            "....................\n"
          ]
        },
        {
          "output_type": "stream",
          "name": "stderr",
          "text": [
            "\rSampling posterior:  94%|█████████▍| 17/18 [03:15<00:11, 11.49s/it]"
          ]
        },
        {
          "output_type": "stream",
          "name": "stdout",
          "text": [
            "....................\n"
          ]
        },
        {
          "output_type": "stream",
          "name": "stderr",
          "text": [
            "Sampling posterior: 100%|██████████| 18/18 [03:26<00:00, 11.47s/it]\n",
            "Sampling posterior:   0%|          | 0/18 [00:00<?, ?it/s]"
          ]
        },
        {
          "output_type": "stream",
          "name": "stdout",
          "text": [
            "....................\n"
          ]
        },
        {
          "output_type": "stream",
          "name": "stderr",
          "text": [
            "\rSampling posterior:   6%|▌         | 1/18 [00:10<02:51, 10.08s/it]"
          ]
        },
        {
          "output_type": "stream",
          "name": "stdout",
          "text": [
            "....................\n"
          ]
        },
        {
          "output_type": "stream",
          "name": "stderr",
          "text": [
            "\rSampling posterior:  11%|█         | 2/18 [00:20<02:40, 10.04s/it]"
          ]
        },
        {
          "output_type": "stream",
          "name": "stdout",
          "text": [
            "....................\n"
          ]
        },
        {
          "output_type": "stream",
          "name": "stderr",
          "text": [
            "\rSampling posterior:  17%|█▋        | 3/18 [00:30<02:32, 10.17s/it]"
          ]
        },
        {
          "output_type": "stream",
          "name": "stdout",
          "text": [
            "....................\n"
          ]
        },
        {
          "output_type": "stream",
          "name": "stderr",
          "text": [
            "\rSampling posterior:  22%|██▏       | 4/18 [00:40<02:20, 10.05s/it]"
          ]
        },
        {
          "output_type": "stream",
          "name": "stdout",
          "text": [
            "....................\n"
          ]
        },
        {
          "output_type": "stream",
          "name": "stderr",
          "text": [
            "\rSampling posterior:  28%|██▊       | 5/18 [00:50<02:10, 10.01s/it]"
          ]
        },
        {
          "output_type": "stream",
          "name": "stdout",
          "text": [
            "....................\n"
          ]
        },
        {
          "output_type": "stream",
          "name": "stderr",
          "text": [
            "\rSampling posterior:  33%|███▎      | 6/18 [01:00<02:00, 10.00s/it]"
          ]
        },
        {
          "output_type": "stream",
          "name": "stdout",
          "text": [
            "....................\n"
          ]
        },
        {
          "output_type": "stream",
          "name": "stderr",
          "text": [
            "\rSampling posterior:  39%|███▉      | 7/18 [01:10<01:50, 10.08s/it]"
          ]
        },
        {
          "output_type": "stream",
          "name": "stdout",
          "text": [
            "....................\n"
          ]
        },
        {
          "output_type": "stream",
          "name": "stderr",
          "text": [
            "\rSampling posterior:  44%|████▍     | 8/18 [01:20<01:40, 10.05s/it]"
          ]
        },
        {
          "output_type": "stream",
          "name": "stdout",
          "text": [
            "....................\n"
          ]
        },
        {
          "output_type": "stream",
          "name": "stderr",
          "text": [
            "\rSampling posterior:  50%|█████     | 9/18 [01:30<01:30, 10.06s/it]"
          ]
        },
        {
          "output_type": "stream",
          "name": "stdout",
          "text": [
            "....................\n"
          ]
        },
        {
          "output_type": "stream",
          "name": "stderr",
          "text": [
            "\rSampling posterior:  56%|█████▌    | 10/18 [01:40<01:20, 10.12s/it]"
          ]
        },
        {
          "output_type": "stream",
          "name": "stdout",
          "text": [
            "....................\n"
          ]
        },
        {
          "output_type": "stream",
          "name": "stderr",
          "text": [
            "\rSampling posterior:  61%|██████    | 11/18 [01:50<01:10, 10.13s/it]"
          ]
        },
        {
          "output_type": "stream",
          "name": "stdout",
          "text": [
            "....................\n"
          ]
        },
        {
          "output_type": "stream",
          "name": "stderr",
          "text": [
            "\rSampling posterior:  67%|██████▋   | 12/18 [02:01<01:00, 10.12s/it]"
          ]
        },
        {
          "output_type": "stream",
          "name": "stdout",
          "text": [
            "....................\n"
          ]
        },
        {
          "output_type": "stream",
          "name": "stderr",
          "text": [
            "\rSampling posterior:  72%|███████▏  | 13/18 [02:11<00:50, 10.09s/it]"
          ]
        },
        {
          "output_type": "stream",
          "name": "stdout",
          "text": [
            "....................\n"
          ]
        },
        {
          "output_type": "stream",
          "name": "stderr",
          "text": [
            "\rSampling posterior:  78%|███████▊  | 14/18 [02:21<00:40, 10.05s/it]"
          ]
        },
        {
          "output_type": "stream",
          "name": "stdout",
          "text": [
            "....................\n"
          ]
        },
        {
          "output_type": "stream",
          "name": "stderr",
          "text": [
            "\rSampling posterior:  83%|████████▎ | 15/18 [02:31<00:30, 10.10s/it]"
          ]
        },
        {
          "output_type": "stream",
          "name": "stdout",
          "text": [
            "....................\n"
          ]
        },
        {
          "output_type": "stream",
          "name": "stderr",
          "text": [
            "\rSampling posterior:  89%|████████▉ | 16/18 [02:41<00:20, 10.09s/it]"
          ]
        },
        {
          "output_type": "stream",
          "name": "stdout",
          "text": [
            "....................\n"
          ]
        },
        {
          "output_type": "stream",
          "name": "stderr",
          "text": [
            "\rSampling posterior:  94%|█████████▍| 17/18 [02:51<00:10, 10.06s/it]"
          ]
        },
        {
          "output_type": "stream",
          "name": "stdout",
          "text": [
            "....................\n"
          ]
        },
        {
          "output_type": "stream",
          "name": "stderr",
          "text": [
            "Sampling posterior: 100%|██████████| 18/18 [03:01<00:00, 10.07s/it]\n",
            "Sampling posterior:   0%|          | 0/18 [00:00<?, ?it/s]"
          ]
        },
        {
          "output_type": "stream",
          "name": "stdout",
          "text": [
            "....................\n"
          ]
        },
        {
          "output_type": "stream",
          "name": "stderr",
          "text": [
            "\rSampling posterior:   6%|▌         | 1/18 [00:14<04:12, 14.85s/it]"
          ]
        },
        {
          "output_type": "stream",
          "name": "stdout",
          "text": [
            "....................\n"
          ]
        },
        {
          "output_type": "stream",
          "name": "stderr",
          "text": [
            "\rSampling posterior:  11%|█         | 2/18 [00:29<03:56, 14.78s/it]"
          ]
        },
        {
          "output_type": "stream",
          "name": "stdout",
          "text": [
            "....................\n"
          ]
        },
        {
          "output_type": "stream",
          "name": "stderr",
          "text": [
            "\rSampling posterior:  17%|█▋        | 3/18 [00:44<03:43, 14.87s/it]"
          ]
        },
        {
          "output_type": "stream",
          "name": "stdout",
          "text": [
            "....................\n"
          ]
        },
        {
          "output_type": "stream",
          "name": "stderr",
          "text": [
            "\rSampling posterior:  22%|██▏       | 4/18 [00:59<03:26, 14.78s/it]"
          ]
        },
        {
          "output_type": "stream",
          "name": "stdout",
          "text": [
            "....................\n"
          ]
        },
        {
          "output_type": "stream",
          "name": "stderr",
          "text": [
            "\rSampling posterior:  28%|██▊       | 5/18 [01:13<03:11, 14.74s/it]"
          ]
        },
        {
          "output_type": "stream",
          "name": "stdout",
          "text": [
            "....................\n"
          ]
        },
        {
          "output_type": "stream",
          "name": "stderr",
          "text": [
            "\rSampling posterior:  33%|███▎      | 6/18 [01:28<02:58, 14.86s/it]"
          ]
        },
        {
          "output_type": "stream",
          "name": "stdout",
          "text": [
            "....................\n"
          ]
        },
        {
          "output_type": "stream",
          "name": "stderr",
          "text": [
            "\rSampling posterior:  39%|███▉      | 7/18 [01:43<02:43, 14.83s/it]"
          ]
        },
        {
          "output_type": "stream",
          "name": "stdout",
          "text": [
            "....................\n"
          ]
        },
        {
          "output_type": "stream",
          "name": "stderr",
          "text": [
            "\rSampling posterior:  44%|████▍     | 8/18 [01:58<02:28, 14.82s/it]"
          ]
        },
        {
          "output_type": "stream",
          "name": "stdout",
          "text": [
            "....................\n"
          ]
        },
        {
          "output_type": "stream",
          "name": "stderr",
          "text": [
            "\rSampling posterior:  50%|█████     | 9/18 [02:13<02:14, 14.90s/it]"
          ]
        },
        {
          "output_type": "stream",
          "name": "stdout",
          "text": [
            "....................\n"
          ]
        },
        {
          "output_type": "stream",
          "name": "stderr",
          "text": [
            "\rSampling posterior:  56%|█████▌    | 10/18 [02:28<01:58, 14.83s/it]"
          ]
        },
        {
          "output_type": "stream",
          "name": "stdout",
          "text": [
            "....................\n"
          ]
        },
        {
          "output_type": "stream",
          "name": "stderr",
          "text": [
            "\rSampling posterior:  61%|██████    | 11/18 [02:42<01:43, 14.78s/it]"
          ]
        },
        {
          "output_type": "stream",
          "name": "stdout",
          "text": [
            "....................\n"
          ]
        },
        {
          "output_type": "stream",
          "name": "stderr",
          "text": [
            "\rSampling posterior:  67%|██████▋   | 12/18 [02:57<01:28, 14.83s/it]"
          ]
        },
        {
          "output_type": "stream",
          "name": "stdout",
          "text": [
            "....................\n"
          ]
        },
        {
          "output_type": "stream",
          "name": "stderr",
          "text": [
            "\rSampling posterior:  72%|███████▏  | 13/18 [03:12<01:13, 14.80s/it]"
          ]
        },
        {
          "output_type": "stream",
          "name": "stdout",
          "text": [
            "....................\n"
          ]
        },
        {
          "output_type": "stream",
          "name": "stderr",
          "text": [
            "\rSampling posterior:  78%|███████▊  | 14/18 [03:27<00:59, 14.85s/it]"
          ]
        },
        {
          "output_type": "stream",
          "name": "stdout",
          "text": [
            "....................\n"
          ]
        },
        {
          "output_type": "stream",
          "name": "stderr",
          "text": [
            "\rSampling posterior:  83%|████████▎ | 15/18 [03:42<00:44, 14.81s/it]"
          ]
        },
        {
          "output_type": "stream",
          "name": "stdout",
          "text": [
            "....................\n"
          ]
        },
        {
          "output_type": "stream",
          "name": "stderr",
          "text": [
            "\rSampling posterior:  89%|████████▉ | 16/18 [03:56<00:29, 14.74s/it]"
          ]
        },
        {
          "output_type": "stream",
          "name": "stdout",
          "text": [
            "....................\n"
          ]
        },
        {
          "output_type": "stream",
          "name": "stderr",
          "text": [
            "\rSampling posterior:  94%|█████████▍| 17/18 [04:11<00:14, 14.84s/it]"
          ]
        },
        {
          "output_type": "stream",
          "name": "stdout",
          "text": [
            "....................\n"
          ]
        },
        {
          "output_type": "stream",
          "name": "stderr",
          "text": [
            "Sampling posterior: 100%|██████████| 18/18 [04:26<00:00, 14.81s/it]\n",
            "Sampling posterior:   0%|          | 0/18 [00:00<?, ?it/s]"
          ]
        },
        {
          "output_type": "stream",
          "name": "stdout",
          "text": [
            "....................\n"
          ]
        },
        {
          "output_type": "stream",
          "name": "stderr",
          "text": [
            "\rSampling posterior:   6%|▌         | 1/18 [00:18<05:06, 18.03s/it]"
          ]
        },
        {
          "output_type": "stream",
          "name": "stdout",
          "text": [
            "....................\n"
          ]
        },
        {
          "output_type": "stream",
          "name": "stderr",
          "text": [
            "\rSampling posterior:  11%|█         | 2/18 [00:35<04:40, 17.53s/it]"
          ]
        },
        {
          "output_type": "stream",
          "name": "stdout",
          "text": [
            "....................\n"
          ]
        },
        {
          "output_type": "stream",
          "name": "stderr",
          "text": [
            "\rSampling posterior:  17%|█▋        | 3/18 [00:52<04:22, 17.49s/it]"
          ]
        },
        {
          "output_type": "stream",
          "name": "stdout",
          "text": [
            "....................\n"
          ]
        },
        {
          "output_type": "stream",
          "name": "stderr",
          "text": [
            "\rSampling posterior:  22%|██▏       | 4/18 [01:10<04:04, 17.45s/it]"
          ]
        },
        {
          "output_type": "stream",
          "name": "stdout",
          "text": [
            "....................\n"
          ]
        },
        {
          "output_type": "stream",
          "name": "stderr",
          "text": [
            "\rSampling posterior:  28%|██▊       | 5/18 [01:27<03:47, 17.48s/it]"
          ]
        },
        {
          "output_type": "stream",
          "name": "stdout",
          "text": [
            "....................\n"
          ]
        },
        {
          "output_type": "stream",
          "name": "stderr",
          "text": [
            "\rSampling posterior:  33%|███▎      | 6/18 [01:44<03:28, 17.37s/it]"
          ]
        },
        {
          "output_type": "stream",
          "name": "stdout",
          "text": [
            "....................\n"
          ]
        },
        {
          "output_type": "stream",
          "name": "stderr",
          "text": [
            "\rSampling posterior:  39%|███▉      | 7/18 [02:02<03:11, 17.38s/it]"
          ]
        },
        {
          "output_type": "stream",
          "name": "stdout",
          "text": [
            "....................\n"
          ]
        },
        {
          "output_type": "stream",
          "name": "stderr",
          "text": [
            "\rSampling posterior:  44%|████▍     | 8/18 [02:19<02:54, 17.43s/it]"
          ]
        },
        {
          "output_type": "stream",
          "name": "stdout",
          "text": [
            "....................\n"
          ]
        },
        {
          "output_type": "stream",
          "name": "stderr",
          "text": [
            "\rSampling posterior:  50%|█████     | 9/18 [02:36<02:36, 17.39s/it]"
          ]
        },
        {
          "output_type": "stream",
          "name": "stdout",
          "text": [
            "....................\n"
          ]
        },
        {
          "output_type": "stream",
          "name": "stderr",
          "text": [
            "\rSampling posterior:  56%|█████▌    | 10/18 [02:54<02:19, 17.45s/it]"
          ]
        },
        {
          "output_type": "stream",
          "name": "stdout",
          "text": [
            "....................\n"
          ]
        },
        {
          "output_type": "stream",
          "name": "stderr",
          "text": [
            "\rSampling posterior:  61%|██████    | 11/18 [03:11<02:01, 17.39s/it]"
          ]
        },
        {
          "output_type": "stream",
          "name": "stdout",
          "text": [
            "....................\n"
          ]
        },
        {
          "output_type": "stream",
          "name": "stderr",
          "text": [
            "\rSampling posterior:  67%|██████▋   | 12/18 [03:29<01:44, 17.44s/it]"
          ]
        },
        {
          "output_type": "stream",
          "name": "stdout",
          "text": [
            "....................\n"
          ]
        },
        {
          "output_type": "stream",
          "name": "stderr",
          "text": [
            "\rSampling posterior:  72%|███████▏  | 13/18 [03:46<01:26, 17.34s/it]"
          ]
        },
        {
          "output_type": "stream",
          "name": "stdout",
          "text": [
            "....................\n"
          ]
        },
        {
          "output_type": "stream",
          "name": "stderr",
          "text": [
            "\rSampling posterior:  78%|███████▊  | 14/18 [04:04<01:09, 17.41s/it]"
          ]
        },
        {
          "output_type": "stream",
          "name": "stdout",
          "text": [
            "....................\n"
          ]
        },
        {
          "output_type": "stream",
          "name": "stderr",
          "text": [
            "\rSampling posterior:  83%|████████▎ | 15/18 [04:21<00:52, 17.40s/it]"
          ]
        },
        {
          "output_type": "stream",
          "name": "stdout",
          "text": [
            "....................\n"
          ]
        },
        {
          "output_type": "stream",
          "name": "stderr",
          "text": [
            "\rSampling posterior:  89%|████████▉ | 16/18 [04:39<00:35, 17.54s/it]"
          ]
        },
        {
          "output_type": "stream",
          "name": "stdout",
          "text": [
            "....................\n"
          ]
        },
        {
          "output_type": "stream",
          "name": "stderr",
          "text": [
            "\rSampling posterior:  94%|█████████▍| 17/18 [04:56<00:17, 17.56s/it]"
          ]
        },
        {
          "output_type": "stream",
          "name": "stdout",
          "text": [
            "....................\n"
          ]
        },
        {
          "output_type": "stream",
          "name": "stderr",
          "text": [
            "Sampling posterior: 100%|██████████| 18/18 [05:14<00:00, 17.47s/it]\n"
          ]
        },
        {
          "output_type": "stream",
          "name": "stdout",
          "text": [
            "Comparison to ground truth:\n",
            "\n",
            "Summarized results:\n",
            "\n",
            "Comparison among models:\n",
            "\n",
            "Summarized results:\n"
          ]
        },
        {
          "output_type": "display_data",
          "data": {
            "text/plain": [
              "                                              Model 1  \\\n",
              "0   <PFNExperiments.LinearRegression.Models.ModelT...   \n",
              "1   <PFNExperiments.LinearRegression.Models.ModelT...   \n",
              "2   <PFNExperiments.LinearRegression.Models.ModelT...   \n",
              "3   <PFNExperiments.LinearRegression.Models.ModelT...   \n",
              "4   <PFNExperiments.LinearRegression.Models.ModelT...   \n",
              "5   <PFNExperiments.LinearRegression.Models.ModelT...   \n",
              "6   <PFNExperiments.LinearRegression.Models.ModelT...   \n",
              "7   <PFNExperiments.LinearRegression.ComparisonMod...   \n",
              "8   <PFNExperiments.LinearRegression.ComparisonMod...   \n",
              "9   <PFNExperiments.LinearRegression.ComparisonMod...   \n",
              "10  <PFNExperiments.LinearRegression.ComparisonMod...   \n",
              "11  <PFNExperiments.LinearRegression.ComparisonMod...   \n",
              "12  <PFNExperiments.LinearRegression.ComparisonMod...   \n",
              "13                            Hamiltonian Monte Carlo   \n",
              "14                            Hamiltonian Monte Carlo   \n",
              "15                            Hamiltonian Monte Carlo   \n",
              "16                            Hamiltonian Monte Carlo   \n",
              "17                            Hamiltonian Monte Carlo   \n",
              "18  Variational Inference with guide: AutoMultivar...   \n",
              "19  Variational Inference with guide: AutoMultivar...   \n",
              "20  Variational Inference with guide: AutoMultivar...   \n",
              "21  Variational Inference with guide: AutoMultivar...   \n",
              "22  Variational Inference with guide: AutoDiagonal...   \n",
              "23  Variational Inference with guide: AutoDiagonal...   \n",
              "24  Variational Inference with guide: AutoDiagonal...   \n",
              "25  Variational Inference with guide: AutoLaplaceA...   \n",
              "26  Variational Inference with guide: AutoLaplaceA...   \n",
              "27  Variational Inference with guide: AutoIAFNorma...   \n",
              "\n",
              "                                              Model 2  \\\n",
              "0   <PFNExperiments.LinearRegression.ComparisonMod...   \n",
              "1                             Hamiltonian Monte Carlo   \n",
              "2   Variational Inference with guide: AutoMultivar...   \n",
              "3   Variational Inference with guide: AutoDiagonal...   \n",
              "4   Variational Inference with guide: AutoLaplaceA...   \n",
              "5   Variational Inference with guide: AutoIAFNorma...   \n",
              "6   Variational Inference with guide: AutoStructur...   \n",
              "7                             Hamiltonian Monte Carlo   \n",
              "8   Variational Inference with guide: AutoMultivar...   \n",
              "9   Variational Inference with guide: AutoDiagonal...   \n",
              "10  Variational Inference with guide: AutoLaplaceA...   \n",
              "11  Variational Inference with guide: AutoIAFNorma...   \n",
              "12  Variational Inference with guide: AutoStructur...   \n",
              "13  Variational Inference with guide: AutoMultivar...   \n",
              "14  Variational Inference with guide: AutoDiagonal...   \n",
              "15  Variational Inference with guide: AutoLaplaceA...   \n",
              "16  Variational Inference with guide: AutoIAFNorma...   \n",
              "17  Variational Inference with guide: AutoStructur...   \n",
              "18  Variational Inference with guide: AutoDiagonal...   \n",
              "19  Variational Inference with guide: AutoLaplaceA...   \n",
              "20  Variational Inference with guide: AutoIAFNorma...   \n",
              "21  Variational Inference with guide: AutoStructur...   \n",
              "22  Variational Inference with guide: AutoLaplaceA...   \n",
              "23  Variational Inference with guide: AutoIAFNorma...   \n",
              "24  Variational Inference with guide: AutoStructur...   \n",
              "25  Variational Inference with guide: AutoIAFNorma...   \n",
              "26  Variational Inference with guide: AutoStructur...   \n",
              "27  Variational Inference with guide: AutoStructur...   \n",
              "\n",
              "    Mean_Wasserstein_distance with metric euclidean  Mean_MMD  \\\n",
              "0                                          0.726362  0.214548   \n",
              "1                                          0.621823  0.099469   \n",
              "2                                          0.677326  0.140368   \n",
              "3                                          0.974427  0.507213   \n",
              "4                                          1.619765  2.091291   \n",
              "5                                          0.795555  0.227506   \n",
              "6                                          0.662782  0.130324   \n",
              "7                                          0.531794  0.092662   \n",
              "8                                          0.504629  0.075988   \n",
              "9                                          0.704769  0.335560   \n",
              "10                                         1.259219  2.040659   \n",
              "11                                         0.559436  0.105413   \n",
              "12                                         0.518117  0.084519   \n",
              "13                                         0.489329  0.038730   \n",
              "14                                         0.789842  0.386223   \n",
              "15                                         1.471930  1.971835   \n",
              "16                                         0.632281  0.128635   \n",
              "17                                         0.459106  0.021254   \n",
              "18                                         0.651545  0.290411   \n",
              "19                                         1.349049  1.969292   \n",
              "20                                         0.565732  0.103338   \n",
              "21                                         0.439402  0.025239   \n",
              "22                                         1.036896  2.004118   \n",
              "23                                         0.714673  0.369928   \n",
              "24                                         0.707291  0.335964   \n",
              "25                                         1.378118  2.088142   \n",
              "26                                         1.403212  1.968347   \n",
              "27                                         0.592263  0.117746   \n",
              "\n",
              "    Mean_cst_roc_auc  Std_Wasserstein_distance with metric euclidean  \\\n",
              "0           0.662111                                        0.323833   \n",
              "1           0.603556                                        0.336189   \n",
              "2           0.654722                                        0.325125   \n",
              "3           0.870000                                        0.323850   \n",
              "4           1.000000                                        0.398484   \n",
              "5           0.698222                                        0.320635   \n",
              "6           0.627889                                        0.356124   \n",
              "7           0.584944                                        0.143393   \n",
              "8           0.598056                                        0.136270   \n",
              "9           0.820028                                        0.212172   \n",
              "10          1.000000                                        0.240713   \n",
              "11          0.622944                                        0.144282   \n",
              "12          0.592111                                        0.147706   \n",
              "13          0.585111                                        0.133199   \n",
              "14          0.829972                                        0.299401   \n",
              "15          1.000000                                        0.313134   \n",
              "16          0.644722                                        0.202347   \n",
              "17          0.556333                                        0.137479   \n",
              "18          0.808167                                        0.183406   \n",
              "19          1.000000                                        0.306171   \n",
              "20          0.629083                                        0.195857   \n",
              "21          0.566500                                        0.097024   \n",
              "22          1.000000                                        0.446023   \n",
              "23          0.828056                                        0.209625   \n",
              "24          0.816556                                        0.236704   \n",
              "25          1.000000                                        0.315608   \n",
              "26          1.000000                                        0.302228   \n",
              "27          0.633500                                        0.188016   \n",
              "\n",
              "     Std_MMD  Std_cst_roc_auc  \n",
              "0   0.193121         0.075890  \n",
              "1   0.166703         0.081109  \n",
              "2   0.158126         0.070196  \n",
              "3   0.383752         0.072873  \n",
              "4   0.254430         0.000000  \n",
              "5   0.180646         0.063282  \n",
              "6   0.184408         0.081365  \n",
              "7   0.076883         0.046382  \n",
              "8   0.058256         0.045646  \n",
              "9   0.325294         0.115890  \n",
              "10  0.158815         0.000000  \n",
              "11  0.084151         0.044820  \n",
              "12  0.076388         0.046153  \n",
              "13  0.031757         0.052107  \n",
              "14  0.418168         0.125948  \n",
              "15  0.058760         0.000000  \n",
              "16  0.117358         0.058181  \n",
              "17  0.022217         0.046174  \n",
              "18  0.335610         0.110416  \n",
              "19  0.058392         0.000000  \n",
              "20  0.117756         0.056229  \n",
              "21  0.019315         0.048119  \n",
              "22  0.293759         0.000000  \n",
              "23  0.345694         0.100286  \n",
              "24  0.399114         0.125736  \n",
              "25  0.205240         0.000000  \n",
              "26  0.046614         0.000000  \n",
              "27  0.118687         0.065352  "
            ],
            "text/html": [
              "\n",
              "  <div id=\"df-759859aa-e2e8-40a4-bf15-11dc876f5cd0\" class=\"colab-df-container\">\n",
              "    <div>\n",
              "<style scoped>\n",
              "    .dataframe tbody tr th:only-of-type {\n",
              "        vertical-align: middle;\n",
              "    }\n",
              "\n",
              "    .dataframe tbody tr th {\n",
              "        vertical-align: top;\n",
              "    }\n",
              "\n",
              "    .dataframe thead th {\n",
              "        text-align: right;\n",
              "    }\n",
              "</style>\n",
              "<table border=\"1\" class=\"dataframe\">\n",
              "  <thead>\n",
              "    <tr style=\"text-align: right;\">\n",
              "      <th></th>\n",
              "      <th>Model 1</th>\n",
              "      <th>Model 2</th>\n",
              "      <th>Mean_Wasserstein_distance with metric euclidean</th>\n",
              "      <th>Mean_MMD</th>\n",
              "      <th>Mean_cst_roc_auc</th>\n",
              "      <th>Std_Wasserstein_distance with metric euclidean</th>\n",
              "      <th>Std_MMD</th>\n",
              "      <th>Std_cst_roc_auc</th>\n",
              "    </tr>\n",
              "  </thead>\n",
              "  <tbody>\n",
              "    <tr>\n",
              "      <th>0</th>\n",
              "      <td>&lt;PFNExperiments.LinearRegression.Models.ModelT...</td>\n",
              "      <td>&lt;PFNExperiments.LinearRegression.ComparisonMod...</td>\n",
              "      <td>0.726362</td>\n",
              "      <td>0.214548</td>\n",
              "      <td>0.662111</td>\n",
              "      <td>0.323833</td>\n",
              "      <td>0.193121</td>\n",
              "      <td>0.075890</td>\n",
              "    </tr>\n",
              "    <tr>\n",
              "      <th>1</th>\n",
              "      <td>&lt;PFNExperiments.LinearRegression.Models.ModelT...</td>\n",
              "      <td>Hamiltonian Monte Carlo</td>\n",
              "      <td>0.621823</td>\n",
              "      <td>0.099469</td>\n",
              "      <td>0.603556</td>\n",
              "      <td>0.336189</td>\n",
              "      <td>0.166703</td>\n",
              "      <td>0.081109</td>\n",
              "    </tr>\n",
              "    <tr>\n",
              "      <th>2</th>\n",
              "      <td>&lt;PFNExperiments.LinearRegression.Models.ModelT...</td>\n",
              "      <td>Variational Inference with guide: AutoMultivar...</td>\n",
              "      <td>0.677326</td>\n",
              "      <td>0.140368</td>\n",
              "      <td>0.654722</td>\n",
              "      <td>0.325125</td>\n",
              "      <td>0.158126</td>\n",
              "      <td>0.070196</td>\n",
              "    </tr>\n",
              "    <tr>\n",
              "      <th>3</th>\n",
              "      <td>&lt;PFNExperiments.LinearRegression.Models.ModelT...</td>\n",
              "      <td>Variational Inference with guide: AutoDiagonal...</td>\n",
              "      <td>0.974427</td>\n",
              "      <td>0.507213</td>\n",
              "      <td>0.870000</td>\n",
              "      <td>0.323850</td>\n",
              "      <td>0.383752</td>\n",
              "      <td>0.072873</td>\n",
              "    </tr>\n",
              "    <tr>\n",
              "      <th>4</th>\n",
              "      <td>&lt;PFNExperiments.LinearRegression.Models.ModelT...</td>\n",
              "      <td>Variational Inference with guide: AutoLaplaceA...</td>\n",
              "      <td>1.619765</td>\n",
              "      <td>2.091291</td>\n",
              "      <td>1.000000</td>\n",
              "      <td>0.398484</td>\n",
              "      <td>0.254430</td>\n",
              "      <td>0.000000</td>\n",
              "    </tr>\n",
              "    <tr>\n",
              "      <th>5</th>\n",
              "      <td>&lt;PFNExperiments.LinearRegression.Models.ModelT...</td>\n",
              "      <td>Variational Inference with guide: AutoIAFNorma...</td>\n",
              "      <td>0.795555</td>\n",
              "      <td>0.227506</td>\n",
              "      <td>0.698222</td>\n",
              "      <td>0.320635</td>\n",
              "      <td>0.180646</td>\n",
              "      <td>0.063282</td>\n",
              "    </tr>\n",
              "    <tr>\n",
              "      <th>6</th>\n",
              "      <td>&lt;PFNExperiments.LinearRegression.Models.ModelT...</td>\n",
              "      <td>Variational Inference with guide: AutoStructur...</td>\n",
              "      <td>0.662782</td>\n",
              "      <td>0.130324</td>\n",
              "      <td>0.627889</td>\n",
              "      <td>0.356124</td>\n",
              "      <td>0.184408</td>\n",
              "      <td>0.081365</td>\n",
              "    </tr>\n",
              "    <tr>\n",
              "      <th>7</th>\n",
              "      <td>&lt;PFNExperiments.LinearRegression.ComparisonMod...</td>\n",
              "      <td>Hamiltonian Monte Carlo</td>\n",
              "      <td>0.531794</td>\n",
              "      <td>0.092662</td>\n",
              "      <td>0.584944</td>\n",
              "      <td>0.143393</td>\n",
              "      <td>0.076883</td>\n",
              "      <td>0.046382</td>\n",
              "    </tr>\n",
              "    <tr>\n",
              "      <th>8</th>\n",
              "      <td>&lt;PFNExperiments.LinearRegression.ComparisonMod...</td>\n",
              "      <td>Variational Inference with guide: AutoMultivar...</td>\n",
              "      <td>0.504629</td>\n",
              "      <td>0.075988</td>\n",
              "      <td>0.598056</td>\n",
              "      <td>0.136270</td>\n",
              "      <td>0.058256</td>\n",
              "      <td>0.045646</td>\n",
              "    </tr>\n",
              "    <tr>\n",
              "      <th>9</th>\n",
              "      <td>&lt;PFNExperiments.LinearRegression.ComparisonMod...</td>\n",
              "      <td>Variational Inference with guide: AutoDiagonal...</td>\n",
              "      <td>0.704769</td>\n",
              "      <td>0.335560</td>\n",
              "      <td>0.820028</td>\n",
              "      <td>0.212172</td>\n",
              "      <td>0.325294</td>\n",
              "      <td>0.115890</td>\n",
              "    </tr>\n",
              "    <tr>\n",
              "      <th>10</th>\n",
              "      <td>&lt;PFNExperiments.LinearRegression.ComparisonMod...</td>\n",
              "      <td>Variational Inference with guide: AutoLaplaceA...</td>\n",
              "      <td>1.259219</td>\n",
              "      <td>2.040659</td>\n",
              "      <td>1.000000</td>\n",
              "      <td>0.240713</td>\n",
              "      <td>0.158815</td>\n",
              "      <td>0.000000</td>\n",
              "    </tr>\n",
              "    <tr>\n",
              "      <th>11</th>\n",
              "      <td>&lt;PFNExperiments.LinearRegression.ComparisonMod...</td>\n",
              "      <td>Variational Inference with guide: AutoIAFNorma...</td>\n",
              "      <td>0.559436</td>\n",
              "      <td>0.105413</td>\n",
              "      <td>0.622944</td>\n",
              "      <td>0.144282</td>\n",
              "      <td>0.084151</td>\n",
              "      <td>0.044820</td>\n",
              "    </tr>\n",
              "    <tr>\n",
              "      <th>12</th>\n",
              "      <td>&lt;PFNExperiments.LinearRegression.ComparisonMod...</td>\n",
              "      <td>Variational Inference with guide: AutoStructur...</td>\n",
              "      <td>0.518117</td>\n",
              "      <td>0.084519</td>\n",
              "      <td>0.592111</td>\n",
              "      <td>0.147706</td>\n",
              "      <td>0.076388</td>\n",
              "      <td>0.046153</td>\n",
              "    </tr>\n",
              "    <tr>\n",
              "      <th>13</th>\n",
              "      <td>Hamiltonian Monte Carlo</td>\n",
              "      <td>Variational Inference with guide: AutoMultivar...</td>\n",
              "      <td>0.489329</td>\n",
              "      <td>0.038730</td>\n",
              "      <td>0.585111</td>\n",
              "      <td>0.133199</td>\n",
              "      <td>0.031757</td>\n",
              "      <td>0.052107</td>\n",
              "    </tr>\n",
              "    <tr>\n",
              "      <th>14</th>\n",
              "      <td>Hamiltonian Monte Carlo</td>\n",
              "      <td>Variational Inference with guide: AutoDiagonal...</td>\n",
              "      <td>0.789842</td>\n",
              "      <td>0.386223</td>\n",
              "      <td>0.829972</td>\n",
              "      <td>0.299401</td>\n",
              "      <td>0.418168</td>\n",
              "      <td>0.125948</td>\n",
              "    </tr>\n",
              "    <tr>\n",
              "      <th>15</th>\n",
              "      <td>Hamiltonian Monte Carlo</td>\n",
              "      <td>Variational Inference with guide: AutoLaplaceA...</td>\n",
              "      <td>1.471930</td>\n",
              "      <td>1.971835</td>\n",
              "      <td>1.000000</td>\n",
              "      <td>0.313134</td>\n",
              "      <td>0.058760</td>\n",
              "      <td>0.000000</td>\n",
              "    </tr>\n",
              "    <tr>\n",
              "      <th>16</th>\n",
              "      <td>Hamiltonian Monte Carlo</td>\n",
              "      <td>Variational Inference with guide: AutoIAFNorma...</td>\n",
              "      <td>0.632281</td>\n",
              "      <td>0.128635</td>\n",
              "      <td>0.644722</td>\n",
              "      <td>0.202347</td>\n",
              "      <td>0.117358</td>\n",
              "      <td>0.058181</td>\n",
              "    </tr>\n",
              "    <tr>\n",
              "      <th>17</th>\n",
              "      <td>Hamiltonian Monte Carlo</td>\n",
              "      <td>Variational Inference with guide: AutoStructur...</td>\n",
              "      <td>0.459106</td>\n",
              "      <td>0.021254</td>\n",
              "      <td>0.556333</td>\n",
              "      <td>0.137479</td>\n",
              "      <td>0.022217</td>\n",
              "      <td>0.046174</td>\n",
              "    </tr>\n",
              "    <tr>\n",
              "      <th>18</th>\n",
              "      <td>Variational Inference with guide: AutoMultivar...</td>\n",
              "      <td>Variational Inference with guide: AutoDiagonal...</td>\n",
              "      <td>0.651545</td>\n",
              "      <td>0.290411</td>\n",
              "      <td>0.808167</td>\n",
              "      <td>0.183406</td>\n",
              "      <td>0.335610</td>\n",
              "      <td>0.110416</td>\n",
              "    </tr>\n",
              "    <tr>\n",
              "      <th>19</th>\n",
              "      <td>Variational Inference with guide: AutoMultivar...</td>\n",
              "      <td>Variational Inference with guide: AutoLaplaceA...</td>\n",
              "      <td>1.349049</td>\n",
              "      <td>1.969292</td>\n",
              "      <td>1.000000</td>\n",
              "      <td>0.306171</td>\n",
              "      <td>0.058392</td>\n",
              "      <td>0.000000</td>\n",
              "    </tr>\n",
              "    <tr>\n",
              "      <th>20</th>\n",
              "      <td>Variational Inference with guide: AutoMultivar...</td>\n",
              "      <td>Variational Inference with guide: AutoIAFNorma...</td>\n",
              "      <td>0.565732</td>\n",
              "      <td>0.103338</td>\n",
              "      <td>0.629083</td>\n",
              "      <td>0.195857</td>\n",
              "      <td>0.117756</td>\n",
              "      <td>0.056229</td>\n",
              "    </tr>\n",
              "    <tr>\n",
              "      <th>21</th>\n",
              "      <td>Variational Inference with guide: AutoMultivar...</td>\n",
              "      <td>Variational Inference with guide: AutoStructur...</td>\n",
              "      <td>0.439402</td>\n",
              "      <td>0.025239</td>\n",
              "      <td>0.566500</td>\n",
              "      <td>0.097024</td>\n",
              "      <td>0.019315</td>\n",
              "      <td>0.048119</td>\n",
              "    </tr>\n",
              "    <tr>\n",
              "      <th>22</th>\n",
              "      <td>Variational Inference with guide: AutoDiagonal...</td>\n",
              "      <td>Variational Inference with guide: AutoLaplaceA...</td>\n",
              "      <td>1.036896</td>\n",
              "      <td>2.004118</td>\n",
              "      <td>1.000000</td>\n",
              "      <td>0.446023</td>\n",
              "      <td>0.293759</td>\n",
              "      <td>0.000000</td>\n",
              "    </tr>\n",
              "    <tr>\n",
              "      <th>23</th>\n",
              "      <td>Variational Inference with guide: AutoDiagonal...</td>\n",
              "      <td>Variational Inference with guide: AutoIAFNorma...</td>\n",
              "      <td>0.714673</td>\n",
              "      <td>0.369928</td>\n",
              "      <td>0.828056</td>\n",
              "      <td>0.209625</td>\n",
              "      <td>0.345694</td>\n",
              "      <td>0.100286</td>\n",
              "    </tr>\n",
              "    <tr>\n",
              "      <th>24</th>\n",
              "      <td>Variational Inference with guide: AutoDiagonal...</td>\n",
              "      <td>Variational Inference with guide: AutoStructur...</td>\n",
              "      <td>0.707291</td>\n",
              "      <td>0.335964</td>\n",
              "      <td>0.816556</td>\n",
              "      <td>0.236704</td>\n",
              "      <td>0.399114</td>\n",
              "      <td>0.125736</td>\n",
              "    </tr>\n",
              "    <tr>\n",
              "      <th>25</th>\n",
              "      <td>Variational Inference with guide: AutoLaplaceA...</td>\n",
              "      <td>Variational Inference with guide: AutoIAFNorma...</td>\n",
              "      <td>1.378118</td>\n",
              "      <td>2.088142</td>\n",
              "      <td>1.000000</td>\n",
              "      <td>0.315608</td>\n",
              "      <td>0.205240</td>\n",
              "      <td>0.000000</td>\n",
              "    </tr>\n",
              "    <tr>\n",
              "      <th>26</th>\n",
              "      <td>Variational Inference with guide: AutoLaplaceA...</td>\n",
              "      <td>Variational Inference with guide: AutoStructur...</td>\n",
              "      <td>1.403212</td>\n",
              "      <td>1.968347</td>\n",
              "      <td>1.000000</td>\n",
              "      <td>0.302228</td>\n",
              "      <td>0.046614</td>\n",
              "      <td>0.000000</td>\n",
              "    </tr>\n",
              "    <tr>\n",
              "      <th>27</th>\n",
              "      <td>Variational Inference with guide: AutoIAFNorma...</td>\n",
              "      <td>Variational Inference with guide: AutoStructur...</td>\n",
              "      <td>0.592263</td>\n",
              "      <td>0.117746</td>\n",
              "      <td>0.633500</td>\n",
              "      <td>0.188016</td>\n",
              "      <td>0.118687</td>\n",
              "      <td>0.065352</td>\n",
              "    </tr>\n",
              "  </tbody>\n",
              "</table>\n",
              "</div>\n",
              "    <div class=\"colab-df-buttons\">\n",
              "\n",
              "  <div class=\"colab-df-container\">\n",
              "    <button class=\"colab-df-convert\" onclick=\"convertToInteractive('df-759859aa-e2e8-40a4-bf15-11dc876f5cd0')\"\n",
              "            title=\"Convert this dataframe to an interactive table.\"\n",
              "            style=\"display:none;\">\n",
              "\n",
              "  <svg xmlns=\"http://www.w3.org/2000/svg\" height=\"24px\" viewBox=\"0 -960 960 960\">\n",
              "    <path d=\"M120-120v-720h720v720H120Zm60-500h600v-160H180v160Zm220 220h160v-160H400v160Zm0 220h160v-160H400v160ZM180-400h160v-160H180v160Zm440 0h160v-160H620v160ZM180-180h160v-160H180v160Zm440 0h160v-160H620v160Z\"/>\n",
              "  </svg>\n",
              "    </button>\n",
              "\n",
              "  <style>\n",
              "    .colab-df-container {\n",
              "      display:flex;\n",
              "      gap: 12px;\n",
              "    }\n",
              "\n",
              "    .colab-df-convert {\n",
              "      background-color: #E8F0FE;\n",
              "      border: none;\n",
              "      border-radius: 50%;\n",
              "      cursor: pointer;\n",
              "      display: none;\n",
              "      fill: #1967D2;\n",
              "      height: 32px;\n",
              "      padding: 0 0 0 0;\n",
              "      width: 32px;\n",
              "    }\n",
              "\n",
              "    .colab-df-convert:hover {\n",
              "      background-color: #E2EBFA;\n",
              "      box-shadow: 0px 1px 2px rgba(60, 64, 67, 0.3), 0px 1px 3px 1px rgba(60, 64, 67, 0.15);\n",
              "      fill: #174EA6;\n",
              "    }\n",
              "\n",
              "    .colab-df-buttons div {\n",
              "      margin-bottom: 4px;\n",
              "    }\n",
              "\n",
              "    [theme=dark] .colab-df-convert {\n",
              "      background-color: #3B4455;\n",
              "      fill: #D2E3FC;\n",
              "    }\n",
              "\n",
              "    [theme=dark] .colab-df-convert:hover {\n",
              "      background-color: #434B5C;\n",
              "      box-shadow: 0px 1px 3px 1px rgba(0, 0, 0, 0.15);\n",
              "      filter: drop-shadow(0px 1px 2px rgba(0, 0, 0, 0.3));\n",
              "      fill: #FFFFFF;\n",
              "    }\n",
              "  </style>\n",
              "\n",
              "    <script>\n",
              "      const buttonEl =\n",
              "        document.querySelector('#df-759859aa-e2e8-40a4-bf15-11dc876f5cd0 button.colab-df-convert');\n",
              "      buttonEl.style.display =\n",
              "        google.colab.kernel.accessAllowed ? 'block' : 'none';\n",
              "\n",
              "      async function convertToInteractive(key) {\n",
              "        const element = document.querySelector('#df-759859aa-e2e8-40a4-bf15-11dc876f5cd0');\n",
              "        const dataTable =\n",
              "          await google.colab.kernel.invokeFunction('convertToInteractive',\n",
              "                                                    [key], {});\n",
              "        if (!dataTable) return;\n",
              "\n",
              "        const docLinkHtml = 'Like what you see? Visit the ' +\n",
              "          '<a target=\"_blank\" href=https://colab.research.google.com/notebooks/data_table.ipynb>data table notebook</a>'\n",
              "          + ' to learn more about interactive tables.';\n",
              "        element.innerHTML = '';\n",
              "        dataTable['output_type'] = 'display_data';\n",
              "        await google.colab.output.renderOutput(dataTable, element);\n",
              "        const docLink = document.createElement('div');\n",
              "        docLink.innerHTML = docLinkHtml;\n",
              "        element.appendChild(docLink);\n",
              "      }\n",
              "    </script>\n",
              "  </div>\n",
              "\n",
              "\n",
              "<div id=\"df-96614898-8743-42dc-b6ee-e34024e8a622\">\n",
              "  <button class=\"colab-df-quickchart\" onclick=\"quickchart('df-96614898-8743-42dc-b6ee-e34024e8a622')\"\n",
              "            title=\"Suggest charts\"\n",
              "            style=\"display:none;\">\n",
              "\n",
              "<svg xmlns=\"http://www.w3.org/2000/svg\" height=\"24px\"viewBox=\"0 0 24 24\"\n",
              "     width=\"24px\">\n",
              "    <g>\n",
              "        <path d=\"M19 3H5c-1.1 0-2 .9-2 2v14c0 1.1.9 2 2 2h14c1.1 0 2-.9 2-2V5c0-1.1-.9-2-2-2zM9 17H7v-7h2v7zm4 0h-2V7h2v10zm4 0h-2v-4h2v4z\"/>\n",
              "    </g>\n",
              "</svg>\n",
              "  </button>\n",
              "\n",
              "<style>\n",
              "  .colab-df-quickchart {\n",
              "      --bg-color: #E8F0FE;\n",
              "      --fill-color: #1967D2;\n",
              "      --hover-bg-color: #E2EBFA;\n",
              "      --hover-fill-color: #174EA6;\n",
              "      --disabled-fill-color: #AAA;\n",
              "      --disabled-bg-color: #DDD;\n",
              "  }\n",
              "\n",
              "  [theme=dark] .colab-df-quickchart {\n",
              "      --bg-color: #3B4455;\n",
              "      --fill-color: #D2E3FC;\n",
              "      --hover-bg-color: #434B5C;\n",
              "      --hover-fill-color: #FFFFFF;\n",
              "      --disabled-bg-color: #3B4455;\n",
              "      --disabled-fill-color: #666;\n",
              "  }\n",
              "\n",
              "  .colab-df-quickchart {\n",
              "    background-color: var(--bg-color);\n",
              "    border: none;\n",
              "    border-radius: 50%;\n",
              "    cursor: pointer;\n",
              "    display: none;\n",
              "    fill: var(--fill-color);\n",
              "    height: 32px;\n",
              "    padding: 0;\n",
              "    width: 32px;\n",
              "  }\n",
              "\n",
              "  .colab-df-quickchart:hover {\n",
              "    background-color: var(--hover-bg-color);\n",
              "    box-shadow: 0 1px 2px rgba(60, 64, 67, 0.3), 0 1px 3px 1px rgba(60, 64, 67, 0.15);\n",
              "    fill: var(--button-hover-fill-color);\n",
              "  }\n",
              "\n",
              "  .colab-df-quickchart-complete:disabled,\n",
              "  .colab-df-quickchart-complete:disabled:hover {\n",
              "    background-color: var(--disabled-bg-color);\n",
              "    fill: var(--disabled-fill-color);\n",
              "    box-shadow: none;\n",
              "  }\n",
              "\n",
              "  .colab-df-spinner {\n",
              "    border: 2px solid var(--fill-color);\n",
              "    border-color: transparent;\n",
              "    border-bottom-color: var(--fill-color);\n",
              "    animation:\n",
              "      spin 1s steps(1) infinite;\n",
              "  }\n",
              "\n",
              "  @keyframes spin {\n",
              "    0% {\n",
              "      border-color: transparent;\n",
              "      border-bottom-color: var(--fill-color);\n",
              "      border-left-color: var(--fill-color);\n",
              "    }\n",
              "    20% {\n",
              "      border-color: transparent;\n",
              "      border-left-color: var(--fill-color);\n",
              "      border-top-color: var(--fill-color);\n",
              "    }\n",
              "    30% {\n",
              "      border-color: transparent;\n",
              "      border-left-color: var(--fill-color);\n",
              "      border-top-color: var(--fill-color);\n",
              "      border-right-color: var(--fill-color);\n",
              "    }\n",
              "    40% {\n",
              "      border-color: transparent;\n",
              "      border-right-color: var(--fill-color);\n",
              "      border-top-color: var(--fill-color);\n",
              "    }\n",
              "    60% {\n",
              "      border-color: transparent;\n",
              "      border-right-color: var(--fill-color);\n",
              "    }\n",
              "    80% {\n",
              "      border-color: transparent;\n",
              "      border-right-color: var(--fill-color);\n",
              "      border-bottom-color: var(--fill-color);\n",
              "    }\n",
              "    90% {\n",
              "      border-color: transparent;\n",
              "      border-bottom-color: var(--fill-color);\n",
              "    }\n",
              "  }\n",
              "</style>\n",
              "\n",
              "  <script>\n",
              "    async function quickchart(key) {\n",
              "      const quickchartButtonEl =\n",
              "        document.querySelector('#' + key + ' button');\n",
              "      quickchartButtonEl.disabled = true;  // To prevent multiple clicks.\n",
              "      quickchartButtonEl.classList.add('colab-df-spinner');\n",
              "      try {\n",
              "        const charts = await google.colab.kernel.invokeFunction(\n",
              "            'suggestCharts', [key], {});\n",
              "      } catch (error) {\n",
              "        console.error('Error during call to suggestCharts:', error);\n",
              "      }\n",
              "      quickchartButtonEl.classList.remove('colab-df-spinner');\n",
              "      quickchartButtonEl.classList.add('colab-df-quickchart-complete');\n",
              "    }\n",
              "    (() => {\n",
              "      let quickchartButtonEl =\n",
              "        document.querySelector('#df-96614898-8743-42dc-b6ee-e34024e8a622 button');\n",
              "      quickchartButtonEl.style.display =\n",
              "        google.colab.kernel.accessAllowed ? 'block' : 'none';\n",
              "    })();\n",
              "  </script>\n",
              "</div>\n",
              "\n",
              "    </div>\n",
              "  </div>\n"
            ],
            "application/vnd.google.colaboratory.intrinsic+json": {
              "type": "dataframe",
              "summary": "{\n  \"name\": \"eval_rw\",\n  \"rows\": 28,\n  \"fields\": [\n    {\n      \"column\": \"Model 1\",\n      \"properties\": {\n        \"dtype\": \"category\",\n        \"num_unique_values\": 7,\n        \"samples\": [\n          \"<PFNExperiments.LinearRegression.Models.ModelToPosteriorCNF.ModelToPosteriorCNF object at 0x788775aa4340>\",\n          \"<PFNExperiments.LinearRegression.ComparisonModels.AnalyticalSolutionsLM.PosteriorLM_IG object at 0x788775aa6080>\",\n          \"Variational Inference with guide: AutoLaplaceApproximation()\"\n        ],\n        \"semantic_type\": \"\",\n        \"description\": \"\"\n      }\n    },\n    {\n      \"column\": \"Model 2\",\n      \"properties\": {\n        \"dtype\": \"category\",\n        \"num_unique_values\": 7,\n        \"samples\": [\n          \"<PFNExperiments.LinearRegression.ComparisonModels.AnalyticalSolutionsLM.PosteriorLM_IG object at 0x788775aa6080>\",\n          \"Hamiltonian Monte Carlo\",\n          \"Variational Inference with guide: AutoIAFNormal(\\n  (transform): ComposeTransformModule(\\n      AffineAutoregressive()\\n  )\\n)\"\n        ],\n        \"semantic_type\": \"\",\n        \"description\": \"\"\n      }\n    },\n    {\n      \"column\": \"Mean_Wasserstein_distance with metric euclidean\",\n      \"properties\": {\n        \"dtype\": \"number\",\n        \"std\": 0.3494568970040532,\n        \"min\": 0.43940212660365635,\n        \"max\": 1.6197647982173495,\n        \"num_unique_values\": 28,\n        \"samples\": [\n          0.7047694325447083,\n          1.3781179090340931,\n          0.5046290987067752\n        ],\n        \"semantic_type\": \"\",\n        \"description\": \"\"\n      }\n    },\n    {\n      \"column\": \"Mean_MMD\",\n      \"properties\": {\n        \"dtype\": \"number\",\n        \"std\": 0.8188269014594316,\n        \"min\": 0.021253890461391874,\n        \"max\": 2.0912910302480063,\n        \"num_unique_values\": 28,\n        \"samples\": [\n          0.33555956681569415,\n          2.088142348660363,\n          0.07598831918504503\n        ],\n        \"semantic_type\": \"\",\n        \"description\": \"\"\n      }\n    },\n    {\n      \"column\": \"Mean_cst_roc_auc\",\n      \"properties\": {\n        \"dtype\": \"number\",\n        \"std\": 0.16778070380119314,\n        \"min\": 0.5563333333333333,\n        \"max\": 1.0,\n        \"num_unique_values\": 22,\n        \"samples\": [\n          0.6621111111111111,\n          0.8299722222222223,\n          0.5980555555555556\n        ],\n        \"semantic_type\": \"\",\n        \"description\": \"\"\n      }\n    },\n    {\n      \"column\": \"Std_Wasserstein_distance with metric euclidean\",\n      \"properties\": {\n        \"dtype\": \"number\",\n        \"std\": 0.09224378072085161,\n        \"min\": 0.09702380639414296,\n        \"max\": 0.44602282854405206,\n        \"num_unique_values\": 28,\n        \"samples\": [\n          0.21217196021744406,\n          0.3156079945859459,\n          0.13627040922937267\n        ],\n        \"semantic_type\": \"\",\n        \"description\": \"\"\n      }\n    },\n    {\n      \"column\": \"Std_MMD\",\n      \"properties\": {\n        \"dtype\": \"number\",\n        \"std\": 0.12405767976249381,\n        \"min\": 0.019315089541010782,\n        \"max\": 0.4181677084501367,\n        \"num_unique_values\": 28,\n        \"samples\": [\n          0.32529366375444707,\n          0.20523997553022943,\n          0.0582561842731752\n        ],\n        \"semantic_type\": \"\",\n        \"description\": \"\"\n      }\n    },\n    {\n      \"column\": \"Std_cst_roc_auc\",\n      \"properties\": {\n        \"dtype\": \"number\",\n        \"std\": 0.03993862478253572,\n        \"min\": 0.0,\n        \"max\": 0.1259484572707776,\n        \"num_unique_values\": 22,\n        \"samples\": [\n          0.07589031472645927,\n          0.1259484572707776,\n          0.04564598071632982\n        ],\n        \"semantic_type\": \"\",\n        \"description\": \"\"\n      }\n    }\n  ]\n}"
            }
          },
          "metadata": {}
        },
        {
          "output_type": "stream",
          "name": "stdout",
          "text": [
            "P-values:\n"
          ]
        },
        {
          "output_type": "display_data",
          "data": {
            "text/plain": [
              "                                       Pair 1: Model A  \\\n",
              "0    <PFNExperiments.LinearRegression.Models.ModelT...   \n",
              "1    <PFNExperiments.LinearRegression.Models.ModelT...   \n",
              "2    <PFNExperiments.LinearRegression.Models.ModelT...   \n",
              "3    <PFNExperiments.LinearRegression.Models.ModelT...   \n",
              "4    <PFNExperiments.LinearRegression.Models.ModelT...   \n",
              "..                                                 ...   \n",
              "163  Variational Inference with guide: AutoDiagonal...   \n",
              "164  Variational Inference with guide: AutoDiagonal...   \n",
              "165  Variational Inference with guide: AutoLaplaceA...   \n",
              "166  Variational Inference with guide: AutoLaplaceA...   \n",
              "167  Variational Inference with guide: AutoLaplaceA...   \n",
              "\n",
              "                                       Pair 1: Model B  \\\n",
              "0    <PFNExperiments.LinearRegression.ComparisonMod...   \n",
              "1    <PFNExperiments.LinearRegression.ComparisonMod...   \n",
              "2    <PFNExperiments.LinearRegression.ComparisonMod...   \n",
              "3    <PFNExperiments.LinearRegression.ComparisonMod...   \n",
              "4    <PFNExperiments.LinearRegression.ComparisonMod...   \n",
              "..                                                 ...   \n",
              "163  Variational Inference with guide: AutoStructur...   \n",
              "164  Variational Inference with guide: AutoStructur...   \n",
              "165  Variational Inference with guide: AutoIAFNorma...   \n",
              "166  Variational Inference with guide: AutoIAFNorma...   \n",
              "167  Variational Inference with guide: AutoStructur...   \n",
              "\n",
              "                                       Pair 2: Model A  \\\n",
              "0    <PFNExperiments.LinearRegression.Models.ModelT...   \n",
              "1    <PFNExperiments.LinearRegression.Models.ModelT...   \n",
              "2    <PFNExperiments.LinearRegression.Models.ModelT...   \n",
              "3    <PFNExperiments.LinearRegression.Models.ModelT...   \n",
              "4    <PFNExperiments.LinearRegression.Models.ModelT...   \n",
              "..                                                 ...   \n",
              "163  Variational Inference with guide: AutoLaplaceA...   \n",
              "164  Variational Inference with guide: AutoIAFNorma...   \n",
              "165  Variational Inference with guide: AutoLaplaceA...   \n",
              "166  Variational Inference with guide: AutoIAFNorma...   \n",
              "167  Variational Inference with guide: AutoIAFNorma...   \n",
              "\n",
              "                                       Pair 2: Model B  \\\n",
              "0                              Hamiltonian Monte Carlo   \n",
              "1    Variational Inference with guide: AutoMultivar...   \n",
              "2    Variational Inference with guide: AutoDiagonal...   \n",
              "3    Variational Inference with guide: AutoLaplaceA...   \n",
              "4    Variational Inference with guide: AutoIAFNorma...   \n",
              "..                                                 ...   \n",
              "163  Variational Inference with guide: AutoStructur...   \n",
              "164  Variational Inference with guide: AutoStructur...   \n",
              "165  Variational Inference with guide: AutoStructur...   \n",
              "166  Variational Inference with guide: AutoStructur...   \n",
              "167  Variational Inference with guide: AutoStructur...   \n",
              "\n",
              "     Wasserstein_distance with metric euclidean_p-value   MMD_p-value  \\\n",
              "0                                         1.412384e-01   4.191808e-04   \n",
              "1                                         6.016446e-01   4.128168e-02   \n",
              "2                                         2.788626e-02   3.427218e-03   \n",
              "3                                         3.568428e-06   3.227837e-07   \n",
              "4                                         5.166026e-01   4.382536e-01   \n",
              "..                                                 ...            ...   \n",
              "163                                       3.060854e-06   3.227837e-07   \n",
              "164                                       1.412384e-01   1.412384e-01   \n",
              "165                                       7.397342e-01   1.474381e-03   \n",
              "166                                       6.258023e-07   3.227837e-07   \n",
              "167                                       6.258023e-07   3.227837e-07   \n",
              "\n",
              "     cst_roc_auc_p-value  \n",
              "0           5.360120e-03  \n",
              "1           9.369559e-01  \n",
              "2           2.242158e-06  \n",
              "3           4.720625e-08  \n",
              "4           9.988344e-02  \n",
              "..                   ...  \n",
              "163         4.720625e-08  \n",
              "164         1.375954e-04  \n",
              "165         1.000000e+00  \n",
              "166         4.720625e-08  \n",
              "167         4.720625e-08  \n",
              "\n",
              "[168 rows x 7 columns]"
            ],
            "text/html": [
              "\n",
              "  <div id=\"df-4e95ab21-ad02-4fcf-ba05-df1a43256ad3\" class=\"colab-df-container\">\n",
              "    <div>\n",
              "<style scoped>\n",
              "    .dataframe tbody tr th:only-of-type {\n",
              "        vertical-align: middle;\n",
              "    }\n",
              "\n",
              "    .dataframe tbody tr th {\n",
              "        vertical-align: top;\n",
              "    }\n",
              "\n",
              "    .dataframe thead th {\n",
              "        text-align: right;\n",
              "    }\n",
              "</style>\n",
              "<table border=\"1\" class=\"dataframe\">\n",
              "  <thead>\n",
              "    <tr style=\"text-align: right;\">\n",
              "      <th></th>\n",
              "      <th>Pair 1: Model A</th>\n",
              "      <th>Pair 1: Model B</th>\n",
              "      <th>Pair 2: Model A</th>\n",
              "      <th>Pair 2: Model B</th>\n",
              "      <th>Wasserstein_distance with metric euclidean_p-value</th>\n",
              "      <th>MMD_p-value</th>\n",
              "      <th>cst_roc_auc_p-value</th>\n",
              "    </tr>\n",
              "  </thead>\n",
              "  <tbody>\n",
              "    <tr>\n",
              "      <th>0</th>\n",
              "      <td>&lt;PFNExperiments.LinearRegression.Models.ModelT...</td>\n",
              "      <td>&lt;PFNExperiments.LinearRegression.ComparisonMod...</td>\n",
              "      <td>&lt;PFNExperiments.LinearRegression.Models.ModelT...</td>\n",
              "      <td>Hamiltonian Monte Carlo</td>\n",
              "      <td>1.412384e-01</td>\n",
              "      <td>4.191808e-04</td>\n",
              "      <td>5.360120e-03</td>\n",
              "    </tr>\n",
              "    <tr>\n",
              "      <th>1</th>\n",
              "      <td>&lt;PFNExperiments.LinearRegression.Models.ModelT...</td>\n",
              "      <td>&lt;PFNExperiments.LinearRegression.ComparisonMod...</td>\n",
              "      <td>&lt;PFNExperiments.LinearRegression.Models.ModelT...</td>\n",
              "      <td>Variational Inference with guide: AutoMultivar...</td>\n",
              "      <td>6.016446e-01</td>\n",
              "      <td>4.128168e-02</td>\n",
              "      <td>9.369559e-01</td>\n",
              "    </tr>\n",
              "    <tr>\n",
              "      <th>2</th>\n",
              "      <td>&lt;PFNExperiments.LinearRegression.Models.ModelT...</td>\n",
              "      <td>&lt;PFNExperiments.LinearRegression.ComparisonMod...</td>\n",
              "      <td>&lt;PFNExperiments.LinearRegression.Models.ModelT...</td>\n",
              "      <td>Variational Inference with guide: AutoDiagonal...</td>\n",
              "      <td>2.788626e-02</td>\n",
              "      <td>3.427218e-03</td>\n",
              "      <td>2.242158e-06</td>\n",
              "    </tr>\n",
              "    <tr>\n",
              "      <th>3</th>\n",
              "      <td>&lt;PFNExperiments.LinearRegression.Models.ModelT...</td>\n",
              "      <td>&lt;PFNExperiments.LinearRegression.ComparisonMod...</td>\n",
              "      <td>&lt;PFNExperiments.LinearRegression.Models.ModelT...</td>\n",
              "      <td>Variational Inference with guide: AutoLaplaceA...</td>\n",
              "      <td>3.568428e-06</td>\n",
              "      <td>3.227837e-07</td>\n",
              "      <td>4.720625e-08</td>\n",
              "    </tr>\n",
              "    <tr>\n",
              "      <th>4</th>\n",
              "      <td>&lt;PFNExperiments.LinearRegression.Models.ModelT...</td>\n",
              "      <td>&lt;PFNExperiments.LinearRegression.ComparisonMod...</td>\n",
              "      <td>&lt;PFNExperiments.LinearRegression.Models.ModelT...</td>\n",
              "      <td>Variational Inference with guide: AutoIAFNorma...</td>\n",
              "      <td>5.166026e-01</td>\n",
              "      <td>4.382536e-01</td>\n",
              "      <td>9.988344e-02</td>\n",
              "    </tr>\n",
              "    <tr>\n",
              "      <th>...</th>\n",
              "      <td>...</td>\n",
              "      <td>...</td>\n",
              "      <td>...</td>\n",
              "      <td>...</td>\n",
              "      <td>...</td>\n",
              "      <td>...</td>\n",
              "      <td>...</td>\n",
              "    </tr>\n",
              "    <tr>\n",
              "      <th>163</th>\n",
              "      <td>Variational Inference with guide: AutoDiagonal...</td>\n",
              "      <td>Variational Inference with guide: AutoStructur...</td>\n",
              "      <td>Variational Inference with guide: AutoLaplaceA...</td>\n",
              "      <td>Variational Inference with guide: AutoStructur...</td>\n",
              "      <td>3.060854e-06</td>\n",
              "      <td>3.227837e-07</td>\n",
              "      <td>4.720625e-08</td>\n",
              "    </tr>\n",
              "    <tr>\n",
              "      <th>164</th>\n",
              "      <td>Variational Inference with guide: AutoDiagonal...</td>\n",
              "      <td>Variational Inference with guide: AutoStructur...</td>\n",
              "      <td>Variational Inference with guide: AutoIAFNorma...</td>\n",
              "      <td>Variational Inference with guide: AutoStructur...</td>\n",
              "      <td>1.412384e-01</td>\n",
              "      <td>1.412384e-01</td>\n",
              "      <td>1.375954e-04</td>\n",
              "    </tr>\n",
              "    <tr>\n",
              "      <th>165</th>\n",
              "      <td>Variational Inference with guide: AutoLaplaceA...</td>\n",
              "      <td>Variational Inference with guide: AutoIAFNorma...</td>\n",
              "      <td>Variational Inference with guide: AutoLaplaceA...</td>\n",
              "      <td>Variational Inference with guide: AutoStructur...</td>\n",
              "      <td>7.397342e-01</td>\n",
              "      <td>1.474381e-03</td>\n",
              "      <td>1.000000e+00</td>\n",
              "    </tr>\n",
              "    <tr>\n",
              "      <th>166</th>\n",
              "      <td>Variational Inference with guide: AutoLaplaceA...</td>\n",
              "      <td>Variational Inference with guide: AutoIAFNorma...</td>\n",
              "      <td>Variational Inference with guide: AutoIAFNorma...</td>\n",
              "      <td>Variational Inference with guide: AutoStructur...</td>\n",
              "      <td>6.258023e-07</td>\n",
              "      <td>3.227837e-07</td>\n",
              "      <td>4.720625e-08</td>\n",
              "    </tr>\n",
              "    <tr>\n",
              "      <th>167</th>\n",
              "      <td>Variational Inference with guide: AutoLaplaceA...</td>\n",
              "      <td>Variational Inference with guide: AutoStructur...</td>\n",
              "      <td>Variational Inference with guide: AutoIAFNorma...</td>\n",
              "      <td>Variational Inference with guide: AutoStructur...</td>\n",
              "      <td>6.258023e-07</td>\n",
              "      <td>3.227837e-07</td>\n",
              "      <td>4.720625e-08</td>\n",
              "    </tr>\n",
              "  </tbody>\n",
              "</table>\n",
              "<p>168 rows × 7 columns</p>\n",
              "</div>\n",
              "    <div class=\"colab-df-buttons\">\n",
              "\n",
              "  <div class=\"colab-df-container\">\n",
              "    <button class=\"colab-df-convert\" onclick=\"convertToInteractive('df-4e95ab21-ad02-4fcf-ba05-df1a43256ad3')\"\n",
              "            title=\"Convert this dataframe to an interactive table.\"\n",
              "            style=\"display:none;\">\n",
              "\n",
              "  <svg xmlns=\"http://www.w3.org/2000/svg\" height=\"24px\" viewBox=\"0 -960 960 960\">\n",
              "    <path d=\"M120-120v-720h720v720H120Zm60-500h600v-160H180v160Zm220 220h160v-160H400v160Zm0 220h160v-160H400v160ZM180-400h160v-160H180v160Zm440 0h160v-160H620v160ZM180-180h160v-160H180v160Zm440 0h160v-160H620v160Z\"/>\n",
              "  </svg>\n",
              "    </button>\n",
              "\n",
              "  <style>\n",
              "    .colab-df-container {\n",
              "      display:flex;\n",
              "      gap: 12px;\n",
              "    }\n",
              "\n",
              "    .colab-df-convert {\n",
              "      background-color: #E8F0FE;\n",
              "      border: none;\n",
              "      border-radius: 50%;\n",
              "      cursor: pointer;\n",
              "      display: none;\n",
              "      fill: #1967D2;\n",
              "      height: 32px;\n",
              "      padding: 0 0 0 0;\n",
              "      width: 32px;\n",
              "    }\n",
              "\n",
              "    .colab-df-convert:hover {\n",
              "      background-color: #E2EBFA;\n",
              "      box-shadow: 0px 1px 2px rgba(60, 64, 67, 0.3), 0px 1px 3px 1px rgba(60, 64, 67, 0.15);\n",
              "      fill: #174EA6;\n",
              "    }\n",
              "\n",
              "    .colab-df-buttons div {\n",
              "      margin-bottom: 4px;\n",
              "    }\n",
              "\n",
              "    [theme=dark] .colab-df-convert {\n",
              "      background-color: #3B4455;\n",
              "      fill: #D2E3FC;\n",
              "    }\n",
              "\n",
              "    [theme=dark] .colab-df-convert:hover {\n",
              "      background-color: #434B5C;\n",
              "      box-shadow: 0px 1px 3px 1px rgba(0, 0, 0, 0.15);\n",
              "      filter: drop-shadow(0px 1px 2px rgba(0, 0, 0, 0.3));\n",
              "      fill: #FFFFFF;\n",
              "    }\n",
              "  </style>\n",
              "\n",
              "    <script>\n",
              "      const buttonEl =\n",
              "        document.querySelector('#df-4e95ab21-ad02-4fcf-ba05-df1a43256ad3 button.colab-df-convert');\n",
              "      buttonEl.style.display =\n",
              "        google.colab.kernel.accessAllowed ? 'block' : 'none';\n",
              "\n",
              "      async function convertToInteractive(key) {\n",
              "        const element = document.querySelector('#df-4e95ab21-ad02-4fcf-ba05-df1a43256ad3');\n",
              "        const dataTable =\n",
              "          await google.colab.kernel.invokeFunction('convertToInteractive',\n",
              "                                                    [key], {});\n",
              "        if (!dataTable) return;\n",
              "\n",
              "        const docLinkHtml = 'Like what you see? Visit the ' +\n",
              "          '<a target=\"_blank\" href=https://colab.research.google.com/notebooks/data_table.ipynb>data table notebook</a>'\n",
              "          + ' to learn more about interactive tables.';\n",
              "        element.innerHTML = '';\n",
              "        dataTable['output_type'] = 'display_data';\n",
              "        await google.colab.output.renderOutput(dataTable, element);\n",
              "        const docLink = document.createElement('div');\n",
              "        docLink.innerHTML = docLinkHtml;\n",
              "        element.appendChild(docLink);\n",
              "      }\n",
              "    </script>\n",
              "  </div>\n",
              "\n",
              "\n",
              "<div id=\"df-efa04b3d-680a-4440-9fc3-aed4c255f2f7\">\n",
              "  <button class=\"colab-df-quickchart\" onclick=\"quickchart('df-efa04b3d-680a-4440-9fc3-aed4c255f2f7')\"\n",
              "            title=\"Suggest charts\"\n",
              "            style=\"display:none;\">\n",
              "\n",
              "<svg xmlns=\"http://www.w3.org/2000/svg\" height=\"24px\"viewBox=\"0 0 24 24\"\n",
              "     width=\"24px\">\n",
              "    <g>\n",
              "        <path d=\"M19 3H5c-1.1 0-2 .9-2 2v14c0 1.1.9 2 2 2h14c1.1 0 2-.9 2-2V5c0-1.1-.9-2-2-2zM9 17H7v-7h2v7zm4 0h-2V7h2v10zm4 0h-2v-4h2v4z\"/>\n",
              "    </g>\n",
              "</svg>\n",
              "  </button>\n",
              "\n",
              "<style>\n",
              "  .colab-df-quickchart {\n",
              "      --bg-color: #E8F0FE;\n",
              "      --fill-color: #1967D2;\n",
              "      --hover-bg-color: #E2EBFA;\n",
              "      --hover-fill-color: #174EA6;\n",
              "      --disabled-fill-color: #AAA;\n",
              "      --disabled-bg-color: #DDD;\n",
              "  }\n",
              "\n",
              "  [theme=dark] .colab-df-quickchart {\n",
              "      --bg-color: #3B4455;\n",
              "      --fill-color: #D2E3FC;\n",
              "      --hover-bg-color: #434B5C;\n",
              "      --hover-fill-color: #FFFFFF;\n",
              "      --disabled-bg-color: #3B4455;\n",
              "      --disabled-fill-color: #666;\n",
              "  }\n",
              "\n",
              "  .colab-df-quickchart {\n",
              "    background-color: var(--bg-color);\n",
              "    border: none;\n",
              "    border-radius: 50%;\n",
              "    cursor: pointer;\n",
              "    display: none;\n",
              "    fill: var(--fill-color);\n",
              "    height: 32px;\n",
              "    padding: 0;\n",
              "    width: 32px;\n",
              "  }\n",
              "\n",
              "  .colab-df-quickchart:hover {\n",
              "    background-color: var(--hover-bg-color);\n",
              "    box-shadow: 0 1px 2px rgba(60, 64, 67, 0.3), 0 1px 3px 1px rgba(60, 64, 67, 0.15);\n",
              "    fill: var(--button-hover-fill-color);\n",
              "  }\n",
              "\n",
              "  .colab-df-quickchart-complete:disabled,\n",
              "  .colab-df-quickchart-complete:disabled:hover {\n",
              "    background-color: var(--disabled-bg-color);\n",
              "    fill: var(--disabled-fill-color);\n",
              "    box-shadow: none;\n",
              "  }\n",
              "\n",
              "  .colab-df-spinner {\n",
              "    border: 2px solid var(--fill-color);\n",
              "    border-color: transparent;\n",
              "    border-bottom-color: var(--fill-color);\n",
              "    animation:\n",
              "      spin 1s steps(1) infinite;\n",
              "  }\n",
              "\n",
              "  @keyframes spin {\n",
              "    0% {\n",
              "      border-color: transparent;\n",
              "      border-bottom-color: var(--fill-color);\n",
              "      border-left-color: var(--fill-color);\n",
              "    }\n",
              "    20% {\n",
              "      border-color: transparent;\n",
              "      border-left-color: var(--fill-color);\n",
              "      border-top-color: var(--fill-color);\n",
              "    }\n",
              "    30% {\n",
              "      border-color: transparent;\n",
              "      border-left-color: var(--fill-color);\n",
              "      border-top-color: var(--fill-color);\n",
              "      border-right-color: var(--fill-color);\n",
              "    }\n",
              "    40% {\n",
              "      border-color: transparent;\n",
              "      border-right-color: var(--fill-color);\n",
              "      border-top-color: var(--fill-color);\n",
              "    }\n",
              "    60% {\n",
              "      border-color: transparent;\n",
              "      border-right-color: var(--fill-color);\n",
              "    }\n",
              "    80% {\n",
              "      border-color: transparent;\n",
              "      border-right-color: var(--fill-color);\n",
              "      border-bottom-color: var(--fill-color);\n",
              "    }\n",
              "    90% {\n",
              "      border-color: transparent;\n",
              "      border-bottom-color: var(--fill-color);\n",
              "    }\n",
              "  }\n",
              "</style>\n",
              "\n",
              "  <script>\n",
              "    async function quickchart(key) {\n",
              "      const quickchartButtonEl =\n",
              "        document.querySelector('#' + key + ' button');\n",
              "      quickchartButtonEl.disabled = true;  // To prevent multiple clicks.\n",
              "      quickchartButtonEl.classList.add('colab-df-spinner');\n",
              "      try {\n",
              "        const charts = await google.colab.kernel.invokeFunction(\n",
              "            'suggestCharts', [key], {});\n",
              "      } catch (error) {\n",
              "        console.error('Error during call to suggestCharts:', error);\n",
              "      }\n",
              "      quickchartButtonEl.classList.remove('colab-df-spinner');\n",
              "      quickchartButtonEl.classList.add('colab-df-quickchart-complete');\n",
              "    }\n",
              "    (() => {\n",
              "      let quickchartButtonEl =\n",
              "        document.querySelector('#df-efa04b3d-680a-4440-9fc3-aed4c255f2f7 button');\n",
              "      quickchartButtonEl.style.display =\n",
              "        google.colab.kernel.accessAllowed ? 'block' : 'none';\n",
              "    })();\n",
              "  </script>\n",
              "</div>\n",
              "\n",
              "    </div>\n",
              "  </div>\n"
            ],
            "application/vnd.google.colaboratory.intrinsic+json": {
              "type": "dataframe",
              "summary": "{\n  \"name\": \"eval_rw\",\n  \"rows\": 168,\n  \"fields\": [\n    {\n      \"column\": \"Pair 1: Model A\",\n      \"properties\": {\n        \"dtype\": \"category\",\n        \"num_unique_values\": 6,\n        \"samples\": [\n          \"<PFNExperiments.LinearRegression.Models.ModelToPosteriorCNF.ModelToPosteriorCNF object at 0x788775aa4340>\",\n          \"<PFNExperiments.LinearRegression.ComparisonModels.AnalyticalSolutionsLM.PosteriorLM_IG object at 0x788775aa6080>\",\n          \"Variational Inference with guide: AutoLaplaceApproximation()\"\n        ],\n        \"semantic_type\": \"\",\n        \"description\": \"\"\n      }\n    },\n    {\n      \"column\": \"Pair 1: Model B\",\n      \"properties\": {\n        \"dtype\": \"category\",\n        \"num_unique_values\": 7,\n        \"samples\": [\n          \"<PFNExperiments.LinearRegression.ComparisonModels.AnalyticalSolutionsLM.PosteriorLM_IG object at 0x788775aa6080>\",\n          \"Hamiltonian Monte Carlo\",\n          \"Variational Inference with guide: AutoIAFNormal(\\n  (transform): ComposeTransformModule(\\n      AffineAutoregressive()\\n  )\\n)\"\n        ],\n        \"semantic_type\": \"\",\n        \"description\": \"\"\n      }\n    },\n    {\n      \"column\": \"Pair 2: Model A\",\n      \"properties\": {\n        \"dtype\": \"category\",\n        \"num_unique_values\": 7,\n        \"samples\": [\n          \"<PFNExperiments.LinearRegression.Models.ModelToPosteriorCNF.ModelToPosteriorCNF object at 0x788775aa4340>\",\n          \"<PFNExperiments.LinearRegression.ComparisonModels.AnalyticalSolutionsLM.PosteriorLM_IG object at 0x788775aa6080>\",\n          \"Variational Inference with guide: AutoLaplaceApproximation()\"\n        ],\n        \"semantic_type\": \"\",\n        \"description\": \"\"\n      }\n    },\n    {\n      \"column\": \"Pair 2: Model B\",\n      \"properties\": {\n        \"dtype\": \"category\",\n        \"num_unique_values\": 6,\n        \"samples\": [\n          \"Hamiltonian Monte Carlo\",\n          \"Variational Inference with guide: AutoMultivariateNormal()\",\n          \"Variational Inference with guide: AutoStructured(\\n  (locs): PyroModule()\\n  (scales): PyroModule()\\n  (scale_trils): PyroModule()\\n  (conds): PyroModule()\\n  (deps): PyroModule(\\n    (sigma_squared): PyroModule()\\n    (beta): PyroModule(\\n      (sigma_squared): Linear(in_features=1, out_features=5, bias=False)\\n    )\\n  )\\n)\"\n        ],\n        \"semantic_type\": \"\",\n        \"description\": \"\"\n      }\n    },\n    {\n      \"column\": \"Wasserstein_distance with metric euclidean_p-value\",\n      \"properties\": {\n        \"dtype\": \"number\",\n        \"std\": 0.2603726443169383,\n        \"min\": 3.2278370106587223e-07,\n        \"max\": 0.9873785512460885,\n        \"num_unique_values\": 95,\n        \"samples\": [\n          3.8143817467700813e-07,\n          0.06418997117728065,\n          0.020048600175371797\n        ],\n        \"semantic_type\": \"\",\n        \"description\": \"\"\n      }\n    },\n    {\n      \"column\": \"MMD_p-value\",\n      \"properties\": {\n        \"dtype\": \"number\",\n        \"std\": 0.26924709623763765,\n        \"min\": 3.2278370106587223e-07,\n        \"max\": 0.9873785512460885,\n        \"num_unique_values\": 83,\n        \"samples\": [\n          0.11732270519879959,\n          0.0004191808013159814,\n          0.22319125752825608\n        ],\n        \"semantic_type\": \"\",\n        \"description\": \"\"\n      }\n    },\n    {\n      \"column\": \"cst_roc_auc_p-value\",\n      \"properties\": {\n        \"dtype\": \"number\",\n        \"std\": 0.37814470819072443,\n        \"min\": 4.709956284288214e-08,\n        \"max\": 1.0,\n        \"num_unique_values\": 98,\n        \"samples\": [\n          0.5582352178888206,\n          0.00022768641357668535,\n          0.002383938709190613\n        ],\n        \"semantic_type\": \"\",\n        \"description\": \"\"\n      }\n    }\n  ]\n}"
            }
          },
          "metadata": {}
        },
        {
          "output_type": "execute_result",
          "data": {
            "text/plain": [
              "{'summarized_results': {'model_comparison_among_each_other':                                               Model 1  \\\n",
              "  0   <PFNExperiments.LinearRegression.Models.ModelT...   \n",
              "  1   <PFNExperiments.LinearRegression.Models.ModelT...   \n",
              "  2   <PFNExperiments.LinearRegression.Models.ModelT...   \n",
              "  3   <PFNExperiments.LinearRegression.Models.ModelT...   \n",
              "  4   <PFNExperiments.LinearRegression.Models.ModelT...   \n",
              "  5   <PFNExperiments.LinearRegression.Models.ModelT...   \n",
              "  6   <PFNExperiments.LinearRegression.Models.ModelT...   \n",
              "  7   <PFNExperiments.LinearRegression.ComparisonMod...   \n",
              "  8   <PFNExperiments.LinearRegression.ComparisonMod...   \n",
              "  9   <PFNExperiments.LinearRegression.ComparisonMod...   \n",
              "  10  <PFNExperiments.LinearRegression.ComparisonMod...   \n",
              "  11  <PFNExperiments.LinearRegression.ComparisonMod...   \n",
              "  12  <PFNExperiments.LinearRegression.ComparisonMod...   \n",
              "  13                            Hamiltonian Monte Carlo   \n",
              "  14                            Hamiltonian Monte Carlo   \n",
              "  15                            Hamiltonian Monte Carlo   \n",
              "  16                            Hamiltonian Monte Carlo   \n",
              "  17                            Hamiltonian Monte Carlo   \n",
              "  18  Variational Inference with guide: AutoMultivar...   \n",
              "  19  Variational Inference with guide: AutoMultivar...   \n",
              "  20  Variational Inference with guide: AutoMultivar...   \n",
              "  21  Variational Inference with guide: AutoMultivar...   \n",
              "  22  Variational Inference with guide: AutoDiagonal...   \n",
              "  23  Variational Inference with guide: AutoDiagonal...   \n",
              "  24  Variational Inference with guide: AutoDiagonal...   \n",
              "  25  Variational Inference with guide: AutoLaplaceA...   \n",
              "  26  Variational Inference with guide: AutoLaplaceA...   \n",
              "  27  Variational Inference with guide: AutoIAFNorma...   \n",
              "  \n",
              "                                                Model 2  \\\n",
              "  0   <PFNExperiments.LinearRegression.ComparisonMod...   \n",
              "  1                             Hamiltonian Monte Carlo   \n",
              "  2   Variational Inference with guide: AutoMultivar...   \n",
              "  3   Variational Inference with guide: AutoDiagonal...   \n",
              "  4   Variational Inference with guide: AutoLaplaceA...   \n",
              "  5   Variational Inference with guide: AutoIAFNorma...   \n",
              "  6   Variational Inference with guide: AutoStructur...   \n",
              "  7                             Hamiltonian Monte Carlo   \n",
              "  8   Variational Inference with guide: AutoMultivar...   \n",
              "  9   Variational Inference with guide: AutoDiagonal...   \n",
              "  10  Variational Inference with guide: AutoLaplaceA...   \n",
              "  11  Variational Inference with guide: AutoIAFNorma...   \n",
              "  12  Variational Inference with guide: AutoStructur...   \n",
              "  13  Variational Inference with guide: AutoMultivar...   \n",
              "  14  Variational Inference with guide: AutoDiagonal...   \n",
              "  15  Variational Inference with guide: AutoLaplaceA...   \n",
              "  16  Variational Inference with guide: AutoIAFNorma...   \n",
              "  17  Variational Inference with guide: AutoStructur...   \n",
              "  18  Variational Inference with guide: AutoDiagonal...   \n",
              "  19  Variational Inference with guide: AutoLaplaceA...   \n",
              "  20  Variational Inference with guide: AutoIAFNorma...   \n",
              "  21  Variational Inference with guide: AutoStructur...   \n",
              "  22  Variational Inference with guide: AutoLaplaceA...   \n",
              "  23  Variational Inference with guide: AutoIAFNorma...   \n",
              "  24  Variational Inference with guide: AutoStructur...   \n",
              "  25  Variational Inference with guide: AutoIAFNorma...   \n",
              "  26  Variational Inference with guide: AutoStructur...   \n",
              "  27  Variational Inference with guide: AutoStructur...   \n",
              "  \n",
              "      Mean_Wasserstein_distance with metric euclidean  Mean_MMD  \\\n",
              "  0                                          0.726362  0.214548   \n",
              "  1                                          0.621823  0.099469   \n",
              "  2                                          0.677326  0.140368   \n",
              "  3                                          0.974427  0.507213   \n",
              "  4                                          1.619765  2.091291   \n",
              "  5                                          0.795555  0.227506   \n",
              "  6                                          0.662782  0.130324   \n",
              "  7                                          0.531794  0.092662   \n",
              "  8                                          0.504629  0.075988   \n",
              "  9                                          0.704769  0.335560   \n",
              "  10                                         1.259219  2.040659   \n",
              "  11                                         0.559436  0.105413   \n",
              "  12                                         0.518117  0.084519   \n",
              "  13                                         0.489329  0.038730   \n",
              "  14                                         0.789842  0.386223   \n",
              "  15                                         1.471930  1.971835   \n",
              "  16                                         0.632281  0.128635   \n",
              "  17                                         0.459106  0.021254   \n",
              "  18                                         0.651545  0.290411   \n",
              "  19                                         1.349049  1.969292   \n",
              "  20                                         0.565732  0.103338   \n",
              "  21                                         0.439402  0.025239   \n",
              "  22                                         1.036896  2.004118   \n",
              "  23                                         0.714673  0.369928   \n",
              "  24                                         0.707291  0.335964   \n",
              "  25                                         1.378118  2.088142   \n",
              "  26                                         1.403212  1.968347   \n",
              "  27                                         0.592263  0.117746   \n",
              "  \n",
              "      Mean_cst_roc_auc  Std_Wasserstein_distance with metric euclidean  \\\n",
              "  0           0.662111                                        0.323833   \n",
              "  1           0.603556                                        0.336189   \n",
              "  2           0.654722                                        0.325125   \n",
              "  3           0.870000                                        0.323850   \n",
              "  4           1.000000                                        0.398484   \n",
              "  5           0.698222                                        0.320635   \n",
              "  6           0.627889                                        0.356124   \n",
              "  7           0.584944                                        0.143393   \n",
              "  8           0.598056                                        0.136270   \n",
              "  9           0.820028                                        0.212172   \n",
              "  10          1.000000                                        0.240713   \n",
              "  11          0.622944                                        0.144282   \n",
              "  12          0.592111                                        0.147706   \n",
              "  13          0.585111                                        0.133199   \n",
              "  14          0.829972                                        0.299401   \n",
              "  15          1.000000                                        0.313134   \n",
              "  16          0.644722                                        0.202347   \n",
              "  17          0.556333                                        0.137479   \n",
              "  18          0.808167                                        0.183406   \n",
              "  19          1.000000                                        0.306171   \n",
              "  20          0.629083                                        0.195857   \n",
              "  21          0.566500                                        0.097024   \n",
              "  22          1.000000                                        0.446023   \n",
              "  23          0.828056                                        0.209625   \n",
              "  24          0.816556                                        0.236704   \n",
              "  25          1.000000                                        0.315608   \n",
              "  26          1.000000                                        0.302228   \n",
              "  27          0.633500                                        0.188016   \n",
              "  \n",
              "       Std_MMD  Std_cst_roc_auc  \n",
              "  0   0.193121         0.075890  \n",
              "  1   0.166703         0.081109  \n",
              "  2   0.158126         0.070196  \n",
              "  3   0.383752         0.072873  \n",
              "  4   0.254430         0.000000  \n",
              "  5   0.180646         0.063282  \n",
              "  6   0.184408         0.081365  \n",
              "  7   0.076883         0.046382  \n",
              "  8   0.058256         0.045646  \n",
              "  9   0.325294         0.115890  \n",
              "  10  0.158815         0.000000  \n",
              "  11  0.084151         0.044820  \n",
              "  12  0.076388         0.046153  \n",
              "  13  0.031757         0.052107  \n",
              "  14  0.418168         0.125948  \n",
              "  15  0.058760         0.000000  \n",
              "  16  0.117358         0.058181  \n",
              "  17  0.022217         0.046174  \n",
              "  18  0.335610         0.110416  \n",
              "  19  0.058392         0.000000  \n",
              "  20  0.117756         0.056229  \n",
              "  21  0.019315         0.048119  \n",
              "  22  0.293759         0.000000  \n",
              "  23  0.345694         0.100286  \n",
              "  24  0.399114         0.125736  \n",
              "  25  0.205240         0.000000  \n",
              "  26  0.046614         0.000000  \n",
              "  27  0.118687         0.065352  },\n",
              " 'test_results': {'model_comparison_among_each_other':                                        Pair 1: Model A  \\\n",
              "  0    <PFNExperiments.LinearRegression.Models.ModelT...   \n",
              "  1    <PFNExperiments.LinearRegression.Models.ModelT...   \n",
              "  2    <PFNExperiments.LinearRegression.Models.ModelT...   \n",
              "  3    <PFNExperiments.LinearRegression.Models.ModelT...   \n",
              "  4    <PFNExperiments.LinearRegression.Models.ModelT...   \n",
              "  ..                                                 ...   \n",
              "  163  Variational Inference with guide: AutoDiagonal...   \n",
              "  164  Variational Inference with guide: AutoDiagonal...   \n",
              "  165  Variational Inference with guide: AutoLaplaceA...   \n",
              "  166  Variational Inference with guide: AutoLaplaceA...   \n",
              "  167  Variational Inference with guide: AutoLaplaceA...   \n",
              "  \n",
              "                                         Pair 1: Model B  \\\n",
              "  0    <PFNExperiments.LinearRegression.ComparisonMod...   \n",
              "  1    <PFNExperiments.LinearRegression.ComparisonMod...   \n",
              "  2    <PFNExperiments.LinearRegression.ComparisonMod...   \n",
              "  3    <PFNExperiments.LinearRegression.ComparisonMod...   \n",
              "  4    <PFNExperiments.LinearRegression.ComparisonMod...   \n",
              "  ..                                                 ...   \n",
              "  163  Variational Inference with guide: AutoStructur...   \n",
              "  164  Variational Inference with guide: AutoStructur...   \n",
              "  165  Variational Inference with guide: AutoIAFNorma...   \n",
              "  166  Variational Inference with guide: AutoIAFNorma...   \n",
              "  167  Variational Inference with guide: AutoStructur...   \n",
              "  \n",
              "                                         Pair 2: Model A  \\\n",
              "  0    <PFNExperiments.LinearRegression.Models.ModelT...   \n",
              "  1    <PFNExperiments.LinearRegression.Models.ModelT...   \n",
              "  2    <PFNExperiments.LinearRegression.Models.ModelT...   \n",
              "  3    <PFNExperiments.LinearRegression.Models.ModelT...   \n",
              "  4    <PFNExperiments.LinearRegression.Models.ModelT...   \n",
              "  ..                                                 ...   \n",
              "  163  Variational Inference with guide: AutoLaplaceA...   \n",
              "  164  Variational Inference with guide: AutoIAFNorma...   \n",
              "  165  Variational Inference with guide: AutoLaplaceA...   \n",
              "  166  Variational Inference with guide: AutoIAFNorma...   \n",
              "  167  Variational Inference with guide: AutoIAFNorma...   \n",
              "  \n",
              "                                         Pair 2: Model B  \\\n",
              "  0                              Hamiltonian Monte Carlo   \n",
              "  1    Variational Inference with guide: AutoMultivar...   \n",
              "  2    Variational Inference with guide: AutoDiagonal...   \n",
              "  3    Variational Inference with guide: AutoLaplaceA...   \n",
              "  4    Variational Inference with guide: AutoIAFNorma...   \n",
              "  ..                                                 ...   \n",
              "  163  Variational Inference with guide: AutoStructur...   \n",
              "  164  Variational Inference with guide: AutoStructur...   \n",
              "  165  Variational Inference with guide: AutoStructur...   \n",
              "  166  Variational Inference with guide: AutoStructur...   \n",
              "  167  Variational Inference with guide: AutoStructur...   \n",
              "  \n",
              "       Wasserstein_distance with metric euclidean_p-value   MMD_p-value  \\\n",
              "  0                                         1.412384e-01   4.191808e-04   \n",
              "  1                                         6.016446e-01   4.128168e-02   \n",
              "  2                                         2.788626e-02   3.427218e-03   \n",
              "  3                                         3.568428e-06   3.227837e-07   \n",
              "  4                                         5.166026e-01   4.382536e-01   \n",
              "  ..                                                 ...            ...   \n",
              "  163                                       3.060854e-06   3.227837e-07   \n",
              "  164                                       1.412384e-01   1.412384e-01   \n",
              "  165                                       7.397342e-01   1.474381e-03   \n",
              "  166                                       6.258023e-07   3.227837e-07   \n",
              "  167                                       6.258023e-07   3.227837e-07   \n",
              "  \n",
              "       cst_roc_auc_p-value  \n",
              "  0           5.360120e-03  \n",
              "  1           9.369559e-01  \n",
              "  2           2.242158e-06  \n",
              "  3           4.720625e-08  \n",
              "  4           9.988344e-02  \n",
              "  ..                   ...  \n",
              "  163         4.720625e-08  \n",
              "  164         1.375954e-04  \n",
              "  165         1.000000e+00  \n",
              "  166         4.720625e-08  \n",
              "  167         4.720625e-08  \n",
              "  \n",
              "  [168 rows x 7 columns]},\n",
              " 'res_df': {'model_comparison_among_each_other': {('<PFNExperiments.LinearRegression.Models.ModelToPosteriorCNF.ModelToPosteriorCNF object at 0x788775aa4340>',\n",
              "    '<PFNExperiments.LinearRegression.ComparisonModels.AnalyticalSolutionsLM.PosteriorLM_IG object at 0x788775aa6080>'):     Wasserstein_distance with metric euclidean       MMD  cst_roc_auc\n",
              "   0                                     1.548676  0.824743       0.8375\n",
              "   1                                     0.431067  0.084179       0.5660\n",
              "   2                                     0.587442  0.113737       0.6330\n",
              "   3                                     0.561369  0.082246       0.6515\n",
              "   4                                     0.693071  0.079065       0.5780\n",
              "   5                                     0.760181  0.163569       0.6430\n",
              "   6                                     0.833989  0.214937       0.6870\n",
              "   7                                     0.793296  0.120052       0.6520\n",
              "   8                                     0.570860  0.146384       0.6445\n",
              "   9                                     0.378322  0.063929       0.6035\n",
              "   10                                    0.408595  0.077009       0.5870\n",
              "   11                                    1.300215  0.507843       0.8010\n",
              "   12                                    0.379184  0.105663       0.5910\n",
              "   13                                    0.589125  0.179469       0.6465\n",
              "   14                                    0.799302  0.253646       0.6725\n",
              "   15                                    0.512362  0.148414       0.6350\n",
              "   16                                    0.769106  0.350060       0.7305\n",
              "   17                                    1.158351  0.346919       0.7585,\n",
              "   ('<PFNExperiments.LinearRegression.Models.ModelToPosteriorCNF.ModelToPosteriorCNF object at 0x788775aa4340>',\n",
              "    'Hamiltonian Monte Carlo'):     Wasserstein_distance with metric euclidean       MMD  cst_roc_auc\n",
              "   0                                     1.520038  0.666996       0.8250\n",
              "   1                                     0.394701  0.032517       0.5320\n",
              "   2                                     0.553955  0.058328       0.6150\n",
              "   3                                     0.481727  0.016369       0.5990\n",
              "   4                                     0.696486  0.041761       0.5400\n",
              "   5                                     0.670732  0.075900       0.6040\n",
              "   6                                     0.570007  0.017540       0.5460\n",
              "   7                                     0.674741  0.017987       0.5695\n",
              "   8                                     0.430252  0.024671       0.5680\n",
              "   9                                     0.338811  0.031523       0.5995\n",
              "   10                                    0.315359  0.007449       0.5365\n",
              "   11                                    1.255477  0.367744       0.7440\n",
              "   12                                    0.286255  0.019198       0.5330\n",
              "   13                                    0.427220  0.034693       0.5680\n",
              "   14                                    0.635144  0.083307       0.6225\n",
              "   15                                    0.416258  0.047156       0.5660\n",
              "   16                                    0.462475  0.038305       0.5720\n",
              "   17                                    1.063176  0.208996       0.7240,\n",
              "   ('<PFNExperiments.LinearRegression.Models.ModelToPosteriorCNF.ModelToPosteriorCNF object at 0x788775aa4340>',\n",
              "    'Variational Inference with guide: AutoMultivariateNormal()'):     Wasserstein_distance with metric euclidean       MMD  cst_roc_auc\n",
              "   0                                     1.506333  0.661100       0.8155\n",
              "   1                                     0.437764  0.070006       0.5835\n",
              "   2                                     0.649037  0.128772       0.6745\n",
              "   3                                     0.494071  0.018312       0.6065\n",
              "   4                                     0.851478  0.162187       0.7140\n",
              "   5                                     0.746970  0.110075       0.6495\n",
              "   6                                     0.635906  0.068408       0.6550\n",
              "   7                                     0.794613  0.075569       0.6890\n",
              "   8                                     0.489596  0.059035       0.6190\n",
              "   9                                     0.441571  0.130509       0.6605\n",
              "   10                                    0.442624  0.091475       0.6635\n",
              "   11                                    1.304338  0.425518       0.7700\n",
              "   12                                    0.310220  0.043231       0.5555\n",
              "   13                                    0.440430  0.042094       0.5630\n",
              "   14                                    0.666036  0.117220       0.6150\n",
              "   15                                    0.392523  0.035945       0.5665\n",
              "   16                                    0.540370  0.110539       0.6800\n",
              "   17                                    1.047989  0.176625       0.7045,\n",
              "   ('<PFNExperiments.LinearRegression.Models.ModelToPosteriorCNF.ModelToPosteriorCNF object at 0x788775aa4340>',\n",
              "    'Variational Inference with guide: AutoDiagonalNormal()'):     Wasserstein_distance with metric euclidean       MMD  cst_roc_auc\n",
              "   0                                     1.508897  0.649289       0.8120\n",
              "   1                                     0.690712  0.422590       0.8845\n",
              "   2                                     1.403226  1.471280       0.9635\n",
              "   3                                     0.544134  0.047824       0.7355\n",
              "   4                                     1.505607  0.770566       0.9815\n",
              "   5                                     0.994858  0.265697       0.8760\n",
              "   6                                     1.231933  0.607399       0.9635\n",
              "   7                                     0.954862  0.149222       0.8980\n",
              "   8                                     0.625291  0.149368       0.7905\n",
              "   9                                     0.741686  0.666297       0.8715\n",
              "   10                                    1.116964  1.196901       0.9315\n",
              "   11                                    1.312311  0.417702       0.8950\n",
              "   12                                    0.719161  0.891999       0.8900\n",
              "   13                                    0.592070  0.151706       0.7565\n",
              "   14                                    1.058513  0.412200       0.9090\n",
              "   15                                    0.642128  0.329601       0.8215\n",
              "   16                                    0.778693  0.281317       0.9040\n",
              "   17                                    1.118646  0.248881       0.7760,\n",
              "   ('<PFNExperiments.LinearRegression.Models.ModelToPosteriorCNF.ModelToPosteriorCNF object at 0x788775aa4340>',\n",
              "    'Variational Inference with guide: AutoLaplaceApproximation()'):     Wasserstein_distance with metric euclidean       MMD  cst_roc_auc\n",
              "   0                                     2.202727  2.902310          1.0\n",
              "   1                                     1.096913  2.011212          1.0\n",
              "   2                                     1.718478  2.068984          1.0\n",
              "   3                                     1.604496  1.990831          1.0\n",
              "   4                                     1.955121  2.063133          1.0\n",
              "   5                                     1.748697  2.064715          1.0\n",
              "   6                                     1.814071  1.999523          1.0\n",
              "   7                                     2.028538  2.039001          1.0\n",
              "   8                                     1.471428  1.967128          1.0\n",
              "   9                                     1.076601  1.899795          1.0\n",
              "   10                                    1.373450  1.898052          1.0\n",
              "   11                                    2.211748  2.506146          1.0\n",
              "   12                                    0.967445  1.879835          1.0\n",
              "   13                                    1.401614  1.908668          1.0\n",
              "   14                                    1.703209  2.132160          1.0\n",
              "   15                                    1.174595  2.058191          1.0\n",
              "   16                                    1.436916  1.942123          1.0\n",
              "   17                                    2.169721  2.311431          1.0,\n",
              "   ('<PFNExperiments.LinearRegression.Models.ModelToPosteriorCNF.ModelToPosteriorCNF object at 0x788775aa4340>',\n",
              "    'Variational Inference with guide: AutoIAFNormal(\\n  (transform): ComposeTransformModule(\\n      AffineAutoregressive()\\n  )\\n)'):     Wasserstein_distance with metric euclidean       MMD  cst_roc_auc\n",
              "   0                                     1.552074  0.771794       0.8190\n",
              "   1                                     0.525338  0.116920       0.6235\n",
              "   2                                     0.750235  0.203797       0.7320\n",
              "   3                                     0.510074  0.018913       0.6275\n",
              "   4                                     0.925394  0.211545       0.7300\n",
              "   5                                     0.892065  0.207380       0.6635\n",
              "   6                                     1.241611  0.473228       0.7690\n",
              "   7                                     0.831639  0.088710       0.7390\n",
              "   8                                     0.734073  0.228052       0.6965\n",
              "   9                                     0.505535  0.178669       0.7160\n",
              "   10                                    0.493799  0.122233       0.6555\n",
              "   11                                    1.305422  0.485347       0.8115\n",
              "   12                                    0.438494  0.169164       0.6425\n",
              "   13                                    0.627801  0.175791       0.6350\n",
              "   14                                    0.705878  0.149914       0.6505\n",
              "   15                                    0.677375  0.169110       0.6560\n",
              "   16                                    0.505155  0.067565       0.6425\n",
              "   17                                    1.098030  0.256969       0.7585,\n",
              "   ('<PFNExperiments.LinearRegression.Models.ModelToPosteriorCNF.ModelToPosteriorCNF object at 0x788775aa4340>',\n",
              "    'Variational Inference with guide: AutoStructured(\\n  (locs): PyroModule()\\n  (scales): PyroModule()\\n  (scale_trils): PyroModule()\\n  (conds): PyroModule()\\n  (deps): PyroModule(\\n    (sigma_squared): PyroModule()\\n    (beta): PyroModule(\\n      (sigma_squared): Linear(in_features=1, out_features=5, bias=False)\\n    )\\n  )\\n)'):     Wasserstein_distance with metric euclidean       MMD  cst_roc_auc\n",
              "   0                                     1.595377  0.761810       0.8345\n",
              "   1                                     0.416396  0.056592       0.5585\n",
              "   2                                     0.543631  0.053363       0.5910\n",
              "   3                                     0.504151  0.033937       0.6155\n",
              "   4                                     0.847976  0.148802       0.6960\n",
              "   5                                     0.636135  0.062404       0.5940\n",
              "   6                                     0.588752  0.038647       0.5525\n",
              "   7                                     0.763599  0.056934       0.6700\n",
              "   8                                     0.440032  0.033478       0.5750\n",
              "   9                                     0.397057  0.076718       0.6085\n",
              "   10                                    0.338584  0.023442       0.5855\n",
              "   11                                    1.314739  0.412378       0.7705\n",
              "   12                                    0.302909  0.041517       0.5550\n",
              "   13                                    0.452545  0.046663       0.5550\n",
              "   14                                    0.759206  0.148881       0.6070\n",
              "   15                                    0.424369  0.063846       0.6055\n",
              "   16                                    0.481060  0.051758       0.5905\n",
              "   17                                    1.123550  0.234656       0.7375,\n",
              "   ('<PFNExperiments.LinearRegression.ComparisonModels.AnalyticalSolutionsLM.PosteriorLM_IG object at 0x788775aa6080>',\n",
              "    'Hamiltonian Monte Carlo'):     Wasserstein_distance with metric euclidean       MMD  cst_roc_auc\n",
              "   0                                     0.552132  0.050295       0.5645\n",
              "   1                                     0.359219  0.034436       0.5385\n",
              "   2                                     0.552116  0.095974       0.5670\n",
              "   3                                     0.458877  0.039037       0.5415\n",
              "   4                                     0.637361  0.051748       0.5845\n",
              "   5                                     0.525141  0.043774       0.5365\n",
              "   6                                     0.770093  0.195859       0.6510\n",
              "   7                                     0.665196  0.073976       0.6090\n",
              "   8                                     0.512466  0.127013       0.6190\n",
              "   9                                     0.306498  0.024942       0.5350\n",
              "   10                                    0.357392  0.050139       0.5590\n",
              "   11                                    0.646589  0.091275       0.6055\n",
              "   12                                    0.305933  0.052114       0.5380\n",
              "   13                                    0.451740  0.096752       0.5885\n",
              "   14                                    0.674771  0.170536       0.6270\n",
              "   15                                    0.445364  0.082540       0.5755\n",
              "   16                                    0.732127  0.337820       0.7100\n",
              "   17                                    0.619285  0.049684       0.5790,\n",
              "   ('<PFNExperiments.LinearRegression.ComparisonModels.AnalyticalSolutionsLM.PosteriorLM_IG object at 0x788775aa6080>',\n",
              "    'Variational Inference with guide: AutoMultivariateNormal()'):     Wasserstein_distance with metric euclidean       MMD  cst_roc_auc\n",
              "   0                                     0.544867  0.051808       0.5780\n",
              "   1                                     0.341952  0.022426       0.5440\n",
              "   2                                     0.468861  0.043047       0.5925\n",
              "   3                                     0.462980  0.040330       0.5430\n",
              "   4                                     0.623647  0.046289       0.6625\n",
              "   5                                     0.513351  0.040084       0.5720\n",
              "   6                                     0.681787  0.142221       0.6305\n",
              "   7                                     0.666080  0.065410       0.6360\n",
              "   8                                     0.458966  0.089858       0.5935\n",
              "   9                                     0.305257  0.033577       0.5400\n",
              "   10                                    0.286459  0.017650       0.6255\n",
              "   11                                    0.622626  0.077177       0.5810\n",
              "   12                                    0.292523  0.052263       0.5580\n",
              "   13                                    0.415501  0.069392       0.5660\n",
              "   14                                    0.600554  0.125373       0.6590\n",
              "   15                                    0.483478  0.111081       0.5830\n",
              "   16                                    0.643248  0.264512       0.7015\n",
              "   17                                    0.671187  0.075293       0.5990,\n",
              "   ('<PFNExperiments.LinearRegression.ComparisonModels.AnalyticalSolutionsLM.PosteriorLM_IG object at 0x788775aa6080>',\n",
              "    'Variational Inference with guide: AutoDiagonalNormal()'):     Wasserstein_distance with metric euclidean       MMD  cst_roc_auc\n",
              "   0                                     0.572412  0.055975       0.5770\n",
              "   1                                     0.541472  0.240995       0.8530\n",
              "   2                                     1.031862  1.151675       0.9330\n",
              "   3                                     0.450582  0.028580       0.6565\n",
              "   4                                     1.205102  0.547485       0.9760\n",
              "   5                                     0.706555  0.101346       0.8560\n",
              "   6                                     0.948503  0.425290       0.9350\n",
              "   7                                     0.819474  0.106188       0.8680\n",
              "   8                                     0.553117  0.172226       0.7635\n",
              "   9                                     0.582960  0.491483       0.8470\n",
              "   10                                    0.818810  0.895777       0.9060\n",
              "   11                                    0.692305  0.082946       0.8500\n",
              "   12                                    0.591375  0.708067       0.8695\n",
              "   13                                    0.420914  0.058753       0.7150\n",
              "   14                                    0.800342  0.249334       0.8910\n",
              "   15                                    0.501806  0.190791       0.7585\n",
              "   16                                    0.848822  0.500150       0.9010\n",
              "   17                                    0.599436  0.033010       0.6045,\n",
              "   ('<PFNExperiments.LinearRegression.ComparisonModels.AnalyticalSolutionsLM.PosteriorLM_IG object at 0x788775aa6080>',\n",
              "    'Variational Inference with guide: AutoLaplaceApproximation()'):     Wasserstein_distance with metric euclidean       MMD  cst_roc_auc\n",
              "   0                                     1.403351  1.980026          1.0\n",
              "   1                                     0.967987  1.982327          1.0\n",
              "   2                                     1.357259  2.006230          1.0\n",
              "   3                                     1.254159  1.950808          1.0\n",
              "   4                                     1.592657  1.964355          1.0\n",
              "   5                                     1.363591  1.976243          1.0\n",
              "   6                                     1.495687  2.285764          1.0\n",
              "   7                                     1.570036  1.999840          1.0\n",
              "   8                                     1.149734  2.086247          1.0\n",
              "   9                                     0.917734  1.953180          1.0\n",
              "   10                                    1.065185  1.833659          1.0\n",
              "   11                                    1.485296  2.109148          1.0\n",
              "   12                                    0.837282  1.903064          1.0\n",
              "   13                                    1.042110  1.907642          1.0\n",
              "   14                                    1.361857  2.233264          1.0\n",
              "   15                                    1.026765  2.061782          1.0\n",
              "   16                                    1.221610  2.496482          1.0\n",
              "   17                                    1.553651  2.001810          1.0,\n",
              "   ('<PFNExperiments.LinearRegression.ComparisonModels.AnalyticalSolutionsLM.PosteriorLM_IG object at 0x788775aa6080>',\n",
              "    'Variational Inference with guide: AutoIAFNormal(\\n  (transform): ComposeTransformModule(\\n      AffineAutoregressive()\\n  )\\n)'):     Wasserstein_distance with metric euclidean       MMD  cst_roc_auc\n",
              "   0                                     0.600873  0.048859       0.6815\n",
              "   1                                     0.371406  0.037668       0.5720\n",
              "   2                                     0.526121  0.079891       0.6340\n",
              "   3                                     0.562342  0.070123       0.5880\n",
              "   4                                     0.645329  0.072701       0.6420\n",
              "   5                                     0.587794  0.082756       0.5680\n",
              "   6                                     0.786902  0.212573       0.6540\n",
              "   7                                     0.762165  0.095567       0.7005\n",
              "   8                                     0.540045  0.142988       0.6310\n",
              "   9                                     0.395760  0.103131       0.6170\n",
              "   10                                    0.324593  0.029922       0.5960\n",
              "   11                                    0.566663  0.034629       0.5925\n",
              "   12                                    0.287726  0.036425       0.5685\n",
              "   13                                    0.490972  0.126133       0.6070\n",
              "   14                                    0.601329  0.116597       0.6075\n",
              "   15                                    0.627174  0.183842       0.6620\n",
              "   16                                    0.766949  0.371976       0.7115\n",
              "   17                                    0.625713  0.051659       0.5800,\n",
              "   ('<PFNExperiments.LinearRegression.ComparisonModels.AnalyticalSolutionsLM.PosteriorLM_IG object at 0x788775aa6080>',\n",
              "    'Variational Inference with guide: AutoStructured(\\n  (locs): PyroModule()\\n  (scales): PyroModule()\\n  (scale_trils): PyroModule()\\n  (conds): PyroModule()\\n  (deps): PyroModule(\\n    (sigma_squared): PyroModule()\\n    (beta): PyroModule(\\n      (sigma_squared): Linear(in_features=1, out_features=5, bias=False)\\n    )\\n  )\\n)'):     Wasserstein_distance with metric euclidean       MMD  cst_roc_auc\n",
              "   0                                     0.534582  0.044117       0.5490\n",
              "   1                                     0.326416  0.017931       0.5280\n",
              "   2                                     0.534154  0.087611       0.5790\n",
              "   3                                     0.442113  0.028644       0.5450\n",
              "   4                                     0.634928  0.047610       0.6275\n",
              "   5                                     0.526751  0.048206       0.5815\n",
              "   6                                     0.701341  0.148413       0.6335\n",
              "   7                                     0.695695  0.076515       0.6285\n",
              "   8                                     0.497424  0.116929       0.6050\n",
              "   9                                     0.292276  0.019777       0.5610\n",
              "   10                                    0.351525  0.056444       0.6050\n",
              "   11                                    0.644658  0.086278       0.5970\n",
              "   12                                    0.276257  0.033391       0.5380\n",
              "   13                                    0.425842  0.077122       0.6020\n",
              "   14                                    0.659613  0.154221       0.6200\n",
              "   15                                    0.420687  0.075496       0.5560\n",
              "   16                                    0.727178  0.346657       0.7220\n",
              "   17                                    0.634660  0.055986       0.5800,\n",
              "   ('Hamiltonian Monte Carlo',\n",
              "    'Variational Inference with guide: AutoMultivariateNormal()'):     Wasserstein_distance with metric euclidean       MMD  cst_roc_auc\n",
              "   0                                     0.523915  0.014385       0.5770\n",
              "   1                                     0.413142  0.041451       0.5845\n",
              "   2                                     0.582524  0.088064       0.6350\n",
              "   3                                     0.427184  0.003634       0.5095\n",
              "   4                                     0.784511  0.126184       0.7215\n",
              "   5                                     0.531945  0.021562       0.5765\n",
              "   6                                     0.574385  0.041095       0.6150\n",
              "   7                                     0.676560  0.041344       0.6210\n",
              "   8                                     0.397414  0.023912       0.5370\n",
              "   9                                     0.366551  0.064278       0.5900\n",
              "   10                                    0.401767  0.068601       0.6440\n",
              "   11                                    0.567242  0.015526       0.5650\n",
              "   12                                    0.263079  0.016008       0.5420\n",
              "   13                                    0.340572  0.011576       0.5395\n",
              "   14                                    0.501404  0.030674       0.6040\n",
              "   15                                    0.362120  0.013168       0.5480\n",
              "   16                                    0.453757  0.055828       0.6060\n",
              "   17                                    0.639848  0.019852       0.5165,\n",
              "   ('Hamiltonian Monte Carlo',\n",
              "    'Variational Inference with guide: AutoDiagonalNormal()'):     Wasserstein_distance with metric euclidean       MMD  cst_roc_auc\n",
              "   0                                     0.528906  0.006896       0.5600\n",
              "   1                                     0.674157  0.371883       0.8890\n",
              "   2                                     1.367531  1.469522       0.9645\n",
              "   3                                     0.458420  0.021111       0.6995\n",
              "   4                                     1.438625  0.716695       0.9820\n",
              "   5                                     0.836517  0.168962       0.8625\n",
              "   6                                     1.192370  0.581556       0.9640\n",
              "   7                                     0.886392  0.122920       0.8610\n",
              "   8                                     0.513361  0.088469       0.7365\n",
              "   9                                     0.678616  0.575844       0.8690\n",
              "   10                                    1.061504  1.139196       0.9235\n",
              "   11                                    0.675891  0.039787       0.8510\n",
              "   12                                    0.648902  0.788967       0.8885\n",
              "   13                                    0.469042  0.090308       0.7370\n",
              "   14                                    0.897203  0.284583       0.8985\n",
              "   15                                    0.565314  0.240008       0.7960\n",
              "   16                                    0.738074  0.236312       0.8975\n",
              "   17                                    0.586325  0.008990       0.5595,\n",
              "   ('Hamiltonian Monte Carlo',\n",
              "    'Variational Inference with guide: AutoLaplaceApproximation()'):     Wasserstein_distance with metric euclidean       MMD  cst_roc_auc\n",
              "   0                                     1.697191  1.996338          1.0\n",
              "   1                                     1.090645  1.971555          1.0\n",
              "   2                                     1.622055  1.978210          1.0\n",
              "   3                                     1.482218  1.960450          1.0\n",
              "   4                                     1.907674  2.045123          1.0\n",
              "   5                                     1.632414  1.968739          1.0\n",
              "   6                                     1.673130  2.021277          1.0\n",
              "   7                                     1.923940  2.062808          1.0\n",
              "   8                                     1.362545  1.951794          1.0\n",
              "   9                                     1.012018  1.879152          1.0\n",
              "   10                                    1.309568  1.871777          1.0\n",
              "   11                                    1.754848  2.024630          1.0\n",
              "   12                                    0.893832  1.867341          1.0\n",
              "   13                                    1.332415  1.929429          1.0\n",
              "   14                                    1.511883  1.970510          1.0\n",
              "   15                                    1.117944  2.007148          1.0\n",
              "   16                                    1.309889  1.942674          1.0\n",
              "   17                                    1.860524  2.044072          1.0,\n",
              "   ('Hamiltonian Monte Carlo',\n",
              "    'Variational Inference with guide: AutoIAFNormal(\\n  (transform): ComposeTransformModule(\\n      AffineAutoregressive()\\n  )\\n)'):     Wasserstein_distance with metric euclidean       MMD  cst_roc_auc\n",
              "   0                                     0.628017  0.033333       0.6815\n",
              "   1                                     0.396894  0.041240       0.5750\n",
              "   2                                     0.788197  0.227552       0.7090\n",
              "   3                                     0.478217  0.012591       0.5420\n",
              "   4                                     0.756766  0.130632       0.6875\n",
              "   5                                     0.638775  0.081242       0.5930\n",
              "   6                                     1.256699  0.514582       0.7660\n",
              "   7                                     0.774076  0.072136       0.7005\n",
              "   8                                     0.746895  0.278736       0.7000\n",
              "   9                                     0.458436  0.132780       0.6665\n",
              "   10                                    0.464256  0.096393       0.6415\n",
              "   11                                    0.704251  0.100372       0.6650\n",
              "   12                                    0.360209  0.105215       0.6050\n",
              "   13                                    0.574427  0.153093       0.6015\n",
              "   14                                    0.569373  0.069082       0.6185\n",
              "   15                                    0.624622  0.138343       0.6675\n",
              "   16                                    0.538545  0.097636       0.6040\n",
              "   17                                    0.622397  0.030479       0.5810,\n",
              "   ('Hamiltonian Monte Carlo',\n",
              "    'Variational Inference with guide: AutoStructured(\\n  (locs): PyroModule()\\n  (scales): PyroModule()\\n  (scale_trils): PyroModule()\\n  (conds): PyroModule()\\n  (deps): PyroModule(\\n    (sigma_squared): PyroModule()\\n    (beta): PyroModule(\\n      (sigma_squared): Linear(in_features=1, out_features=5, bias=False)\\n    )\\n  )\\n)'):     Wasserstein_distance with metric euclidean       MMD  cst_roc_auc\n",
              "   0                                     0.518702  0.012152       0.5415\n",
              "   1                                     0.346812  0.017178       0.5365\n",
              "   2                                     0.402079  0.004762       0.5310\n",
              "   3                                     0.431184  0.009907       0.5285\n",
              "   4                                     0.766327  0.100406       0.6905\n",
              "   5                                     0.504503  0.009614       0.5315\n",
              "   6                                     0.562116  0.028963       0.5700\n",
              "   7                                     0.663474  0.032483       0.6225\n",
              "   8                                     0.367736  0.006710       0.5010\n",
              "   9                                     0.329550  0.033582       0.5760\n",
              "   10                                    0.335016  0.024565       0.5920\n",
              "   11                                    0.578036  0.014747       0.5780\n",
              "   12                                    0.250843  0.009853       0.5095\n",
              "   13                                    0.338142  0.006908       0.5245\n",
              "   14                                    0.523625  0.036635       0.5460\n",
              "   15                                    0.352718  0.012699       0.5385\n",
              "   16                                    0.393252  0.013835       0.5805\n",
              "   17                                    0.599795  0.007572       0.5160,\n",
              "   ('Variational Inference with guide: AutoMultivariateNormal()',\n",
              "    'Variational Inference with guide: AutoDiagonalNormal()'):     Wasserstein_distance with metric euclidean       MMD  cst_roc_auc\n",
              "   0                                     0.531099  0.016425       0.6085\n",
              "   1                                     0.551199  0.275674       0.8500\n",
              "   2                                     1.049055  1.179872       0.9315\n",
              "   3                                     0.454928  0.019314       0.6590\n",
              "   4                                     0.966552  0.413208       0.9610\n",
              "   5                                     0.693041  0.116311       0.8435\n",
              "   6                                     0.939643  0.399555       0.9325\n",
              "   7                                     0.679304  0.054555       0.8360\n",
              "   8                                     0.504577  0.093031       0.7235\n",
              "   9                                     0.475608  0.351653       0.8180\n",
              "   10                                    0.805647  0.938004       0.9085\n",
              "   11                                    0.590088  0.028615       0.8120\n",
              "   12                                    0.587861  0.696221       0.8630\n",
              "   13                                    0.427545  0.060752       0.7155\n",
              "   14                                    0.740401  0.189528       0.8700\n",
              "   15                                    0.580093  0.257838       0.7850\n",
              "   16                                    0.516334  0.113633       0.8500\n",
              "   17                                    0.634829  0.023214       0.5795,\n",
              "   ('Variational Inference with guide: AutoMultivariateNormal()',\n",
              "    'Variational Inference with guide: AutoLaplaceApproximation()'):     Wasserstein_distance with metric euclidean       MMD  cst_roc_auc\n",
              "   0                                     1.659410  2.002971          1.0\n",
              "   1                                     1.034875  2.035463          1.0\n",
              "   2                                     1.341192  1.943584          1.0\n",
              "   3                                     1.471570  1.931919          1.0\n",
              "   4                                     1.454676  1.951686          1.0\n",
              "   5                                     1.559502  1.975263          1.0\n",
              "   6                                     1.499017  2.017189          1.0\n",
              "   7                                     1.717653  2.013013          1.0\n",
              "   8                                     1.304994  1.967048          1.0\n",
              "   9                                     0.827526  1.981825          1.0\n",
              "   10                                    1.057010  1.930529          1.0\n",
              "   11                                    1.692206  1.985822          1.0\n",
              "   12                                    0.840047  1.857618          1.0\n",
              "   13                                    1.248407  1.843327          1.0\n",
              "   14                                    1.398795  1.981967          1.0\n",
              "   15                                    1.129303  2.000366          1.0\n",
              "   16                                    1.128400  1.941477          1.0\n",
              "   17                                    1.918301  2.086196          1.0,\n",
              "   ('Variational Inference with guide: AutoMultivariateNormal()',\n",
              "    'Variational Inference with guide: AutoIAFNormal(\\n  (transform): ComposeTransformModule(\\n      AffineAutoregressive()\\n  )\\n)'):     Wasserstein_distance with metric euclidean       MMD  cst_roc_auc\n",
              "   0                                     0.643554  0.042275       0.6820\n",
              "   1                                     0.430991  0.062156       0.6200\n",
              "   2                                     0.503577  0.080601       0.6075\n",
              "   3                                     0.472637  0.012927       0.5470\n",
              "   4                                     0.583491  0.051915       0.6380\n",
              "   5                                     0.553159  0.054749       0.5515\n",
              "   6                                     1.165822  0.509050       0.7745\n",
              "   7                                     0.609664  0.029701       0.6075\n",
              "   8                                     0.714019  0.255112       0.7175\n",
              "   9                                     0.305732  0.038949       0.5715\n",
              "   10                                    0.323449  0.032772       0.6100\n",
              "   11                                    0.669343  0.086232       0.6605\n",
              "   12                                    0.340164  0.101585       0.6175\n",
              "   13                                    0.594224  0.157384       0.6210\n",
              "   14                                    0.459331  0.029185       0.6145\n",
              "   15                                    0.650091  0.156760       0.6655\n",
              "   16                                    0.474292  0.108567       0.6300\n",
              "   17                                    0.689640  0.050157       0.5875,\n",
              "   ('Variational Inference with guide: AutoMultivariateNormal()',\n",
              "    'Variational Inference with guide: AutoStructured(\\n  (locs): PyroModule()\\n  (scales): PyroModule()\\n  (scale_trils): PyroModule()\\n  (conds): PyroModule()\\n  (deps): PyroModule(\\n    (sigma_squared): PyroModule()\\n    (beta): PyroModule(\\n      (sigma_squared): Linear(in_features=1, out_features=5, bias=False)\\n    )\\n  )\\n)'):     Wasserstein_distance with metric euclidean       MMD  cst_roc_auc\n",
              "   0                                     0.517986  0.012377       0.5835\n",
              "   1                                     0.377854  0.030538       0.5480\n",
              "   2                                     0.523976  0.070323       0.6310\n",
              "   3                                     0.426965  0.007870       0.4950\n",
              "   4                                     0.461296  0.015120       0.5355\n",
              "   5                                     0.521778  0.019605       0.5655\n",
              "   6                                     0.515605  0.022583       0.6135\n",
              "   7                                     0.527936  0.006811       0.5445\n",
              "   8                                     0.371104  0.014634       0.5335\n",
              "   9                                     0.304726  0.034450       0.5805\n",
              "   10                                    0.379585  0.071156       0.6965\n",
              "   11                                    0.514963  0.005449       0.5165\n",
              "   12                                    0.260040  0.021078       0.5635\n",
              "   13                                    0.330661  0.007499       0.5335\n",
              "   14                                    0.489028  0.038239       0.5530\n",
              "   15                                    0.372682  0.026659       0.5660\n",
              "   16                                    0.384382  0.033116       0.6125\n",
              "   17                                    0.628672  0.016794       0.5250,\n",
              "   ('Variational Inference with guide: AutoDiagonalNormal()',\n",
              "    'Variational Inference with guide: AutoLaplaceApproximation()'):     Wasserstein_distance with metric euclidean       MMD  cst_roc_auc\n",
              "   0                                     1.709286  1.948176          1.0\n",
              "   1                                     0.686016  1.949727          1.0\n",
              "   2                                     0.520516  3.110487          1.0\n",
              "   3                                     1.371324  1.953145          1.0\n",
              "   4                                     0.931478  1.716551          1.0\n",
              "   5                                     1.235968  1.907858          1.0\n",
              "   6                                     0.998953  1.989326          1.0\n",
              "   7                                     1.549744  1.938694          1.0\n",
              "   8                                     1.106409  1.841753          1.0\n",
              "   9                                     0.499556  1.978668          1.0\n",
              "   10                                    0.397711  2.084770          1.0\n",
              "   11                                    1.583670  1.941211          1.0\n",
              "   12                                    0.367022  2.082613          1.0\n",
              "   13                                    1.082536  1.828415          1.0\n",
              "   14                                    1.112234  1.962712          1.0\n",
              "   15                                    0.744841  2.033099          1.0\n",
              "   16                                    0.977260  1.761196          1.0\n",
              "   17                                    1.789611  2.045724          1.0,\n",
              "   ('Variational Inference with guide: AutoDiagonalNormal()',\n",
              "    'Variational Inference with guide: AutoIAFNormal(\\n  (transform): ComposeTransformModule(\\n      AffineAutoregressive()\\n  )\\n)'):     Wasserstein_distance with metric euclidean       MMD  cst_roc_auc\n",
              "   0                                     0.660813  0.039258       0.7005\n",
              "   1                                     0.640880  0.358083       0.8615\n",
              "   2                                     0.958120  1.159189       0.9290\n",
              "   3                                     0.512301  0.037402       0.6615\n",
              "   4                                     0.994906  0.442511       0.9665\n",
              "   5                                     0.711295  0.157396       0.8580\n",
              "   6                                     1.279784  0.918439       0.9655\n",
              "   7                                     0.569533  0.036476       0.8030\n",
              "   8                                     0.843976  0.471501       0.8450\n",
              "   9                                     0.395102  0.272563       0.7890\n",
              "   10                                    0.759049  0.907347       0.9085\n",
              "   11                                    0.721132  0.101531       0.8360\n",
              "   12                                    0.533781  0.682278       0.8555\n",
              "   13                                    0.589232  0.176039       0.7385\n",
              "   14                                    0.658496  0.149668       0.8540\n",
              "   15                                    0.847778  0.509454       0.8640\n",
              "   16                                    0.584575  0.212425       0.8750\n",
              "   17                                    0.603366  0.027151       0.5940,\n",
              "   ('Variational Inference with guide: AutoDiagonalNormal()',\n",
              "    'Variational Inference with guide: AutoStructured(\\n  (locs): PyroModule()\\n  (scales): PyroModule()\\n  (scale_trils): PyroModule()\\n  (conds): PyroModule()\\n  (deps): PyroModule(\\n    (sigma_squared): PyroModule()\\n    (beta): PyroModule(\\n      (sigma_squared): Linear(in_features=1, out_features=5, bias=False)\\n    )\\n  )\\n)'):     Wasserstein_distance with metric euclidean       MMD  cst_roc_auc\n",
              "   0                                     0.541487  0.018491       0.5350\n",
              "   1                                     0.620881  0.323377       0.8620\n",
              "   2                                     1.331267  1.435556       0.9620\n",
              "   3                                     0.438363  0.015176       0.6520\n",
              "   4                                     0.990169  0.439428       0.9605\n",
              "   5                                     0.795541  0.156282       0.8680\n",
              "   6                                     0.980853  0.431422       0.9405\n",
              "   7                                     0.667063  0.054640       0.8290\n",
              "   8                                     0.495754  0.076817       0.7405\n",
              "   9                                     0.595360  0.502939       0.8455\n",
              "   10                                    0.996412  1.113055       0.9250\n",
              "   11                                    0.634489  0.038049       0.8380\n",
              "   12                                    0.596878  0.726105       0.8765\n",
              "   13                                    0.450920  0.074981       0.7275\n",
              "   14                                    0.835025  0.251582       0.8945\n",
              "   15                                    0.519712  0.194420       0.7695\n",
              "   16                                    0.642399  0.183838       0.8920\n",
              "   17                                    0.598662  0.011187       0.5800,\n",
              "   ('Variational Inference with guide: AutoLaplaceApproximation()',\n",
              "    'Variational Inference with guide: AutoIAFNormal(\\n  (transform): ComposeTransformModule(\\n      AffineAutoregressive()\\n  )\\n)'):     Wasserstein_distance with metric euclidean       MMD  cst_roc_auc\n",
              "   0                                     1.578790  1.965769          1.0\n",
              "   1                                     1.079870  1.988497          1.0\n",
              "   2                                     1.313172  2.157352          1.0\n",
              "   3                                     1.555807  1.875158          1.0\n",
              "   4                                     1.460388  2.030300          1.0\n",
              "   5                                     1.547394  2.081339          1.0\n",
              "   6                                     1.958410  2.803992          1.0\n",
              "   7                                     1.699466  1.988672          1.0\n",
              "   8                                     1.481958  2.361759          1.0\n",
              "   9                                     0.776029  2.034686          1.0\n",
              "   10                                    1.017092  1.960767          1.0\n",
              "   11                                    1.580988  2.099872          1.0\n",
              "   12                                    0.791645  2.037253          1.0\n",
              "   13                                    1.198969  2.089935          1.0\n",
              "   14                                    1.377757  1.973578          1.0\n",
              "   15                                    1.404835  2.052276          1.0\n",
              "   16                                    1.262082  2.049438          1.0\n",
              "   17                                    1.721470  2.035919          1.0,\n",
              "   ('Variational Inference with guide: AutoLaplaceApproximation()',\n",
              "    'Variational Inference with guide: AutoStructured(\\n  (locs): PyroModule()\\n  (scales): PyroModule()\\n  (scale_trils): PyroModule()\\n  (conds): PyroModule()\\n  (deps): PyroModule(\\n    (sigma_squared): PyroModule()\\n    (beta): PyroModule(\\n      (sigma_squared): Linear(in_features=1, out_features=5, bias=False)\\n    )\\n  )\\n)'):     Wasserstein_distance with metric euclidean       MMD  cst_roc_auc\n",
              "   0                                     1.642966  1.988187          1.0\n",
              "   1                                     1.044164  1.997788          1.0\n",
              "   2                                     1.587800  1.972409          1.0\n",
              "   3                                     1.402921  1.962123          1.0\n",
              "   4                                     1.544756  2.002964          1.0\n",
              "   5                                     1.603597  2.031512          1.0\n",
              "   6                                     1.560271  1.961168          1.0\n",
              "   7                                     1.785226  2.023984          1.0\n",
              "   8                                     1.327047  1.934655          1.0\n",
              "   9                                     0.926987  1.953567          1.0\n",
              "   10                                    1.248680  1.921914          1.0\n",
              "   11                                    1.727617  1.983024          1.0\n",
              "   12                                    0.842834  1.893410          1.0\n",
              "   13                                    1.283845  1.853339          1.0\n",
              "   14                                    1.550646  2.010365          1.0\n",
              "   15                                    1.050424  1.982674          1.0\n",
              "   16                                    1.237176  1.942950          1.0\n",
              "   17                                    1.890858  2.014221          1.0,\n",
              "   ('Variational Inference with guide: AutoIAFNormal(\\n  (transform): ComposeTransformModule(\\n      AffineAutoregressive()\\n  )\\n)',\n",
              "    'Variational Inference with guide: AutoStructured(\\n  (locs): PyroModule()\\n  (scales): PyroModule()\\n  (scale_trils): PyroModule()\\n  (conds): PyroModule()\\n  (deps): PyroModule(\\n    (sigma_squared): PyroModule()\\n    (beta): PyroModule(\\n      (sigma_squared): Linear(in_features=1, out_features=5, bias=False)\\n    )\\n  )\\n)'):     Wasserstein_distance with metric euclidean       MMD  cst_roc_auc\n",
              "   0                                     0.620614  0.032220       0.6800\n",
              "   1                                     0.364698  0.025887       0.5315\n",
              "   2                                     0.744565  0.207458       0.7015\n",
              "   3                                     0.488302  0.024039       0.5380\n",
              "   4                                     0.608423  0.050392       0.6445\n",
              "   5                                     0.603935  0.072797       0.5635\n",
              "   6                                     1.163607  0.491937       0.7685\n",
              "   7                                     0.581904  0.023357       0.5890\n",
              "   8                                     0.770821  0.294128       0.7050\n",
              "   9                                     0.402170  0.110150       0.6525\n",
              "   10                                    0.422225  0.095539       0.7110\n",
              "   11                                    0.652830  0.082566       0.6305\n",
              "   12                                    0.333168  0.080554       0.5820\n",
              "   13                                    0.593267  0.165762       0.6105\n",
              "   14                                    0.507197  0.047428       0.6005\n",
              "   15                                    0.638582  0.175763       0.6855\n",
              "   16                                    0.511148  0.100489       0.6260\n",
              "   17                                    0.653284  0.038961       0.5830}}}"
            ]
          },
          "metadata": {},
          "execution_count": 45
        }
      ],
      "source": [
        "eval_rw.run_evaluation()"
      ]
    },
    {
      "cell_type": "code",
      "execution_count": null,
      "metadata": {
        "id": "m74dUMAjKi8r"
      },
      "outputs": [],
      "source": [
        "eval_rw.plot_results(max_number_plots=20)"
      ]
    },
    {
      "cell_type": "code",
      "execution_count": null,
      "metadata": {
        "id": "3fz9n_a3Kikp"
      },
      "outputs": [],
      "source": []
    },
    {
      "cell_type": "markdown",
      "metadata": {
        "id": "r9Ma2_FQVXAV"
      },
      "source": []
    }
  ],
  "metadata": {
    "accelerator": "GPU",
    "colab": {
      "gpuType": "L4",
      "machine_shape": "hm",
      "provenance": []
    },
    "kernelspec": {
      "display_name": "Python 3",
      "name": "python3"
    },
    "language_info": {
      "codemirror_mode": {
        "name": "ipython",
        "version": 3
      },
      "file_extension": ".py",
      "mimetype": "text/x-python",
      "name": "python",
      "nbconvert_exporter": "python",
      "pygments_lexer": "ipython3",
      "version": "3.10.13"
    }
  },
  "nbformat": 4,
  "nbformat_minor": 0
}
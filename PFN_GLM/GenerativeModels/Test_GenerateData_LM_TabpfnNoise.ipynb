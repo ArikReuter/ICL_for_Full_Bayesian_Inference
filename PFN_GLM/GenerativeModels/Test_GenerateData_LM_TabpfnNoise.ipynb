{
 "cells": [
  {
   "cell_type": "code",
   "execution_count": 81,
   "metadata": {},
   "outputs": [
    {
     "name": "stdout",
     "output_type": "stream",
     "text": [
      "The autoreload extension is already loaded. To reload it, use:\n",
      "  %reload_ext autoreload\n"
     ]
    }
   ],
   "source": [
    "%load_ext autoreload\n",
    "%autoreload 2"
   ]
  },
  {
   "cell_type": "code",
   "execution_count": 82,
   "metadata": {},
   "outputs": [],
   "source": [
    "import torch\n",
    "\n",
    "from PFNExperiments.PFN_GLM.GenerativeModels.GenerateData_LM_TabpfnNoise import make_lm_program_ig_intercept_tabpfn_noise_batched"
   ]
  },
  {
   "cell_type": "code",
   "execution_count": 83,
   "metadata": {},
   "outputs": [
    {
     "name": "stderr",
     "output_type": "stream",
     "text": [
      "C:\\Users\\arik_\\AppData\\Local\\Temp\\ipykernel_27108\\1187264974.py:4: FutureWarning: You are using `torch.load` with `weights_only=False` (the current default value), which uses the default pickle module implicitly. It is possible to construct malicious pickle data which will execute arbitrary code during unpickling (See https://github.com/pytorch/pytorch/blob/main/SECURITY.md#untrusted-models for more details). In a future release, the default value for `weights_only` will be flipped to `True`. This limits the functions that could be executed during unpickling. Arbitrary objects will no longer be allowed to be loaded via this mode unless they are explicitly allowlisted by the user via `torch.serialization.add_safe_globals`. We recommend you start setting `weights_only=True` for any use case where you don't have full control of the loaded file. Please open an issue on GitHub for any issues related to this experimental feature.\n",
      "  X_tabpfn = torch.load(f)\n"
     ]
    }
   ],
   "source": [
    "data_stored_path = r\".\\..\\..\\LinearRegression\\GenerativeModels\\GenerateX_TabPFN\\Saved_Data\\X_tabpfn_n50_p5_1_000_000_v2.pt\"\n",
    "\n",
    "with open(data_stored_path, 'rb') as f:\n",
    "    X_tabpfn = torch.load(f)"
   ]
  },
  {
   "cell_type": "code",
   "execution_count": 84,
   "metadata": {},
   "outputs": [
    {
     "data": {
      "text/plain": [
       "torch.Size([1000000, 50, 5])"
      ]
     },
     "execution_count": 84,
     "metadata": {},
     "output_type": "execute_result"
    }
   ],
   "source": [
    "X_tabpfn.shape"
   ]
  },
  {
   "cell_type": "code",
   "execution_count": 85,
   "metadata": {},
   "outputs": [],
   "source": [
    "lm_program_maker_class = make_lm_program_ig_intercept_tabpfn_noise_batched(\n",
    "    X_tabpfn\n",
    ")"
   ]
  },
  {
   "cell_type": "code",
   "execution_count": 86,
   "metadata": {},
   "outputs": [],
   "source": [
    "lm_program = lm_program_maker_class(\n",
    "    tau = 1.0,\n",
    "    a = 5.0,\n",
    "    b = 2.0,\n",
    "    tau_beta0 = 3.0,\n",
    ")"
   ]
  },
  {
   "cell_type": "code",
   "execution_count": 87,
   "metadata": {},
   "outputs": [],
   "source": [
    "bs = 32\n",
    "N = 50\n",
    "P = 5\n",
    "\n",
    "x_example = torch.randn(bs, N, P)"
   ]
  },
  {
   "cell_type": "code",
   "execution_count": 88,
   "metadata": {},
   "outputs": [],
   "source": [
    "r = lm_program(x_example)"
   ]
  },
  {
   "cell_type": "code",
   "execution_count": 89,
   "metadata": {},
   "outputs": [
    {
     "data": {
      "text/plain": [
       "torch.Size([32, 50])"
      ]
     },
     "execution_count": 89,
     "metadata": {},
     "output_type": "execute_result"
    }
   ],
   "source": [
    "y = r[\"y\"]\n",
    "y.shape"
   ]
  },
  {
   "cell_type": "code",
   "execution_count": 90,
   "metadata": {},
   "outputs": [
    {
     "data": {
      "text/plain": [
       "(array([1., 0., 0., 0., 1., 0., 1., 0., 0., 0., 0., 1., 0., 1., 0., 1., 3.,\n",
       "        0., 0., 0., 0., 0., 0., 0., 1., 0., 1., 0., 0., 3., 0., 1., 0., 2.,\n",
       "        0., 1., 2., 1., 1., 0., 0., 2., 1., 0., 0., 1., 2., 0., 2., 2., 0.,\n",
       "        2., 1., 0., 0., 1., 0., 1., 2., 0., 1., 2., 0., 1., 0., 0., 0., 2.,\n",
       "        0., 1., 0., 0., 0., 0., 0., 0., 1., 0., 1., 0., 0., 0., 0., 0., 0.,\n",
       "        0., 0., 0., 0., 0., 0., 0., 0., 0., 0., 1., 0., 0., 0., 1.]),\n",
       " array([-11.04421902, -10.99550247, -10.94678593, -10.89806938,\n",
       "        -10.84935284, -10.80063725, -10.7519207 , -10.70320415,\n",
       "        -10.65448761, -10.60577106, -10.55705452, -10.50833797,\n",
       "        -10.45962143, -10.41090584, -10.36218929, -10.31347275,\n",
       "        -10.2647562 , -10.21603966, -10.16732311, -10.11860657,\n",
       "        -10.06989002, -10.02117348,  -9.97245789,  -9.92374134,\n",
       "         -9.8750248 ,  -9.82630825,  -9.77759171,  -9.72887516,\n",
       "         -9.68015862,  -9.63144302,  -9.58272648,  -9.53400993,\n",
       "         -9.48529339,  -9.43657684,  -9.3878603 ,  -9.33914375,\n",
       "         -9.29042721,  -9.24171066,  -9.19299507,  -9.14427853,\n",
       "         -9.09556198,  -9.04684544,  -8.99812889,  -8.94941235,\n",
       "         -8.9006958 ,  -8.85198021,  -8.80326271,  -8.75454712,\n",
       "         -8.70583057,  -8.65711403,  -8.60839748,  -8.55968094,\n",
       "         -8.51096439,  -8.46224785,  -8.41353226,  -8.36481571,\n",
       "         -8.31609917,  -8.26738262,  -8.21866608,  -8.16994953,\n",
       "         -8.12123299,  -8.0725174 ,  -8.0237999 ,  -7.9750843 ,\n",
       "         -7.92636776,  -7.87765121,  -7.82893467,  -7.78021812,\n",
       "         -7.73150158,  -7.68278503,  -7.63406897,  -7.58535242,\n",
       "         -7.53663635,  -7.48791981,  -7.43920326,  -7.39048672,\n",
       "         -7.34177017,  -7.29305363,  -7.24433756,  -7.19562101,\n",
       "         -7.14690495,  -7.0981884 ,  -7.04947186,  -7.00075531,\n",
       "         -6.95203876,  -6.9033227 ,  -6.85460615,  -6.80588961,\n",
       "         -6.75717306,  -6.70845699,  -6.65974045,  -6.6110239 ,\n",
       "         -6.56230736,  -6.51359129,  -6.46487474,  -6.4161582 ,\n",
       "         -6.36744165,  -6.31872511,  -6.27000904,  -6.2212925 ,\n",
       "         -6.17257595]),\n",
       " <BarContainer object of 100 artists>)"
      ]
     },
     "execution_count": 90,
     "metadata": {},
     "output_type": "execute_result"
    },
    {
     "data": {
      "image/png": "[encoded data removed]",
      "text/plain": [
       "<Figure size 640x480 with 1 Axes>"
      ]
     },
     "metadata": {},
     "output_type": "display_data"
    }
   ],
   "source": [
    "import matplotlib.pyplot as plt\n",
    "\n",
    "plt.hist(y[5].flatten().numpy(), bins=100)"
   ]
  },
  {
   "cell_type": "code",
   "execution_count": null,
   "metadata": {},
   "outputs": [],
   "source": []
  }
 ],
 "metadata": {
  "kernelspec": {
   "display_name": "Python 3",
   "language": "python",
   "name": "python3"
  },
  "language_info": {
   "codemirror_mode": {
    "name": "ipython",
    "version": 3
   },
   "file_extension": ".py",
   "mimetype": "text/x-python",
   "name": "python",
   "nbconvert_exporter": "python",
   "pygments_lexer": "ipython3",
   "version": "3.11.9"
  }
 },
 "nbformat": 4,
 "nbformat_minor": 2
}

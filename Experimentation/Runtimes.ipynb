{
 "cells": [
  {
   "cell_type": "code",
   "execution_count": 3,
   "metadata": {},
   "outputs": [],
   "source": [
    "import pandas as pd"
   ]
  },
  {
   "cell_type": "code",
   "execution_count": null,
   "metadata": {},
   "outputs": [],
   "source": [
    "scenario_numers = [1,2,3,4,5,6,7]\n",
    "scenario_names = [\n",
    "    \"ig\",\n",
    "    \"ig_intercept\",\n",
    "    \"Laplace_ig\",\n",
    "    \"Laplace_ig_intercept\",\n",
    "    \"Gamma_ig\",\n",
    "    \"logreg_ig\",\n",
    "    \"ig_gamma_response_reparam\"\n",
    "]\n",
    "\n",
    "notebook_names = [\n",
    "    \"PFN_Experiments_CFM_InverseGamma_v2_tabpfnX\",\n",
    "    \"PFN_Experiments_CFM_InverseGamma_intercept_tabpfn_v4\",\n",
    "    \"PFN_Experiments_CFM_InverseGammaLaplace_TabpfnX\",\n",
    "    \"PFN_Experiments_CFM_InverseGammaLaplace_intercept_TabpfnX\",\n",
    "    \"PFN_Experiments_CFM_InverseGammaGamma_tabpfnX\",\n",
    "    \"PFN_Experiments_CFM_LogReg_TabpfnXt\",\n",
    "    \"PFN_Experiments_CFM_InverseGamma_GammaResponse_raparam_TabpfnX\"\n",
    "\n",
    "]\n",
    "\n",
    "runtime_training = [\n",
    "    365.1309976577759,\n",
    "    \n",
    "]"
   ]
  },
  {
   "cell_type": "code",
   "execution_count": 4,
   "metadata": {},
   "outputs": [],
   "source": [
    "df1 = pd.DataFrame(\n",
    "    {\n",
    "        \"scenario_number\": scenario_numers,\n",
    "        \"scenario_name\": scenario_names,\n",
    "        \"notebook_name\": notebook_names\n",
    "    }\n",
    ")"
   ]
  },
  {
   "cell_type": "code",
   "execution_count": 5,
   "metadata": {},
   "outputs": [
    {
     "data": {
      "text/html": [
       "<div>\n",
       "<style scoped>\n",
       "    .dataframe tbody tr th:only-of-type {\n",
       "        vertical-align: middle;\n",
       "    }\n",
       "\n",
       "    .dataframe tbody tr th {\n",
       "        vertical-align: top;\n",
       "    }\n",
       "\n",
       "    .dataframe thead th {\n",
       "        text-align: right;\n",
       "    }\n",
       "</style>\n",
       "<table border=\"1\" class=\"dataframe\">\n",
       "  <thead>\n",
       "    <tr style=\"text-align: right;\">\n",
       "      <th></th>\n",
       "      <th>scenario_number</th>\n",
       "      <th>scenario_name</th>\n",
       "      <th>notebook_name</th>\n",
       "    </tr>\n",
       "  </thead>\n",
       "  <tbody>\n",
       "    <tr>\n",
       "      <th>0</th>\n",
       "      <td>1</td>\n",
       "      <td>ig</td>\n",
       "      <td>PFN_Experiments_CFM_InverseGamma_v2_tabpfnX</td>\n",
       "    </tr>\n",
       "    <tr>\n",
       "      <th>1</th>\n",
       "      <td>2</td>\n",
       "      <td>ig_intercept</td>\n",
       "      <td>PFN_Experiments_CFM_InverseGamma_intercept_tab...</td>\n",
       "    </tr>\n",
       "    <tr>\n",
       "      <th>2</th>\n",
       "      <td>3</td>\n",
       "      <td>Laplace_ig</td>\n",
       "      <td>PFN_Experiments_CFM_InverseGammaLaplace_TabpfnX</td>\n",
       "    </tr>\n",
       "    <tr>\n",
       "      <th>3</th>\n",
       "      <td>4</td>\n",
       "      <td>Laplace_ig_intercept</td>\n",
       "      <td>PFN_Experiments_CFM_InverseGammaLaplace_interc...</td>\n",
       "    </tr>\n",
       "    <tr>\n",
       "      <th>4</th>\n",
       "      <td>5</td>\n",
       "      <td>Gamma_ig</td>\n",
       "      <td>PFN_Experiments_CFM_InverseGammaGamma_tabpfnX</td>\n",
       "    </tr>\n",
       "    <tr>\n",
       "      <th>5</th>\n",
       "      <td>6</td>\n",
       "      <td>logreg_ig</td>\n",
       "      <td>PFN_Experiments_CFM_LogReg_TabpfnXt</td>\n",
       "    </tr>\n",
       "    <tr>\n",
       "      <th>6</th>\n",
       "      <td>7</td>\n",
       "      <td>ig_gamma_response_reparam</td>\n",
       "      <td>PFN_Experiments_CFM_InverseGamma_GammaResponse...</td>\n",
       "    </tr>\n",
       "  </tbody>\n",
       "</table>\n",
       "</div>"
      ],
      "text/plain": [
       "   scenario_number              scenario_name  \\\n",
       "0                1                         ig   \n",
       "1                2               ig_intercept   \n",
       "2                3                 Laplace_ig   \n",
       "3                4       Laplace_ig_intercept   \n",
       "4                5                   Gamma_ig   \n",
       "5                6                  logreg_ig   \n",
       "6                7  ig_gamma_response_reparam   \n",
       "\n",
       "                                       notebook_name  \n",
       "0        PFN_Experiments_CFM_InverseGamma_v2_tabpfnX  \n",
       "1  PFN_Experiments_CFM_InverseGamma_intercept_tab...  \n",
       "2    PFN_Experiments_CFM_InverseGammaLaplace_TabpfnX  \n",
       "3  PFN_Experiments_CFM_InverseGammaLaplace_interc...  \n",
       "4      PFN_Experiments_CFM_InverseGammaGamma_tabpfnX  \n",
       "5                PFN_Experiments_CFM_LogReg_TabpfnXt  \n",
       "6  PFN_Experiments_CFM_InverseGamma_GammaResponse...  "
      ]
     },
     "execution_count": 5,
     "metadata": {},
     "output_type": "execute_result"
    }
   ],
   "source": [
    "df1"
   ]
  }
 ],
 "metadata": {
  "kernelspec": {
   "display_name": ".venv",
   "language": "python",
   "name": "python3"
  },
  "language_info": {
   "codemirror_mode": {
    "name": "ipython",
    "version": 3
   },
   "file_extension": ".py",
   "mimetype": "text/x-python",
   "name": "python",
   "nbconvert_exporter": "python",
   "pygments_lexer": "ipython3",
   "version": "3.11.9"
  }
 },
 "nbformat": 4,
 "nbformat_minor": 2
}

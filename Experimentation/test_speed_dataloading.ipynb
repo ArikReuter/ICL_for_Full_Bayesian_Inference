{
 "cells": [
  {
   "cell_type": "code",
   "execution_count": 3,
   "metadata": {},
   "outputs": [],
   "source": [
    "%load_ext autoreload\n",
    "%autoreload 2"
   ]
  },
  {
   "cell_type": "code",
   "execution_count": 4,
   "metadata": {},
   "outputs": [
    {
     "name": "stderr",
     "output_type": "stream",
     "text": [
      "c:\\Users\\arik_\\Documents\\Dokumente\\Job_Clausthal\\PFNs\\Repository\\PFNExperiments\\.conda\\lib\\site-packages\\tqdm\\auto.py:21: TqdmWarning: IProgress not found. Please update jupyter and ipywidgets. See https://ipywidgets.readthedocs.io/en/stable/user_install.html\n",
      "  from .autonotebook import tqdm as notebook_tqdm\n"
     ]
    }
   ],
   "source": [
    "from PFNExperiments.LinearRegression.GenerativeModels.GenerateDataLM_Examples import make_lm_program_gamma_gamma, make_lm_program_gamma_gamma_batched\n",
    "from PFNExperiments.LinearRegression.GenerativeModels.GenerateX import simulate_X_uniform"
   ]
  },
  {
   "cell_type": "code",
   "execution_count": 5,
   "metadata": {},
   "outputs": [],
   "source": [
    "\n",
    "def simluate_once_large(n = 100, p = 50):\n",
    "    X = simulate_X_uniform(n, p)\n",
    "    pprogram = make_lm_program_gamma_gamma()\n",
    "    res = pprogram(X)\n",
    "    return res\n",
    "\n",
    "def simulate_several_times(n = 100, p = 50, times = 10000):\n",
    "    for _ in range(times):\n",
    "        simluate_once_large(n, p)\n",
    "\n",
    "def simulate_batched(n = 100, p = 50, times = 32):\n",
    "    X = simulate_X_uniform(n, p, batch_size = times)\n",
    "    pprogram = make_lm_program_gamma_gamma_batched()\n",
    "    \n",
    "    r = pprogram(X)\n",
    "\n",
    "    "
   ]
  },
  {
   "cell_type": "code",
   "execution_count": 6,
   "metadata": {},
   "outputs": [
    {
     "name": "stdout",
     "output_type": "stream",
     "text": [
      "Time: 0.06338953971862793\n"
     ]
    }
   ],
   "source": [
    "import time \n",
    "\n",
    "start = time.time()\n",
    "simluate_once_large()\n",
    "end = time.time()\n",
    "print(f\"Time: {end - start}\")"
   ]
  },
  {
   "cell_type": "code",
   "execution_count": 7,
   "metadata": {},
   "outputs": [],
   "source": [
    "#start = time.time()\n",
    "#simulate_several_times()\n",
    "#end = time.time()\n",
    "#print(f\"Time: {end - start}\")"
   ]
  },
  {
   "cell_type": "code",
   "execution_count": 8,
   "metadata": {},
   "outputs": [],
   "source": [
    "start = time.time()\n",
    "simulate_batched()\n",
    "end = time.time()"
   ]
  },
  {
   "cell_type": "code",
   "execution_count": 9,
   "metadata": {},
   "outputs": [],
   "source": [
    "X = simulate_X_uniform(10, 100, batch_size = 128)"
   ]
  },
  {
   "cell_type": "code",
   "execution_count": 10,
   "metadata": {},
   "outputs": [],
   "source": [
    "pprogram = make_lm_program_gamma_gamma_batched()"
   ]
  },
  {
   "cell_type": "code",
   "execution_count": 11,
   "metadata": {},
   "outputs": [],
   "source": [
    "X_flat = X.reshape(-1, 100)"
   ]
  },
  {
   "cell_type": "code",
   "execution_count": 12,
   "metadata": {},
   "outputs": [
    {
     "data": {
      "text/plain": [
       "torch.Size([1280, 100])"
      ]
     },
     "execution_count": 12,
     "metadata": {},
     "output_type": "execute_result"
    }
   ],
   "source": [
    "X_flat.shape"
   ]
  },
  {
   "cell_type": "code",
   "execution_count": 13,
   "metadata": {},
   "outputs": [],
   "source": [
    "r = pprogram(X)"
   ]
  },
  {
   "cell_type": "code",
   "execution_count": 14,
   "metadata": {},
   "outputs": [
    {
     "data": {
      "text/plain": [
       "dict_keys(['x', 'y', 'sigma_squared', 'beta_var', 'beta'])"
      ]
     },
     "execution_count": 14,
     "metadata": {},
     "output_type": "execute_result"
    }
   ],
   "source": [
    "r.keys()"
   ]
  },
  {
   "cell_type": "code",
   "execution_count": 15,
   "metadata": {},
   "outputs": [
    {
     "data": {
      "text/plain": [
       "torch.Size([128, 10, 100])"
      ]
     },
     "execution_count": 15,
     "metadata": {},
     "output_type": "execute_result"
    }
   ],
   "source": [
    "r[\"x\"].shape"
   ]
  },
  {
   "cell_type": "code",
   "execution_count": 16,
   "metadata": {},
   "outputs": [
    {
     "data": {
      "text/plain": [
       "torch.Size([128, 10])"
      ]
     },
     "execution_count": 16,
     "metadata": {},
     "output_type": "execute_result"
    }
   ],
   "source": [
    "r[\"y\"].shape"
   ]
  },
  {
   "cell_type": "code",
   "execution_count": 17,
   "metadata": {},
   "outputs": [
    {
     "data": {
      "text/plain": [
       "torch.Size([128, 100])"
      ]
     },
     "execution_count": 17,
     "metadata": {},
     "output_type": "execute_result"
    }
   ],
   "source": [
    "r[\"beta\"].shape"
   ]
  },
  {
   "cell_type": "code",
   "execution_count": 18,
   "metadata": {},
   "outputs": [],
   "source": [
    "from PFNExperiments.LinearRegression.GenerativeModels.GenerateDataCurriculum import SyntheticDataCurriculumBatched, GenerateDataCurriculum\n",
    "from PFNExperiments.LinearRegression.GenerativeModels.Curriculum import Curriculum"
   ]
  },
  {
   "cell_type": "code",
   "execution_count": 19,
   "metadata": {},
   "outputs": [],
   "source": [
    "N = 100\n",
    "N_EPOCHS = 100\n",
    "N_SAMPLES_PER_EPOCH = 1000\n",
    "BATCH_SIZE = 1_000\n",
    "N_BATCHES_PER_EPOCH = N_SAMPLES_PER_EPOCH // BATCH_SIZE"
   ]
  },
  {
   "cell_type": "code",
   "execution_count": 21,
   "metadata": {},
   "outputs": [],
   "source": [
    "X = simulate_X_uniform(N, 50, batch_size = BATCH_SIZE)\n",
    "res = pprogram(X)"
   ]
  },
  {
   "cell_type": "code",
   "execution_count": 22,
   "metadata": {},
   "outputs": [
    {
     "data": {
      "text/plain": [
       "(array([524., 491., 491., ..., 483., 489., 472.]),\n",
       " array([2.38418579e-07, 1.00238343e-04, 2.00238268e-04, ...,\n",
       "        9.99799490e-01, 9.99899447e-01, 9.99999464e-01]),\n",
       " <BarContainer object of 10000 artists>)"
      ]
     },
     "execution_count": 22,
     "metadata": {},
     "output_type": "execute_result"
    },
    {
     "data": {
      "image/png": "[encoded data removed]",
      "text/plain": [
       "<Figure size 640x480 with 1 Axes>"
      ]
     },
     "metadata": {},
     "output_type": "display_data"
    }
   ],
   "source": [
    "import matplotlib.pyplot as plt\n",
    "\n",
    "X_flat = X.flatten()\n",
    "\n",
    "plt.hist(X_flat, bins = 10_000)"
   ]
  },
  {
   "cell_type": "code",
   "execution_count": 26,
   "metadata": {},
   "outputs": [],
   "source": [
    "import torch"
   ]
  },
  {
   "cell_type": "code",
   "execution_count": 29,
   "metadata": {},
   "outputs": [
    {
     "name": "stdout",
     "output_type": "stream",
     "text": [
      "1000\n"
     ]
    },
    {
     "data": {
      "text/plain": [
       "(array([ 1.,  0.,  0.,  0.,  0.,  0.,  0.,  0.,  0.,  0.,  1.,  0.,  0.,\n",
       "         0.,  0.,  0.,  0.,  0.,  0.,  0.,  0.,  0.,  0.,  0.,  0.,  1.,\n",
       "         0.,  0.,  0.,  1.,  0.,  1.,  0.,  0.,  0.,  0.,  0.,  0.,  0.,\n",
       "         0.,  0.,  0.,  0.,  0.,  1.,  0.,  1.,  0.,  1.,  0.,  1.,  0.,\n",
       "         0.,  0.,  0.,  0.,  0.,  0.,  0.,  0.,  0.,  0.,  1.,  0.,  0.,\n",
       "         0.,  0.,  0.,  0.,  0.,  1.,  0.,  2.,  1.,  1.,  0.,  0.,  0.,\n",
       "         2.,  0.,  0.,  1.,  0.,  2.,  0.,  0.,  0.,  1.,  0.,  0.,  0.,\n",
       "         3.,  4.,  1.,  0.,  1.,  0.,  1.,  1.,  0.,  1.,  0.,  1.,  1.,\n",
       "         1.,  3.,  0.,  2.,  1.,  3.,  0.,  1.,  1.,  0.,  2.,  2.,  4.,\n",
       "         4.,  2.,  3.,  1.,  2.,  3.,  2.,  1.,  0.,  3.,  1.,  4.,  3.,\n",
       "         2.,  1.,  3.,  2.,  4.,  2.,  2.,  2.,  2.,  4.,  0.,  5.,  1.,\n",
       "         3.,  5.,  1.,  3.,  2.,  5.,  4.,  3.,  5.,  3.,  4.,  2.,  2.,\n",
       "         4.,  7.,  1.,  3.,  3.,  3.,  1.,  1.,  8.,  8.,  5.,  5.,  7.,\n",
       "         6.,  4.,  6.,  3.,  2.,  1.,  8.,  4.,  6.,  6.,  5.,  3.,  5.,\n",
       "         6.,  4.,  5.,  5.,  6.,  4.,  8., 10.,  4.,  3., 11.,  9.,  2.,\n",
       "         4.,  2., 12.,  7., 12.,  6.,  3.,  9.,  7.,  5.,  5.,  8.,  8.,\n",
       "         6., 10., 13.,  5.,  6.,  2.,  7.,  8.,  5.,  3.,  4.,  4.,  7.,\n",
       "        10., 12., 10.,  9.,  4.,  5.,  4.,  5., 12., 12.,  6., 10.,  6.,\n",
       "         8.,  7.,  5.,  7.,  5.,  6.,  3.,  2.,  9.,  5.,  6., 10.,  9.,\n",
       "         2.,  5.,  8.,  6.,  3.,  4.,  5.,  5.,  7.,  5.,  7.,  7.,  5.,\n",
       "         5.,  1.,  6.,  4.,  6.,  1.,  7.,  7.,  2.,  3.,  9.,  3.,  3.,\n",
       "         3.,  5.,  2.,  2.,  6.,  2.,  4.,  3.,  5.,  5.,  3.,  2.,  3.,\n",
       "         3.,  3.,  1.,  7.,  2.,  3.,  2.,  1.,  1.,  3.,  4.,  2.,  3.,\n",
       "         4.,  4.,  4.,  4.,  3.,  0.,  1.,  0.,  2.,  2.,  4.,  2.,  2.,\n",
       "         1.,  0.,  1.,  1.,  1.,  4.,  2.,  2.,  1.,  4.,  1.,  1.,  2.,\n",
       "         1.,  0.,  0.,  3.,  2.,  0.,  1.,  1.,  1.,  2.,  0.,  1.,  2.,\n",
       "         0.,  1.,  0.,  1.,  2.,  0.,  1.,  3.,  0.,  1.,  0.,  2.,  0.,\n",
       "         0.,  0.,  0.,  0.,  0.,  0.,  1.,  0.,  0.,  0.,  0.,  0.,  0.,\n",
       "         1.,  0.,  0.,  0.,  0.,  1.,  1.,  0.,  2.,  0.,  1.,  0.,  2.,\n",
       "         0.,  0.,  1.,  0.,  0.,  0.,  0.,  0.,  0.,  0.,  0.,  1.,  1.,\n",
       "         0.,  0.,  0.,  0.,  0.,  0.,  0.,  0.,  0.,  1.]),\n",
       " array([-5.52637434e+00, -5.50104856e+00, -5.47572279e+00, -5.45039749e+00,\n",
       "        -5.42507172e+00, -5.39974594e+00, -5.37442017e+00, -5.34909487e+00,\n",
       "        -5.32376909e+00, -5.29844332e+00, -5.27311754e+00, -5.24779177e+00,\n",
       "        -5.22246647e+00, -5.19714069e+00, -5.17181492e+00, -5.14648914e+00,\n",
       "        -5.12116337e+00, -5.09583807e+00, -5.07051229e+00, -5.04518652e+00,\n",
       "        -5.01986074e+00, -4.99453545e+00, -4.96920967e+00, -4.94388390e+00,\n",
       "        -4.91855812e+00, -4.89323235e+00, -4.86790705e+00, -4.84258127e+00,\n",
       "        -4.81725550e+00, -4.79192972e+00, -4.76660395e+00, -4.74127865e+00,\n",
       "        -4.71595287e+00, -4.69062710e+00, -4.66530132e+00, -4.63997602e+00,\n",
       "        -4.61465025e+00, -4.58932447e+00, -4.56399870e+00, -4.53867292e+00,\n",
       "        -4.51334763e+00, -4.48802185e+00, -4.46269608e+00, -4.43737030e+00,\n",
       "        -4.41204453e+00, -4.38671923e+00, -4.36139345e+00, -4.33606768e+00,\n",
       "        -4.31074190e+00, -4.28541660e+00, -4.26009083e+00, -4.23476505e+00,\n",
       "        -4.20943928e+00, -4.18411350e+00, -4.15878820e+00, -4.13346243e+00,\n",
       "        -4.10813665e+00, -4.08281088e+00, -4.05748510e+00, -4.03215981e+00,\n",
       "        -4.00683403e+00, -3.98150826e+00, -3.95618272e+00, -3.93085694e+00,\n",
       "        -3.90553141e+00, -3.88020563e+00, -3.85487986e+00, -3.82955432e+00,\n",
       "        -3.80422854e+00, -3.77890301e+00, -3.75357723e+00, -3.72825170e+00,\n",
       "        -3.70292592e+00, -3.67760015e+00, -3.65227461e+00, -3.62694883e+00,\n",
       "        -3.60162330e+00, -3.57629752e+00, -3.55097198e+00, -3.52564621e+00,\n",
       "        -3.50032043e+00, -3.47499490e+00, -3.44966912e+00, -3.42434359e+00,\n",
       "        -3.39901781e+00, -3.37369227e+00, -3.34836650e+00, -3.32304072e+00,\n",
       "        -3.29771519e+00, -3.27238941e+00, -3.24706388e+00, -3.22173810e+00,\n",
       "        -3.19641256e+00, -3.17108679e+00, -3.14576101e+00, -3.12043548e+00,\n",
       "        -3.09510970e+00, -3.06978416e+00, -3.04445839e+00, -3.01913285e+00,\n",
       "        -2.99380708e+00, -2.96848130e+00, -2.94315577e+00, -2.91782999e+00,\n",
       "        -2.89250445e+00, -2.86717868e+00, -2.84185314e+00, -2.81652737e+00,\n",
       "        -2.79120159e+00, -2.76587605e+00, -2.74055028e+00, -2.71522474e+00,\n",
       "        -2.68989897e+00, -2.66457343e+00, -2.63924766e+00, -2.61392188e+00,\n",
       "        -2.58859634e+00, -2.56327057e+00, -2.53794503e+00, -2.51261926e+00,\n",
       "        -2.48729372e+00, -2.46196795e+00, -2.43664217e+00, -2.41131663e+00,\n",
       "        -2.38599086e+00, -2.36066532e+00, -2.33533955e+00, -2.31001401e+00,\n",
       "        -2.28468823e+00, -2.25936246e+00, -2.23403692e+00, -2.20871115e+00,\n",
       "        -2.18338561e+00, -2.15805984e+00, -2.13273430e+00, -2.10740852e+00,\n",
       "        -2.08208275e+00, -2.05675721e+00, -2.03143144e+00, -2.00610590e+00,\n",
       "        -1.98078012e+00, -1.95545447e+00, -1.93012881e+00, -1.90480316e+00,\n",
       "        -1.87947750e+00, -1.85415184e+00, -1.82882619e+00, -1.80350041e+00,\n",
       "        -1.77817476e+00, -1.75284910e+00, -1.72752345e+00, -1.70219779e+00,\n",
       "        -1.67687213e+00, -1.65154648e+00, -1.62622070e+00, -1.60089505e+00,\n",
       "        -1.57556939e+00, -1.55024374e+00, -1.52491808e+00, -1.49959242e+00,\n",
       "        -1.47426677e+00, -1.44894099e+00, -1.42361534e+00, -1.39828968e+00,\n",
       "        -1.37296402e+00, -1.34763837e+00, -1.32231271e+00, -1.29698706e+00,\n",
       "        -1.27166128e+00, -1.24633563e+00, -1.22100997e+00, -1.19568431e+00,\n",
       "        -1.17035866e+00, -1.14503300e+00, -1.11970735e+00, -1.09438157e+00,\n",
       "        -1.06905591e+00, -1.04373026e+00, -1.01840460e+00, -9.93078947e-01,\n",
       "        -9.67753291e-01, -9.42427576e-01, -9.17101920e-01, -8.91776264e-01,\n",
       "        -8.66450548e-01, -8.41124892e-01, -8.15799236e-01, -7.90473580e-01,\n",
       "        -7.65147865e-01, -7.39822209e-01, -7.14496553e-01, -6.89170897e-01,\n",
       "        -6.63845181e-01, -6.38519526e-01, -6.13193870e-01, -5.87868154e-01,\n",
       "        -5.62542498e-01, -5.37216842e-01, -5.11891186e-01, -4.86565500e-01,\n",
       "        -4.61239815e-01, -4.35914129e-01, -4.10588473e-01, -3.85262787e-01,\n",
       "        -3.59937131e-01, -3.34611446e-01, -3.09285790e-01, -2.83960104e-01,\n",
       "        -2.58634448e-01, -2.33308762e-01, -2.07983091e-01, -1.82657421e-01,\n",
       "        -1.57331750e-01, -1.32006064e-01, -1.06680401e-01, -8.13547224e-02,\n",
       "        -5.60290515e-02, -3.07033807e-02, -5.37770754e-03,  1.99479647e-02,\n",
       "         4.52736393e-02,  7.05993101e-02,  9.59249809e-02,  1.21250659e-01,\n",
       "         1.46576330e-01,  1.71902001e-01,  1.97227672e-01,  2.22553343e-01,\n",
       "         2.47879013e-01,  2.73204684e-01,  2.98530370e-01,  3.23856026e-01,\n",
       "         3.49181712e-01,  3.74507368e-01,  3.99833053e-01,  4.25158739e-01,\n",
       "         4.50484395e-01,  4.75810081e-01,  5.01135767e-01,  5.26461422e-01,\n",
       "         5.51787078e-01,  5.77112734e-01,  6.02438450e-01,  6.27764106e-01,\n",
       "         6.53089762e-01,  6.78415477e-01,  7.03741133e-01,  7.29066789e-01,\n",
       "         7.54392445e-01,  7.79718161e-01,  8.05043817e-01,  8.30369473e-01,\n",
       "         8.55695188e-01,  8.81020844e-01,  9.06346500e-01,  9.31672156e-01,\n",
       "         9.56997871e-01,  9.82323527e-01,  1.00764918e+00,  1.03297484e+00,\n",
       "         1.05830050e+00,  1.08362627e+00,  1.10895193e+00,  1.13427758e+00,\n",
       "         1.15960324e+00,  1.18492889e+00,  1.21025455e+00,  1.23558021e+00,\n",
       "         1.26090598e+00,  1.28623164e+00,  1.31155729e+00,  1.33688295e+00,\n",
       "         1.36220860e+00,  1.38753426e+00,  1.41285992e+00,  1.43818569e+00,\n",
       "         1.46351135e+00,  1.48883700e+00,  1.51416266e+00,  1.53948832e+00,\n",
       "         1.56481397e+00,  1.59013963e+00,  1.61546528e+00,  1.64079106e+00,\n",
       "         1.66611671e+00,  1.69144237e+00,  1.71676803e+00,  1.74209368e+00,\n",
       "         1.76741934e+00,  1.79274499e+00,  1.81807077e+00,  1.84339643e+00,\n",
       "         1.86872208e+00,  1.89404774e+00,  1.91937339e+00,  1.94469905e+00,\n",
       "         1.97002470e+00,  1.99535048e+00,  2.02067614e+00,  2.04600167e+00,\n",
       "         2.07132745e+00,  2.09665322e+00,  2.12197876e+00,  2.14730453e+00,\n",
       "         2.17263007e+00,  2.19795585e+00,  2.22328138e+00,  2.24860716e+00,\n",
       "         2.27393293e+00,  2.29925847e+00,  2.32458425e+00,  2.34990978e+00,\n",
       "         2.37523556e+00,  2.40056109e+00,  2.42588687e+00,  2.45121264e+00,\n",
       "         2.47653818e+00,  2.50186396e+00,  2.52718949e+00,  2.55251527e+00,\n",
       "         2.57784081e+00,  2.60316658e+00,  2.62849236e+00,  2.65381789e+00,\n",
       "         2.67914367e+00,  2.70446920e+00,  2.72979498e+00,  2.75512052e+00,\n",
       "         2.78044629e+00,  2.80577207e+00,  2.83109760e+00,  2.85642338e+00,\n",
       "         2.88174891e+00,  2.90707469e+00,  2.93240023e+00,  2.95772600e+00,\n",
       "         2.98305178e+00,  3.00837731e+00,  3.03370309e+00,  3.05902863e+00,\n",
       "         3.08435440e+00,  3.10967994e+00,  3.13500571e+00,  3.16033149e+00,\n",
       "         3.18565702e+00,  3.21098280e+00,  3.23630834e+00,  3.26163411e+00,\n",
       "         3.28695965e+00,  3.31228542e+00,  3.33761120e+00,  3.36293674e+00,\n",
       "         3.38826251e+00,  3.41358805e+00,  3.43891382e+00,  3.46423936e+00,\n",
       "         3.48956513e+00,  3.51489067e+00,  3.54021645e+00,  3.56554222e+00,\n",
       "         3.59086776e+00,  3.61619353e+00,  3.64151907e+00,  3.66684484e+00,\n",
       "         3.69217038e+00,  3.71749616e+00,  3.74282193e+00,  3.76814747e+00,\n",
       "         3.79347324e+00,  3.81879878e+00,  3.84412456e+00,  3.86945009e+00,\n",
       "         3.89477587e+00,  3.92010164e+00,  3.94542718e+00,  3.97075295e+00,\n",
       "         3.99607849e+00,  4.02140427e+00,  4.04673004e+00,  4.07205582e+00,\n",
       "         4.09738111e+00,  4.12270689e+00,  4.14803267e+00,  4.17335844e+00,\n",
       "         4.19868374e+00,  4.22400951e+00,  4.24933529e+00,  4.27466106e+00,\n",
       "         4.29998684e+00,  4.32531214e+00,  4.35063791e+00,  4.37596369e+00,\n",
       "         4.40128946e+00,  4.42661524e+00,  4.45194054e+00,  4.47726631e+00,\n",
       "         4.50259209e+00,  4.52791786e+00,  4.55324316e+00,  4.57856894e+00,\n",
       "         4.60389471e+00]),\n",
       " <BarContainer object of 400 artists>)"
      ]
     },
     "execution_count": 29,
     "metadata": {},
     "output_type": "execute_result"
    },
    {
     "data": {
      "image/png": "[encoded data removed]",
      "text/plain": [
       "<Figure size 640x480 with 1 Axes>"
      ]
     },
     "metadata": {},
     "output_type": "display_data"
    }
   ],
   "source": [
    "beta_0_flat = res[\"beta\"][:, 0].flatten()\n",
    "print(len(beta_0_flat))\n",
    "\n",
    "plt.hist(beta_0_flat, bins = 400)"
   ]
  },
  {
   "cell_type": "code",
   "execution_count": 30,
   "metadata": {},
   "outputs": [],
   "source": [
    "curriculum = Curriculum(max_iter=N_EPOCHS*N_SAMPLES_PER_EPOCH)\n",
    "curriculum.add_param_list(\n",
    "    [\n",
    "    (\"a0\", curriculum.constant_scheduler(5.0)),\n",
    "    (\"b0\", curriculum.constant_scheduler(2.0)),\n",
    "    (\"a1\", curriculum.exponential_scheduler(1, 1)),\n",
    "    (\"b1\", curriculum.constant_than_linear_than_constant_scheduler(160, 1, fraction_constant_beginning=0.2, fraction_constant_end=0.3))\n",
    "    #(\"b1\", curriculum.linear_scheduler(160, 1))\n",
    "    ]\n",
    ")\n",
    "#curriculum.plot_all_schedules_epochs(n_epochs=10)\n",
    "curriculum.get_params(0)\n",
    "curriculum.get_params(N_SAMPLES_PER_EPOCH*N_EPOCHS-1)\n",
    "\n",
    "data_generator = GenerateDataCurriculum(\n",
    "    pprogram_maker=make_lm_program_gamma_gamma_batched,\n",
    "    curriculum= curriculum\n",
    ")"
   ]
  },
  {
   "cell_type": "code",
   "execution_count": 56,
   "metadata": {},
   "outputs": [],
   "source": [
    "loader = data_generator.make_dataloaders_for_epoch_dynamic(\n",
    "    epoch=0,\n",
    "    n = 100,\n",
    "    p = 20,\n",
    "    n_samples_per_epoch= 10_000,\n",
    "    batch_size=10_000,\n",
    "    use_seed=False,\n",
    "    n_samples_to_generate_at_once= 1\n",
    "    \n",
    ")"
   ]
  },
  {
   "cell_type": "code",
   "execution_count": 57,
   "metadata": {},
   "outputs": [],
   "source": [
    "t1 = loader[0]"
   ]
  },
  {
   "cell_type": "code",
   "execution_count": 58,
   "metadata": {},
   "outputs": [],
   "source": [
    "import torch"
   ]
  },
  {
   "cell_type": "code",
   "execution_count": 34,
   "metadata": {},
   "outputs": [],
   "source": [
    "a0 = next(iter(t1))\n",
    "a1 = next(iter(t1))"
   ]
  },
  {
   "cell_type": "code",
   "execution_count": 194,
   "metadata": {},
   "outputs": [
    {
     "name": "stdout",
     "output_type": "stream",
     "text": [
      "Key: x, shape: torch.Size([7000, 100, 20])\n",
      "Key: y, shape: torch.Size([7000, 100])\n",
      "Key: sigma_squared, shape: torch.Size([7000])\n",
      "Key: beta_var, shape: torch.Size([7000])\n",
      "Key: beta, shape: torch.Size([7000, 20])\n"
     ]
    }
   ],
   "source": [
    "for key in a0.keys():\n",
    "    print(f\"Key: {key}, shape: {a0[key].shape}\")"
   ]
  },
  {
   "cell_type": "code",
   "execution_count": 195,
   "metadata": {},
   "outputs": [
    {
     "data": {
      "text/plain": [
       "{'x': tensor([[[0.4764, 0.1543, 0.5028,  ..., 0.7248, 0.9555, 0.9367],\n",
       "          [0.2519, 0.4075, 0.1152,  ..., 0.5785, 0.5808, 0.4425],\n",
       "          [0.5947, 0.3271, 0.2843,  ..., 0.4284, 0.0591, 0.8148],\n",
       "          ...,\n",
       "          [0.7890, 0.9206, 0.4784,  ..., 0.5306, 0.0891, 0.1540],\n",
       "          [0.6199, 0.6863, 0.2514,  ..., 0.1348, 0.9546, 0.1376],\n",
       "          [0.2829, 0.7586, 0.3671,  ..., 0.0354, 0.6208, 0.8041]],\n",
       " \n",
       "         [[0.2884, 0.1530, 0.9127,  ..., 0.2072, 0.1111, 0.1901],\n",
       "          [0.3165, 0.1380, 0.9207,  ..., 0.2999, 0.4664, 0.7116],\n",
       "          [0.2382, 0.5530, 0.7195,  ..., 0.4176, 0.2541, 0.2628],\n",
       "          ...,\n",
       "          [0.9378, 0.5589, 0.4848,  ..., 0.5819, 0.3407, 0.3276],\n",
       "          [0.4469, 0.7306, 0.6852,  ..., 0.7883, 0.1241, 0.6835],\n",
       "          [0.4322, 0.6735, 0.2807,  ..., 0.8304, 0.0220, 0.2109]],\n",
       " \n",
       "         [[0.0600, 0.1517, 0.3782,  ..., 0.2367, 0.3797, 0.0859],\n",
       "          [0.7453, 0.5404, 0.9999,  ..., 0.0625, 0.3410, 0.3362],\n",
       "          [0.6745, 0.5358, 0.6501,  ..., 0.3907, 0.0221, 0.1790],\n",
       "          ...,\n",
       "          [0.9251, 0.7002, 0.3667,  ..., 0.7100, 0.8993, 0.6943],\n",
       "          [0.9094, 0.3760, 0.3097,  ..., 0.6674, 0.0965, 0.0425],\n",
       "          [0.8705, 0.5078, 0.6354,  ..., 0.9195, 0.9095, 0.7519]],\n",
       " \n",
       "         ...,\n",
       " \n",
       "         [[0.8817, 0.6057, 0.0738,  ..., 0.1771, 0.4947, 0.7601],\n",
       "          [0.0269, 0.4755, 0.4334,  ..., 0.6059, 0.6572, 0.5873],\n",
       "          [0.5724, 0.0813, 0.0553,  ..., 0.9702, 0.1285, 0.1235],\n",
       "          ...,\n",
       "          [0.0312, 0.8258, 0.4710,  ..., 0.8905, 0.7279, 0.3167],\n",
       "          [0.1624, 0.0687, 0.4643,  ..., 0.5391, 0.0643, 0.9668],\n",
       "          [0.7372, 0.6771, 0.9821,  ..., 0.8079, 0.2251, 0.6558]],\n",
       " \n",
       "         [[0.3426, 0.9240, 0.4322,  ..., 0.0475, 0.5182, 0.6531],\n",
       "          [0.0987, 0.9297, 0.4625,  ..., 0.6293, 0.3651, 0.6952],\n",
       "          [0.1133, 0.0851, 0.2877,  ..., 0.5194, 0.3919, 0.5336],\n",
       "          ...,\n",
       "          [0.9604, 0.3138, 0.5626,  ..., 0.6608, 0.9124, 0.2744],\n",
       "          [0.7595, 0.1375, 0.0949,  ..., 0.8064, 0.6977, 0.1372],\n",
       "          [0.4331, 0.8118, 0.5213,  ..., 0.5958, 0.4983, 0.3725]],\n",
       " \n",
       "         [[0.1944, 0.5841, 0.9507,  ..., 0.7845, 0.8326, 0.4822],\n",
       "          [0.4428, 0.0715, 0.6288,  ..., 0.8892, 0.5058, 0.1576],\n",
       "          [0.2411, 0.4341, 0.3794,  ..., 0.0515, 0.9609, 0.7134],\n",
       "          ...,\n",
       "          [0.0489, 0.6763, 0.3990,  ..., 0.1176, 0.0902, 0.6293],\n",
       "          [0.7239, 0.1614, 0.4346,  ..., 0.6924, 0.4949, 0.2568],\n",
       "          [0.3343, 0.6443, 0.8579,  ..., 0.2597, 0.9437, 0.7440]]]),\n",
       " 'y': tensor([[  4.4014,   2.0304,  -0.4251,  ...,   3.1091,  -0.5875,   5.1044],\n",
       "         [-10.1480,  -9.0461,  -8.9681,  ...,  -8.2287,  -3.4068,  -4.1325],\n",
       "         [  2.2877,   2.3614,   3.7684,  ...,   3.2930,   5.1155,   4.8071],\n",
       "         ...,\n",
       "         [ -1.3755,   0.1429,   0.1671,  ...,  -1.7334,   2.7709,  -1.0599],\n",
       "         [  3.8182,   4.9550,   2.0208,  ...,   5.0400,   1.0771,   3.9019],\n",
       "         [  4.7362,   3.3584,   3.6507,  ...,   3.8551,   3.7469,   5.1642]]),\n",
       " 'sigma_squared': tensor([0.0091, 0.0015, 0.0008,  ..., 0.0060, 0.0017, 0.0031]),\n",
       " 'beta_var': tensor([3.0045, 4.6429, 1.8513,  ..., 4.4662, 1.5376, 0.5963]),\n",
       " 'beta': tensor([[-0.0849,  0.0118,  1.1001,  ...,  2.0022, -1.4011,  0.1325],\n",
       "         [ 1.0644, -0.8853, -0.9535,  ...,  2.4921, -1.2038, -4.2999],\n",
       "         [ 0.1121,  0.9468,  0.6276,  ...,  1.3082,  0.8818, -2.0917],\n",
       "         ...,\n",
       "         [ 1.7846, -1.9951, -1.6140,  ...,  0.2356,  0.0076, -0.2103],\n",
       "         [ 0.2424,  0.5127,  2.2177,  ...,  0.9184, -1.6128,  1.4948],\n",
       "         [ 0.8000,  1.4403,  1.4481,  ..., -0.0321,  1.3795, -0.6943]])}"
      ]
     },
     "execution_count": 195,
     "metadata": {},
     "output_type": "execute_result"
    }
   ],
   "source": [
    "a1"
   ]
  },
  {
   "cell_type": "code",
   "execution_count": 39,
   "metadata": {},
   "outputs": [],
   "source": [
    "t1_samples = []\n",
    "for i in range(1):\n",
    "    t1_samples.append(next(iter(t1)))"
   ]
  },
  {
   "cell_type": "code",
   "execution_count": 40,
   "metadata": {},
   "outputs": [],
   "source": [
    "t1_samples_y = [x[\"y\"] for x in t1_samples]\n",
    "t1_samples_x = [x[\"x\"] for x in t1_samples]\n",
    "t1_samples_beta0 = [x[\"beta\"][:, 0] for x in t1_samples]"
   ]
  },
  {
   "cell_type": "code",
   "execution_count": 41,
   "metadata": {},
   "outputs": [],
   "source": [
    "t1_samples_y = torch.cat(t1_samples_y, dim = 0)\n",
    "t1_samples_x = torch.cat(t1_samples_x, dim = 0)\n",
    "t1_samples_beta0 = torch.cat(t1_samples_beta0, dim = 0)"
   ]
  },
  {
   "cell_type": "code",
   "execution_count": 42,
   "metadata": {},
   "outputs": [],
   "source": [
    "t1_samples_y = t1_samples_y.flatten()\n",
    "t1_samples_x = t1_samples_x.flatten()\n",
    "t1_samples_beta0 = t1_samples_beta0.flatten()"
   ]
  },
  {
   "cell_type": "code",
   "execution_count": 43,
   "metadata": {},
   "outputs": [],
   "source": [
    "len(t1_samples_y)\n",
    "\n",
    "vals, counts = torch.unique(t1_samples_y, return_counts = True)"
   ]
  },
  {
   "cell_type": "code",
   "execution_count": 44,
   "metadata": {},
   "outputs": [
    {
     "data": {
      "text/plain": [
       "tensor(3)"
      ]
     },
     "execution_count": 44,
     "metadata": {},
     "output_type": "execute_result"
    }
   ],
   "source": [
    "max(counts)"
   ]
  },
  {
   "cell_type": "code",
   "execution_count": 45,
   "metadata": {},
   "outputs": [
    {
     "data": {
      "image/png": "[encoded data removed]",
      "text/plain": [
       "<Figure size 640x480 with 1 Axes>"
      ]
     },
     "metadata": {},
     "output_type": "display_data"
    }
   ],
   "source": [
    "import matplotlib.pyplot as plt\n",
    "plt.hist(t1_samples_y.numpy(), bins = 10_000)\n",
    "plt.show()"
   ]
  },
  {
   "cell_type": "code",
   "execution_count": 46,
   "metadata": {},
   "outputs": [
    {
     "data": {
      "text/plain": [
       "(array([1454., 1397., 1441., ..., 1342., 1432., 1390.]),\n",
       " array([1.19209290e-07, 1.00119192e-04, 2.00119175e-04, ...,\n",
       "        9.99799967e-01, 9.99899924e-01, 9.99999940e-01]),\n",
       " <BarContainer object of 10000 artists>)"
      ]
     },
     "execution_count": 46,
     "metadata": {},
     "output_type": "execute_result"
    },
    {
     "data": {
      "image/png": "[encoded data removed]",
      "text/plain": [
       "<Figure size 640x480 with 1 Axes>"
      ]
     },
     "metadata": {},
     "output_type": "display_data"
    }
   ],
   "source": [
    "plt.hist(t1_samples_x.numpy(), bins = 10_000)"
   ]
  },
  {
   "cell_type": "code",
   "execution_count": 47,
   "metadata": {},
   "outputs": [
    {
     "data": {
      "text/plain": [
       "7000"
      ]
     },
     "execution_count": 47,
     "metadata": {},
     "output_type": "execute_result"
    }
   ],
   "source": [
    "len(t1_samples_beta0)"
   ]
  },
  {
   "cell_type": "code",
   "execution_count": 48,
   "metadata": {},
   "outputs": [
    {
     "data": {
      "text/plain": [
       "(array([ 1.,  0.,  0.,  0.,  0.,  0.,  0.,  0.,  0.,  0.,  0.,  0.,  0.,\n",
       "         0.,  0.,  0.,  0.,  0.,  0.,  0.,  0.,  0.,  0.,  0.,  0.,  0.,\n",
       "         0.,  0.,  0.,  0.,  0.,  0.,  0.,  1.,  0.,  0.,  0.,  0.,  0.,\n",
       "         0.,  0.,  0.,  0.,  0.,  0.,  0.,  0.,  0.,  0.,  0.,  0.,  0.,\n",
       "         0.,  0.,  0.,  0.,  0.,  0.,  0.,  0.,  0.,  0.,  0.,  0.,  0.,\n",
       "         0.,  0.,  0.,  0.,  0.,  0.,  1.,  0.,  0.,  1.,  0.,  0.,  0.,\n",
       "         0.,  0.,  0.,  0.,  0.,  0.,  0.,  0.,  0.,  0.,  0.,  1.,  0.,\n",
       "         0.,  0.,  0.,  0.,  0.,  0.,  1.,  1.,  1.,  0.,  0.,  0.,  0.,\n",
       "         0.,  0.,  0.,  1.,  0.,  0.,  0.,  0.,  1.,  1.,  0.,  1.,  0.,\n",
       "         0.,  0.,  0.,  0.,  0.,  0.,  0.,  1.,  0.,  0.,  1.,  0.,  0.,\n",
       "         1.,  0.,  0.,  1.,  0.,  0.,  0.,  0.,  1.,  1.,  1.,  0.,  1.,\n",
       "         0.,  2.,  0.,  1.,  0.,  0.,  1.,  1.,  0.,  0.,  1.,  0.,  1.,\n",
       "         1.,  0.,  1.,  1.,  2.,  1.,  0.,  1.,  1.,  0.,  1.,  0.,  0.,\n",
       "         1.,  1.,  1.,  1.,  1.,  0.,  0.,  1.,  2.,  0.,  1.,  1.,  0.,\n",
       "         1.,  0.,  1.,  1.,  1.,  1.,  2.,  0.,  0.,  1.,  0.,  0.,  1.,\n",
       "         1.,  0.,  1.,  1.,  0.,  1.,  1.,  3.,  0.,  2.,  2.,  1.,  2.,\n",
       "         1.,  1.,  2.,  2.,  1.,  1.,  1.,  0.,  0.,  3.,  0.,  1.,  2.,\n",
       "         3.,  2.,  3.,  0.,  3.,  0.,  0.,  2.,  3.,  1.,  0.,  1.,  2.,\n",
       "         2.,  2.,  0.,  1.,  1.,  5.,  2.,  4.,  3.,  2.,  1.,  1.,  4.,\n",
       "         4.,  1.,  0.,  0.,  2.,  1.,  1.,  2.,  2.,  0.,  5.,  0.,  1.,\n",
       "         2.,  1.,  1.,  3.,  3.,  1.,  4.,  2.,  1.,  5.,  2.,  3.,  2.,\n",
       "         7.,  5.,  3.,  1.,  3.,  3.,  2.,  5.,  6.,  5.,  5.,  1.,  4.,\n",
       "         3.,  8.,  5.,  1.,  3.,  5.,  4.,  5.,  7.,  2.,  6.,  3.,  3.,\n",
       "         5.,  7.,  1.,  5.,  5.,  3.,  3.,  5.,  4.,  5.,  2.,  3.,  3.,\n",
       "         1.,  3.,  5.,  8.,  3.,  3., 11.,  9.,  6.,  5.,  3.,  7.,  8.,\n",
       "         9.,  7.,  8.,  5.,  2.,  8., 10.,  5., 15.,  5.,  6.,  8.,  4.,\n",
       "         7.,  6.,  7.,  7.,  7.,  9.,  6.,  4.,  5.,  6.,  5., 13.,  8.,\n",
       "         9., 10.,  8.,  8.,  8., 16., 10., 15., 16.,  9.,  9.,  9., 16.,\n",
       "         6., 10., 13.,  8., 13., 10., 10., 12., 11.,  4., 12., 10., 12.,\n",
       "         9., 13., 14., 10., 15., 10., 11.,  5., 14., 12.,  7., 11.,  6.,\n",
       "        15.,  4., 13., 17., 14., 12., 13., 14., 18.,  8., 15., 18.,  7.,\n",
       "         8., 14., 14., 15., 15.,  7., 11., 16., 15., 11., 22., 19., 16.,\n",
       "        17., 16., 14., 13., 17., 14., 16., 10., 14., 16., 20., 19., 12.,\n",
       "        19., 21., 14., 19., 17., 20., 23., 17., 20., 14., 19., 19., 31.,\n",
       "        18., 21., 28., 22., 16., 20., 25., 26., 22., 22., 21., 19., 15.,\n",
       "        30., 19., 13., 15., 16., 22., 27., 23., 26., 28., 35., 20., 20.,\n",
       "        27., 21., 29., 22., 18., 30., 16., 23., 27., 29., 20., 22., 18.,\n",
       "        30., 27., 16., 27., 27., 25., 30., 28., 17., 25., 24., 33., 35.,\n",
       "        24., 24., 24., 31., 21., 19., 16., 25., 30., 28., 23., 30., 16.,\n",
       "        32., 27., 27., 30., 23., 27., 26., 23., 16., 28., 23., 27., 31.,\n",
       "        21., 25., 21., 19., 35., 25., 23., 29., 20., 25., 25., 29., 25.,\n",
       "        22., 20., 29., 21., 29., 22., 22., 31., 23., 15., 22., 35., 19.,\n",
       "        21., 16., 27., 22., 13., 27., 27., 34., 28., 22., 23., 18., 25.,\n",
       "        15., 16., 13., 18., 20., 14., 21., 23., 22., 28., 25., 19., 29.,\n",
       "        23., 27., 16., 19., 29., 23., 16., 29., 24., 19., 18., 17., 15.,\n",
       "        19., 15., 18., 18., 17., 21., 15., 15., 25., 20.,  9., 17., 22.,\n",
       "        16., 16., 17., 27., 14., 17., 15., 21.,  8., 22., 12., 20., 14.,\n",
       "        19., 15., 19., 17., 19., 15., 17., 17.,  9., 14., 23., 15., 16.,\n",
       "        16., 20., 18., 18., 12., 12., 13., 15., 14., 22., 16., 13., 18.,\n",
       "        10., 12.,  8., 15.,  8., 10., 12.,  8.,  9., 16., 15.,  8., 10.,\n",
       "         8.,  9., 14.,  5.,  8., 12.,  9.,  9.,  5.,  9., 10.,  8.,  9.,\n",
       "         6., 13.,  8., 12., 10.,  2., 11., 18.,  9.,  8.,  9., 11., 12.,\n",
       "         2., 11.,  6., 10., 11.,  8.,  7., 10.,  7.,  3.,  9.,  4.,  7.,\n",
       "         6.,  9., 10.,  5.,  7.,  6.,  9.,  7.,  6.,  3.,  6.,  9.,  8.,\n",
       "         6.,  1.,  4.,  3.,  5.,  4.,  8.,  8.,  7.,  6.,  5.,  2.,  4.,\n",
       "         5.,  9.,  6.,  6.,  6.,  5.,  9.,  3.,  7.,  5.,  3.,  2.,  4.,\n",
       "         4.,  5.,  4.,  6.,  3.,  3.,  3.,  0.,  2.,  8.,  4.,  5.,  4.,\n",
       "         3.,  5.,  4.,  3.,  1.,  4.,  3.,  1.,  3.,  3.,  3.,  3.,  2.,\n",
       "         0.,  3.,  4.,  3.,  3.,  3.,  1.,  3.,  3.,  4.,  2.,  3.,  3.,\n",
       "         2.,  3.,  2.,  0.,  5.,  2.,  2.,  3.,  2.,  3.,  3.,  1.,  2.,\n",
       "         2.,  6.,  1.,  1.,  3.,  1.,  2.,  4.,  2.,  1.,  0.,  2.,  5.,\n",
       "         2.,  2.,  4.,  4.,  2.,  1.,  0.,  1.,  1.,  0.,  1.,  0.,  1.,\n",
       "         0.,  1.,  4.,  1.,  0.,  2.,  1.,  1.,  1.,  0.,  1.,  0.,  2.,\n",
       "         0.,  1.,  1.,  0.,  0.,  0.,  3.,  1.,  0.,  1.,  2.,  0.,  0.,\n",
       "         0.,  0.,  0.,  0.,  2.,  0.,  1.,  2.,  0.,  0.,  2.,  0.,  0.,\n",
       "         0.,  0.,  1.,  1.,  0.,  0.,  2.,  2.,  0.,  0.,  1.,  1.,  4.,\n",
       "         0.,  0.,  0.,  0.,  0.,  1.,  0.,  0.,  1.,  0.,  0.,  0.,  0.,\n",
       "         0.,  0.,  1.,  0.,  0.,  0.,  1.,  0.,  0.,  0.,  0.,  0.,  2.,\n",
       "         0.,  0.,  0.,  0.,  0.,  1.,  0.,  0.,  1.,  0.,  0.,  1.,  1.,\n",
       "         0.,  0.,  0.,  0.,  1.,  0.,  1.,  1.,  2.,  0.,  0.,  1.,  1.,\n",
       "         0.,  1.,  0.,  0.,  0.,  0.,  1.,  1.,  0.,  2.,  0.,  0.,  0.,\n",
       "         1.,  1.,  1.,  0.,  1.,  0.,  0.,  0.,  1.,  1.,  2.,  0.,  0.,\n",
       "         0.,  1.,  0.,  1.,  0.,  0.,  0.,  0.,  1.,  0.,  0.,  0.,  0.,\n",
       "         0.,  0.,  0.,  0.,  0.,  0.,  0.,  0.,  0.,  0.,  0.,  0.,  0.,\n",
       "         0.,  0.,  0.,  0.,  0.,  0.,  0.,  0.,  0.,  0.,  0.,  0.,  1.,\n",
       "         0.,  0.,  0.,  0.,  0.,  0.,  0.,  0.,  0.,  0.,  0.,  0.,  0.,\n",
       "         0.,  0.,  0.,  0.,  0.,  0.,  0.,  0.,  0.,  0.,  0.,  1.]),\n",
       " array([-6.71458292, -6.70151186, -6.6884408 , ...,  6.33022022,\n",
       "         6.34329128,  6.35636234]),\n",
       " <BarContainer object of 1000 artists>)"
      ]
     },
     "execution_count": 48,
     "metadata": {},
     "output_type": "execute_result"
    },
    {
     "data": {
      "image/png": "[encoded data removed]",
      "text/plain": [
       "<Figure size 640x480 with 1 Axes>"
      ]
     },
     "metadata": {},
     "output_type": "display_data"
    }
   ],
   "source": [
    "plt.hist(t1_samples_beta0.numpy(), bins = 1000)"
   ]
  },
  {
   "cell_type": "code",
   "execution_count": 49,
   "metadata": {},
   "outputs": [],
   "source": [
    "vals, count = torch.unique(t1_samples_beta0, return_counts = True)"
   ]
  },
  {
   "cell_type": "code",
   "execution_count": 50,
   "metadata": {},
   "outputs": [
    {
     "data": {
      "text/plain": [
       "tensor(2)"
      ]
     },
     "execution_count": 50,
     "metadata": {},
     "output_type": "execute_result"
    }
   ],
   "source": [
    "count.max()"
   ]
  },
  {
   "cell_type": "code",
   "execution_count": 51,
   "metadata": {},
   "outputs": [
    {
     "data": {
      "image/png": "[encoded data removed]",
      "text/plain": [
       "<Figure size 640x2000 with 4 Axes>"
      ]
     },
     "metadata": {},
     "output_type": "display_data"
    }
   ],
   "source": [
    "curriculum = Curriculum(max_iter=N_EPOCHS*N_SAMPLES_PER_EPOCH)\n",
    "curriculum.add_param_list(\n",
    "    [\n",
    "    (\"a0\", curriculum.constant_scheduler(5.0)),\n",
    "    (\"b0\", curriculum.constant_scheduler(2.0)),\n",
    "    (\"a1\", curriculum.exponential_scheduler(1, 1)),\n",
    "    (\"b1\", curriculum.constant_than_linear_than_constant_scheduler(160, 1, fraction_constant_beginning=0.2, fraction_constant_end=0.3))\n",
    "    #(\"b1\", curriculum.linear_scheduler(160, 1))\n",
    "    ]\n",
    ")\n",
    "curriculum.plot_all_schedules_epochs(n_epochs=10)"
   ]
  },
  {
   "cell_type": "code",
   "execution_count": 52,
   "metadata": {},
   "outputs": [
    {
     "data": {
      "text/plain": [
       "{'a0': 5.0, 'b0': 2.0, 'a1': 1.0, 'b1': 160}"
      ]
     },
     "execution_count": 52,
     "metadata": {},
     "output_type": "execute_result"
    }
   ],
   "source": [
    "curriculum.get_params(0)"
   ]
  },
  {
   "cell_type": "code",
   "execution_count": 53,
   "metadata": {},
   "outputs": [
    {
     "data": {
      "text/plain": [
       "{'a0': 5.0, 'b0': 2.0, 'a1': 1.0, 'b1': 1}"
      ]
     },
     "execution_count": 53,
     "metadata": {},
     "output_type": "execute_result"
    }
   ],
   "source": [
    "curriculum.get_params(N_SAMPLES_PER_EPOCH*N_EPOCHS-1)"
   ]
  },
  {
   "cell_type": "code",
   "execution_count": 54,
   "metadata": {},
   "outputs": [],
   "source": [
    "data_generator = GenerateDataCurriculum(\n",
    "    pprogram_maker=make_lm_program_gamma_gamma_batched,\n",
    "    curriculum= curriculum\n",
    ")"
   ]
  },
  {
   "cell_type": "code",
   "execution_count": 55,
   "metadata": {},
   "outputs": [
    {
     "data": {
      "text/plain": [
       "(array([1., 0., 0., ..., 0., 0., 1.]),\n",
       " array([-24.72146797, -24.71652603, -24.711586  , ...,  24.68104172,\n",
       "         24.68598175,  24.69092369]),\n",
       " <BarContainer object of 10000 artists>)"
      ]
     },
     "execution_count": 55,
     "metadata": {},
     "output_type": "execute_result"
    },
    {
     "data": {
      "image/png": "[encoded data removed]",
      "text/plain": [
       "<Figure size 640x480 with 1 Axes>"
      ]
     },
     "metadata": {},
     "output_type": "display_data"
    }
   ],
   "source": [
    "import matplotlib.pyplot as plt\n",
    "plt.hist(t1_samples_y.numpy(), bins = 10_000)"
   ]
  },
  {
   "cell_type": "code",
   "execution_count": null,
   "metadata": {},
   "outputs": [],
   "source": []
  }
 ],
 "metadata": {
  "kernelspec": {
   "display_name": "Python 3",
   "language": "python",
   "name": "python3"
  },
  "language_info": {
   "codemirror_mode": {
    "name": "ipython",
    "version": 3
   },
   "file_extension": ".py",
   "mimetype": "text/x-python",
   "name": "python",
   "nbconvert_exporter": "python",
   "pygments_lexer": "ipython3",
   "version": "3.10.13"
  }
 },
 "nbformat": 4,
 "nbformat_minor": 2
}
